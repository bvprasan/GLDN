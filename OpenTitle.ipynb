{
  "nbformat": 4,
  "nbformat_minor": 0,
  "metadata": {
    "colab": {
      "name": "Welcome To Colaboratory",
      "provenance": [],
      "collapsed_sections": []
    },
    "kernelspec": {
      "display_name": "Python 3",
      "name": "python3"
    },
    "accelerator": "GPU"
  },
  "cells": [
    {
      "cell_type": "code",
      "metadata": {
        "id": "_Ci5f315TLf3"
      },
      "source": [
        "import numpy as np # linear algebra\n",
        "import pandas as pd # data processing, CSV file I/O (e.g. pd.read_csv)\n",
        "\n",
        "import random \n",
        "from sklearn.metrics import classification_report\n",
        "import os\n",
        "from sklearn.model_selection import train_test_split\n",
        "\n",
        "import tensorflow as tf"
      ],
      "execution_count": 174,
      "outputs": []
    },
    {
      "cell_type": "code",
      "metadata": {
        "colab": {
          "base_uri": "https://localhost:8080/",
          "height": 202
        },
        "id": "ikRVOciOWB-O",
        "outputId": "d504cc5e-81b9-405d-cf16-13a6a0f767e8"
      },
      "source": [
        "data=pd.read_csv(\"/content/email_upd.txt\",encoding=\"latin1\",delimiter='\\t')\n",
        "data.head()"
      ],
      "execution_count": 183,
      "outputs": [
        {
          "output_type": "execute_result",
          "data": {
            "text/html": [
              "<div>\n",
              "<style scoped>\n",
              "    .dataframe tbody tr th:only-of-type {\n",
              "        vertical-align: middle;\n",
              "    }\n",
              "\n",
              "    .dataframe tbody tr th {\n",
              "        vertical-align: top;\n",
              "    }\n",
              "\n",
              "    .dataframe thead th {\n",
              "        text-align: right;\n",
              "    }\n",
              "</style>\n",
              "<table border=\"1\" class=\"dataframe\">\n",
              "  <thead>\n",
              "    <tr style=\"text-align: right;\">\n",
              "      <th></th>\n",
              "      <th>Sentence</th>\n",
              "      <th>Tag</th>\n",
              "    </tr>\n",
              "  </thead>\n",
              "  <tbody>\n",
              "    <tr>\n",
              "      <th>0</th>\n",
              "      <td>Send email to Haris that call me at 5 PM on 12...</td>\n",
              "      <td>O O O B-email.to O B-email.text I-email.text I...</td>\n",
              "    </tr>\n",
              "    <tr>\n",
              "      <th>1</th>\n",
              "      <td>I would like to mail to Nisha that there will ...</td>\n",
              "      <td>O O O O O O B-email.to O B-email.text I-email....</td>\n",
              "    </tr>\n",
              "    <tr>\n",
              "      <th>2</th>\n",
              "      <td>Mail to Satya that Complete the assignment by ...</td>\n",
              "      <td>O O B-email.to O B-email.text I-email.text I-e...</td>\n",
              "    </tr>\n",
              "    <tr>\n",
              "      <th>3</th>\n",
              "      <td>Please email to Lucifer that Please be on time...</td>\n",
              "      <td>O O O B-email.to O  B-email.text I-email.text ...</td>\n",
              "    </tr>\n",
              "    <tr>\n",
              "      <th>4</th>\n",
              "      <td>Send email to Maverick that we are moving to P...</td>\n",
              "      <td>O O O B-email.to O B-email.text I-email.text I...</td>\n",
              "    </tr>\n",
              "  </tbody>\n",
              "</table>\n",
              "</div>"
            ],
            "text/plain": [
              "                                            Sentence                                                Tag\n",
              "0  Send email to Haris that call me at 5 PM on 12...  O O O B-email.to O B-email.text I-email.text I...\n",
              "1  I would like to mail to Nisha that there will ...  O O O O O O B-email.to O B-email.text I-email....\n",
              "2  Mail to Satya that Complete the assignment by ...  O O B-email.to O B-email.text I-email.text I-e...\n",
              "3  Please email to Lucifer that Please be on time...  O O O B-email.to O  B-email.text I-email.text ...\n",
              "4  Send email to Maverick that we are moving to P...  O O O B-email.to O B-email.text I-email.text I..."
            ]
          },
          "metadata": {},
          "execution_count": 183
        }
      ]
    },
    {
      "cell_type": "code",
      "metadata": {
        "id": "IxuBX80Xeqvd"
      },
      "source": [
        "data.dropna(inplace=True)"
      ],
      "execution_count": 184,
      "outputs": []
    },
    {
      "cell_type": "code",
      "metadata": {
        "colab": {
          "base_uri": "https://localhost:8080/"
        },
        "id": "uLXDSkKZXwog",
        "outputId": "3f6b104e-d65d-49f5-8f6c-f8c43ede2c09"
      },
      "source": [
        "data.shape"
      ],
      "execution_count": 185,
      "outputs": [
        {
          "output_type": "execute_result",
          "data": {
            "text/plain": [
              "(36, 2)"
            ]
          },
          "metadata": {},
          "execution_count": 185
        }
      ]
    },
    {
      "cell_type": "code",
      "metadata": {
        "colab": {
          "base_uri": "https://localhost:8080/",
          "height": 202
        },
        "id": "3O3T8fHKX1eR",
        "outputId": "a54a3b74-9082-4a76-efd9-6963ae7d1441"
      },
      "source": [
        "data.head()"
      ],
      "execution_count": 186,
      "outputs": [
        {
          "output_type": "execute_result",
          "data": {
            "text/html": [
              "<div>\n",
              "<style scoped>\n",
              "    .dataframe tbody tr th:only-of-type {\n",
              "        vertical-align: middle;\n",
              "    }\n",
              "\n",
              "    .dataframe tbody tr th {\n",
              "        vertical-align: top;\n",
              "    }\n",
              "\n",
              "    .dataframe thead th {\n",
              "        text-align: right;\n",
              "    }\n",
              "</style>\n",
              "<table border=\"1\" class=\"dataframe\">\n",
              "  <thead>\n",
              "    <tr style=\"text-align: right;\">\n",
              "      <th></th>\n",
              "      <th>Sentence</th>\n",
              "      <th>Tag</th>\n",
              "    </tr>\n",
              "  </thead>\n",
              "  <tbody>\n",
              "    <tr>\n",
              "      <th>0</th>\n",
              "      <td>Send email to Haris that call me at 5 PM on 12...</td>\n",
              "      <td>O O O B-email.to O B-email.text I-email.text I...</td>\n",
              "    </tr>\n",
              "    <tr>\n",
              "      <th>1</th>\n",
              "      <td>I would like to mail to Nisha that there will ...</td>\n",
              "      <td>O O O O O O B-email.to O B-email.text I-email....</td>\n",
              "    </tr>\n",
              "    <tr>\n",
              "      <th>2</th>\n",
              "      <td>Mail to Satya that Complete the assignment by ...</td>\n",
              "      <td>O O B-email.to O B-email.text I-email.text I-e...</td>\n",
              "    </tr>\n",
              "    <tr>\n",
              "      <th>3</th>\n",
              "      <td>Please email to Lucifer that Please be on time...</td>\n",
              "      <td>O O O B-email.to O  B-email.text I-email.text ...</td>\n",
              "    </tr>\n",
              "    <tr>\n",
              "      <th>4</th>\n",
              "      <td>Send email to Maverick that we are moving to P...</td>\n",
              "      <td>O O O B-email.to O B-email.text I-email.text I...</td>\n",
              "    </tr>\n",
              "  </tbody>\n",
              "</table>\n",
              "</div>"
            ],
            "text/plain": [
              "                                            Sentence                                                Tag\n",
              "0  Send email to Haris that call me at 5 PM on 12...  O O O B-email.to O B-email.text I-email.text I...\n",
              "1  I would like to mail to Nisha that there will ...  O O O O O O B-email.to O B-email.text I-email....\n",
              "2  Mail to Satya that Complete the assignment by ...  O O B-email.to O B-email.text I-email.text I-e...\n",
              "3  Please email to Lucifer that Please be on time...  O O O B-email.to O  B-email.text I-email.text ...\n",
              "4  Send email to Maverick that we are moving to P...  O O O B-email.to O B-email.text I-email.text I..."
            ]
          },
          "metadata": {},
          "execution_count": 186
        }
      ]
    },
    {
      "cell_type": "code",
      "metadata": {
        "colab": {
          "base_uri": "https://localhost:8080/",
          "height": 285
        },
        "id": "a9yrOK7YX4mc",
        "outputId": "4e32b8b6-e597-4a34-9473-2a2442e5d4cc"
      },
      "source": [
        "agg_data = data.copy(True)\n",
        "agg_data['tokenised_sentences']=agg_data['Sentence'].apply(lambda x:x.split())\n",
        "agg_data['tag_list']=agg_data['Tag'].apply(lambda x:x.split())\n",
        "agg_data.head()"
      ],
      "execution_count": 187,
      "outputs": [
        {
          "output_type": "execute_result",
          "data": {
            "text/html": [
              "<div>\n",
              "<style scoped>\n",
              "    .dataframe tbody tr th:only-of-type {\n",
              "        vertical-align: middle;\n",
              "    }\n",
              "\n",
              "    .dataframe tbody tr th {\n",
              "        vertical-align: top;\n",
              "    }\n",
              "\n",
              "    .dataframe thead th {\n",
              "        text-align: right;\n",
              "    }\n",
              "</style>\n",
              "<table border=\"1\" class=\"dataframe\">\n",
              "  <thead>\n",
              "    <tr style=\"text-align: right;\">\n",
              "      <th></th>\n",
              "      <th>Sentence</th>\n",
              "      <th>Tag</th>\n",
              "      <th>tokenised_sentences</th>\n",
              "      <th>tag_list</th>\n",
              "    </tr>\n",
              "  </thead>\n",
              "  <tbody>\n",
              "    <tr>\n",
              "      <th>0</th>\n",
              "      <td>Send email to Haris that call me at 5 PM on 12...</td>\n",
              "      <td>O O O B-email.to O B-email.text I-email.text I...</td>\n",
              "      <td>[Send, email, to, Haris, that, call, me, at, 5...</td>\n",
              "      <td>[O, O, O, B-email.to, O, B-email.text, I-email...</td>\n",
              "    </tr>\n",
              "    <tr>\n",
              "      <th>1</th>\n",
              "      <td>I would like to mail to Nisha that there will ...</td>\n",
              "      <td>O O O O O O B-email.to O B-email.text I-email....</td>\n",
              "      <td>[I, would, like, to, mail, to, Nisha, that, th...</td>\n",
              "      <td>[O, O, O, O, O, O, B-email.to, O, B-email.text...</td>\n",
              "    </tr>\n",
              "    <tr>\n",
              "      <th>2</th>\n",
              "      <td>Mail to Satya that Complete the assignment by ...</td>\n",
              "      <td>O O B-email.to O B-email.text I-email.text I-e...</td>\n",
              "      <td>[Mail, to, Satya, that, Complete, the, assignm...</td>\n",
              "      <td>[O, O, B-email.to, O, B-email.text, I-email.te...</td>\n",
              "    </tr>\n",
              "    <tr>\n",
              "      <th>3</th>\n",
              "      <td>Please email to Lucifer that Please be on time...</td>\n",
              "      <td>O O O B-email.to O  B-email.text I-email.text ...</td>\n",
              "      <td>[Please, email, to, Lucifer, that, Please, be,...</td>\n",
              "      <td>[O, O, O, B-email.to, O, B-email.text, I-email...</td>\n",
              "    </tr>\n",
              "    <tr>\n",
              "      <th>4</th>\n",
              "      <td>Send email to Maverick that we are moving to P...</td>\n",
              "      <td>O O O B-email.to O B-email.text I-email.text I...</td>\n",
              "      <td>[Send, email, to, Maverick, that, we, are, mov...</td>\n",
              "      <td>[O, O, O, B-email.to, O, B-email.text, I-email...</td>\n",
              "    </tr>\n",
              "  </tbody>\n",
              "</table>\n",
              "</div>"
            ],
            "text/plain": [
              "                                            Sentence  ...                                           tag_list\n",
              "0  Send email to Haris that call me at 5 PM on 12...  ...  [O, O, O, B-email.to, O, B-email.text, I-email...\n",
              "1  I would like to mail to Nisha that there will ...  ...  [O, O, O, O, O, O, B-email.to, O, B-email.text...\n",
              "2  Mail to Satya that Complete the assignment by ...  ...  [O, O, B-email.to, O, B-email.text, I-email.te...\n",
              "3  Please email to Lucifer that Please be on time...  ...  [O, O, O, B-email.to, O, B-email.text, I-email...\n",
              "4  Send email to Maverick that we are moving to P...  ...  [O, O, O, B-email.to, O, B-email.text, I-email...\n",
              "\n",
              "[5 rows x 4 columns]"
            ]
          },
          "metadata": {},
          "execution_count": 187
        }
      ]
    },
    {
      "cell_type": "code",
      "metadata": {
        "colab": {
          "base_uri": "https://localhost:8080/"
        },
        "id": "41-ziqxDYL1f",
        "outputId": "50784f97-d3e2-4fa2-c725-464bc53f9963"
      },
      "source": [
        "agg_data['len_sentence']=agg_data['tokenised_sentences'].apply(lambda x:len(x))\n",
        "agg_data['len_tag']=agg_data['tag_list'].apply(lambda x:len(x))\n",
        "agg_data['is_equal']=agg_data.apply(lambda row:1 if row['len_sentence']==row['len_tag'] else 0,axis=1)\n",
        "agg_data['is_equal'].value_counts()"
      ],
      "execution_count": 188,
      "outputs": [
        {
          "output_type": "execute_result",
          "data": {
            "text/plain": [
              "1    36\n",
              "Name: is_equal, dtype: int64"
            ]
          },
          "metadata": {},
          "execution_count": 188
        }
      ]
    },
    {
      "cell_type": "code",
      "metadata": {
        "colab": {
          "base_uri": "https://localhost:8080/",
          "height": 285
        },
        "id": "SJd1KXB2YX4x",
        "outputId": "975e7fbf-b6bc-49d8-ef9a-f45462f1bf00"
      },
      "source": [
        "agg_data.head()"
      ],
      "execution_count": 189,
      "outputs": [
        {
          "output_type": "execute_result",
          "data": {
            "text/html": [
              "<div>\n",
              "<style scoped>\n",
              "    .dataframe tbody tr th:only-of-type {\n",
              "        vertical-align: middle;\n",
              "    }\n",
              "\n",
              "    .dataframe tbody tr th {\n",
              "        vertical-align: top;\n",
              "    }\n",
              "\n",
              "    .dataframe thead th {\n",
              "        text-align: right;\n",
              "    }\n",
              "</style>\n",
              "<table border=\"1\" class=\"dataframe\">\n",
              "  <thead>\n",
              "    <tr style=\"text-align: right;\">\n",
              "      <th></th>\n",
              "      <th>Sentence</th>\n",
              "      <th>Tag</th>\n",
              "      <th>tokenised_sentences</th>\n",
              "      <th>tag_list</th>\n",
              "      <th>len_sentence</th>\n",
              "      <th>len_tag</th>\n",
              "      <th>is_equal</th>\n",
              "    </tr>\n",
              "  </thead>\n",
              "  <tbody>\n",
              "    <tr>\n",
              "      <th>0</th>\n",
              "      <td>Send email to Haris that call me at 5 PM on 12...</td>\n",
              "      <td>O O O B-email.to O B-email.text I-email.text I...</td>\n",
              "      <td>[Send, email, to, Haris, that, call, me, at, 5...</td>\n",
              "      <td>[O, O, O, B-email.to, O, B-email.text, I-email...</td>\n",
              "      <td>13</td>\n",
              "      <td>13</td>\n",
              "      <td>1</td>\n",
              "    </tr>\n",
              "    <tr>\n",
              "      <th>1</th>\n",
              "      <td>I would like to mail to Nisha that there will ...</td>\n",
              "      <td>O O O O O O B-email.to O B-email.text I-email....</td>\n",
              "      <td>[I, would, like, to, mail, to, Nisha, that, th...</td>\n",
              "      <td>[O, O, O, O, O, O, B-email.to, O, B-email.text...</td>\n",
              "      <td>15</td>\n",
              "      <td>15</td>\n",
              "      <td>1</td>\n",
              "    </tr>\n",
              "    <tr>\n",
              "      <th>2</th>\n",
              "      <td>Mail to Satya that Complete the assignment by ...</td>\n",
              "      <td>O O B-email.to O B-email.text I-email.text I-e...</td>\n",
              "      <td>[Mail, to, Satya, that, Complete, the, assignm...</td>\n",
              "      <td>[O, O, B-email.to, O, B-email.text, I-email.te...</td>\n",
              "      <td>10</td>\n",
              "      <td>10</td>\n",
              "      <td>1</td>\n",
              "    </tr>\n",
              "    <tr>\n",
              "      <th>3</th>\n",
              "      <td>Please email to Lucifer that Please be on time...</td>\n",
              "      <td>O O O B-email.to O  B-email.text I-email.text ...</td>\n",
              "      <td>[Please, email, to, Lucifer, that, Please, be,...</td>\n",
              "      <td>[O, O, O, B-email.to, O, B-email.text, I-email...</td>\n",
              "      <td>11</td>\n",
              "      <td>11</td>\n",
              "      <td>1</td>\n",
              "    </tr>\n",
              "    <tr>\n",
              "      <th>4</th>\n",
              "      <td>Send email to Maverick that we are moving to P...</td>\n",
              "      <td>O O O B-email.to O B-email.text I-email.text I...</td>\n",
              "      <td>[Send, email, to, Maverick, that, we, are, mov...</td>\n",
              "      <td>[O, O, O, B-email.to, O, B-email.text, I-email...</td>\n",
              "      <td>12</td>\n",
              "      <td>12</td>\n",
              "      <td>1</td>\n",
              "    </tr>\n",
              "  </tbody>\n",
              "</table>\n",
              "</div>"
            ],
            "text/plain": [
              "                                            Sentence  ... is_equal\n",
              "0  Send email to Haris that call me at 5 PM on 12...  ...        1\n",
              "1  I would like to mail to Nisha that there will ...  ...        1\n",
              "2  Mail to Satya that Complete the assignment by ...  ...        1\n",
              "3  Please email to Lucifer that Please be on time...  ...        1\n",
              "4  Send email to Maverick that we are moving to P...  ...        1\n",
              "\n",
              "[5 rows x 7 columns]"
            ]
          },
          "metadata": {},
          "execution_count": 189
        }
      ]
    },
    {
      "cell_type": "code",
      "metadata": {
        "colab": {
          "base_uri": "https://localhost:8080/",
          "height": 48
        },
        "id": "_4fSCKws-tOJ",
        "outputId": "b43a9113-8eca-4410-f932-698f388dc24f"
      },
      "source": [
        "agg_data[agg_data['is_equal']==0].head()"
      ],
      "execution_count": 190,
      "outputs": [
        {
          "output_type": "execute_result",
          "data": {
            "text/html": [
              "<div>\n",
              "<style scoped>\n",
              "    .dataframe tbody tr th:only-of-type {\n",
              "        vertical-align: middle;\n",
              "    }\n",
              "\n",
              "    .dataframe tbody tr th {\n",
              "        vertical-align: top;\n",
              "    }\n",
              "\n",
              "    .dataframe thead th {\n",
              "        text-align: right;\n",
              "    }\n",
              "</style>\n",
              "<table border=\"1\" class=\"dataframe\">\n",
              "  <thead>\n",
              "    <tr style=\"text-align: right;\">\n",
              "      <th></th>\n",
              "      <th>Sentence</th>\n",
              "      <th>Tag</th>\n",
              "      <th>tokenised_sentences</th>\n",
              "      <th>tag_list</th>\n",
              "      <th>len_sentence</th>\n",
              "      <th>len_tag</th>\n",
              "      <th>is_equal</th>\n",
              "    </tr>\n",
              "  </thead>\n",
              "  <tbody>\n",
              "  </tbody>\n",
              "</table>\n",
              "</div>"
            ],
            "text/plain": [
              "Empty DataFrame\n",
              "Columns: [Sentence, Tag, tokenised_sentences, tag_list, len_sentence, len_tag, is_equal]\n",
              "Index: []"
            ]
          },
          "metadata": {},
          "execution_count": 190
        }
      ]
    },
    {
      "cell_type": "code",
      "metadata": {
        "id": "UuWwDABHYePz"
      },
      "source": [
        "agg_data=agg_data[agg_data['is_equal']!=0]"
      ],
      "execution_count": 191,
      "outputs": []
    },
    {
      "cell_type": "code",
      "metadata": {
        "colab": {
          "base_uri": "https://localhost:8080/"
        },
        "id": "yGSTkI4UYqTe",
        "outputId": "8d0cac4a-be89-4004-9ab3-b358188f115d"
      },
      "source": [
        "agg_data.shape"
      ],
      "execution_count": 192,
      "outputs": [
        {
          "output_type": "execute_result",
          "data": {
            "text/plain": [
              "(36, 7)"
            ]
          },
          "metadata": {},
          "execution_count": 192
        }
      ]
    },
    {
      "cell_type": "code",
      "metadata": {
        "colab": {
          "base_uri": "https://localhost:8080/"
        },
        "id": "KB4VvLobYuz9",
        "outputId": "e724eaaf-e4b3-4d88-999e-c1a05008503e"
      },
      "source": [
        "sentences_list=agg_data['Sentence'].tolist()\n",
        "tags_list=agg_data['tag_list'].tolist()\n",
        "\n",
        "print(\"Number of Sentences in the Data \",len(sentences_list))\n",
        "print(\"Are number of Sentences and Tag list equal \",len(sentences_list)==len(tags_list))"
      ],
      "execution_count": 193,
      "outputs": [
        {
          "output_type": "stream",
          "name": "stdout",
          "text": [
            "Number of Sentences in the Data  36\n",
            "Are number of Sentences and Tag list equal  True\n"
          ]
        }
      ]
    },
    {
      "cell_type": "code",
      "metadata": {
        "colab": {
          "base_uri": "https://localhost:8080/",
          "height": 35
        },
        "id": "ieahoRsYY2S2",
        "outputId": "37a7c619-98bf-4dd8-c39e-a26a57647870"
      },
      "source": [
        "sentences_list[0]"
      ],
      "execution_count": 194,
      "outputs": [
        {
          "output_type": "execute_result",
          "data": {
            "application/vnd.google.colaboratory.intrinsic+json": {
              "type": "string"
            },
            "text/plain": [
              "'Send email to Haris that call me at 5 PM on 12th October'"
            ]
          },
          "metadata": {},
          "execution_count": 194
        }
      ]
    },
    {
      "cell_type": "code",
      "metadata": {
        "colab": {
          "base_uri": "https://localhost:8080/"
        },
        "id": "lZCeslBaY_x1",
        "outputId": "2463235c-56b8-41f9-dfdc-bc2dafedcbdd"
      },
      "source": [
        "tags_list[0]"
      ],
      "execution_count": 195,
      "outputs": [
        {
          "output_type": "execute_result",
          "data": {
            "text/plain": [
              "['O',\n",
              " 'O',\n",
              " 'O',\n",
              " 'B-email.to',\n",
              " 'O',\n",
              " 'B-email.text',\n",
              " 'I-email.text',\n",
              " 'I-email.text',\n",
              " 'I-email.text',\n",
              " 'I-email.text',\n",
              " 'I-email.text',\n",
              " 'I-email.text',\n",
              " 'I-email.text']"
            ]
          },
          "metadata": {},
          "execution_count": 195
        }
      ]
    },
    {
      "cell_type": "code",
      "metadata": {
        "id": "hH5hFHY8ZM4Z"
      },
      "source": [
        "tokeniser= tf.keras.preprocessing.text.Tokenizer(lower=False,filters='')\n",
        "\n",
        "tokeniser.fit_on_texts(sentences_list)"
      ],
      "execution_count": 196,
      "outputs": []
    },
    {
      "cell_type": "code",
      "metadata": {
        "colab": {
          "base_uri": "https://localhost:8080/"
        },
        "id": "RQbkixh6ZelE",
        "outputId": "a3818079-2722-4083-b8ef-0b9b6bdc82d1"
      },
      "source": [
        "print(\"Vocab size of Tokeniser \",len(tokeniser.word_index)+1) ## Adding one since 0 is reserved for padding"
      ],
      "execution_count": 197,
      "outputs": [
        {
          "output_type": "stream",
          "name": "stdout",
          "text": [
            "Vocab size of Tokeniser  194\n"
          ]
        }
      ]
    },
    {
      "cell_type": "code",
      "metadata": {
        "colab": {
          "base_uri": "https://localhost:8080/",
          "height": 35
        },
        "id": "tfI4x8KcZjV5",
        "outputId": "da063e44-b6ce-4d96-938c-dcbd62dbae91"
      },
      "source": [
        "tokeniser.index_word[100]"
      ],
      "execution_count": 198,
      "outputs": [
        {
          "output_type": "execute_result",
          "data": {
            "application/vnd.google.colaboratory.intrinsic+json": {
              "type": "string"
            },
            "text/plain": [
              "'package'"
            ]
          },
          "metadata": {},
          "execution_count": 198
        }
      ]
    },
    {
      "cell_type": "code",
      "metadata": {
        "colab": {
          "base_uri": "https://localhost:8080/"
        },
        "id": "wXLZph1ZZmSr",
        "outputId": "a3cb8a42-3b1b-4100-fb49-fa9c9ad3754f"
      },
      "source": [
        "encoded_sentence=tokeniser.texts_to_sequences(sentences_list)\n",
        "print(\"First Original Sentence \",sentences_list[0])\n",
        "print(\"First Encoded Sentence \",encoded_sentence[0])\n",
        "print(\"Is Length of Original Sentence Same as Encoded Sentence \",len(sentences_list[0].split())==len(encoded_sentence[0]))\n",
        "print(\"Length of First Sentence \",len(encoded_sentence[0]))"
      ],
      "execution_count": 199,
      "outputs": [
        {
          "output_type": "stream",
          "name": "stdout",
          "text": [
            "First Original Sentence  Send email to Haris that call me at 5 PM on 12th October\n",
            "First Encoded Sentence  [4, 3, 1, 53, 2, 33, 24, 9, 25, 26, 7, 54, 34]\n",
            "Is Length of Original Sentence Same as Encoded Sentence  True\n",
            "Length of First Sentence  13\n"
          ]
        }
      ]
    },
    {
      "cell_type": "code",
      "metadata": {
        "colab": {
          "base_uri": "https://localhost:8080/"
        },
        "id": "Kt5DhpOFAbPM",
        "outputId": "723366e3-dfef-4825-fd71-58f7576db363"
      },
      "source": [
        "print(len(list(set(data['Tag'].values))))"
      ],
      "execution_count": 200,
      "outputs": [
        {
          "output_type": "stream",
          "name": "stdout",
          "text": [
            "18\n"
          ]
        }
      ]
    },
    {
      "cell_type": "code",
      "metadata": {
        "colab": {
          "base_uri": "https://localhost:8080/"
        },
        "id": "TRg_SfQqB6Mc",
        "outputId": "9af71260-c6be-4db3-b628-7ca60ac9b520"
      },
      "source": [
        "tagset = set()\n",
        "for x in data['Tag']:\n",
        "    for y in x.split():\n",
        "        tagset.add(y)\n",
        "print(len(list(tagset)))"
      ],
      "execution_count": 201,
      "outputs": [
        {
          "output_type": "stream",
          "name": "stdout",
          "text": [
            "4\n"
          ]
        }
      ]
    },
    {
      "cell_type": "code",
      "metadata": {
        "colab": {
          "base_uri": "https://localhost:8080/"
        },
        "id": "Njc4Y1ShZwWf",
        "outputId": "bb32de90-2d2c-4367-d3eb-8e955ead4d5d"
      },
      "source": [
        "tags=list(tagset)\n",
        "#print(tags)\n",
        "num_tags=len(tags)\n",
        "print(\"Number of Tags \",num_tags)\n",
        "\n",
        "tags_map={tag:i for i,tag in enumerate(tags)}\n",
        "print(\"Tags Map \",tags_map)"
      ],
      "execution_count": 202,
      "outputs": [
        {
          "output_type": "stream",
          "name": "stdout",
          "text": [
            "Number of Tags  4\n",
            "Tags Map  {'B-email.to': 0, 'O': 1, 'B-email.text': 2, 'I-email.text': 3}\n"
          ]
        }
      ]
    },
    {
      "cell_type": "code",
      "metadata": {
        "id": "5UTslclrZ63u"
      },
      "source": [
        "reverse_tag_map={v: k for k, v in tags_map.items()}"
      ],
      "execution_count": 203,
      "outputs": []
    },
    {
      "cell_type": "code",
      "metadata": {
        "colab": {
          "base_uri": "https://localhost:8080/"
        },
        "id": "ztBNMmgpaKFo",
        "outputId": "864cadb2-4e7b-4d0b-b8f6-07241dc1802b"
      },
      "source": [
        "print(\"Reverse Tags Map \", reverse_tag_map)"
      ],
      "execution_count": 204,
      "outputs": [
        {
          "output_type": "stream",
          "name": "stdout",
          "text": [
            "Reverse Tags Map  {0: 'B-email.to', 1: 'O', 2: 'B-email.text', 3: 'I-email.text'}\n"
          ]
        }
      ]
    },
    {
      "cell_type": "code",
      "metadata": {
        "colab": {
          "base_uri": "https://localhost:8080/"
        },
        "id": "kWUsSn7EaVpT",
        "outputId": "87243aaf-c7ed-4f17-e609-11cede5a6d37"
      },
      "source": [
        "encoded_tags=[[tags_map[w] for w in tag] for tag in tags_list]\n",
        "print(\"First Sentence \",sentences_list[0])\n",
        "print('First Sentence Original Tags ',tags_list[0])\n",
        "print(\"First Sentence Encoded Tags \",encoded_tags[0])\n",
        "print(\"Is length of Original Tags and Encoded Tags same \",len(tags_list[0])==len(encoded_tags[0]))\n",
        "print(\"Length of Tags for First Sentence \",len(encoded_tags[0]))"
      ],
      "execution_count": 205,
      "outputs": [
        {
          "output_type": "stream",
          "name": "stdout",
          "text": [
            "First Sentence  Send email to Haris that call me at 5 PM on 12th October\n",
            "First Sentence Original Tags  ['O', 'O', 'O', 'B-email.to', 'O', 'B-email.text', 'I-email.text', 'I-email.text', 'I-email.text', 'I-email.text', 'I-email.text', 'I-email.text', 'I-email.text']\n",
            "First Sentence Encoded Tags  [1, 1, 1, 0, 1, 2, 3, 3, 3, 3, 3, 3, 3]\n",
            "Is length of Original Tags and Encoded Tags same  True\n",
            "Length of Tags for First Sentence  13\n"
          ]
        }
      ]
    },
    {
      "cell_type": "code",
      "metadata": {
        "colab": {
          "base_uri": "https://localhost:8080/"
        },
        "id": "NGuC_7llacew",
        "outputId": "840e3cb2-6579-4688-aee3-e599c139c143"
      },
      "source": [
        "max_sentence_length=max([len(s.split()) for s in sentences_list])\n",
        "print(max_sentence_length)"
      ],
      "execution_count": 206,
      "outputs": [
        {
          "output_type": "stream",
          "name": "stdout",
          "text": [
            "20\n"
          ]
        }
      ]
    },
    {
      "cell_type": "code",
      "metadata": {
        "colab": {
          "base_uri": "https://localhost:8080/"
        },
        "id": "OZlL8rQyaray",
        "outputId": "80bd0535-3133-4bf3-b8d0-c556a90f73e6"
      },
      "source": [
        "max_len=32\n",
        "from tensorflow.keras.preprocessing.sequence import pad_sequences\n",
        "from tensorflow.keras.utils import to_categorical\n",
        "\n",
        "padded_encoded_sentences=pad_sequences(maxlen=max_len,sequences=encoded_sentence,padding=\"post\",value=0)\n",
        "padded_encoded_tags=pad_sequences(maxlen=max_len,sequences=encoded_tags,padding=\"post\",value=tags_map['O'])\n",
        "\n",
        "print(\"Shape of Encoded Sentence \",padded_encoded_sentences.shape)\n",
        "print(\"Shape of Encoded Labels \",padded_encoded_tags.shape)\n",
        "\n",
        "print(\"First Encoded Sentence Without Padding \",encoded_sentence[0])\n",
        "print(\"First Encoded Sentence with padding \",padded_encoded_sentences[0])\n",
        "print(\"First Sentence Encoded Label without Padding \",encoded_tags[0])\n",
        "print(\"First Sentence Encoded Label with Padding \",padded_encoded_tags[0])"
      ],
      "execution_count": 207,
      "outputs": [
        {
          "output_type": "stream",
          "name": "stdout",
          "text": [
            "Shape of Encoded Sentence  (36, 32)\n",
            "Shape of Encoded Labels  (36, 32)\n",
            "First Encoded Sentence Without Padding  [4, 3, 1, 53, 2, 33, 24, 9, 25, 26, 7, 54, 34]\n",
            "First Encoded Sentence with padding  [ 4  3  1 53  2 33 24  9 25 26  7 54 34  0  0  0  0  0  0  0  0  0  0  0\n",
            "  0  0  0  0  0  0  0  0]\n",
            "First Sentence Encoded Label without Padding  [1, 1, 1, 0, 1, 2, 3, 3, 3, 3, 3, 3, 3]\n",
            "First Sentence Encoded Label with Padding  [1 1 1 0 1 2 3 3 3 3 3 3 3 1 1 1 1 1 1 1 1 1 1 1 1 1 1 1 1 1 1 1]\n"
          ]
        }
      ]
    },
    {
      "cell_type": "code",
      "metadata": {
        "colab": {
          "base_uri": "https://localhost:8080/"
        },
        "id": "nlOXcjt0a6bo",
        "outputId": "383f783d-b801-46c5-909a-b00e09a2dc30"
      },
      "source": [
        "target= [to_categorical(i,num_classes = num_tags) for i in  padded_encoded_tags]\n",
        "print(\"Shape of Labels  after converting to Categorical for first sentence \",target[0].shape)"
      ],
      "execution_count": 208,
      "outputs": [
        {
          "output_type": "stream",
          "name": "stdout",
          "text": [
            "Shape of Labels  after converting to Categorical for first sentence  (32, 4)\n"
          ]
        }
      ]
    },
    {
      "cell_type": "code",
      "metadata": {
        "colab": {
          "base_uri": "https://localhost:8080/"
        },
        "id": "l0zey3wwbPag",
        "outputId": "69f11658-3fe2-4bdb-b37a-3975aa6889cd"
      },
      "source": [
        "target[0]"
      ],
      "execution_count": 209,
      "outputs": [
        {
          "output_type": "execute_result",
          "data": {
            "text/plain": [
              "array([[0., 1., 0., 0.],\n",
              "       [0., 1., 0., 0.],\n",
              "       [0., 1., 0., 0.],\n",
              "       [1., 0., 0., 0.],\n",
              "       [0., 1., 0., 0.],\n",
              "       [0., 0., 1., 0.],\n",
              "       [0., 0., 0., 1.],\n",
              "       [0., 0., 0., 1.],\n",
              "       [0., 0., 0., 1.],\n",
              "       [0., 0., 0., 1.],\n",
              "       [0., 0., 0., 1.],\n",
              "       [0., 0., 0., 1.],\n",
              "       [0., 0., 0., 1.],\n",
              "       [0., 1., 0., 0.],\n",
              "       [0., 1., 0., 0.],\n",
              "       [0., 1., 0., 0.],\n",
              "       [0., 1., 0., 0.],\n",
              "       [0., 1., 0., 0.],\n",
              "       [0., 1., 0., 0.],\n",
              "       [0., 1., 0., 0.],\n",
              "       [0., 1., 0., 0.],\n",
              "       [0., 1., 0., 0.],\n",
              "       [0., 1., 0., 0.],\n",
              "       [0., 1., 0., 0.],\n",
              "       [0., 1., 0., 0.],\n",
              "       [0., 1., 0., 0.],\n",
              "       [0., 1., 0., 0.],\n",
              "       [0., 1., 0., 0.],\n",
              "       [0., 1., 0., 0.],\n",
              "       [0., 1., 0., 0.],\n",
              "       [0., 1., 0., 0.],\n",
              "       [0., 1., 0., 0.]], dtype=float32)"
            ]
          },
          "metadata": {},
          "execution_count": 209
        }
      ]
    },
    {
      "cell_type": "code",
      "metadata": {
        "colab": {
          "base_uri": "https://localhost:8080/"
        },
        "id": "c16Dg5l3bURi",
        "outputId": "f1c323f9-8faa-4ddc-a7f5-c60e26882098"
      },
      "source": [
        "from sklearn.model_selection import train_test_split\n",
        "X_train,X_val_test,y_train,y_val_test = train_test_split(padded_encoded_sentences,target,test_size = 0.3,random_state=42)\n",
        "X_val,X_test,y_val,y_test = train_test_split(X_val_test,y_val_test,test_size = 0.2,random_state=42)\n",
        "print(\"Input Train Data Shape \",X_train.shape)\n",
        "print(\"Train Labels Length \",len(y_train))\n",
        "print(\"Input Test Data Shape \",X_test.shape)\n",
        "print(\"Test Labels Length \",len(y_test))\n",
        "\n",
        "print(\"Input Validation Data Shape \",X_val.shape)\n",
        "print(\"Validation Labels Length \",len(y_val))"
      ],
      "execution_count": 210,
      "outputs": [
        {
          "output_type": "stream",
          "name": "stdout",
          "text": [
            "Input Train Data Shape  (25, 32)\n",
            "Train Labels Length  25\n",
            "Input Test Data Shape  (3, 32)\n",
            "Test Labels Length  3\n",
            "Input Validation Data Shape  (8, 32)\n",
            "Validation Labels Length  8\n"
          ]
        }
      ]
    },
    {
      "cell_type": "code",
      "metadata": {
        "colab": {
          "base_uri": "https://localhost:8080/"
        },
        "id": "EnWDkTu5bpv9",
        "outputId": "4770c710-91d6-46c6-8dc7-2c081531a9d9"
      },
      "source": [
        "print(\"First Sentence in Training Data \",X_train[0])\n",
        "print(\"First sentence Label \",y_train[0])\n",
        "print(\"Shape of First Sentence -Train\",X_train[0].shape)\n",
        "print(\"Shape of First Sentence Label  -Train\",y_train[0].shape)"
      ],
      "execution_count": 211,
      "outputs": [
        {
          "output_type": "stream",
          "name": "stdout",
          "text": [
            "First Sentence in Training Data  [  6  12  13   1  14   1 186   2   6  49 187   5  51  52 188  50   0   0\n",
            "   0   0   0   0   0   0   0   0   0   0   0   0   0   0]\n",
            "First sentence Label  [[0. 1. 0. 0.]\n",
            " [0. 1. 0. 0.]\n",
            " [0. 1. 0. 0.]\n",
            " [0. 1. 0. 0.]\n",
            " [0. 1. 0. 0.]\n",
            " [0. 1. 0. 0.]\n",
            " [1. 0. 0. 0.]\n",
            " [0. 1. 0. 0.]\n",
            " [0. 0. 1. 0.]\n",
            " [0. 0. 0. 1.]\n",
            " [0. 0. 0. 1.]\n",
            " [0. 0. 0. 1.]\n",
            " [0. 0. 0. 1.]\n",
            " [0. 0. 0. 1.]\n",
            " [0. 0. 0. 1.]\n",
            " [0. 0. 0. 1.]\n",
            " [0. 1. 0. 0.]\n",
            " [0. 1. 0. 0.]\n",
            " [0. 1. 0. 0.]\n",
            " [0. 1. 0. 0.]\n",
            " [0. 1. 0. 0.]\n",
            " [0. 1. 0. 0.]\n",
            " [0. 1. 0. 0.]\n",
            " [0. 1. 0. 0.]\n",
            " [0. 1. 0. 0.]\n",
            " [0. 1. 0. 0.]\n",
            " [0. 1. 0. 0.]\n",
            " [0. 1. 0. 0.]\n",
            " [0. 1. 0. 0.]\n",
            " [0. 1. 0. 0.]\n",
            " [0. 1. 0. 0.]\n",
            " [0. 1. 0. 0.]]\n",
            "Shape of First Sentence -Train (32,)\n",
            "Shape of First Sentence Label  -Train (32, 4)\n"
          ]
        }
      ]
    },
    {
      "cell_type": "code",
      "metadata": {
        "id": "2BTKpkARbz_u"
      },
      "source": [
        "from tensorflow.keras import Model,Input\n",
        "from tensorflow.keras.layers import LSTM,Embedding,Dense\n",
        "from tensorflow.keras.layers import TimeDistributed, SpatialDropout1D,Bidirectional"
      ],
      "execution_count": 212,
      "outputs": []
    },
    {
      "cell_type": "code",
      "metadata": {
        "colab": {
          "base_uri": "https://localhost:8080/"
        },
        "id": "in0a4HaKcZ4W",
        "outputId": "d4179003-ae53-4eb2-c2e1-7037b674fd93"
      },
      "source": [
        "embedding_dim=64\n",
        "vocab_size=len(tokeniser.word_index)+1\n",
        "lstm_units=64\n",
        "max_len=32\n",
        "\n",
        "input_word = Input(shape = (max_len,))\n",
        "model = Embedding(input_dim = vocab_size+1,output_dim = embedding_dim,input_length = max_len)(input_word)\n",
        "model = Bidirectional(LSTM(units=embedding_dim, return_sequences=True, dropout=0.2, recurrent_dropout=0.2), merge_mode = 'concat')(model)\n",
        "model = LSTM(units=embedding_dim,return_sequences=True)(model)\n",
        "out = TimeDistributed(Dense(num_tags,activation = 'softmax'))(model)\n",
        "model = Model(input_word,out)\n",
        "model.summary()"
      ],
      "execution_count": 240,
      "outputs": [
        {
          "output_type": "stream",
          "name": "stdout",
          "text": [
            "WARNING:tensorflow:Layer lstm_11 will not use cuDNN kernels since it doesn't meet the criteria. It will use a generic GPU kernel as fallback when running on GPU.\n",
            "WARNING:tensorflow:Layer lstm_11 will not use cuDNN kernels since it doesn't meet the criteria. It will use a generic GPU kernel as fallback when running on GPU.\n",
            "WARNING:tensorflow:Layer lstm_11 will not use cuDNN kernels since it doesn't meet the criteria. It will use a generic GPU kernel as fallback when running on GPU.\n",
            "Model: \"model_6\"\n",
            "_________________________________________________________________\n",
            "Layer (type)                 Output Shape              Param #   \n",
            "=================================================================\n",
            "input_7 (InputLayer)         [(None, 32)]              0         \n",
            "_________________________________________________________________\n",
            "embedding_6 (Embedding)      (None, 32, 64)            12480     \n",
            "_________________________________________________________________\n",
            "bidirectional_5 (Bidirection (None, 32, 128)           66048     \n",
            "_________________________________________________________________\n",
            "lstm_12 (LSTM)               (None, 32, 64)            49408     \n",
            "_________________________________________________________________\n",
            "time_distributed_6 (TimeDist (None, 32, 4)             260       \n",
            "=================================================================\n",
            "Total params: 128,196\n",
            "Trainable params: 128,196\n",
            "Non-trainable params: 0\n",
            "_________________________________________________________________\n"
          ]
        }
      ]
    },
    {
      "cell_type": "code",
      "metadata": {
        "id": "Q_LXv4CycfUV"
      },
      "source": [
        "model.compile(optimizer = 'adam',loss = 'categorical_crossentropy',metrics = ['accuracy'])"
      ],
      "execution_count": 241,
      "outputs": []
    },
    {
      "cell_type": "code",
      "metadata": {
        "colab": {
          "base_uri": "https://localhost:8080/"
        },
        "id": "vLObTXB7cspi",
        "outputId": "52cbdeb4-0db4-4c93-c1f9-a574ffd10554"
      },
      "source": [
        "history = model.fit(X_train,np.array(y_train),validation_data=(X_val,np.array(y_val)),batch_size = 32,epochs = 1)"
      ],
      "execution_count": 242,
      "outputs": [
        {
          "output_type": "stream",
          "name": "stdout",
          "text": [
            "1/1 [==============================] - 9s 9s/step - loss: 1.3609 - accuracy: 0.6963 - val_loss: 1.3283 - val_accuracy: 0.6875\n"
          ]
        }
      ]
    },
    {
      "cell_type": "code",
      "metadata": {
        "id": "qBqvKKticxPn"
      },
      "source": [
        "preds=model.predict(X_test) ## Predict using model on Test Data"
      ],
      "execution_count": 243,
      "outputs": []
    },
    {
      "cell_type": "code",
      "metadata": {
        "id": "aoBKIeLHdaNF"
      },
      "source": [
        "def evaluatePredictions(test_data,preds,actual_preds):\n",
        "    print(\"Shape of Test Data Array\",test_data.shape)\n",
        "    y_actual=np.argmax(np.array(actual_preds),axis=2)\n",
        "    y_pred=np.argmax(preds,axis=2)\n",
        "    num_test_data=test_data.shape[0]\n",
        "    print(\"Number of Test Data Points \",num_test_data)\n",
        "    data=pd.DataFrame()\n",
        "    df_list=[]\n",
        "    for i in range(num_test_data):\n",
        "        test_str=list(test_data[i])\n",
        "        df=pd.DataFrame()\n",
        "        df['test_input']=test_data[i]\n",
        "        df['test_tokens']=test_str\n",
        "        df['tokens']=df['test_tokens'].apply(lambda x:tokeniser.index_word[x] if x!=0 else '<PAD>')\n",
        "        df['actual_target_index']=list(y_actual[i])\n",
        "        df['pred_target_index']=list(y_pred[i])\n",
        "        df['actual_target_tag']=df['actual_target_index'].apply(lambda x:reverse_tag_map[x])\n",
        "        df['pred_target_tag']=df['pred_target_index'].apply(lambda x:reverse_tag_map[x])\n",
        "        df['id']=i+1\n",
        "        df_list.append(df)\n",
        "    data=pd.concat(df_list)\n",
        "    pred_data=data[data['tokens']!='<PAD>']\n",
        "    accuracy=pred_data[pred_data['actual_target_tag']==pred_data['pred_target_tag']].shape[0]/pred_data.shape[0]\n",
        "    \n",
        "    return pred_data,accuracy"
      ],
      "execution_count": 244,
      "outputs": []
    },
    {
      "cell_type": "code",
      "metadata": {
        "colab": {
          "base_uri": "https://localhost:8080/"
        },
        "id": "5gcj6vi7dmyl",
        "outputId": "7cd90886-63c3-4a73-8cca-e0669ab17277"
      },
      "source": [
        "pred_data,accuracy=evaluatePredictions(X_test,preds,y_test)"
      ],
      "execution_count": 245,
      "outputs": [
        {
          "output_type": "stream",
          "name": "stdout",
          "text": [
            "Shape of Test Data Array (3, 32)\n",
            "Number of Test Data Points  3\n"
          ]
        }
      ]
    },
    {
      "cell_type": "code",
      "metadata": {
        "id": "w4oYDFFUdsXo"
      },
      "source": [
        "y_pred=pred_data['pred_target_tag'].tolist()\n",
        "y_actual=pred_data['actual_target_tag'].tolist()"
      ],
      "execution_count": 246,
      "outputs": []
    },
    {
      "cell_type": "code",
      "metadata": {
        "colab": {
          "base_uri": "https://localhost:8080/"
        },
        "id": "iT5gNooQd5bZ",
        "outputId": "ccaa922b-b123-45a9-8579-d1221f5b78fd"
      },
      "source": [
        "print(classification_report(y_actual,y_pred))"
      ],
      "execution_count": 247,
      "outputs": [
        {
          "output_type": "stream",
          "name": "stdout",
          "text": [
            "              precision    recall  f1-score   support\n",
            "\n",
            "B-email.text       0.17      0.33      0.22         3\n",
            "  B-email.to       0.00      0.00      0.00         3\n",
            "I-email.text       0.00      0.00      0.00        22\n",
            "           O       0.29      0.83      0.43        12\n",
            "\n",
            "    accuracy                           0.28        40\n",
            "   macro avg       0.12      0.29      0.16        40\n",
            "weighted avg       0.10      0.28      0.15        40\n",
            "\n"
          ]
        },
        {
          "output_type": "stream",
          "name": "stderr",
          "text": [
            "/usr/local/lib/python3.7/dist-packages/sklearn/metrics/_classification.py:1272: UndefinedMetricWarning: Precision and F-score are ill-defined and being set to 0.0 in labels with no predicted samples. Use `zero_division` parameter to control this behavior.\n",
            "  _warn_prf(average, modifier, msg_start, len(result))\n"
          ]
        }
      ]
    },
    {
      "cell_type": "code",
      "metadata": {
        "colab": {
          "base_uri": "https://localhost:8080/",
          "height": 141
        },
        "id": "H_YqG9z2d9bF",
        "outputId": "15ca250c-fdbe-44d7-8d04-13902f2b51ae"
      },
      "source": [
        "pred_data[pred_data['actual_target_tag']==\"B-email.to\"]"
      ],
      "execution_count": 248,
      "outputs": [
        {
          "output_type": "execute_result",
          "data": {
            "text/html": [
              "<div>\n",
              "<style scoped>\n",
              "    .dataframe tbody tr th:only-of-type {\n",
              "        vertical-align: middle;\n",
              "    }\n",
              "\n",
              "    .dataframe tbody tr th {\n",
              "        vertical-align: top;\n",
              "    }\n",
              "\n",
              "    .dataframe thead th {\n",
              "        text-align: right;\n",
              "    }\n",
              "</style>\n",
              "<table border=\"1\" class=\"dataframe\">\n",
              "  <thead>\n",
              "    <tr style=\"text-align: right;\">\n",
              "      <th></th>\n",
              "      <th>test_input</th>\n",
              "      <th>test_tokens</th>\n",
              "      <th>tokens</th>\n",
              "      <th>actual_target_index</th>\n",
              "      <th>pred_target_index</th>\n",
              "      <th>actual_target_tag</th>\n",
              "      <th>pred_target_tag</th>\n",
              "      <th>id</th>\n",
              "    </tr>\n",
              "  </thead>\n",
              "  <tbody>\n",
              "    <tr>\n",
              "      <th>3</th>\n",
              "      <td>174</td>\n",
              "      <td>174</td>\n",
              "      <td>Ibrahim</td>\n",
              "      <td>0</td>\n",
              "      <td>1</td>\n",
              "      <td>B-email.to</td>\n",
              "      <td>O</td>\n",
              "      <td>1</td>\n",
              "    </tr>\n",
              "    <tr>\n",
              "      <th>3</th>\n",
              "      <td>189</td>\n",
              "      <td>189</td>\n",
              "      <td>Praveen</td>\n",
              "      <td>0</td>\n",
              "      <td>2</td>\n",
              "      <td>B-email.to</td>\n",
              "      <td>B-email.text</td>\n",
              "      <td>2</td>\n",
              "    </tr>\n",
              "    <tr>\n",
              "      <th>3</th>\n",
              "      <td>111</td>\n",
              "      <td>111</td>\n",
              "      <td>Kyle</td>\n",
              "      <td>0</td>\n",
              "      <td>1</td>\n",
              "      <td>B-email.to</td>\n",
              "      <td>O</td>\n",
              "      <td>3</td>\n",
              "    </tr>\n",
              "  </tbody>\n",
              "</table>\n",
              "</div>"
            ],
            "text/plain": [
              "   test_input  test_tokens   tokens  ...  actual_target_tag  pred_target_tag id\n",
              "3         174          174  Ibrahim  ...         B-email.to                O  1\n",
              "3         189          189  Praveen  ...         B-email.to     B-email.text  2\n",
              "3         111          111     Kyle  ...         B-email.to                O  3\n",
              "\n",
              "[3 rows x 8 columns]"
            ]
          },
          "metadata": {},
          "execution_count": 248
        }
      ]
    },
    {
      "cell_type": "code",
      "metadata": {
        "colab": {
          "base_uri": "https://localhost:8080/",
          "height": 141
        },
        "id": "oHlc16CVeOUE",
        "outputId": "1c3b0179-17b4-4529-8545-e7076015f598"
      },
      "source": [
        "pred_data[pred_data['actual_target_tag']==\"B-email.text\"]"
      ],
      "execution_count": 249,
      "outputs": [
        {
          "output_type": "execute_result",
          "data": {
            "text/html": [
              "<div>\n",
              "<style scoped>\n",
              "    .dataframe tbody tr th:only-of-type {\n",
              "        vertical-align: middle;\n",
              "    }\n",
              "\n",
              "    .dataframe tbody tr th {\n",
              "        vertical-align: top;\n",
              "    }\n",
              "\n",
              "    .dataframe thead th {\n",
              "        text-align: right;\n",
              "    }\n",
              "</style>\n",
              "<table border=\"1\" class=\"dataframe\">\n",
              "  <thead>\n",
              "    <tr style=\"text-align: right;\">\n",
              "      <th></th>\n",
              "      <th>test_input</th>\n",
              "      <th>test_tokens</th>\n",
              "      <th>tokens</th>\n",
              "      <th>actual_target_index</th>\n",
              "      <th>pred_target_index</th>\n",
              "      <th>actual_target_tag</th>\n",
              "      <th>pred_target_tag</th>\n",
              "      <th>id</th>\n",
              "    </tr>\n",
              "  </thead>\n",
              "  <tbody>\n",
              "    <tr>\n",
              "      <th>5</th>\n",
              "      <td>175</td>\n",
              "      <td>175</td>\n",
              "      <td>The</td>\n",
              "      <td>2</td>\n",
              "      <td>1</td>\n",
              "      <td>B-email.text</td>\n",
              "      <td>O</td>\n",
              "      <td>1</td>\n",
              "    </tr>\n",
              "    <tr>\n",
              "      <th>5</th>\n",
              "      <td>190</td>\n",
              "      <td>190</td>\n",
              "      <td>Kanchan</td>\n",
              "      <td>2</td>\n",
              "      <td>2</td>\n",
              "      <td>B-email.text</td>\n",
              "      <td>B-email.text</td>\n",
              "      <td>2</td>\n",
              "    </tr>\n",
              "    <tr>\n",
              "      <th>5</th>\n",
              "      <td>32</td>\n",
              "      <td>32</td>\n",
              "      <td>Lets</td>\n",
              "      <td>2</td>\n",
              "      <td>1</td>\n",
              "      <td>B-email.text</td>\n",
              "      <td>O</td>\n",
              "      <td>3</td>\n",
              "    </tr>\n",
              "  </tbody>\n",
              "</table>\n",
              "</div>"
            ],
            "text/plain": [
              "   test_input  test_tokens   tokens  ...  actual_target_tag  pred_target_tag id\n",
              "5         175          175      The  ...       B-email.text                O  1\n",
              "5         190          190  Kanchan  ...       B-email.text     B-email.text  2\n",
              "5          32           32     Lets  ...       B-email.text                O  3\n",
              "\n",
              "[3 rows x 8 columns]"
            ]
          },
          "metadata": {},
          "execution_count": 249
        }
      ]
    },
    {
      "cell_type": "code",
      "metadata": {
        "colab": {
          "base_uri": "https://localhost:8080/",
          "height": 35
        },
        "id": "MNYcEw7Qhp7k",
        "outputId": "138aca34-e1fd-4529-dfa5-f86ea13539ed"
      },
      "source": [
        "y_pred[0]"
      ],
      "execution_count": 250,
      "outputs": [
        {
          "output_type": "execute_result",
          "data": {
            "application/vnd.google.colaboratory.intrinsic+json": {
              "type": "string"
            },
            "text/plain": [
              "'O'"
            ]
          },
          "metadata": {},
          "execution_count": 250
        }
      ]
    },
    {
      "cell_type": "code",
      "metadata": {
        "colab": {
          "base_uri": "https://localhost:8080/",
          "height": 35
        },
        "id": "h5cGbPWFhzSR",
        "outputId": "5fd91b8a-dc21-4057-8eba-5535d11986ed"
      },
      "source": [
        "y_actual[0]"
      ],
      "execution_count": 251,
      "outputs": [
        {
          "output_type": "execute_result",
          "data": {
            "application/vnd.google.colaboratory.intrinsic+json": {
              "type": "string"
            },
            "text/plain": [
              "'O'"
            ]
          },
          "metadata": {},
          "execution_count": 251
        }
      ]
    },
    {
      "cell_type": "code",
      "metadata": {
        "colab": {
          "base_uri": "https://localhost:8080/"
        },
        "id": "SaFmiUJsh1aR",
        "outputId": "11a0a121-2a39-45b4-89c9-365189718470"
      },
      "source": [
        "pred_data['tokens'][1]"
      ],
      "execution_count": 252,
      "outputs": [
        {
          "output_type": "execute_result",
          "data": {
            "text/plain": [
              "1    email\n",
              "1    email\n",
              "1    email\n",
              "Name: tokens, dtype: object"
            ]
          },
          "metadata": {},
          "execution_count": 252
        }
      ]
    },
    {
      "cell_type": "code",
      "metadata": {
        "colab": {
          "base_uri": "https://localhost:8080/"
        },
        "id": "hmedkNENiRmG",
        "outputId": "fceb74a8-3fd1-494e-a253-58e9ea43e7ff"
      },
      "source": [
        "X_test[0]"
      ],
      "execution_count": 253,
      "outputs": [
        {
          "output_type": "execute_result",
          "data": {
            "text/plain": [
              "array([  8,   3,   1, 174,   2, 175, 176,  23, 177, 178,   5,  47,   0,\n",
              "         0,   0,   0,   0,   0,   0,   0,   0,   0,   0,   0,   0,   0,\n",
              "         0,   0,   0,   0,   0,   0], dtype=int32)"
            ]
          },
          "metadata": {},
          "execution_count": 253
        }
      ]
    },
    {
      "cell_type": "code",
      "metadata": {
        "id": "OW-ly3OHigCi"
      },
      "source": [
        "test_sentences = tokeniser.sequences_to_texts(X_test)"
      ],
      "execution_count": 254,
      "outputs": []
    },
    {
      "cell_type": "code",
      "metadata": {
        "colab": {
          "base_uri": "https://localhost:8080/",
          "height": 35
        },
        "id": "mPrcQNewjgpR",
        "outputId": "eacebab0-309a-40bb-8c30-b8ae79c1f823"
      },
      "source": [
        "test_sentences[1]"
      ],
      "execution_count": 255,
      "outputs": [
        {
          "output_type": "execute_result",
          "data": {
            "application/vnd.google.colaboratory.intrinsic+json": {
              "type": "string"
            },
            "text/plain": [
              "'Send email to Praveen that Kanchan is standing in the Park and I am on my way'"
            ]
          },
          "metadata": {},
          "execution_count": 255
        }
      ]
    },
    {
      "cell_type": "code",
      "metadata": {
        "colab": {
          "base_uri": "https://localhost:8080/"
        },
        "id": "f75J7yN8jijQ",
        "outputId": "dae11ffb-83b0-4053-f134-7f0edbd9b9ce"
      },
      "source": [
        "y_test[0]"
      ],
      "execution_count": 256,
      "outputs": [
        {
          "output_type": "execute_result",
          "data": {
            "text/plain": [
              "array([[0., 1., 0., 0.],\n",
              "       [0., 1., 0., 0.],\n",
              "       [0., 1., 0., 0.],\n",
              "       [1., 0., 0., 0.],\n",
              "       [0., 1., 0., 0.],\n",
              "       [0., 0., 1., 0.],\n",
              "       [0., 0., 0., 1.],\n",
              "       [0., 0., 0., 1.],\n",
              "       [0., 0., 0., 1.],\n",
              "       [0., 0., 0., 1.],\n",
              "       [0., 0., 0., 1.],\n",
              "       [0., 0., 0., 1.],\n",
              "       [0., 1., 0., 0.],\n",
              "       [0., 1., 0., 0.],\n",
              "       [0., 1., 0., 0.],\n",
              "       [0., 1., 0., 0.],\n",
              "       [0., 1., 0., 0.],\n",
              "       [0., 1., 0., 0.],\n",
              "       [0., 1., 0., 0.],\n",
              "       [0., 1., 0., 0.],\n",
              "       [0., 1., 0., 0.],\n",
              "       [0., 1., 0., 0.],\n",
              "       [0., 1., 0., 0.],\n",
              "       [0., 1., 0., 0.],\n",
              "       [0., 1., 0., 0.],\n",
              "       [0., 1., 0., 0.],\n",
              "       [0., 1., 0., 0.],\n",
              "       [0., 1., 0., 0.],\n",
              "       [0., 1., 0., 0.],\n",
              "       [0., 1., 0., 0.],\n",
              "       [0., 1., 0., 0.],\n",
              "       [0., 1., 0., 0.]], dtype=float32)"
            ]
          },
          "metadata": {},
          "execution_count": 256
        }
      ]
    },
    {
      "cell_type": "code",
      "metadata": {
        "colab": {
          "base_uri": "https://localhost:8080/"
        },
        "id": "W41paJfwkyNJ",
        "outputId": "1c425b4c-2408-4e4c-d4ad-deaf1431959b"
      },
      "source": [
        "preds[0]"
      ],
      "execution_count": 257,
      "outputs": [
        {
          "output_type": "execute_result",
          "data": {
            "text/plain": [
              "array([[0.24948406, 0.25111702, 0.25018132, 0.24921764],\n",
              "       [0.24872527, 0.25213873, 0.2506164 , 0.24851954],\n",
              "       [0.24819198, 0.2537717 , 0.25033686, 0.24769948],\n",
              "       [0.24770704, 0.25489473, 0.2501727 , 0.24722552],\n",
              "       [0.24695376, 0.2565023 , 0.24968748, 0.2468565 ],\n",
              "       [0.24643986, 0.2579138 , 0.24932304, 0.24632329],\n",
              "       [0.2458381 , 0.25894797, 0.24927741, 0.24593653],\n",
              "       [0.24554966, 0.2595634 , 0.24910901, 0.24577795],\n",
              "       [0.24567032, 0.26104906, 0.24826412, 0.24501647],\n",
              "       [0.24574874, 0.2624766 , 0.24756452, 0.24421012],\n",
              "       [0.24575646, 0.2638095 , 0.24697512, 0.24345896],\n",
              "       [0.24629569, 0.2654404 , 0.24589343, 0.24237047],\n",
              "       [0.24639344, 0.26785097, 0.24460007, 0.24115556],\n",
              "       [0.2460482 , 0.27018327, 0.24375616, 0.24001239],\n",
              "       [0.24545878, 0.27240095, 0.24320072, 0.23893958],\n",
              "       [0.24475501, 0.27448118, 0.24282518, 0.23793863],\n",
              "       [0.24401735, 0.27640885, 0.24255918, 0.23701462],\n",
              "       [0.2432946 , 0.27817303, 0.24235891, 0.23617348],\n",
              "       [0.24261546, 0.2797653 , 0.24219881, 0.2354205 ],\n",
              "       [0.24199584, 0.2811787 , 0.24206556, 0.23475988],\n",
              "       [0.24144368, 0.28240752, 0.24195394, 0.23419487],\n",
              "       [0.24096176, 0.2834465 , 0.24186388, 0.23372786],\n",
              "       [0.24054953, 0.28429082, 0.24179856, 0.2333611 ],\n",
              "       [0.24020414, 0.28493538, 0.24176326, 0.23309727],\n",
              "       [0.23992094, 0.28537416, 0.2417647 , 0.23294021],\n",
              "       [0.23969387, 0.2855997 , 0.24181071, 0.23289567],\n",
              "       [0.23951508, 0.28560242, 0.24191037, 0.23297209],\n",
              "       [0.23937494, 0.28536966, 0.24207422, 0.23318116],\n",
              "       [0.23926109, 0.28488547, 0.24231467, 0.23353878],\n",
              "       [0.23915772, 0.28413016, 0.24264687, 0.23406525],\n",
              "       [0.23904371, 0.28308102, 0.2430896 , 0.23478565],\n",
              "       [0.23889044, 0.28171384, 0.24366629, 0.23572941]], dtype=float32)"
            ]
          },
          "metadata": {},
          "execution_count": 257
        }
      ]
    },
    {
      "cell_type": "code",
      "metadata": {
        "colab": {
          "base_uri": "https://localhost:8080/"
        },
        "id": "mKyrXp6Gk7V3",
        "outputId": "0ef2cca6-d61c-46cf-ecd0-69cbc0e20265"
      },
      "source": [
        "pred_data['pred_target_index'][0]"
      ],
      "execution_count": 258,
      "outputs": [
        {
          "output_type": "execute_result",
          "data": {
            "text/plain": [
              "0    1\n",
              "0    1\n",
              "0    1\n",
              "Name: pred_target_index, dtype: int64"
            ]
          },
          "metadata": {},
          "execution_count": 258
        }
      ]
    },
    {
      "cell_type": "code",
      "metadata": {
        "colab": {
          "base_uri": "https://localhost:8080/"
        },
        "id": "rKyTnW5rle99",
        "outputId": "24e1542d-3ad4-4047-d2d4-d9f369f41e42"
      },
      "source": [
        "pred_data['test_input'][0]"
      ],
      "execution_count": 259,
      "outputs": [
        {
          "output_type": "execute_result",
          "data": {
            "text/plain": [
              "0    8\n",
              "0    4\n",
              "0    4\n",
              "Name: test_input, dtype: int32"
            ]
          },
          "metadata": {},
          "execution_count": 259
        }
      ]
    },
    {
      "cell_type": "code",
      "metadata": {
        "colab": {
          "base_uri": "https://localhost:8080/"
        },
        "id": "FqZ2Wfe2mXv-",
        "outputId": "69ed2fec-eb64-4fc0-a95a-c1cf081da547"
      },
      "source": [
        "pred_data.shape"
      ],
      "execution_count": 260,
      "outputs": [
        {
          "output_type": "execute_result",
          "data": {
            "text/plain": [
              "(40, 8)"
            ]
          },
          "metadata": {},
          "execution_count": 260
        }
      ]
    },
    {
      "cell_type": "code",
      "metadata": {
        "colab": {
          "base_uri": "https://localhost:8080/"
        },
        "id": "3sQNoWM1o39j",
        "outputId": "8abe11b9-2a2c-4176-a1fa-ccaccbbbead9"
      },
      "source": [
        "X_test.shape"
      ],
      "execution_count": 261,
      "outputs": [
        {
          "output_type": "execute_result",
          "data": {
            "text/plain": [
              "(3, 32)"
            ]
          },
          "metadata": {},
          "execution_count": 261
        }
      ]
    },
    {
      "cell_type": "code",
      "metadata": {
        "id": "G5Hh7Juappuk"
      },
      "source": [
        "fin_data = pred_data.groupby('id')"
      ],
      "execution_count": 262,
      "outputs": []
    },
    {
      "cell_type": "code",
      "metadata": {
        "colab": {
          "base_uri": "https://localhost:8080/",
          "height": 508
        },
        "id": "CUcrwUoBp8GQ",
        "outputId": "1d2d5dce-0676-4bf6-a967-5ab82a161e07"
      },
      "source": [
        "fin_data.head()"
      ],
      "execution_count": 263,
      "outputs": [
        {
          "output_type": "execute_result",
          "data": {
            "text/html": [
              "<div>\n",
              "<style scoped>\n",
              "    .dataframe tbody tr th:only-of-type {\n",
              "        vertical-align: middle;\n",
              "    }\n",
              "\n",
              "    .dataframe tbody tr th {\n",
              "        vertical-align: top;\n",
              "    }\n",
              "\n",
              "    .dataframe thead th {\n",
              "        text-align: right;\n",
              "    }\n",
              "</style>\n",
              "<table border=\"1\" class=\"dataframe\">\n",
              "  <thead>\n",
              "    <tr style=\"text-align: right;\">\n",
              "      <th></th>\n",
              "      <th>test_input</th>\n",
              "      <th>test_tokens</th>\n",
              "      <th>tokens</th>\n",
              "      <th>actual_target_index</th>\n",
              "      <th>pred_target_index</th>\n",
              "      <th>actual_target_tag</th>\n",
              "      <th>pred_target_tag</th>\n",
              "      <th>id</th>\n",
              "    </tr>\n",
              "  </thead>\n",
              "  <tbody>\n",
              "    <tr>\n",
              "      <th>0</th>\n",
              "      <td>8</td>\n",
              "      <td>8</td>\n",
              "      <td>Please</td>\n",
              "      <td>1</td>\n",
              "      <td>1</td>\n",
              "      <td>O</td>\n",
              "      <td>O</td>\n",
              "      <td>1</td>\n",
              "    </tr>\n",
              "    <tr>\n",
              "      <th>1</th>\n",
              "      <td>3</td>\n",
              "      <td>3</td>\n",
              "      <td>email</td>\n",
              "      <td>1</td>\n",
              "      <td>1</td>\n",
              "      <td>O</td>\n",
              "      <td>O</td>\n",
              "      <td>1</td>\n",
              "    </tr>\n",
              "    <tr>\n",
              "      <th>2</th>\n",
              "      <td>1</td>\n",
              "      <td>1</td>\n",
              "      <td>to</td>\n",
              "      <td>1</td>\n",
              "      <td>1</td>\n",
              "      <td>O</td>\n",
              "      <td>O</td>\n",
              "      <td>1</td>\n",
              "    </tr>\n",
              "    <tr>\n",
              "      <th>3</th>\n",
              "      <td>174</td>\n",
              "      <td>174</td>\n",
              "      <td>Ibrahim</td>\n",
              "      <td>0</td>\n",
              "      <td>1</td>\n",
              "      <td>B-email.to</td>\n",
              "      <td>O</td>\n",
              "      <td>1</td>\n",
              "    </tr>\n",
              "    <tr>\n",
              "      <th>4</th>\n",
              "      <td>2</td>\n",
              "      <td>2</td>\n",
              "      <td>that</td>\n",
              "      <td>1</td>\n",
              "      <td>1</td>\n",
              "      <td>O</td>\n",
              "      <td>O</td>\n",
              "      <td>1</td>\n",
              "    </tr>\n",
              "    <tr>\n",
              "      <th>0</th>\n",
              "      <td>4</td>\n",
              "      <td>4</td>\n",
              "      <td>Send</td>\n",
              "      <td>1</td>\n",
              "      <td>1</td>\n",
              "      <td>O</td>\n",
              "      <td>O</td>\n",
              "      <td>2</td>\n",
              "    </tr>\n",
              "    <tr>\n",
              "      <th>1</th>\n",
              "      <td>3</td>\n",
              "      <td>3</td>\n",
              "      <td>email</td>\n",
              "      <td>1</td>\n",
              "      <td>2</td>\n",
              "      <td>O</td>\n",
              "      <td>B-email.text</td>\n",
              "      <td>2</td>\n",
              "    </tr>\n",
              "    <tr>\n",
              "      <th>2</th>\n",
              "      <td>1</td>\n",
              "      <td>1</td>\n",
              "      <td>to</td>\n",
              "      <td>1</td>\n",
              "      <td>1</td>\n",
              "      <td>O</td>\n",
              "      <td>O</td>\n",
              "      <td>2</td>\n",
              "    </tr>\n",
              "    <tr>\n",
              "      <th>3</th>\n",
              "      <td>189</td>\n",
              "      <td>189</td>\n",
              "      <td>Praveen</td>\n",
              "      <td>0</td>\n",
              "      <td>2</td>\n",
              "      <td>B-email.to</td>\n",
              "      <td>B-email.text</td>\n",
              "      <td>2</td>\n",
              "    </tr>\n",
              "    <tr>\n",
              "      <th>4</th>\n",
              "      <td>2</td>\n",
              "      <td>2</td>\n",
              "      <td>that</td>\n",
              "      <td>1</td>\n",
              "      <td>2</td>\n",
              "      <td>O</td>\n",
              "      <td>B-email.text</td>\n",
              "      <td>2</td>\n",
              "    </tr>\n",
              "    <tr>\n",
              "      <th>0</th>\n",
              "      <td>4</td>\n",
              "      <td>4</td>\n",
              "      <td>Send</td>\n",
              "      <td>1</td>\n",
              "      <td>1</td>\n",
              "      <td>O</td>\n",
              "      <td>O</td>\n",
              "      <td>3</td>\n",
              "    </tr>\n",
              "    <tr>\n",
              "      <th>1</th>\n",
              "      <td>3</td>\n",
              "      <td>3</td>\n",
              "      <td>email</td>\n",
              "      <td>1</td>\n",
              "      <td>1</td>\n",
              "      <td>O</td>\n",
              "      <td>O</td>\n",
              "      <td>3</td>\n",
              "    </tr>\n",
              "    <tr>\n",
              "      <th>2</th>\n",
              "      <td>1</td>\n",
              "      <td>1</td>\n",
              "      <td>to</td>\n",
              "      <td>1</td>\n",
              "      <td>1</td>\n",
              "      <td>O</td>\n",
              "      <td>O</td>\n",
              "      <td>3</td>\n",
              "    </tr>\n",
              "    <tr>\n",
              "      <th>3</th>\n",
              "      <td>111</td>\n",
              "      <td>111</td>\n",
              "      <td>Kyle</td>\n",
              "      <td>0</td>\n",
              "      <td>1</td>\n",
              "      <td>B-email.to</td>\n",
              "      <td>O</td>\n",
              "      <td>3</td>\n",
              "    </tr>\n",
              "    <tr>\n",
              "      <th>4</th>\n",
              "      <td>2</td>\n",
              "      <td>2</td>\n",
              "      <td>that</td>\n",
              "      <td>1</td>\n",
              "      <td>1</td>\n",
              "      <td>O</td>\n",
              "      <td>O</td>\n",
              "      <td>3</td>\n",
              "    </tr>\n",
              "  </tbody>\n",
              "</table>\n",
              "</div>"
            ],
            "text/plain": [
              "   test_input  test_tokens   tokens  ...  actual_target_tag  pred_target_tag id\n",
              "0           8            8   Please  ...                  O                O  1\n",
              "1           3            3    email  ...                  O                O  1\n",
              "2           1            1       to  ...                  O                O  1\n",
              "3         174          174  Ibrahim  ...         B-email.to                O  1\n",
              "4           2            2     that  ...                  O                O  1\n",
              "0           4            4     Send  ...                  O                O  2\n",
              "1           3            3    email  ...                  O     B-email.text  2\n",
              "2           1            1       to  ...                  O                O  2\n",
              "3         189          189  Praveen  ...         B-email.to     B-email.text  2\n",
              "4           2            2     that  ...                  O     B-email.text  2\n",
              "0           4            4     Send  ...                  O                O  3\n",
              "1           3            3    email  ...                  O                O  3\n",
              "2           1            1       to  ...                  O                O  3\n",
              "3         111          111     Kyle  ...         B-email.to                O  3\n",
              "4           2            2     that  ...                  O                O  3\n",
              "\n",
              "[15 rows x 8 columns]"
            ]
          },
          "metadata": {},
          "execution_count": 263
        }
      ]
    },
    {
      "cell_type": "code",
      "metadata": {
        "colab": {
          "base_uri": "https://localhost:8080/",
          "height": 570
        },
        "id": "UN9XopYirkGU",
        "outputId": "5499c469-39a2-45c0-fcbd-08491762c8a6"
      },
      "source": [
        "pred_data[pred_data['id']==2]"
      ],
      "execution_count": 265,
      "outputs": [
        {
          "output_type": "execute_result",
          "data": {
            "text/html": [
              "<div>\n",
              "<style scoped>\n",
              "    .dataframe tbody tr th:only-of-type {\n",
              "        vertical-align: middle;\n",
              "    }\n",
              "\n",
              "    .dataframe tbody tr th {\n",
              "        vertical-align: top;\n",
              "    }\n",
              "\n",
              "    .dataframe thead th {\n",
              "        text-align: right;\n",
              "    }\n",
              "</style>\n",
              "<table border=\"1\" class=\"dataframe\">\n",
              "  <thead>\n",
              "    <tr style=\"text-align: right;\">\n",
              "      <th></th>\n",
              "      <th>test_input</th>\n",
              "      <th>test_tokens</th>\n",
              "      <th>tokens</th>\n",
              "      <th>actual_target_index</th>\n",
              "      <th>pred_target_index</th>\n",
              "      <th>actual_target_tag</th>\n",
              "      <th>pred_target_tag</th>\n",
              "      <th>id</th>\n",
              "    </tr>\n",
              "  </thead>\n",
              "  <tbody>\n",
              "    <tr>\n",
              "      <th>0</th>\n",
              "      <td>4</td>\n",
              "      <td>4</td>\n",
              "      <td>Send</td>\n",
              "      <td>1</td>\n",
              "      <td>1</td>\n",
              "      <td>O</td>\n",
              "      <td>O</td>\n",
              "      <td>2</td>\n",
              "    </tr>\n",
              "    <tr>\n",
              "      <th>1</th>\n",
              "      <td>3</td>\n",
              "      <td>3</td>\n",
              "      <td>email</td>\n",
              "      <td>1</td>\n",
              "      <td>2</td>\n",
              "      <td>O</td>\n",
              "      <td>B-email.text</td>\n",
              "      <td>2</td>\n",
              "    </tr>\n",
              "    <tr>\n",
              "      <th>2</th>\n",
              "      <td>1</td>\n",
              "      <td>1</td>\n",
              "      <td>to</td>\n",
              "      <td>1</td>\n",
              "      <td>1</td>\n",
              "      <td>O</td>\n",
              "      <td>O</td>\n",
              "      <td>2</td>\n",
              "    </tr>\n",
              "    <tr>\n",
              "      <th>3</th>\n",
              "      <td>189</td>\n",
              "      <td>189</td>\n",
              "      <td>Praveen</td>\n",
              "      <td>0</td>\n",
              "      <td>2</td>\n",
              "      <td>B-email.to</td>\n",
              "      <td>B-email.text</td>\n",
              "      <td>2</td>\n",
              "    </tr>\n",
              "    <tr>\n",
              "      <th>4</th>\n",
              "      <td>2</td>\n",
              "      <td>2</td>\n",
              "      <td>that</td>\n",
              "      <td>1</td>\n",
              "      <td>2</td>\n",
              "      <td>O</td>\n",
              "      <td>B-email.text</td>\n",
              "      <td>2</td>\n",
              "    </tr>\n",
              "    <tr>\n",
              "      <th>5</th>\n",
              "      <td>190</td>\n",
              "      <td>190</td>\n",
              "      <td>Kanchan</td>\n",
              "      <td>2</td>\n",
              "      <td>2</td>\n",
              "      <td>B-email.text</td>\n",
              "      <td>B-email.text</td>\n",
              "      <td>2</td>\n",
              "    </tr>\n",
              "    <tr>\n",
              "      <th>6</th>\n",
              "      <td>23</td>\n",
              "      <td>23</td>\n",
              "      <td>is</td>\n",
              "      <td>3</td>\n",
              "      <td>2</td>\n",
              "      <td>I-email.text</td>\n",
              "      <td>B-email.text</td>\n",
              "      <td>2</td>\n",
              "    </tr>\n",
              "    <tr>\n",
              "      <th>7</th>\n",
              "      <td>191</td>\n",
              "      <td>191</td>\n",
              "      <td>standing</td>\n",
              "      <td>3</td>\n",
              "      <td>2</td>\n",
              "      <td>I-email.text</td>\n",
              "      <td>B-email.text</td>\n",
              "      <td>2</td>\n",
              "    </tr>\n",
              "    <tr>\n",
              "      <th>8</th>\n",
              "      <td>31</td>\n",
              "      <td>31</td>\n",
              "      <td>in</td>\n",
              "      <td>3</td>\n",
              "      <td>1</td>\n",
              "      <td>I-email.text</td>\n",
              "      <td>O</td>\n",
              "      <td>2</td>\n",
              "    </tr>\n",
              "    <tr>\n",
              "      <th>9</th>\n",
              "      <td>5</td>\n",
              "      <td>5</td>\n",
              "      <td>the</td>\n",
              "      <td>3</td>\n",
              "      <td>1</td>\n",
              "      <td>I-email.text</td>\n",
              "      <td>O</td>\n",
              "      <td>2</td>\n",
              "    </tr>\n",
              "    <tr>\n",
              "      <th>10</th>\n",
              "      <td>42</td>\n",
              "      <td>42</td>\n",
              "      <td>Park</td>\n",
              "      <td>3</td>\n",
              "      <td>1</td>\n",
              "      <td>I-email.text</td>\n",
              "      <td>O</td>\n",
              "      <td>2</td>\n",
              "    </tr>\n",
              "    <tr>\n",
              "      <th>11</th>\n",
              "      <td>52</td>\n",
              "      <td>52</td>\n",
              "      <td>and</td>\n",
              "      <td>3</td>\n",
              "      <td>1</td>\n",
              "      <td>I-email.text</td>\n",
              "      <td>O</td>\n",
              "      <td>2</td>\n",
              "    </tr>\n",
              "    <tr>\n",
              "      <th>12</th>\n",
              "      <td>6</td>\n",
              "      <td>6</td>\n",
              "      <td>I</td>\n",
              "      <td>3</td>\n",
              "      <td>1</td>\n",
              "      <td>I-email.text</td>\n",
              "      <td>O</td>\n",
              "      <td>2</td>\n",
              "    </tr>\n",
              "    <tr>\n",
              "      <th>13</th>\n",
              "      <td>192</td>\n",
              "      <td>192</td>\n",
              "      <td>am</td>\n",
              "      <td>3</td>\n",
              "      <td>1</td>\n",
              "      <td>I-email.text</td>\n",
              "      <td>O</td>\n",
              "      <td>2</td>\n",
              "    </tr>\n",
              "    <tr>\n",
              "      <th>14</th>\n",
              "      <td>7</td>\n",
              "      <td>7</td>\n",
              "      <td>on</td>\n",
              "      <td>3</td>\n",
              "      <td>1</td>\n",
              "      <td>I-email.text</td>\n",
              "      <td>O</td>\n",
              "      <td>2</td>\n",
              "    </tr>\n",
              "    <tr>\n",
              "      <th>15</th>\n",
              "      <td>16</td>\n",
              "      <td>16</td>\n",
              "      <td>my</td>\n",
              "      <td>3</td>\n",
              "      <td>1</td>\n",
              "      <td>I-email.text</td>\n",
              "      <td>O</td>\n",
              "      <td>2</td>\n",
              "    </tr>\n",
              "    <tr>\n",
              "      <th>16</th>\n",
              "      <td>193</td>\n",
              "      <td>193</td>\n",
              "      <td>way</td>\n",
              "      <td>3</td>\n",
              "      <td>1</td>\n",
              "      <td>I-email.text</td>\n",
              "      <td>O</td>\n",
              "      <td>2</td>\n",
              "    </tr>\n",
              "  </tbody>\n",
              "</table>\n",
              "</div>"
            ],
            "text/plain": [
              "    test_input  test_tokens    tokens  ...  actual_target_tag  pred_target_tag id\n",
              "0            4            4      Send  ...                  O                O  2\n",
              "1            3            3     email  ...                  O     B-email.text  2\n",
              "2            1            1        to  ...                  O                O  2\n",
              "3          189          189   Praveen  ...         B-email.to     B-email.text  2\n",
              "4            2            2      that  ...                  O     B-email.text  2\n",
              "5          190          190   Kanchan  ...       B-email.text     B-email.text  2\n",
              "6           23           23        is  ...       I-email.text     B-email.text  2\n",
              "7          191          191  standing  ...       I-email.text     B-email.text  2\n",
              "8           31           31        in  ...       I-email.text                O  2\n",
              "9            5            5       the  ...       I-email.text                O  2\n",
              "10          42           42      Park  ...       I-email.text                O  2\n",
              "11          52           52       and  ...       I-email.text                O  2\n",
              "12           6            6         I  ...       I-email.text                O  2\n",
              "13         192          192        am  ...       I-email.text                O  2\n",
              "14           7            7        on  ...       I-email.text                O  2\n",
              "15          16           16        my  ...       I-email.text                O  2\n",
              "16         193          193       way  ...       I-email.text                O  2\n",
              "\n",
              "[17 rows x 8 columns]"
            ]
          },
          "metadata": {},
          "execution_count": 265
        }
      ]
    },
    {
      "cell_type": "code",
      "metadata": {
        "id": "3SwtxK-wsN8B"
      },
      "source": [
        ""
      ],
      "execution_count": 173,
      "outputs": []
    }
  ]
}