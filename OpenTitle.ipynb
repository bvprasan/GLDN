{
  "nbformat": 4,
  "nbformat_minor": 0,
  "metadata": {
    "colab": {
      "name": "Welcome To Colaboratory",
      "provenance": [],
      "collapsed_sections": []
    },
    "kernelspec": {
      "display_name": "Python 3",
      "name": "python3"
    }
  },
  "cells": [
    {
      "cell_type": "code",
      "metadata": {
        "id": "_Ci5f315TLf3"
      },
      "source": [
        "import numpy as np # linear algebra\n",
        "import pandas as pd # data processing, CSV file I/O (e.g. pd.read_csv)\n",
        "\n",
        "import random \n",
        "from sklearn.metrics import classification_report\n",
        "import os\n",
        "from sklearn.model_selection import train_test_split\n",
        "\n",
        "import tensorflow as tf"
      ],
      "execution_count": 64,
      "outputs": []
    },
    {
      "cell_type": "code",
      "metadata": {
        "colab": {
          "base_uri": "https://localhost:8080/",
          "height": 202
        },
        "id": "ikRVOciOWB-O",
        "outputId": "bc362e1f-64da-41ef-e848-335bfa8a5591"
      },
      "source": [
        "data=pd.read_csv(\"/content/Reminder_updated_upd.txt\",encoding=\"latin1\",delimiter='\\t')\n",
        "data.head()"
      ],
      "execution_count": 65,
      "outputs": [
        {
          "output_type": "execute_result",
          "data": {
            "text/html": [
              "<div>\n",
              "<style scoped>\n",
              "    .dataframe tbody tr th:only-of-type {\n",
              "        vertical-align: middle;\n",
              "    }\n",
              "\n",
              "    .dataframe tbody tr th {\n",
              "        vertical-align: top;\n",
              "    }\n",
              "\n",
              "    .dataframe thead th {\n",
              "        text-align: right;\n",
              "    }\n",
              "</style>\n",
              "<table border=\"1\" class=\"dataframe\">\n",
              "  <thead>\n",
              "    <tr style=\"text-align: right;\">\n",
              "      <th></th>\n",
              "      <th>Sentence</th>\n",
              "      <th>Tag</th>\n",
              "    </tr>\n",
              "  </thead>\n",
              "  <tbody>\n",
              "    <tr>\n",
              "      <th>0</th>\n",
              "      <td>Fix a reminder for tomorrow's board meeting at...</td>\n",
              "      <td>O O O O B-reminder.date B-reminder.title I-rem...</td>\n",
              "    </tr>\n",
              "    <tr>\n",
              "      <th>1</th>\n",
              "      <td>Remind me to fill the google form at 11 PM</td>\n",
              "      <td>O O O O O B-reminder.title I-reminder.title O ...</td>\n",
              "    </tr>\n",
              "    <tr>\n",
              "      <th>2</th>\n",
              "      <td>Set a reminder for doubt clearing session at 5...</td>\n",
              "      <td>O O O O B-reminder.title I-reminder.title I-re...</td>\n",
              "    </tr>\n",
              "    <tr>\n",
              "      <th>3</th>\n",
              "      <td>Remind me to call Rishi for notes at midnight</td>\n",
              "      <td>O O O B-reminder.title I-reminder.title I-remi...</td>\n",
              "    </tr>\n",
              "    <tr>\n",
              "      <th>4</th>\n",
              "      <td>Set a reminder for doctor's appointment at 4 PM</td>\n",
              "      <td>O O O O B-reminder.title I-reminder.title O B-...</td>\n",
              "    </tr>\n",
              "  </tbody>\n",
              "</table>\n",
              "</div>"
            ],
            "text/plain": [
              "                                            Sentence                                                Tag\n",
              "0  Fix a reminder for tomorrow's board meeting at...  O O O O B-reminder.date B-reminder.title I-rem...\n",
              "1         Remind me to fill the google form at 11 PM  O O O O O B-reminder.title I-reminder.title O ...\n",
              "2  Set a reminder for doubt clearing session at 5...  O O O O B-reminder.title I-reminder.title I-re...\n",
              "3      Remind me to call Rishi for notes at midnight  O O O B-reminder.title I-reminder.title I-remi...\n",
              "4    Set a reminder for doctor's appointment at 4 PM  O O O O B-reminder.title I-reminder.title O B-..."
            ]
          },
          "metadata": {},
          "execution_count": 65
        }
      ]
    },
    {
      "cell_type": "code",
      "metadata": {
        "id": "IxuBX80Xeqvd"
      },
      "source": [
        "data.dropna(inplace=True)"
      ],
      "execution_count": 66,
      "outputs": []
    },
    {
      "cell_type": "code",
      "metadata": {
        "colab": {
          "base_uri": "https://localhost:8080/"
        },
        "id": "uLXDSkKZXwog",
        "outputId": "8c151865-629e-4657-9d38-ac41a9de3078"
      },
      "source": [
        "data.shape"
      ],
      "execution_count": 67,
      "outputs": [
        {
          "output_type": "execute_result",
          "data": {
            "text/plain": [
              "(100, 2)"
            ]
          },
          "metadata": {},
          "execution_count": 67
        }
      ]
    },
    {
      "cell_type": "code",
      "metadata": {
        "colab": {
          "base_uri": "https://localhost:8080/",
          "height": 202
        },
        "id": "3O3T8fHKX1eR",
        "outputId": "3feab51a-9a2a-48f0-e7e2-e15c793ba5a8"
      },
      "source": [
        "data.head()"
      ],
      "execution_count": 68,
      "outputs": [
        {
          "output_type": "execute_result",
          "data": {
            "text/html": [
              "<div>\n",
              "<style scoped>\n",
              "    .dataframe tbody tr th:only-of-type {\n",
              "        vertical-align: middle;\n",
              "    }\n",
              "\n",
              "    .dataframe tbody tr th {\n",
              "        vertical-align: top;\n",
              "    }\n",
              "\n",
              "    .dataframe thead th {\n",
              "        text-align: right;\n",
              "    }\n",
              "</style>\n",
              "<table border=\"1\" class=\"dataframe\">\n",
              "  <thead>\n",
              "    <tr style=\"text-align: right;\">\n",
              "      <th></th>\n",
              "      <th>Sentence</th>\n",
              "      <th>Tag</th>\n",
              "    </tr>\n",
              "  </thead>\n",
              "  <tbody>\n",
              "    <tr>\n",
              "      <th>0</th>\n",
              "      <td>Fix a reminder for tomorrow's board meeting at...</td>\n",
              "      <td>O O O O B-reminder.date B-reminder.title I-rem...</td>\n",
              "    </tr>\n",
              "    <tr>\n",
              "      <th>1</th>\n",
              "      <td>Remind me to fill the google form at 11 PM</td>\n",
              "      <td>O O O O O B-reminder.title I-reminder.title O ...</td>\n",
              "    </tr>\n",
              "    <tr>\n",
              "      <th>2</th>\n",
              "      <td>Set a reminder for doubt clearing session at 5...</td>\n",
              "      <td>O O O O B-reminder.title I-reminder.title I-re...</td>\n",
              "    </tr>\n",
              "    <tr>\n",
              "      <th>3</th>\n",
              "      <td>Remind me to call Rishi for notes at midnight</td>\n",
              "      <td>O O O B-reminder.title I-reminder.title I-remi...</td>\n",
              "    </tr>\n",
              "    <tr>\n",
              "      <th>4</th>\n",
              "      <td>Set a reminder for doctor's appointment at 4 PM</td>\n",
              "      <td>O O O O B-reminder.title I-reminder.title O B-...</td>\n",
              "    </tr>\n",
              "  </tbody>\n",
              "</table>\n",
              "</div>"
            ],
            "text/plain": [
              "                                            Sentence                                                Tag\n",
              "0  Fix a reminder for tomorrow's board meeting at...  O O O O B-reminder.date B-reminder.title I-rem...\n",
              "1         Remind me to fill the google form at 11 PM  O O O O O B-reminder.title I-reminder.title O ...\n",
              "2  Set a reminder for doubt clearing session at 5...  O O O O B-reminder.title I-reminder.title I-re...\n",
              "3      Remind me to call Rishi for notes at midnight  O O O B-reminder.title I-reminder.title I-remi...\n",
              "4    Set a reminder for doctor's appointment at 4 PM  O O O O B-reminder.title I-reminder.title O B-..."
            ]
          },
          "metadata": {},
          "execution_count": 68
        }
      ]
    },
    {
      "cell_type": "code",
      "metadata": {
        "colab": {
          "base_uri": "https://localhost:8080/",
          "height": 285
        },
        "id": "a9yrOK7YX4mc",
        "outputId": "fd9119f1-1048-4d64-a347-4041e0391a39"
      },
      "source": [
        "agg_data = data.copy(True)\n",
        "agg_data['tokenised_sentences']=agg_data['Sentence'].apply(lambda x:x.split())\n",
        "agg_data['tag_list']=agg_data['Tag'].apply(lambda x:x.split())\n",
        "agg_data.head()"
      ],
      "execution_count": 69,
      "outputs": [
        {
          "output_type": "execute_result",
          "data": {
            "text/html": [
              "<div>\n",
              "<style scoped>\n",
              "    .dataframe tbody tr th:only-of-type {\n",
              "        vertical-align: middle;\n",
              "    }\n",
              "\n",
              "    .dataframe tbody tr th {\n",
              "        vertical-align: top;\n",
              "    }\n",
              "\n",
              "    .dataframe thead th {\n",
              "        text-align: right;\n",
              "    }\n",
              "</style>\n",
              "<table border=\"1\" class=\"dataframe\">\n",
              "  <thead>\n",
              "    <tr style=\"text-align: right;\">\n",
              "      <th></th>\n",
              "      <th>Sentence</th>\n",
              "      <th>Tag</th>\n",
              "      <th>tokenised_sentences</th>\n",
              "      <th>tag_list</th>\n",
              "    </tr>\n",
              "  </thead>\n",
              "  <tbody>\n",
              "    <tr>\n",
              "      <th>0</th>\n",
              "      <td>Fix a reminder for tomorrow's board meeting at...</td>\n",
              "      <td>O O O O B-reminder.date B-reminder.title I-rem...</td>\n",
              "      <td>[Fix, a, reminder, for, tomorrow's, board, mee...</td>\n",
              "      <td>[O, O, O, O, B-reminder.date, B-reminder.title...</td>\n",
              "    </tr>\n",
              "    <tr>\n",
              "      <th>1</th>\n",
              "      <td>Remind me to fill the google form at 11 PM</td>\n",
              "      <td>O O O O O B-reminder.title I-reminder.title O ...</td>\n",
              "      <td>[Remind, me, to, fill, the, google, form, at, ...</td>\n",
              "      <td>[O, O, O, O, O, B-reminder.title, I-reminder.t...</td>\n",
              "    </tr>\n",
              "    <tr>\n",
              "      <th>2</th>\n",
              "      <td>Set a reminder for doubt clearing session at 5...</td>\n",
              "      <td>O O O O B-reminder.title I-reminder.title I-re...</td>\n",
              "      <td>[Set, a, reminder, for, doubt, clearing, sessi...</td>\n",
              "      <td>[O, O, O, O, B-reminder.title, I-reminder.titl...</td>\n",
              "    </tr>\n",
              "    <tr>\n",
              "      <th>3</th>\n",
              "      <td>Remind me to call Rishi for notes at midnight</td>\n",
              "      <td>O O O B-reminder.title I-reminder.title I-remi...</td>\n",
              "      <td>[Remind, me, to, call, Rishi, for, notes, at, ...</td>\n",
              "      <td>[O, O, O, B-reminder.title, I-reminder.title, ...</td>\n",
              "    </tr>\n",
              "    <tr>\n",
              "      <th>4</th>\n",
              "      <td>Set a reminder for doctor's appointment at 4 PM</td>\n",
              "      <td>O O O O B-reminder.title I-reminder.title O B-...</td>\n",
              "      <td>[Set, a, reminder, for, doctor's, appointment,...</td>\n",
              "      <td>[O, O, O, O, B-reminder.title, I-reminder.titl...</td>\n",
              "    </tr>\n",
              "  </tbody>\n",
              "</table>\n",
              "</div>"
            ],
            "text/plain": [
              "                                            Sentence  ...                                           tag_list\n",
              "0  Fix a reminder for tomorrow's board meeting at...  ...  [O, O, O, O, B-reminder.date, B-reminder.title...\n",
              "1         Remind me to fill the google form at 11 PM  ...  [O, O, O, O, O, B-reminder.title, I-reminder.t...\n",
              "2  Set a reminder for doubt clearing session at 5...  ...  [O, O, O, O, B-reminder.title, I-reminder.titl...\n",
              "3      Remind me to call Rishi for notes at midnight  ...  [O, O, O, B-reminder.title, I-reminder.title, ...\n",
              "4    Set a reminder for doctor's appointment at 4 PM  ...  [O, O, O, O, B-reminder.title, I-reminder.titl...\n",
              "\n",
              "[5 rows x 4 columns]"
            ]
          },
          "metadata": {},
          "execution_count": 69
        }
      ]
    },
    {
      "cell_type": "code",
      "metadata": {
        "colab": {
          "base_uri": "https://localhost:8080/"
        },
        "id": "41-ziqxDYL1f",
        "outputId": "afae39f1-7a98-4a9e-cc52-0c67c6ad4c40"
      },
      "source": [
        "agg_data['len_sentence']=agg_data['tokenised_sentences'].apply(lambda x:len(x))\n",
        "agg_data['len_tag']=agg_data['tag_list'].apply(lambda x:len(x))\n",
        "agg_data['is_equal']=agg_data.apply(lambda row:1 if row['len_sentence']==row['len_tag'] else 0,axis=1)\n",
        "agg_data['is_equal'].value_counts()"
      ],
      "execution_count": 70,
      "outputs": [
        {
          "output_type": "execute_result",
          "data": {
            "text/plain": [
              "1    100\n",
              "Name: is_equal, dtype: int64"
            ]
          },
          "metadata": {},
          "execution_count": 70
        }
      ]
    },
    {
      "cell_type": "code",
      "metadata": {
        "colab": {
          "base_uri": "https://localhost:8080/",
          "height": 285
        },
        "id": "SJd1KXB2YX4x",
        "outputId": "615045eb-15b7-4283-963b-139c16d504c3"
      },
      "source": [
        "agg_data.head()"
      ],
      "execution_count": 71,
      "outputs": [
        {
          "output_type": "execute_result",
          "data": {
            "text/html": [
              "<div>\n",
              "<style scoped>\n",
              "    .dataframe tbody tr th:only-of-type {\n",
              "        vertical-align: middle;\n",
              "    }\n",
              "\n",
              "    .dataframe tbody tr th {\n",
              "        vertical-align: top;\n",
              "    }\n",
              "\n",
              "    .dataframe thead th {\n",
              "        text-align: right;\n",
              "    }\n",
              "</style>\n",
              "<table border=\"1\" class=\"dataframe\">\n",
              "  <thead>\n",
              "    <tr style=\"text-align: right;\">\n",
              "      <th></th>\n",
              "      <th>Sentence</th>\n",
              "      <th>Tag</th>\n",
              "      <th>tokenised_sentences</th>\n",
              "      <th>tag_list</th>\n",
              "      <th>len_sentence</th>\n",
              "      <th>len_tag</th>\n",
              "      <th>is_equal</th>\n",
              "    </tr>\n",
              "  </thead>\n",
              "  <tbody>\n",
              "    <tr>\n",
              "      <th>0</th>\n",
              "      <td>Fix a reminder for tomorrow's board meeting at...</td>\n",
              "      <td>O O O O B-reminder.date B-reminder.title I-rem...</td>\n",
              "      <td>[Fix, a, reminder, for, tomorrow's, board, mee...</td>\n",
              "      <td>[O, O, O, O, B-reminder.date, B-reminder.title...</td>\n",
              "      <td>10</td>\n",
              "      <td>10</td>\n",
              "      <td>1</td>\n",
              "    </tr>\n",
              "    <tr>\n",
              "      <th>1</th>\n",
              "      <td>Remind me to fill the google form at 11 PM</td>\n",
              "      <td>O O O O O B-reminder.title I-reminder.title O ...</td>\n",
              "      <td>[Remind, me, to, fill, the, google, form, at, ...</td>\n",
              "      <td>[O, O, O, O, O, B-reminder.title, I-reminder.t...</td>\n",
              "      <td>10</td>\n",
              "      <td>10</td>\n",
              "      <td>1</td>\n",
              "    </tr>\n",
              "    <tr>\n",
              "      <th>2</th>\n",
              "      <td>Set a reminder for doubt clearing session at 5...</td>\n",
              "      <td>O O O O B-reminder.title I-reminder.title I-re...</td>\n",
              "      <td>[Set, a, reminder, for, doubt, clearing, sessi...</td>\n",
              "      <td>[O, O, O, O, B-reminder.title, I-reminder.titl...</td>\n",
              "      <td>12</td>\n",
              "      <td>12</td>\n",
              "      <td>1</td>\n",
              "    </tr>\n",
              "    <tr>\n",
              "      <th>3</th>\n",
              "      <td>Remind me to call Rishi for notes at midnight</td>\n",
              "      <td>O O O B-reminder.title I-reminder.title I-remi...</td>\n",
              "      <td>[Remind, me, to, call, Rishi, for, notes, at, ...</td>\n",
              "      <td>[O, O, O, B-reminder.title, I-reminder.title, ...</td>\n",
              "      <td>9</td>\n",
              "      <td>9</td>\n",
              "      <td>1</td>\n",
              "    </tr>\n",
              "    <tr>\n",
              "      <th>4</th>\n",
              "      <td>Set a reminder for doctor's appointment at 4 PM</td>\n",
              "      <td>O O O O B-reminder.title I-reminder.title O B-...</td>\n",
              "      <td>[Set, a, reminder, for, doctor's, appointment,...</td>\n",
              "      <td>[O, O, O, O, B-reminder.title, I-reminder.titl...</td>\n",
              "      <td>9</td>\n",
              "      <td>9</td>\n",
              "      <td>1</td>\n",
              "    </tr>\n",
              "  </tbody>\n",
              "</table>\n",
              "</div>"
            ],
            "text/plain": [
              "                                            Sentence  ... is_equal\n",
              "0  Fix a reminder for tomorrow's board meeting at...  ...        1\n",
              "1         Remind me to fill the google form at 11 PM  ...        1\n",
              "2  Set a reminder for doubt clearing session at 5...  ...        1\n",
              "3      Remind me to call Rishi for notes at midnight  ...        1\n",
              "4    Set a reminder for doctor's appointment at 4 PM  ...        1\n",
              "\n",
              "[5 rows x 7 columns]"
            ]
          },
          "metadata": {},
          "execution_count": 71
        }
      ]
    },
    {
      "cell_type": "code",
      "metadata": {
        "colab": {
          "base_uri": "https://localhost:8080/",
          "height": 48
        },
        "id": "_4fSCKws-tOJ",
        "outputId": "70bca2f7-265b-4cf3-8427-8bf37559c6e2"
      },
      "source": [
        "agg_data[agg_data['is_equal']==0].head()"
      ],
      "execution_count": 72,
      "outputs": [
        {
          "output_type": "execute_result",
          "data": {
            "text/html": [
              "<div>\n",
              "<style scoped>\n",
              "    .dataframe tbody tr th:only-of-type {\n",
              "        vertical-align: middle;\n",
              "    }\n",
              "\n",
              "    .dataframe tbody tr th {\n",
              "        vertical-align: top;\n",
              "    }\n",
              "\n",
              "    .dataframe thead th {\n",
              "        text-align: right;\n",
              "    }\n",
              "</style>\n",
              "<table border=\"1\" class=\"dataframe\">\n",
              "  <thead>\n",
              "    <tr style=\"text-align: right;\">\n",
              "      <th></th>\n",
              "      <th>Sentence</th>\n",
              "      <th>Tag</th>\n",
              "      <th>tokenised_sentences</th>\n",
              "      <th>tag_list</th>\n",
              "      <th>len_sentence</th>\n",
              "      <th>len_tag</th>\n",
              "      <th>is_equal</th>\n",
              "    </tr>\n",
              "  </thead>\n",
              "  <tbody>\n",
              "  </tbody>\n",
              "</table>\n",
              "</div>"
            ],
            "text/plain": [
              "Empty DataFrame\n",
              "Columns: [Sentence, Tag, tokenised_sentences, tag_list, len_sentence, len_tag, is_equal]\n",
              "Index: []"
            ]
          },
          "metadata": {},
          "execution_count": 72
        }
      ]
    },
    {
      "cell_type": "code",
      "metadata": {
        "id": "UuWwDABHYePz"
      },
      "source": [
        "agg_data=agg_data[agg_data['is_equal']!=0]"
      ],
      "execution_count": 73,
      "outputs": []
    },
    {
      "cell_type": "code",
      "metadata": {
        "colab": {
          "base_uri": "https://localhost:8080/"
        },
        "id": "yGSTkI4UYqTe",
        "outputId": "c706f8bf-9bcc-4dab-a361-288bf573cfa6"
      },
      "source": [
        "agg_data.shape"
      ],
      "execution_count": 74,
      "outputs": [
        {
          "output_type": "execute_result",
          "data": {
            "text/plain": [
              "(100, 7)"
            ]
          },
          "metadata": {},
          "execution_count": 74
        }
      ]
    },
    {
      "cell_type": "code",
      "metadata": {
        "colab": {
          "base_uri": "https://localhost:8080/"
        },
        "id": "KB4VvLobYuz9",
        "outputId": "bcfb9a00-7d99-4440-f931-c09aebe5b9f5"
      },
      "source": [
        "sentences_list=agg_data['Sentence'].tolist()\n",
        "tags_list=agg_data['tag_list'].tolist()\n",
        "\n",
        "print(\"Number of Sentences in the Data \",len(sentences_list))\n",
        "print(\"Are number of Sentences and Tag list equal \",len(sentences_list)==len(tags_list))"
      ],
      "execution_count": 75,
      "outputs": [
        {
          "output_type": "stream",
          "name": "stdout",
          "text": [
            "Number of Sentences in the Data  100\n",
            "Are number of Sentences and Tag list equal  True\n"
          ]
        }
      ]
    },
    {
      "cell_type": "code",
      "metadata": {
        "colab": {
          "base_uri": "https://localhost:8080/",
          "height": 35
        },
        "id": "ieahoRsYY2S2",
        "outputId": "9290d91d-91f0-4834-ac85-0286cce79baf"
      },
      "source": [
        "sentences_list[0]"
      ],
      "execution_count": 76,
      "outputs": [
        {
          "output_type": "execute_result",
          "data": {
            "application/vnd.google.colaboratory.intrinsic+json": {
              "type": "string"
            },
            "text/plain": [
              "\"Fix a reminder for tomorrow's board meeting at 12 PM\""
            ]
          },
          "metadata": {},
          "execution_count": 76
        }
      ]
    },
    {
      "cell_type": "code",
      "metadata": {
        "colab": {
          "base_uri": "https://localhost:8080/"
        },
        "id": "lZCeslBaY_x1",
        "outputId": "891315f7-2379-4db4-dd03-b4f95da0e14d"
      },
      "source": [
        "tags_list[0]"
      ],
      "execution_count": 77,
      "outputs": [
        {
          "output_type": "execute_result",
          "data": {
            "text/plain": [
              "['O',\n",
              " 'O',\n",
              " 'O',\n",
              " 'O',\n",
              " 'B-reminder.date',\n",
              " 'B-reminder.title',\n",
              " 'I-reminder.title',\n",
              " 'O',\n",
              " 'B-reminder.time',\n",
              " 'I-reminder.time']"
            ]
          },
          "metadata": {},
          "execution_count": 77
        }
      ]
    },
    {
      "cell_type": "code",
      "metadata": {
        "id": "hH5hFHY8ZM4Z"
      },
      "source": [
        "tokeniser= tf.keras.preprocessing.text.Tokenizer(lower=False,filters='')\n",
        "\n",
        "tokeniser.fit_on_texts(sentences_list)"
      ],
      "execution_count": 78,
      "outputs": []
    },
    {
      "cell_type": "code",
      "metadata": {
        "colab": {
          "base_uri": "https://localhost:8080/"
        },
        "id": "RQbkixh6ZelE",
        "outputId": "81af10e2-1186-4f8c-a4e9-28171f6f91e4"
      },
      "source": [
        "print(\"Vocab size of Tokeniser \",len(tokeniser.word_index)+1) ## Adding one since 0 is reserved for padding"
      ],
      "execution_count": 79,
      "outputs": [
        {
          "output_type": "stream",
          "name": "stdout",
          "text": [
            "Vocab size of Tokeniser  262\n"
          ]
        }
      ]
    },
    {
      "cell_type": "code",
      "metadata": {
        "colab": {
          "base_uri": "https://localhost:8080/",
          "height": 35
        },
        "id": "tfI4x8KcZjV5",
        "outputId": "c890e25f-2e3a-4abc-d6de-c9cae1aaf177"
      },
      "source": [
        "tokeniser.index_word[100]"
      ],
      "execution_count": 80,
      "outputs": [
        {
          "output_type": "execute_result",
          "data": {
            "application/vnd.google.colaboratory.intrinsic+json": {
              "type": "string"
            },
            "text/plain": [
              "'text'"
            ]
          },
          "metadata": {},
          "execution_count": 80
        }
      ]
    },
    {
      "cell_type": "code",
      "metadata": {
        "colab": {
          "base_uri": "https://localhost:8080/"
        },
        "id": "wXLZph1ZZmSr",
        "outputId": "3583444c-0833-4d9b-e48b-380235cfc02e"
      },
      "source": [
        "encoded_sentence=tokeniser.texts_to_sequences(sentences_list)\n",
        "print(\"First Original Sentence \",sentences_list[0])\n",
        "print(\"First Encoded Sentence \",encoded_sentence[0])\n",
        "print(\"Is Length of Original Sentence Same as Encoded Sentence \",len(sentences_list[0].split())==len(encoded_sentence[0]))\n",
        "print(\"Length of First Sentence \",len(encoded_sentence[0]))"
      ],
      "execution_count": 81,
      "outputs": [
        {
          "output_type": "stream",
          "name": "stdout",
          "text": [
            "First Original Sentence  Fix a reminder for tomorrow's board meeting at 12 PM\n",
            "First Encoded Sentence  [43, 8, 9, 19, 36, 82, 44, 1, 83, 3]\n",
            "Is Length of Original Sentence Same as Encoded Sentence  True\n",
            "Length of First Sentence  10\n"
          ]
        }
      ]
    },
    {
      "cell_type": "code",
      "metadata": {
        "colab": {
          "base_uri": "https://localhost:8080/"
        },
        "id": "Kt5DhpOFAbPM",
        "outputId": "e96b0fcc-d401-43ef-d804-104c1bbaff52"
      },
      "source": [
        "print(len(list(set(data['Tag'].values))))"
      ],
      "execution_count": 82,
      "outputs": [
        {
          "output_type": "stream",
          "name": "stdout",
          "text": [
            "65\n"
          ]
        }
      ]
    },
    {
      "cell_type": "code",
      "metadata": {
        "colab": {
          "base_uri": "https://localhost:8080/"
        },
        "id": "TRg_SfQqB6Mc",
        "outputId": "63237f94-31b8-4828-b9ca-40d4d79cb3b7"
      },
      "source": [
        "tagset = set()\n",
        "for x in data['Tag']:\n",
        "    for y in x.split():\n",
        "        tagset.add(y)\n",
        "print(len(list(tagset)))"
      ],
      "execution_count": 83,
      "outputs": [
        {
          "output_type": "stream",
          "name": "stdout",
          "text": [
            "7\n"
          ]
        }
      ]
    },
    {
      "cell_type": "code",
      "metadata": {
        "colab": {
          "base_uri": "https://localhost:8080/"
        },
        "id": "Njc4Y1ShZwWf",
        "outputId": "a2722f76-8cac-4951-88a4-9813efd7f705"
      },
      "source": [
        "tags=list(tagset)\n",
        "#print(tags)\n",
        "num_tags=len(tags)\n",
        "print(\"Number of Tags \",num_tags)\n",
        "\n",
        "tags_map={tag:i for i,tag in enumerate(tags)}\n",
        "print(\"Tags Map \",tags_map)"
      ],
      "execution_count": 84,
      "outputs": [
        {
          "output_type": "stream",
          "name": "stdout",
          "text": [
            "Number of Tags  7\n",
            "Tags Map  {'I-reminder.date': 0, 'B-reminder.title': 1, 'I-reminder.title': 2, 'B-reminder.date': 3, 'O': 4, 'I-reminder.time': 5, 'B-reminder.time': 6}\n"
          ]
        }
      ]
    },
    {
      "cell_type": "code",
      "metadata": {
        "id": "5UTslclrZ63u"
      },
      "source": [
        "reverse_tag_map={v: k for k, v in tags_map.items()}"
      ],
      "execution_count": 85,
      "outputs": []
    },
    {
      "cell_type": "code",
      "metadata": {
        "colab": {
          "base_uri": "https://localhost:8080/"
        },
        "id": "ztBNMmgpaKFo",
        "outputId": "fdbd3bd0-9b94-45d8-ace2-51ad36908aca"
      },
      "source": [
        "print(\"Reverse Tags Map \", reverse_tag_map)"
      ],
      "execution_count": 86,
      "outputs": [
        {
          "output_type": "stream",
          "name": "stdout",
          "text": [
            "Reverse Tags Map  {0: 'I-reminder.date', 1: 'B-reminder.title', 2: 'I-reminder.title', 3: 'B-reminder.date', 4: 'O', 5: 'I-reminder.time', 6: 'B-reminder.time'}\n"
          ]
        }
      ]
    },
    {
      "cell_type": "code",
      "metadata": {
        "colab": {
          "base_uri": "https://localhost:8080/"
        },
        "id": "kWUsSn7EaVpT",
        "outputId": "e9b72a8a-e6e0-4dd5-a222-b0751b1c2f3c"
      },
      "source": [
        "encoded_tags=[[tags_map[w] for w in tag] for tag in tags_list]\n",
        "print(\"First Sentence \",sentences_list[0])\n",
        "print('First Sentence Original Tags ',tags_list[0])\n",
        "print(\"First Sentence Encoded Tags \",encoded_tags[0])\n",
        "print(\"Is length of Original Tags and Encoded Tags same \",len(tags_list[0])==len(encoded_tags[0]))\n",
        "print(\"Length of Tags for First Sentence \",len(encoded_tags[0]))"
      ],
      "execution_count": 87,
      "outputs": [
        {
          "output_type": "stream",
          "name": "stdout",
          "text": [
            "First Sentence  Fix a reminder for tomorrow's board meeting at 12 PM\n",
            "First Sentence Original Tags  ['O', 'O', 'O', 'O', 'B-reminder.date', 'B-reminder.title', 'I-reminder.title', 'O', 'B-reminder.time', 'I-reminder.time']\n",
            "First Sentence Encoded Tags  [4, 4, 4, 4, 3, 1, 2, 4, 6, 5]\n",
            "Is length of Original Tags and Encoded Tags same  True\n",
            "Length of Tags for First Sentence  10\n"
          ]
        }
      ]
    },
    {
      "cell_type": "code",
      "metadata": {
        "colab": {
          "base_uri": "https://localhost:8080/"
        },
        "id": "NGuC_7llacew",
        "outputId": "e643f6be-0288-4129-9f1c-07ac65f0a342"
      },
      "source": [
        "max_sentence_length=max([len(s.split()) for s in sentences_list])\n",
        "print(max_sentence_length)"
      ],
      "execution_count": 88,
      "outputs": [
        {
          "output_type": "stream",
          "name": "stdout",
          "text": [
            "18\n"
          ]
        }
      ]
    },
    {
      "cell_type": "code",
      "metadata": {
        "colab": {
          "base_uri": "https://localhost:8080/"
        },
        "id": "OZlL8rQyaray",
        "outputId": "d4830a61-6fe9-429e-9696-6e6dfdaece77"
      },
      "source": [
        "max_len=32\n",
        "from tensorflow.keras.preprocessing.sequence import pad_sequences\n",
        "from tensorflow.keras.utils import to_categorical\n",
        "\n",
        "padded_encoded_sentences=pad_sequences(maxlen=max_len,sequences=encoded_sentence,padding=\"post\",value=0)\n",
        "padded_encoded_tags=pad_sequences(maxlen=max_len,sequences=encoded_tags,padding=\"post\",value=tags_map['O'])\n",
        "\n",
        "print(\"Shape of Encoded Sentence \",padded_encoded_sentences.shape)\n",
        "print(\"Shape of Encoded Labels \",padded_encoded_tags.shape)\n",
        "\n",
        "print(\"First Encoded Sentence Without Padding \",encoded_sentence[0])\n",
        "print(\"First Encoded Sentence with padding \",padded_encoded_sentences[0])\n",
        "print(\"First Sentence Encoded Label without Padding \",encoded_tags[0])\n",
        "print(\"First Sentence Encoded Label with Padding \",padded_encoded_tags[0])"
      ],
      "execution_count": 89,
      "outputs": [
        {
          "output_type": "stream",
          "name": "stdout",
          "text": [
            "Shape of Encoded Sentence  (100, 32)\n",
            "Shape of Encoded Labels  (100, 32)\n",
            "First Encoded Sentence Without Padding  [43, 8, 9, 19, 36, 82, 44, 1, 83, 3]\n",
            "First Encoded Sentence with padding  [43  8  9 19 36 82 44  1 83  3  0  0  0  0  0  0  0  0  0  0  0  0  0  0\n",
            "  0  0  0  0  0  0  0  0]\n",
            "First Sentence Encoded Label without Padding  [4, 4, 4, 4, 3, 1, 2, 4, 6, 5]\n",
            "First Sentence Encoded Label with Padding  [4 4 4 4 3 1 2 4 6 5 4 4 4 4 4 4 4 4 4 4 4 4 4 4 4 4 4 4 4 4 4 4]\n"
          ]
        }
      ]
    },
    {
      "cell_type": "code",
      "metadata": {
        "colab": {
          "base_uri": "https://localhost:8080/"
        },
        "id": "nlOXcjt0a6bo",
        "outputId": "c94420b8-191c-4b58-9649-c73be40ab29a"
      },
      "source": [
        "target= [to_categorical(i,num_classes = num_tags) for i in  padded_encoded_tags]\n",
        "print(\"Shape of Labels  after converting to Categorical for first sentence \",target[0].shape)"
      ],
      "execution_count": 90,
      "outputs": [
        {
          "output_type": "stream",
          "name": "stdout",
          "text": [
            "Shape of Labels  after converting to Categorical for first sentence  (32, 7)\n"
          ]
        }
      ]
    },
    {
      "cell_type": "code",
      "metadata": {
        "colab": {
          "base_uri": "https://localhost:8080/"
        },
        "id": "l0zey3wwbPag",
        "outputId": "b9f6f52e-0655-4f9e-862f-bafaa95ebff6"
      },
      "source": [
        "target[0]"
      ],
      "execution_count": 91,
      "outputs": [
        {
          "output_type": "execute_result",
          "data": {
            "text/plain": [
              "array([[0., 0., 0., 0., 1., 0., 0.],\n",
              "       [0., 0., 0., 0., 1., 0., 0.],\n",
              "       [0., 0., 0., 0., 1., 0., 0.],\n",
              "       [0., 0., 0., 0., 1., 0., 0.],\n",
              "       [0., 0., 0., 1., 0., 0., 0.],\n",
              "       [0., 1., 0., 0., 0., 0., 0.],\n",
              "       [0., 0., 1., 0., 0., 0., 0.],\n",
              "       [0., 0., 0., 0., 1., 0., 0.],\n",
              "       [0., 0., 0., 0., 0., 0., 1.],\n",
              "       [0., 0., 0., 0., 0., 1., 0.],\n",
              "       [0., 0., 0., 0., 1., 0., 0.],\n",
              "       [0., 0., 0., 0., 1., 0., 0.],\n",
              "       [0., 0., 0., 0., 1., 0., 0.],\n",
              "       [0., 0., 0., 0., 1., 0., 0.],\n",
              "       [0., 0., 0., 0., 1., 0., 0.],\n",
              "       [0., 0., 0., 0., 1., 0., 0.],\n",
              "       [0., 0., 0., 0., 1., 0., 0.],\n",
              "       [0., 0., 0., 0., 1., 0., 0.],\n",
              "       [0., 0., 0., 0., 1., 0., 0.],\n",
              "       [0., 0., 0., 0., 1., 0., 0.],\n",
              "       [0., 0., 0., 0., 1., 0., 0.],\n",
              "       [0., 0., 0., 0., 1., 0., 0.],\n",
              "       [0., 0., 0., 0., 1., 0., 0.],\n",
              "       [0., 0., 0., 0., 1., 0., 0.],\n",
              "       [0., 0., 0., 0., 1., 0., 0.],\n",
              "       [0., 0., 0., 0., 1., 0., 0.],\n",
              "       [0., 0., 0., 0., 1., 0., 0.],\n",
              "       [0., 0., 0., 0., 1., 0., 0.],\n",
              "       [0., 0., 0., 0., 1., 0., 0.],\n",
              "       [0., 0., 0., 0., 1., 0., 0.],\n",
              "       [0., 0., 0., 0., 1., 0., 0.],\n",
              "       [0., 0., 0., 0., 1., 0., 0.]], dtype=float32)"
            ]
          },
          "metadata": {},
          "execution_count": 91
        }
      ]
    },
    {
      "cell_type": "code",
      "metadata": {
        "colab": {
          "base_uri": "https://localhost:8080/"
        },
        "id": "c16Dg5l3bURi",
        "outputId": "c4a59a0f-c5e2-464a-bdbd-71ac0ae23765"
      },
      "source": [
        "from sklearn.model_selection import train_test_split\n",
        "X_train_val,X_test,y_train_val,y_test = train_test_split(padded_encoded_sentences,target,test_size = 0.2,random_state=42)\n",
        "X_train,X_val,y_train,y_val = train_test_split(X_train_val,y_train_val,test_size = 0.2,random_state=42)\n",
        "print(\"Input Train Data Shape \",X_train.shape)\n",
        "print(\"Train Labels Length \",len(y_train))\n",
        "print(\"Input Test Data Shape \",X_test.shape)\n",
        "print(\"Test Labels Length \",len(y_test))\n",
        "\n",
        "print(\"Input Validation Data Shape \",X_val.shape)\n",
        "print(\"Validation Labels Length \",len(y_val))"
      ],
      "execution_count": 92,
      "outputs": [
        {
          "output_type": "stream",
          "name": "stdout",
          "text": [
            "Input Train Data Shape  (64, 32)\n",
            "Train Labels Length  64\n",
            "Input Test Data Shape  (20, 32)\n",
            "Test Labels Length  20\n",
            "Input Validation Data Shape  (16, 32)\n",
            "Validation Labels Length  16\n"
          ]
        }
      ]
    },
    {
      "cell_type": "code",
      "metadata": {
        "colab": {
          "base_uri": "https://localhost:8080/"
        },
        "id": "EnWDkTu5bpv9",
        "outputId": "28dd9e41-1427-43be-9576-519fb22cea89"
      },
      "source": [
        "print(\"First Sentence in Training Data \",X_train[0])\n",
        "print(\"First sentence Label \",y_train[0])\n",
        "print(\"Shape of First Sentence -Train\",X_train[0].shape)\n",
        "print(\"Shape of First Sentence Label  -Train\",y_train[0].shape)"
      ],
      "execution_count": 93,
      "outputs": [
        {
          "output_type": "stream",
          "name": "stdout",
          "text": [
            "First Sentence in Training Data  [ 14  15   6   5   2  64  70   7 233  30   1  27   3   0   0   0   0   0\n",
            "   0   0   0   0   0   0   0   0   0   0   0   0   0   0]\n",
            "First sentence Label  [[0. 0. 0. 0. 1. 0. 0.]\n",
            " [0. 0. 0. 0. 1. 0. 0.]\n",
            " [0. 0. 0. 0. 1. 0. 0.]\n",
            " [0. 0. 0. 0. 1. 0. 0.]\n",
            " [0. 0. 0. 0. 1. 0. 0.]\n",
            " [0. 1. 0. 0. 0. 0. 0.]\n",
            " [0. 0. 1. 0. 0. 0. 0.]\n",
            " [0. 0. 1. 0. 0. 0. 0.]\n",
            " [0. 0. 1. 0. 0. 0. 0.]\n",
            " [0. 0. 0. 1. 0. 0. 0.]\n",
            " [0. 0. 0. 0. 1. 0. 0.]\n",
            " [0. 0. 0. 0. 0. 0. 1.]\n",
            " [0. 0. 0. 0. 0. 1. 0.]\n",
            " [0. 0. 0. 0. 1. 0. 0.]\n",
            " [0. 0. 0. 0. 1. 0. 0.]\n",
            " [0. 0. 0. 0. 1. 0. 0.]\n",
            " [0. 0. 0. 0. 1. 0. 0.]\n",
            " [0. 0. 0. 0. 1. 0. 0.]\n",
            " [0. 0. 0. 0. 1. 0. 0.]\n",
            " [0. 0. 0. 0. 1. 0. 0.]\n",
            " [0. 0. 0. 0. 1. 0. 0.]\n",
            " [0. 0. 0. 0. 1. 0. 0.]\n",
            " [0. 0. 0. 0. 1. 0. 0.]\n",
            " [0. 0. 0. 0. 1. 0. 0.]\n",
            " [0. 0. 0. 0. 1. 0. 0.]\n",
            " [0. 0. 0. 0. 1. 0. 0.]\n",
            " [0. 0. 0. 0. 1. 0. 0.]\n",
            " [0. 0. 0. 0. 1. 0. 0.]\n",
            " [0. 0. 0. 0. 1. 0. 0.]\n",
            " [0. 0. 0. 0. 1. 0. 0.]\n",
            " [0. 0. 0. 0. 1. 0. 0.]\n",
            " [0. 0. 0. 0. 1. 0. 0.]]\n",
            "Shape of First Sentence -Train (32,)\n",
            "Shape of First Sentence Label  -Train (32, 7)\n"
          ]
        }
      ]
    },
    {
      "cell_type": "code",
      "metadata": {
        "id": "2BTKpkARbz_u"
      },
      "source": [
        "from tensorflow.keras import Model,Input\n",
        "from tensorflow.keras.layers import LSTM,Embedding,Dense\n",
        "from tensorflow.keras.layers import TimeDistributed, SpatialDropout1D,Bidirectional"
      ],
      "execution_count": 94,
      "outputs": []
    },
    {
      "cell_type": "code",
      "metadata": {
        "colab": {
          "base_uri": "https://localhost:8080/"
        },
        "id": "in0a4HaKcZ4W",
        "outputId": "67b821ab-d879-4db8-ae48-633d23b35296"
      },
      "source": [
        "embedding_dim=64\n",
        "vocab_size=len(tokeniser.word_index)+1\n",
        "lstm_units=64\n",
        "max_len=32\n",
        "\n",
        "input_word = Input(shape = (max_len,))\n",
        "model = Embedding(input_dim = vocab_size+1,output_dim = embedding_dim,input_length = max_len)(input_word)\n",
        "model = Bidirectional(LSTM(units=embedding_dim, return_sequences=True, dropout=0.2, recurrent_dropout=0.2), merge_mode = 'concat')(model)\n",
        "model = LSTM(units=embedding_dim,return_sequences=True)(model)\n",
        "out = TimeDistributed(Dense(num_tags,activation = 'softmax'))(model)\n",
        "model = Model(input_word,out)\n",
        "model.summary()"
      ],
      "execution_count": 95,
      "outputs": [
        {
          "output_type": "stream",
          "name": "stdout",
          "text": [
            "Model: \"model_2\"\n",
            "_________________________________________________________________\n",
            "Layer (type)                 Output Shape              Param #   \n",
            "=================================================================\n",
            "input_3 (InputLayer)         [(None, 32)]              0         \n",
            "_________________________________________________________________\n",
            "embedding_2 (Embedding)      (None, 32, 64)            16832     \n",
            "_________________________________________________________________\n",
            "bidirectional_2 (Bidirection (None, 32, 128)           66048     \n",
            "_________________________________________________________________\n",
            "lstm_5 (LSTM)                (None, 32, 64)            49408     \n",
            "_________________________________________________________________\n",
            "time_distributed_2 (TimeDist (None, 32, 7)             455       \n",
            "=================================================================\n",
            "Total params: 132,743\n",
            "Trainable params: 132,743\n",
            "Non-trainable params: 0\n",
            "_________________________________________________________________\n"
          ]
        }
      ]
    },
    {
      "cell_type": "code",
      "metadata": {
        "id": "Q_LXv4CycfUV"
      },
      "source": [
        "model.compile(optimizer = 'adam',loss = 'categorical_crossentropy',metrics = ['accuracy'])"
      ],
      "execution_count": 96,
      "outputs": []
    },
    {
      "cell_type": "code",
      "metadata": {
        "colab": {
          "base_uri": "https://localhost:8080/"
        },
        "id": "vLObTXB7cspi",
        "outputId": "0c3faeb8-3c58-40cf-cb46-ca6ef8cfa5cd"
      },
      "source": [
        "history = model.fit(X_train,np.array(y_train),validation_data=(X_val,np.array(y_val)),batch_size = 32,epochs = 100)\n",
        "model.save('mymodel.h5')"
      ],
      "execution_count": 97,
      "outputs": [
        {
          "output_type": "stream",
          "name": "stdout",
          "text": [
            "Epoch 1/100\n",
            "2/2 [==============================] - 6s 978ms/step - loss: 1.9120 - accuracy: 0.6069 - val_loss: 1.8441 - val_accuracy: 0.8047\n",
            "Epoch 2/100\n",
            "2/2 [==============================] - 0s 149ms/step - loss: 1.8147 - accuracy: 0.8174 - val_loss: 1.7234 - val_accuracy: 0.8047\n",
            "Epoch 3/100\n",
            "2/2 [==============================] - 0s 134ms/step - loss: 1.6751 - accuracy: 0.8174 - val_loss: 1.5334 - val_accuracy: 0.8047\n",
            "Epoch 4/100\n",
            "2/2 [==============================] - 0s 137ms/step - loss: 1.4539 - accuracy: 0.8174 - val_loss: 1.2339 - val_accuracy: 0.8047\n",
            "Epoch 5/100\n",
            "2/2 [==============================] - 0s 134ms/step - loss: 1.1222 - accuracy: 0.8174 - val_loss: 0.9052 - val_accuracy: 0.8047\n",
            "Epoch 6/100\n",
            "2/2 [==============================] - 0s 127ms/step - loss: 0.8377 - accuracy: 0.8174 - val_loss: 0.8522 - val_accuracy: 0.8047\n",
            "Epoch 7/100\n",
            "2/2 [==============================] - 0s 135ms/step - loss: 0.8265 - accuracy: 0.8174 - val_loss: 0.9299 - val_accuracy: 0.8047\n",
            "Epoch 8/100\n",
            "2/2 [==============================] - 0s 131ms/step - loss: 0.8724 - accuracy: 0.8174 - val_loss: 0.9187 - val_accuracy: 0.8047\n",
            "Epoch 9/100\n",
            "2/2 [==============================] - 0s 125ms/step - loss: 0.8482 - accuracy: 0.8174 - val_loss: 0.8581 - val_accuracy: 0.8047\n",
            "Epoch 10/100\n",
            "2/2 [==============================] - 0s 128ms/step - loss: 0.7922 - accuracy: 0.8174 - val_loss: 0.7926 - val_accuracy: 0.8047\n",
            "Epoch 11/100\n",
            "2/2 [==============================] - 0s 123ms/step - loss: 0.7376 - accuracy: 0.8174 - val_loss: 0.7495 - val_accuracy: 0.8047\n",
            "Epoch 12/100\n",
            "2/2 [==============================] - 0s 129ms/step - loss: 0.7074 - accuracy: 0.8174 - val_loss: 0.7318 - val_accuracy: 0.8047\n",
            "Epoch 13/100\n",
            "2/2 [==============================] - 0s 126ms/step - loss: 0.6984 - accuracy: 0.8174 - val_loss: 0.7283 - val_accuracy: 0.8047\n",
            "Epoch 14/100\n",
            "2/2 [==============================] - 0s 140ms/step - loss: 0.6996 - accuracy: 0.8174 - val_loss: 0.7254 - val_accuracy: 0.8047\n",
            "Epoch 15/100\n",
            "2/2 [==============================] - 0s 133ms/step - loss: 0.6971 - accuracy: 0.8174 - val_loss: 0.7172 - val_accuracy: 0.8047\n",
            "Epoch 16/100\n",
            "2/2 [==============================] - 0s 131ms/step - loss: 0.6879 - accuracy: 0.8174 - val_loss: 0.7067 - val_accuracy: 0.8047\n",
            "Epoch 17/100\n",
            "2/2 [==============================] - 0s 128ms/step - loss: 0.6753 - accuracy: 0.8174 - val_loss: 0.7003 - val_accuracy: 0.8047\n",
            "Epoch 18/100\n",
            "2/2 [==============================] - 0s 126ms/step - loss: 0.6685 - accuracy: 0.8174 - val_loss: 0.7007 - val_accuracy: 0.8047\n",
            "Epoch 19/100\n",
            "2/2 [==============================] - 0s 133ms/step - loss: 0.6655 - accuracy: 0.8174 - val_loss: 0.7015 - val_accuracy: 0.8047\n",
            "Epoch 20/100\n",
            "2/2 [==============================] - 0s 130ms/step - loss: 0.6634 - accuracy: 0.8174 - val_loss: 0.6958 - val_accuracy: 0.8047\n",
            "Epoch 21/100\n",
            "2/2 [==============================] - 0s 128ms/step - loss: 0.6549 - accuracy: 0.8174 - val_loss: 0.6859 - val_accuracy: 0.8047\n",
            "Epoch 22/100\n",
            "2/2 [==============================] - 0s 131ms/step - loss: 0.6478 - accuracy: 0.8174 - val_loss: 0.6770 - val_accuracy: 0.8047\n",
            "Epoch 23/100\n",
            "2/2 [==============================] - 0s 142ms/step - loss: 0.6420 - accuracy: 0.8174 - val_loss: 0.6711 - val_accuracy: 0.8047\n",
            "Epoch 24/100\n",
            "2/2 [==============================] - 0s 128ms/step - loss: 0.6385 - accuracy: 0.8174 - val_loss: 0.6663 - val_accuracy: 0.8047\n",
            "Epoch 25/100\n",
            "2/2 [==============================] - 0s 141ms/step - loss: 0.6328 - accuracy: 0.8174 - val_loss: 0.6612 - val_accuracy: 0.8047\n",
            "Epoch 26/100\n",
            "2/2 [==============================] - 0s 144ms/step - loss: 0.6256 - accuracy: 0.8174 - val_loss: 0.6576 - val_accuracy: 0.8047\n",
            "Epoch 27/100\n",
            "2/2 [==============================] - 0s 134ms/step - loss: 0.6179 - accuracy: 0.8184 - val_loss: 0.6558 - val_accuracy: 0.8047\n",
            "Epoch 28/100\n",
            "2/2 [==============================] - 0s 127ms/step - loss: 0.6117 - accuracy: 0.8188 - val_loss: 0.6522 - val_accuracy: 0.8047\n",
            "Epoch 29/100\n",
            "2/2 [==============================] - 0s 126ms/step - loss: 0.6045 - accuracy: 0.8184 - val_loss: 0.6444 - val_accuracy: 0.8086\n",
            "Epoch 30/100\n",
            "2/2 [==============================] - 0s 123ms/step - loss: 0.5964 - accuracy: 0.8223 - val_loss: 0.6358 - val_accuracy: 0.8105\n",
            "Epoch 31/100\n",
            "2/2 [==============================] - 0s 128ms/step - loss: 0.5882 - accuracy: 0.8384 - val_loss: 0.6293 - val_accuracy: 0.8281\n",
            "Epoch 32/100\n",
            "2/2 [==============================] - 0s 141ms/step - loss: 0.5782 - accuracy: 0.8481 - val_loss: 0.6291 - val_accuracy: 0.8320\n",
            "Epoch 33/100\n",
            "2/2 [==============================] - 0s 125ms/step - loss: 0.5674 - accuracy: 0.8535 - val_loss: 0.6332 - val_accuracy: 0.8320\n",
            "Epoch 34/100\n",
            "2/2 [==============================] - 0s 128ms/step - loss: 0.5598 - accuracy: 0.8506 - val_loss: 0.6247 - val_accuracy: 0.8359\n",
            "Epoch 35/100\n",
            "2/2 [==============================] - 0s 126ms/step - loss: 0.5471 - accuracy: 0.8428 - val_loss: 0.6095 - val_accuracy: 0.8379\n",
            "Epoch 36/100\n",
            "2/2 [==============================] - 0s 130ms/step - loss: 0.5340 - accuracy: 0.8550 - val_loss: 0.6056 - val_accuracy: 0.8457\n",
            "Epoch 37/100\n",
            "2/2 [==============================] - 0s 129ms/step - loss: 0.5208 - accuracy: 0.8667 - val_loss: 0.5967 - val_accuracy: 0.8359\n",
            "Epoch 38/100\n",
            "2/2 [==============================] - 0s 130ms/step - loss: 0.5064 - accuracy: 0.8574 - val_loss: 0.5850 - val_accuracy: 0.8281\n",
            "Epoch 39/100\n",
            "2/2 [==============================] - 0s 134ms/step - loss: 0.4922 - accuracy: 0.8511 - val_loss: 0.5728 - val_accuracy: 0.8320\n",
            "Epoch 40/100\n",
            "2/2 [==============================] - 0s 134ms/step - loss: 0.4775 - accuracy: 0.8535 - val_loss: 0.5670 - val_accuracy: 0.8359\n",
            "Epoch 41/100\n",
            "2/2 [==============================] - 0s 139ms/step - loss: 0.4616 - accuracy: 0.8579 - val_loss: 0.5519 - val_accuracy: 0.8418\n",
            "Epoch 42/100\n",
            "2/2 [==============================] - 0s 132ms/step - loss: 0.4460 - accuracy: 0.8584 - val_loss: 0.5414 - val_accuracy: 0.8398\n",
            "Epoch 43/100\n",
            "2/2 [==============================] - 0s 126ms/step - loss: 0.4293 - accuracy: 0.8599 - val_loss: 0.5201 - val_accuracy: 0.8477\n",
            "Epoch 44/100\n",
            "2/2 [==============================] - 0s 130ms/step - loss: 0.4180 - accuracy: 0.8599 - val_loss: 0.5167 - val_accuracy: 0.8398\n",
            "Epoch 45/100\n",
            "2/2 [==============================] - 0s 131ms/step - loss: 0.4047 - accuracy: 0.8521 - val_loss: 0.4926 - val_accuracy: 0.8535\n",
            "Epoch 46/100\n",
            "2/2 [==============================] - 0s 129ms/step - loss: 0.3920 - accuracy: 0.8667 - val_loss: 0.4840 - val_accuracy: 0.8613\n",
            "Epoch 47/100\n",
            "2/2 [==============================] - 0s 128ms/step - loss: 0.3786 - accuracy: 0.8657 - val_loss: 0.4889 - val_accuracy: 0.8574\n",
            "Epoch 48/100\n",
            "2/2 [==============================] - 0s 128ms/step - loss: 0.3690 - accuracy: 0.8667 - val_loss: 0.4567 - val_accuracy: 0.8574\n",
            "Epoch 49/100\n",
            "2/2 [==============================] - 0s 126ms/step - loss: 0.3618 - accuracy: 0.8735 - val_loss: 0.4901 - val_accuracy: 0.8516\n",
            "Epoch 50/100\n",
            "2/2 [==============================] - 0s 147ms/step - loss: 0.3541 - accuracy: 0.8647 - val_loss: 0.4418 - val_accuracy: 0.8574\n",
            "Epoch 51/100\n",
            "2/2 [==============================] - 0s 136ms/step - loss: 0.3481 - accuracy: 0.8760 - val_loss: 0.4429 - val_accuracy: 0.8652\n",
            "Epoch 52/100\n",
            "2/2 [==============================] - 0s 135ms/step - loss: 0.3337 - accuracy: 0.8735 - val_loss: 0.4649 - val_accuracy: 0.8555\n",
            "Epoch 53/100\n",
            "2/2 [==============================] - 0s 134ms/step - loss: 0.3329 - accuracy: 0.8730 - val_loss: 0.4186 - val_accuracy: 0.8672\n",
            "Epoch 54/100\n",
            "2/2 [==============================] - 0s 137ms/step - loss: 0.3278 - accuracy: 0.8726 - val_loss: 0.4404 - val_accuracy: 0.8633\n",
            "Epoch 55/100\n",
            "2/2 [==============================] - 0s 131ms/step - loss: 0.3187 - accuracy: 0.8740 - val_loss: 0.4201 - val_accuracy: 0.8672\n",
            "Epoch 56/100\n",
            "2/2 [==============================] - 0s 124ms/step - loss: 0.3087 - accuracy: 0.8789 - val_loss: 0.4006 - val_accuracy: 0.8652\n",
            "Epoch 57/100\n",
            "2/2 [==============================] - 0s 130ms/step - loss: 0.3071 - accuracy: 0.8887 - val_loss: 0.4247 - val_accuracy: 0.8652\n",
            "Epoch 58/100\n",
            "2/2 [==============================] - 0s 127ms/step - loss: 0.3010 - accuracy: 0.8760 - val_loss: 0.4020 - val_accuracy: 0.8672\n",
            "Epoch 59/100\n",
            "2/2 [==============================] - 0s 150ms/step - loss: 0.2925 - accuracy: 0.8862 - val_loss: 0.4071 - val_accuracy: 0.8652\n",
            "Epoch 60/100\n",
            "2/2 [==============================] - 0s 133ms/step - loss: 0.2866 - accuracy: 0.8892 - val_loss: 0.4170 - val_accuracy: 0.8652\n",
            "Epoch 61/100\n",
            "2/2 [==============================] - 0s 138ms/step - loss: 0.2805 - accuracy: 0.8906 - val_loss: 0.3977 - val_accuracy: 0.8711\n",
            "Epoch 62/100\n",
            "2/2 [==============================] - 0s 129ms/step - loss: 0.2792 - accuracy: 0.8984 - val_loss: 0.3945 - val_accuracy: 0.8750\n",
            "Epoch 63/100\n",
            "2/2 [==============================] - 0s 135ms/step - loss: 0.2722 - accuracy: 0.9058 - val_loss: 0.4031 - val_accuracy: 0.8711\n",
            "Epoch 64/100\n",
            "2/2 [==============================] - 0s 131ms/step - loss: 0.2674 - accuracy: 0.9072 - val_loss: 0.3882 - val_accuracy: 0.8770\n",
            "Epoch 65/100\n",
            "2/2 [==============================] - 0s 128ms/step - loss: 0.2622 - accuracy: 0.9126 - val_loss: 0.3870 - val_accuracy: 0.8770\n",
            "Epoch 66/100\n",
            "2/2 [==============================] - 0s 131ms/step - loss: 0.2589 - accuracy: 0.9092 - val_loss: 0.3719 - val_accuracy: 0.8809\n",
            "Epoch 67/100\n",
            "2/2 [==============================] - 0s 127ms/step - loss: 0.2524 - accuracy: 0.9224 - val_loss: 0.3849 - val_accuracy: 0.8867\n",
            "Epoch 68/100\n",
            "2/2 [==============================] - 0s 137ms/step - loss: 0.2460 - accuracy: 0.9194 - val_loss: 0.3786 - val_accuracy: 0.8848\n",
            "Epoch 69/100\n",
            "2/2 [==============================] - 0s 138ms/step - loss: 0.2423 - accuracy: 0.9272 - val_loss: 0.3761 - val_accuracy: 0.8945\n",
            "Epoch 70/100\n",
            "2/2 [==============================] - 0s 132ms/step - loss: 0.2390 - accuracy: 0.9248 - val_loss: 0.3724 - val_accuracy: 0.8906\n",
            "Epoch 71/100\n",
            "2/2 [==============================] - 0s 127ms/step - loss: 0.2327 - accuracy: 0.9341 - val_loss: 0.3668 - val_accuracy: 0.8945\n",
            "Epoch 72/100\n",
            "2/2 [==============================] - 0s 150ms/step - loss: 0.2292 - accuracy: 0.9355 - val_loss: 0.3610 - val_accuracy: 0.8945\n",
            "Epoch 73/100\n",
            "2/2 [==============================] - 0s 128ms/step - loss: 0.2229 - accuracy: 0.9443 - val_loss: 0.3581 - val_accuracy: 0.9062\n",
            "Epoch 74/100\n",
            "2/2 [==============================] - 0s 128ms/step - loss: 0.2193 - accuracy: 0.9438 - val_loss: 0.3467 - val_accuracy: 0.8984\n",
            "Epoch 75/100\n",
            "2/2 [==============================] - 0s 128ms/step - loss: 0.2189 - accuracy: 0.9429 - val_loss: 0.3527 - val_accuracy: 0.9082\n",
            "Epoch 76/100\n",
            "2/2 [==============================] - 0s 149ms/step - loss: 0.2129 - accuracy: 0.9409 - val_loss: 0.3403 - val_accuracy: 0.9062\n",
            "Epoch 77/100\n",
            "2/2 [==============================] - 0s 127ms/step - loss: 0.2094 - accuracy: 0.9478 - val_loss: 0.3482 - val_accuracy: 0.9043\n",
            "Epoch 78/100\n",
            "2/2 [==============================] - 0s 125ms/step - loss: 0.2029 - accuracy: 0.9546 - val_loss: 0.3394 - val_accuracy: 0.9082\n",
            "Epoch 79/100\n",
            "2/2 [==============================] - 0s 128ms/step - loss: 0.2004 - accuracy: 0.9526 - val_loss: 0.3393 - val_accuracy: 0.9102\n",
            "Epoch 80/100\n",
            "2/2 [==============================] - 0s 131ms/step - loss: 0.1928 - accuracy: 0.9600 - val_loss: 0.3402 - val_accuracy: 0.9102\n",
            "Epoch 81/100\n",
            "2/2 [==============================] - 0s 137ms/step - loss: 0.1908 - accuracy: 0.9590 - val_loss: 0.3378 - val_accuracy: 0.9141\n",
            "Epoch 82/100\n",
            "2/2 [==============================] - 0s 130ms/step - loss: 0.1857 - accuracy: 0.9595 - val_loss: 0.3213 - val_accuracy: 0.9121\n",
            "Epoch 83/100\n",
            "2/2 [==============================] - 0s 141ms/step - loss: 0.1828 - accuracy: 0.9624 - val_loss: 0.3242 - val_accuracy: 0.9180\n",
            "Epoch 84/100\n",
            "2/2 [==============================] - 0s 135ms/step - loss: 0.1779 - accuracy: 0.9629 - val_loss: 0.3252 - val_accuracy: 0.9199\n",
            "Epoch 85/100\n",
            "2/2 [==============================] - 0s 137ms/step - loss: 0.1744 - accuracy: 0.9634 - val_loss: 0.3100 - val_accuracy: 0.9238\n",
            "Epoch 86/100\n",
            "2/2 [==============================] - 0s 123ms/step - loss: 0.1718 - accuracy: 0.9653 - val_loss: 0.3310 - val_accuracy: 0.9219\n",
            "Epoch 87/100\n",
            "2/2 [==============================] - 0s 135ms/step - loss: 0.1665 - accuracy: 0.9634 - val_loss: 0.2977 - val_accuracy: 0.9219\n",
            "Epoch 88/100\n",
            "2/2 [==============================] - 0s 123ms/step - loss: 0.1628 - accuracy: 0.9707 - val_loss: 0.3167 - val_accuracy: 0.9238\n",
            "Epoch 89/100\n",
            "2/2 [==============================] - 0s 140ms/step - loss: 0.1594 - accuracy: 0.9634 - val_loss: 0.3108 - val_accuracy: 0.9297\n",
            "Epoch 90/100\n",
            "2/2 [==============================] - 0s 130ms/step - loss: 0.1562 - accuracy: 0.9673 - val_loss: 0.2795 - val_accuracy: 0.9121\n",
            "Epoch 91/100\n",
            "2/2 [==============================] - 0s 128ms/step - loss: 0.1552 - accuracy: 0.9712 - val_loss: 0.2968 - val_accuracy: 0.9297\n",
            "Epoch 92/100\n",
            "2/2 [==============================] - 0s 130ms/step - loss: 0.1512 - accuracy: 0.9712 - val_loss: 0.2906 - val_accuracy: 0.9355\n",
            "Epoch 93/100\n",
            "2/2 [==============================] - 0s 137ms/step - loss: 0.1455 - accuracy: 0.9736 - val_loss: 0.2771 - val_accuracy: 0.9336\n",
            "Epoch 94/100\n",
            "2/2 [==============================] - 0s 134ms/step - loss: 0.1445 - accuracy: 0.9712 - val_loss: 0.2757 - val_accuracy: 0.9297\n",
            "Epoch 95/100\n",
            "2/2 [==============================] - 0s 131ms/step - loss: 0.1434 - accuracy: 0.9722 - val_loss: 0.2754 - val_accuracy: 0.9355\n",
            "Epoch 96/100\n",
            "2/2 [==============================] - 0s 125ms/step - loss: 0.1360 - accuracy: 0.9722 - val_loss: 0.2821 - val_accuracy: 0.9434\n",
            "Epoch 97/100\n",
            "2/2 [==============================] - 0s 127ms/step - loss: 0.1339 - accuracy: 0.9727 - val_loss: 0.2753 - val_accuracy: 0.9395\n",
            "Epoch 98/100\n",
            "2/2 [==============================] - 0s 130ms/step - loss: 0.1294 - accuracy: 0.9756 - val_loss: 0.2540 - val_accuracy: 0.9395\n",
            "Epoch 99/100\n",
            "2/2 [==============================] - 0s 124ms/step - loss: 0.1292 - accuracy: 0.9761 - val_loss: 0.2584 - val_accuracy: 0.9414\n",
            "Epoch 100/100\n",
            "2/2 [==============================] - 0s 137ms/step - loss: 0.1240 - accuracy: 0.9746 - val_loss: 0.2671 - val_accuracy: 0.9473\n"
          ]
        }
      ]
    },
    {
      "cell_type": "code",
      "metadata": {
        "id": "i1m6-_tkG54Y",
        "outputId": "ed353339-57b7-4e9f-e482-7d85a1c3e051",
        "colab": {
          "base_uri": "https://localhost:8080/"
        }
      },
      "source": [
        "!ls -al /content/"
      ],
      "execution_count": 98,
      "outputs": [
        {
          "output_type": "stream",
          "name": "stdout",
          "text": [
            "total 1660\n",
            "drwxr-xr-x 1 root root    4096 Sep  8 16:14 .\n",
            "drwxr-xr-x 1 root root    4096 Sep  8 15:55 ..\n",
            "drwxr-xr-x 4 root root    4096 Sep  1 19:26 .config\n",
            "drwxr-xr-x 2 root root    4096 Sep  8 16:09 .ipynb_checkpoints\n",
            "-rw-r--r-- 1 root root 1655704 Sep  8 16:14 mymodel.h5\n",
            "-rw-r--r-- 1 root root   16543 Sep  8 16:09 Reminder_updated_upd.txt\n",
            "drwxr-xr-x 1 root root    4096 Sep  1 19:26 sample_data\n"
          ]
        }
      ]
    },
    {
      "cell_type": "code",
      "metadata": {
        "id": "qBqvKKticxPn"
      },
      "source": [
        "preds=model.predict(X_test) ## Predict using model on Test Data"
      ],
      "execution_count": 99,
      "outputs": []
    },
    {
      "cell_type": "code",
      "metadata": {
        "id": "aoBKIeLHdaNF"
      },
      "source": [
        "def evaluatePredictions(test_data,preds,actual_preds):\n",
        "    print(\"Shape of Test Data Array\",test_data.shape)\n",
        "    y_actual=np.argmax(np.array(actual_preds),axis=2)\n",
        "    y_pred=np.argmax(preds,axis=2)\n",
        "    num_test_data=test_data.shape[0]\n",
        "    print(\"Number of Test Data Points \",num_test_data)\n",
        "    data=pd.DataFrame()\n",
        "    df_list=[]\n",
        "    for i in range(num_test_data):\n",
        "        test_str=list(test_data[i])\n",
        "        df=pd.DataFrame()\n",
        "        df['test_input']=test_data[i]\n",
        "        df['test_tokens']=test_str\n",
        "        df['tokens']=df['test_tokens'].apply(lambda x:tokeniser.index_word[x] if x!=0 else '<PAD>')\n",
        "        df['actual_target_index']=list(y_actual[i])\n",
        "        df['pred_target_index']=list(y_pred[i])\n",
        "        df['actual_target_tag']=df['actual_target_index'].apply(lambda x:reverse_tag_map[x])\n",
        "        df['pred_target_tag']=df['pred_target_index'].apply(lambda x:reverse_tag_map[x])\n",
        "        df['id']=i+1\n",
        "        df_list.append(df)\n",
        "    data=pd.concat(df_list)\n",
        "    pred_data=data[data['tokens']!='<PAD>']\n",
        "    accuracy=pred_data[pred_data['actual_target_tag']==pred_data['pred_target_tag']].shape[0]/pred_data.shape[0]\n",
        "    \n",
        "    return pred_data,accuracy"
      ],
      "execution_count": 100,
      "outputs": []
    },
    {
      "cell_type": "code",
      "metadata": {
        "colab": {
          "base_uri": "https://localhost:8080/"
        },
        "id": "5gcj6vi7dmyl",
        "outputId": "8a03ccb7-3311-495a-c630-493defa36bb3"
      },
      "source": [
        "pred_data,accuracy=evaluatePredictions(X_test,preds,y_test)"
      ],
      "execution_count": 101,
      "outputs": [
        {
          "output_type": "stream",
          "name": "stdout",
          "text": [
            "Shape of Test Data Array (20, 32)\n",
            "Number of Test Data Points  20\n"
          ]
        }
      ]
    },
    {
      "cell_type": "code",
      "metadata": {
        "id": "w4oYDFFUdsXo"
      },
      "source": [
        "y_pred=pred_data['pred_target_tag'].tolist()\n",
        "y_actual=pred_data['actual_target_tag'].tolist()"
      ],
      "execution_count": 102,
      "outputs": []
    },
    {
      "cell_type": "code",
      "metadata": {
        "colab": {
          "base_uri": "https://localhost:8080/"
        },
        "id": "iT5gNooQd5bZ",
        "outputId": "12d81d18-fae1-469f-e57b-b532e90cdd0f"
      },
      "source": [
        "print(classification_report(y_actual,y_pred))"
      ],
      "execution_count": 103,
      "outputs": [
        {
          "output_type": "stream",
          "name": "stdout",
          "text": [
            "                  precision    recall  f1-score   support\n",
            "\n",
            " B-reminder.date       0.00      0.00      0.00         6\n",
            " B-reminder.time       0.61      0.70      0.65        20\n",
            "B-reminder.title       0.90      0.95      0.93        20\n",
            " I-reminder.date       0.00      0.00      0.00         1\n",
            " I-reminder.time       0.64      0.47      0.55        19\n",
            "I-reminder.title       0.96      0.89      0.92        54\n",
            "               O       0.86      0.96      0.91       104\n",
            "\n",
            "        accuracy                           0.85       224\n",
            "       macro avg       0.57      0.57      0.57       224\n",
            "    weighted avg       0.82      0.85      0.83       224\n",
            "\n"
          ]
        },
        {
          "output_type": "stream",
          "name": "stderr",
          "text": [
            "/usr/local/lib/python3.7/dist-packages/sklearn/metrics/_classification.py:1272: UndefinedMetricWarning: Precision and F-score are ill-defined and being set to 0.0 in labels with no predicted samples. Use `zero_division` parameter to control this behavior.\n",
            "  _warn_prf(average, modifier, msg_start, len(result))\n"
          ]
        }
      ]
    },
    {
      "cell_type": "code",
      "metadata": {
        "colab": {
          "base_uri": "https://localhost:8080/",
          "height": 48
        },
        "id": "H_YqG9z2d9bF",
        "outputId": "63afa5eb-8a35-4691-9fb0-18c2be539a88"
      },
      "source": [
        "pred_data[pred_data['actual_target_tag']==\"B-reminder.text\"]"
      ],
      "execution_count": 104,
      "outputs": [
        {
          "output_type": "execute_result",
          "data": {
            "text/html": [
              "<div>\n",
              "<style scoped>\n",
              "    .dataframe tbody tr th:only-of-type {\n",
              "        vertical-align: middle;\n",
              "    }\n",
              "\n",
              "    .dataframe tbody tr th {\n",
              "        vertical-align: top;\n",
              "    }\n",
              "\n",
              "    .dataframe thead th {\n",
              "        text-align: right;\n",
              "    }\n",
              "</style>\n",
              "<table border=\"1\" class=\"dataframe\">\n",
              "  <thead>\n",
              "    <tr style=\"text-align: right;\">\n",
              "      <th></th>\n",
              "      <th>test_input</th>\n",
              "      <th>test_tokens</th>\n",
              "      <th>tokens</th>\n",
              "      <th>actual_target_index</th>\n",
              "      <th>pred_target_index</th>\n",
              "      <th>actual_target_tag</th>\n",
              "      <th>pred_target_tag</th>\n",
              "      <th>id</th>\n",
              "    </tr>\n",
              "  </thead>\n",
              "  <tbody>\n",
              "  </tbody>\n",
              "</table>\n",
              "</div>"
            ],
            "text/plain": [
              "Empty DataFrame\n",
              "Columns: [test_input, test_tokens, tokens, actual_target_index, pred_target_index, actual_target_tag, pred_target_tag, id]\n",
              "Index: []"
            ]
          },
          "metadata": {},
          "execution_count": 104
        }
      ]
    },
    {
      "cell_type": "code",
      "metadata": {
        "colab": {
          "base_uri": "https://localhost:8080/",
          "height": 232
        },
        "id": "oHlc16CVeOUE",
        "outputId": "1024d9b3-5c39-4b38-dc28-8c8cc59c0729"
      },
      "source": [
        "pred_data[pred_data['actual_target_tag']==\"B-reminder.date\"]"
      ],
      "execution_count": 105,
      "outputs": [
        {
          "output_type": "execute_result",
          "data": {
            "text/html": [
              "<div>\n",
              "<style scoped>\n",
              "    .dataframe tbody tr th:only-of-type {\n",
              "        vertical-align: middle;\n",
              "    }\n",
              "\n",
              "    .dataframe tbody tr th {\n",
              "        vertical-align: top;\n",
              "    }\n",
              "\n",
              "    .dataframe thead th {\n",
              "        text-align: right;\n",
              "    }\n",
              "</style>\n",
              "<table border=\"1\" class=\"dataframe\">\n",
              "  <thead>\n",
              "    <tr style=\"text-align: right;\">\n",
              "      <th></th>\n",
              "      <th>test_input</th>\n",
              "      <th>test_tokens</th>\n",
              "      <th>tokens</th>\n",
              "      <th>actual_target_index</th>\n",
              "      <th>pred_target_index</th>\n",
              "      <th>actual_target_tag</th>\n",
              "      <th>pred_target_tag</th>\n",
              "      <th>id</th>\n",
              "    </tr>\n",
              "  </thead>\n",
              "  <tbody>\n",
              "    <tr>\n",
              "      <th>9</th>\n",
              "      <td>10</td>\n",
              "      <td>10</td>\n",
              "      <td>tomorrow</td>\n",
              "      <td>3</td>\n",
              "      <td>5</td>\n",
              "      <td>B-reminder.date</td>\n",
              "      <td>I-reminder.time</td>\n",
              "      <td>1</td>\n",
              "    </tr>\n",
              "    <tr>\n",
              "      <th>11</th>\n",
              "      <td>10</td>\n",
              "      <td>10</td>\n",
              "      <td>tomorrow</td>\n",
              "      <td>3</td>\n",
              "      <td>4</td>\n",
              "      <td>B-reminder.date</td>\n",
              "      <td>O</td>\n",
              "      <td>6</td>\n",
              "    </tr>\n",
              "    <tr>\n",
              "      <th>13</th>\n",
              "      <td>10</td>\n",
              "      <td>10</td>\n",
              "      <td>tomorrow</td>\n",
              "      <td>3</td>\n",
              "      <td>4</td>\n",
              "      <td>B-reminder.date</td>\n",
              "      <td>O</td>\n",
              "      <td>7</td>\n",
              "    </tr>\n",
              "    <tr>\n",
              "      <th>4</th>\n",
              "      <td>36</td>\n",
              "      <td>36</td>\n",
              "      <td>tomorrow's</td>\n",
              "      <td>3</td>\n",
              "      <td>1</td>\n",
              "      <td>B-reminder.date</td>\n",
              "      <td>B-reminder.title</td>\n",
              "      <td>10</td>\n",
              "    </tr>\n",
              "    <tr>\n",
              "      <th>11</th>\n",
              "      <td>30</td>\n",
              "      <td>30</td>\n",
              "      <td>everyday</td>\n",
              "      <td>3</td>\n",
              "      <td>4</td>\n",
              "      <td>B-reminder.date</td>\n",
              "      <td>O</td>\n",
              "      <td>13</td>\n",
              "    </tr>\n",
              "    <tr>\n",
              "      <th>9</th>\n",
              "      <td>10</td>\n",
              "      <td>10</td>\n",
              "      <td>tomorrow</td>\n",
              "      <td>3</td>\n",
              "      <td>5</td>\n",
              "      <td>B-reminder.date</td>\n",
              "      <td>I-reminder.time</td>\n",
              "      <td>15</td>\n",
              "    </tr>\n",
              "  </tbody>\n",
              "</table>\n",
              "</div>"
            ],
            "text/plain": [
              "    test_input  test_tokens      tokens  ...  actual_target_tag   pred_target_tag  id\n",
              "9           10           10    tomorrow  ...    B-reminder.date   I-reminder.time   1\n",
              "11          10           10    tomorrow  ...    B-reminder.date                 O   6\n",
              "13          10           10    tomorrow  ...    B-reminder.date                 O   7\n",
              "4           36           36  tomorrow's  ...    B-reminder.date  B-reminder.title  10\n",
              "11          30           30    everyday  ...    B-reminder.date                 O  13\n",
              "9           10           10    tomorrow  ...    B-reminder.date   I-reminder.time  15\n",
              "\n",
              "[6 rows x 8 columns]"
            ]
          },
          "metadata": {},
          "execution_count": 105
        }
      ]
    },
    {
      "cell_type": "code",
      "metadata": {
        "colab": {
          "base_uri": "https://localhost:8080/",
          "height": 35
        },
        "id": "MNYcEw7Qhp7k",
        "outputId": "5eb20bdb-0a71-4cd8-d982-ff5459f9bdbd"
      },
      "source": [
        "y_pred[0]"
      ],
      "execution_count": 106,
      "outputs": [
        {
          "output_type": "execute_result",
          "data": {
            "application/vnd.google.colaboratory.intrinsic+json": {
              "type": "string"
            },
            "text/plain": [
              "'O'"
            ]
          },
          "metadata": {},
          "execution_count": 106
        }
      ]
    },
    {
      "cell_type": "code",
      "metadata": {
        "colab": {
          "base_uri": "https://localhost:8080/",
          "height": 35
        },
        "id": "h5cGbPWFhzSR",
        "outputId": "59cb2f8f-2a3c-4b21-c532-c907ffd410fb"
      },
      "source": [
        "y_actual[0]"
      ],
      "execution_count": 107,
      "outputs": [
        {
          "output_type": "execute_result",
          "data": {
            "application/vnd.google.colaboratory.intrinsic+json": {
              "type": "string"
            },
            "text/plain": [
              "'O'"
            ]
          },
          "metadata": {},
          "execution_count": 107
        }
      ]
    },
    {
      "cell_type": "code",
      "metadata": {
        "colab": {
          "base_uri": "https://localhost:8080/"
        },
        "id": "SaFmiUJsh1aR",
        "outputId": "1b5aa9e3-d409-47e6-dfcb-d9cb493b3d50"
      },
      "source": [
        "pred_data['tokens'][1]"
      ],
      "execution_count": 108,
      "outputs": [
        {
          "output_type": "execute_result",
          "data": {
            "text/plain": [
              "1        me\n",
              "1    should\n",
              "1    should\n",
              "1        me\n",
              "1         a\n",
              "1    should\n",
              "1        me\n",
              "1        me\n",
              "1        me\n",
              "1         a\n",
              "1        me\n",
              "1        me\n",
              "1        me\n",
              "1        me\n",
              "1        me\n",
              "1         a\n",
              "1        me\n",
              "1        me\n",
              "1        me\n",
              "1    should\n",
              "Name: tokens, dtype: object"
            ]
          },
          "metadata": {},
          "execution_count": 108
        }
      ]
    },
    {
      "cell_type": "code",
      "metadata": {
        "colab": {
          "base_uri": "https://localhost:8080/"
        },
        "id": "hmedkNENiRmG",
        "outputId": "cfbef33a-0f62-45fd-d3de-a6008c255327"
      },
      "source": [
        "X_test[0]"
      ],
      "execution_count": 109,
      "outputs": [
        {
          "output_type": "execute_result",
          "data": {
            "text/plain": [
              "array([ 11,   4,   2, 234,   7, 235,   1,  20,  12,  10,   0,   0,   0,\n",
              "         0,   0,   0,   0,   0,   0,   0,   0,   0,   0,   0,   0,   0,\n",
              "         0,   0,   0,   0,   0,   0], dtype=int32)"
            ]
          },
          "metadata": {},
          "execution_count": 109
        }
      ]
    },
    {
      "cell_type": "code",
      "metadata": {
        "id": "OW-ly3OHigCi"
      },
      "source": [
        "test_sentences = tokeniser.sequences_to_texts(X_test)"
      ],
      "execution_count": 110,
      "outputs": []
    },
    {
      "cell_type": "code",
      "metadata": {
        "colab": {
          "base_uri": "https://localhost:8080/",
          "height": 35
        },
        "id": "mPrcQNewjgpR",
        "outputId": "d3561cb2-1327-4841-c3d3-458c0cdcf344"
      },
      "source": [
        "test_sentences[1]"
      ],
      "execution_count": 111,
      "outputs": [
        {
          "output_type": "execute_result",
          "data": {
            "application/vnd.google.colaboratory.intrinsic+json": {
              "type": "string"
            },
            "text/plain": [
              "'I should be reminded to attend calculus class at 3 PM'"
            ]
          },
          "metadata": {},
          "execution_count": 111
        }
      ]
    },
    {
      "cell_type": "code",
      "metadata": {
        "colab": {
          "base_uri": "https://localhost:8080/"
        },
        "id": "f75J7yN8jijQ",
        "outputId": "5c36f0ea-a27c-45c3-9c81-24e3801cf6e3"
      },
      "source": [
        "y_test[0]"
      ],
      "execution_count": 112,
      "outputs": [
        {
          "output_type": "execute_result",
          "data": {
            "text/plain": [
              "array([[0., 0., 0., 0., 1., 0., 0.],\n",
              "       [0., 0., 0., 0., 1., 0., 0.],\n",
              "       [0., 0., 0., 0., 1., 0., 0.],\n",
              "       [0., 1., 0., 0., 0., 0., 0.],\n",
              "       [0., 0., 1., 0., 0., 0., 0.],\n",
              "       [0., 0., 1., 0., 0., 0., 0.],\n",
              "       [0., 0., 0., 0., 1., 0., 0.],\n",
              "       [0., 0., 0., 0., 0., 0., 1.],\n",
              "       [0., 0., 0., 0., 0., 1., 0.],\n",
              "       [0., 0., 0., 1., 0., 0., 0.],\n",
              "       [0., 0., 0., 0., 1., 0., 0.],\n",
              "       [0., 0., 0., 0., 1., 0., 0.],\n",
              "       [0., 0., 0., 0., 1., 0., 0.],\n",
              "       [0., 0., 0., 0., 1., 0., 0.],\n",
              "       [0., 0., 0., 0., 1., 0., 0.],\n",
              "       [0., 0., 0., 0., 1., 0., 0.],\n",
              "       [0., 0., 0., 0., 1., 0., 0.],\n",
              "       [0., 0., 0., 0., 1., 0., 0.],\n",
              "       [0., 0., 0., 0., 1., 0., 0.],\n",
              "       [0., 0., 0., 0., 1., 0., 0.],\n",
              "       [0., 0., 0., 0., 1., 0., 0.],\n",
              "       [0., 0., 0., 0., 1., 0., 0.],\n",
              "       [0., 0., 0., 0., 1., 0., 0.],\n",
              "       [0., 0., 0., 0., 1., 0., 0.],\n",
              "       [0., 0., 0., 0., 1., 0., 0.],\n",
              "       [0., 0., 0., 0., 1., 0., 0.],\n",
              "       [0., 0., 0., 0., 1., 0., 0.],\n",
              "       [0., 0., 0., 0., 1., 0., 0.],\n",
              "       [0., 0., 0., 0., 1., 0., 0.],\n",
              "       [0., 0., 0., 0., 1., 0., 0.],\n",
              "       [0., 0., 0., 0., 1., 0., 0.],\n",
              "       [0., 0., 0., 0., 1., 0., 0.]], dtype=float32)"
            ]
          },
          "metadata": {},
          "execution_count": 112
        }
      ]
    },
    {
      "cell_type": "code",
      "metadata": {
        "colab": {
          "base_uri": "https://localhost:8080/"
        },
        "id": "W41paJfwkyNJ",
        "outputId": "27ca8427-3bb6-41b6-d021-0d7220c67b1b"
      },
      "source": [
        "preds[0]"
      ],
      "execution_count": 113,
      "outputs": [
        {
          "output_type": "execute_result",
          "data": {
            "text/plain": [
              "array([[1.47948822e-03, 5.77888777e-03, 1.15564140e-03, 3.07676080e-03,\n",
              "        9.84611332e-01, 1.41142728e-03, 2.48643826e-03],\n",
              "       [7.19612653e-05, 2.15559569e-03, 9.70008405e-05, 4.39667929e-04,\n",
              "        9.96773541e-01, 1.27857711e-04, 3.34398152e-04],\n",
              "       [9.24311898e-05, 3.98874022e-02, 1.29459123e-03, 1.39067043e-03,\n",
              "        9.55838084e-01, 3.11375392e-04, 1.18538260e-03],\n",
              "       [2.99909734e-04, 6.24133110e-01, 5.27936816e-02, 6.16618199e-03,\n",
              "        3.06905568e-01, 1.97311700e-03, 7.72840716e-03],\n",
              "       [5.93191478e-04, 1.86872482e-01, 7.86877751e-01, 6.07491191e-03,\n",
              "        1.24565493e-02, 2.26423983e-03, 4.86087007e-03],\n",
              "       [1.11963961e-03, 2.86841281e-02, 9.47315454e-01, 5.73736150e-03,\n",
              "        1.13800317e-02, 2.01493781e-03, 3.74846510e-03],\n",
              "       [3.61723755e-03, 1.51940575e-02, 1.20124027e-01, 3.66572477e-02,\n",
              "        7.28858471e-01, 2.11418960e-02, 7.44070783e-02],\n",
              "       [4.39618295e-03, 2.87357182e-03, 1.12149175e-02, 6.14365041e-02,\n",
              "        1.49081171e-01, 1.66232154e-01, 6.04765534e-01],\n",
              "       [4.61522210e-03, 5.89612289e-04, 2.30369926e-03, 8.37170482e-02,\n",
              "        3.16094346e-02, 5.24176061e-01, 3.52988899e-01],\n",
              "       [8.65156669e-03, 3.13127035e-04, 1.25079509e-03, 1.70006335e-01,\n",
              "        8.50873739e-02, 6.48199856e-01, 8.64909589e-02],\n",
              "       [4.66233259e-03, 2.10055019e-04, 1.66764134e-04, 6.71783537e-02,\n",
              "        8.63169849e-01, 5.45078814e-02, 1.01047913e-02],\n",
              "       [3.87522858e-04, 5.54473627e-05, 7.75253829e-06, 4.15626867e-03,\n",
              "        9.91822541e-01, 2.59732618e-03, 9.73126444e-04],\n",
              "       [8.49122007e-05, 3.07053051e-05, 1.41072474e-06, 7.80485105e-04,\n",
              "        9.98143911e-01, 5.70961507e-04, 3.87681794e-04],\n",
              "       [4.22366138e-05, 2.47548633e-05, 6.68083658e-07, 3.63623665e-04,\n",
              "        9.99003470e-01, 2.96874117e-04, 2.68460601e-04],\n",
              "       [3.19799474e-05, 2.23126190e-05, 5.02822559e-07, 2.68270669e-04,\n",
              "        9.99220610e-01, 2.29902595e-04, 2.26443415e-04],\n",
              "       [2.86815120e-05, 2.10982798e-05, 4.49423595e-07, 2.37498316e-04,\n",
              "        9.99295712e-01, 2.07534511e-04, 2.09033402e-04],\n",
              "       [2.75316361e-05, 2.04971529e-05, 4.28093728e-07, 2.26157077e-04,\n",
              "        9.99324679e-01, 1.98969457e-04, 2.01804243e-04],\n",
              "       [2.73460537e-05, 2.02597839e-05, 4.19731180e-07, 2.23352850e-04,\n",
              "        9.99332249e-01, 1.96436013e-04, 1.99913222e-04],\n",
              "       [2.78259249e-05, 2.02935262e-05, 4.18913373e-07, 2.26299875e-04,\n",
              "        9.99325514e-01, 1.97796631e-04, 2.01913761e-04],\n",
              "       [2.89649452e-05, 2.05843226e-05, 4.24342375e-07, 2.34899169e-04,\n",
              "        9.99304533e-01, 2.02727606e-04, 2.07816585e-04],\n",
              "       [3.08899980e-05, 2.11607876e-05, 4.36382976e-07, 2.50353012e-04,\n",
              "        9.99267161e-01, 2.11646344e-04, 2.18391171e-04],\n",
              "       [3.37759229e-05, 2.20651909e-05, 4.56098661e-07, 2.74500082e-04,\n",
              "        9.99209404e-01, 2.25153170e-04, 2.34619118e-04],\n",
              "       [3.77205433e-05, 2.33106493e-05, 4.84289160e-07, 3.08724790e-04,\n",
              "        9.99129593e-01, 2.43347487e-04, 2.56733154e-04],\n",
              "       [4.25884027e-05, 2.48368578e-05, 5.20394110e-07, 3.52335803e-04,\n",
              "        9.99031544e-01, 2.65154202e-04, 2.83103291e-04],\n",
              "       [4.79962146e-05, 2.65152812e-05, 5.62215121e-07, 4.01975849e-04,\n",
              "        9.98923838e-01, 2.88553507e-04, 3.10538744e-04],\n",
              "       [5.35267973e-05, 2.82172932e-05, 6.07003244e-07, 4.53377754e-04,\n",
              "        9.98816133e-01, 3.11833835e-04, 3.36365512e-04],\n",
              "       [5.89397241e-05, 2.98721334e-05, 6.52739914e-07, 5.03614894e-04,\n",
              "        9.98712659e-01, 3.34435434e-04, 3.59775615e-04],\n",
              "       [6.41956285e-05, 3.14703975e-05, 6.98564236e-07, 5.51700708e-04,\n",
              "        9.98613834e-01, 3.56760807e-04, 3.81346064e-04],\n",
              "       [6.93895417e-05, 3.30429721e-05, 7.44631222e-07, 5.98047685e-04,\n",
              "        9.98516858e-01, 3.79734993e-04, 4.02179925e-04],\n",
              "       [7.46991282e-05, 3.46451561e-05, 7.91906359e-07, 6.43889362e-04,\n",
              "        9.98417854e-01, 4.04641003e-04, 4.23529069e-04],\n",
              "       [8.03771400e-05, 3.63524741e-05, 8.42145880e-07, 6.91055378e-04,\n",
              "        9.98311281e-01, 4.33242763e-04, 4.46825317e-04],\n",
              "       [8.67728959e-05, 3.82649523e-05, 8.98058659e-07, 7.42022530e-04,\n",
              "        9.98190105e-01, 4.68110258e-04, 4.73888678e-04]], dtype=float32)"
            ]
          },
          "metadata": {},
          "execution_count": 113
        }
      ]
    },
    {
      "cell_type": "code",
      "metadata": {
        "colab": {
          "base_uri": "https://localhost:8080/"
        },
        "id": "mKyrXp6Gk7V3",
        "outputId": "454ac4ef-227f-4f8d-e76d-0238fbc01363"
      },
      "source": [
        "pred_data['pred_target_index'][0]"
      ],
      "execution_count": 114,
      "outputs": [
        {
          "output_type": "execute_result",
          "data": {
            "text/plain": [
              "0    4\n",
              "0    4\n",
              "0    4\n",
              "0    4\n",
              "0    4\n",
              "0    4\n",
              "0    4\n",
              "0    4\n",
              "0    4\n",
              "0    4\n",
              "0    4\n",
              "0    4\n",
              "0    4\n",
              "0    4\n",
              "0    4\n",
              "0    4\n",
              "0    4\n",
              "0    4\n",
              "0    4\n",
              "0    4\n",
              "Name: pred_target_index, dtype: int64"
            ]
          },
          "metadata": {},
          "execution_count": 114
        }
      ]
    },
    {
      "cell_type": "code",
      "metadata": {
        "colab": {
          "base_uri": "https://localhost:8080/"
        },
        "id": "rKyTnW5rle99",
        "outputId": "6e881662-5e6d-44b4-e4c4-cc604f7a511e"
      },
      "source": [
        "pred_data['test_input'][0]"
      ],
      "execution_count": 115,
      "outputs": [
        {
          "output_type": "execute_result",
          "data": {
            "text/plain": [
              "0    11\n",
              "0    14\n",
              "0    14\n",
              "0    11\n",
              "0    13\n",
              "0    14\n",
              "0    16\n",
              "0    11\n",
              "0    16\n",
              "0    43\n",
              "0    16\n",
              "0    16\n",
              "0    16\n",
              "0    16\n",
              "0    11\n",
              "0    37\n",
              "0    11\n",
              "0    16\n",
              "0    11\n",
              "0    14\n",
              "Name: test_input, dtype: int32"
            ]
          },
          "metadata": {},
          "execution_count": 115
        }
      ]
    },
    {
      "cell_type": "code",
      "metadata": {
        "colab": {
          "base_uri": "https://localhost:8080/"
        },
        "id": "FqZ2Wfe2mXv-",
        "outputId": "d32fff32-c719-4c61-f4c5-dfe2a85f2efe"
      },
      "source": [
        "pred_data.shape"
      ],
      "execution_count": 116,
      "outputs": [
        {
          "output_type": "execute_result",
          "data": {
            "text/plain": [
              "(224, 8)"
            ]
          },
          "metadata": {},
          "execution_count": 116
        }
      ]
    },
    {
      "cell_type": "code",
      "metadata": {
        "colab": {
          "base_uri": "https://localhost:8080/"
        },
        "id": "3sQNoWM1o39j",
        "outputId": "46550922-91a8-49b6-9f36-d5abe73fd924"
      },
      "source": [
        "X_test.shape"
      ],
      "execution_count": 117,
      "outputs": [
        {
          "output_type": "execute_result",
          "data": {
            "text/plain": [
              "(20, 32)"
            ]
          },
          "metadata": {},
          "execution_count": 117
        }
      ]
    },
    {
      "cell_type": "code",
      "metadata": {
        "id": "G5Hh7Juappuk"
      },
      "source": [
        "fin_data = pred_data.groupby('id')"
      ],
      "execution_count": 118,
      "outputs": []
    },
    {
      "cell_type": "code",
      "metadata": {
        "colab": {
          "base_uri": "https://localhost:8080/",
          "height": 414
        },
        "id": "CUcrwUoBp8GQ",
        "outputId": "b35ef8dd-4c92-43f0-981c-1834100e8bf1"
      },
      "source": [
        "fin_data.head()"
      ],
      "execution_count": 119,
      "outputs": [
        {
          "output_type": "execute_result",
          "data": {
            "text/html": [
              "<div>\n",
              "<style scoped>\n",
              "    .dataframe tbody tr th:only-of-type {\n",
              "        vertical-align: middle;\n",
              "    }\n",
              "\n",
              "    .dataframe tbody tr th {\n",
              "        vertical-align: top;\n",
              "    }\n",
              "\n",
              "    .dataframe thead th {\n",
              "        text-align: right;\n",
              "    }\n",
              "</style>\n",
              "<table border=\"1\" class=\"dataframe\">\n",
              "  <thead>\n",
              "    <tr style=\"text-align: right;\">\n",
              "      <th></th>\n",
              "      <th>test_input</th>\n",
              "      <th>test_tokens</th>\n",
              "      <th>tokens</th>\n",
              "      <th>actual_target_index</th>\n",
              "      <th>pred_target_index</th>\n",
              "      <th>actual_target_tag</th>\n",
              "      <th>pred_target_tag</th>\n",
              "      <th>id</th>\n",
              "    </tr>\n",
              "  </thead>\n",
              "  <tbody>\n",
              "    <tr>\n",
              "      <th>0</th>\n",
              "      <td>11</td>\n",
              "      <td>11</td>\n",
              "      <td>Remind</td>\n",
              "      <td>4</td>\n",
              "      <td>4</td>\n",
              "      <td>O</td>\n",
              "      <td>O</td>\n",
              "      <td>1</td>\n",
              "    </tr>\n",
              "    <tr>\n",
              "      <th>1</th>\n",
              "      <td>4</td>\n",
              "      <td>4</td>\n",
              "      <td>me</td>\n",
              "      <td>4</td>\n",
              "      <td>4</td>\n",
              "      <td>O</td>\n",
              "      <td>O</td>\n",
              "      <td>1</td>\n",
              "    </tr>\n",
              "    <tr>\n",
              "      <th>2</th>\n",
              "      <td>2</td>\n",
              "      <td>2</td>\n",
              "      <td>to</td>\n",
              "      <td>4</td>\n",
              "      <td>4</td>\n",
              "      <td>O</td>\n",
              "      <td>O</td>\n",
              "      <td>1</td>\n",
              "    </tr>\n",
              "    <tr>\n",
              "      <th>3</th>\n",
              "      <td>234</td>\n",
              "      <td>234</td>\n",
              "      <td>press</td>\n",
              "      <td>1</td>\n",
              "      <td>1</td>\n",
              "      <td>B-reminder.title</td>\n",
              "      <td>B-reminder.title</td>\n",
              "      <td>1</td>\n",
              "    </tr>\n",
              "    <tr>\n",
              "      <th>4</th>\n",
              "      <td>7</td>\n",
              "      <td>7</td>\n",
              "      <td>my</td>\n",
              "      <td>2</td>\n",
              "      <td>2</td>\n",
              "      <td>I-reminder.title</td>\n",
              "      <td>I-reminder.title</td>\n",
              "      <td>1</td>\n",
              "    </tr>\n",
              "    <tr>\n",
              "      <th>...</th>\n",
              "      <td>...</td>\n",
              "      <td>...</td>\n",
              "      <td>...</td>\n",
              "      <td>...</td>\n",
              "      <td>...</td>\n",
              "      <td>...</td>\n",
              "      <td>...</td>\n",
              "      <td>...</td>\n",
              "    </tr>\n",
              "    <tr>\n",
              "      <th>0</th>\n",
              "      <td>14</td>\n",
              "      <td>14</td>\n",
              "      <td>I</td>\n",
              "      <td>4</td>\n",
              "      <td>4</td>\n",
              "      <td>O</td>\n",
              "      <td>O</td>\n",
              "      <td>20</td>\n",
              "    </tr>\n",
              "    <tr>\n",
              "      <th>1</th>\n",
              "      <td>15</td>\n",
              "      <td>15</td>\n",
              "      <td>should</td>\n",
              "      <td>4</td>\n",
              "      <td>4</td>\n",
              "      <td>O</td>\n",
              "      <td>O</td>\n",
              "      <td>20</td>\n",
              "    </tr>\n",
              "    <tr>\n",
              "      <th>2</th>\n",
              "      <td>6</td>\n",
              "      <td>6</td>\n",
              "      <td>be</td>\n",
              "      <td>4</td>\n",
              "      <td>4</td>\n",
              "      <td>O</td>\n",
              "      <td>O</td>\n",
              "      <td>20</td>\n",
              "    </tr>\n",
              "    <tr>\n",
              "      <th>3</th>\n",
              "      <td>5</td>\n",
              "      <td>5</td>\n",
              "      <td>reminded</td>\n",
              "      <td>4</td>\n",
              "      <td>4</td>\n",
              "      <td>O</td>\n",
              "      <td>O</td>\n",
              "      <td>20</td>\n",
              "    </tr>\n",
              "    <tr>\n",
              "      <th>4</th>\n",
              "      <td>2</td>\n",
              "      <td>2</td>\n",
              "      <td>to</td>\n",
              "      <td>4</td>\n",
              "      <td>4</td>\n",
              "      <td>O</td>\n",
              "      <td>O</td>\n",
              "      <td>20</td>\n",
              "    </tr>\n",
              "  </tbody>\n",
              "</table>\n",
              "<p>100 rows × 8 columns</p>\n",
              "</div>"
            ],
            "text/plain": [
              "    test_input  test_tokens    tokens  ...  actual_target_tag   pred_target_tag  id\n",
              "0           11           11    Remind  ...                  O                 O   1\n",
              "1            4            4        me  ...                  O                 O   1\n",
              "2            2            2        to  ...                  O                 O   1\n",
              "3          234          234     press  ...   B-reminder.title  B-reminder.title   1\n",
              "4            7            7        my  ...   I-reminder.title  I-reminder.title   1\n",
              "..         ...          ...       ...  ...                ...               ...  ..\n",
              "0           14           14         I  ...                  O                 O  20\n",
              "1           15           15    should  ...                  O                 O  20\n",
              "2            6            6        be  ...                  O                 O  20\n",
              "3            5            5  reminded  ...                  O                 O  20\n",
              "4            2            2        to  ...                  O                 O  20\n",
              "\n",
              "[100 rows x 8 columns]"
            ]
          },
          "metadata": {},
          "execution_count": 119
        }
      ]
    },
    {
      "cell_type": "code",
      "metadata": {
        "colab": {
          "base_uri": "https://localhost:8080/",
          "height": 385
        },
        "id": "UN9XopYirkGU",
        "outputId": "6454b866-6fd4-4c14-f3c0-0271afa3a835"
      },
      "source": [
        "pred_data[pred_data['id']==2]"
      ],
      "execution_count": 120,
      "outputs": [
        {
          "output_type": "execute_result",
          "data": {
            "text/html": [
              "<div>\n",
              "<style scoped>\n",
              "    .dataframe tbody tr th:only-of-type {\n",
              "        vertical-align: middle;\n",
              "    }\n",
              "\n",
              "    .dataframe tbody tr th {\n",
              "        vertical-align: top;\n",
              "    }\n",
              "\n",
              "    .dataframe thead th {\n",
              "        text-align: right;\n",
              "    }\n",
              "</style>\n",
              "<table border=\"1\" class=\"dataframe\">\n",
              "  <thead>\n",
              "    <tr style=\"text-align: right;\">\n",
              "      <th></th>\n",
              "      <th>test_input</th>\n",
              "      <th>test_tokens</th>\n",
              "      <th>tokens</th>\n",
              "      <th>actual_target_index</th>\n",
              "      <th>pred_target_index</th>\n",
              "      <th>actual_target_tag</th>\n",
              "      <th>pred_target_tag</th>\n",
              "      <th>id</th>\n",
              "    </tr>\n",
              "  </thead>\n",
              "  <tbody>\n",
              "    <tr>\n",
              "      <th>0</th>\n",
              "      <td>14</td>\n",
              "      <td>14</td>\n",
              "      <td>I</td>\n",
              "      <td>4</td>\n",
              "      <td>4</td>\n",
              "      <td>O</td>\n",
              "      <td>O</td>\n",
              "      <td>2</td>\n",
              "    </tr>\n",
              "    <tr>\n",
              "      <th>1</th>\n",
              "      <td>15</td>\n",
              "      <td>15</td>\n",
              "      <td>should</td>\n",
              "      <td>4</td>\n",
              "      <td>4</td>\n",
              "      <td>O</td>\n",
              "      <td>O</td>\n",
              "      <td>2</td>\n",
              "    </tr>\n",
              "    <tr>\n",
              "      <th>2</th>\n",
              "      <td>6</td>\n",
              "      <td>6</td>\n",
              "      <td>be</td>\n",
              "      <td>4</td>\n",
              "      <td>4</td>\n",
              "      <td>O</td>\n",
              "      <td>O</td>\n",
              "      <td>2</td>\n",
              "    </tr>\n",
              "    <tr>\n",
              "      <th>3</th>\n",
              "      <td>5</td>\n",
              "      <td>5</td>\n",
              "      <td>reminded</td>\n",
              "      <td>4</td>\n",
              "      <td>4</td>\n",
              "      <td>O</td>\n",
              "      <td>O</td>\n",
              "      <td>2</td>\n",
              "    </tr>\n",
              "    <tr>\n",
              "      <th>4</th>\n",
              "      <td>2</td>\n",
              "      <td>2</td>\n",
              "      <td>to</td>\n",
              "      <td>4</td>\n",
              "      <td>4</td>\n",
              "      <td>O</td>\n",
              "      <td>O</td>\n",
              "      <td>2</td>\n",
              "    </tr>\n",
              "    <tr>\n",
              "      <th>5</th>\n",
              "      <td>26</td>\n",
              "      <td>26</td>\n",
              "      <td>attend</td>\n",
              "      <td>1</td>\n",
              "      <td>1</td>\n",
              "      <td>B-reminder.title</td>\n",
              "      <td>B-reminder.title</td>\n",
              "      <td>2</td>\n",
              "    </tr>\n",
              "    <tr>\n",
              "      <th>6</th>\n",
              "      <td>176</td>\n",
              "      <td>176</td>\n",
              "      <td>calculus</td>\n",
              "      <td>2</td>\n",
              "      <td>2</td>\n",
              "      <td>I-reminder.title</td>\n",
              "      <td>I-reminder.title</td>\n",
              "      <td>2</td>\n",
              "    </tr>\n",
              "    <tr>\n",
              "      <th>7</th>\n",
              "      <td>53</td>\n",
              "      <td>53</td>\n",
              "      <td>class</td>\n",
              "      <td>2</td>\n",
              "      <td>2</td>\n",
              "      <td>I-reminder.title</td>\n",
              "      <td>I-reminder.title</td>\n",
              "      <td>2</td>\n",
              "    </tr>\n",
              "    <tr>\n",
              "      <th>8</th>\n",
              "      <td>1</td>\n",
              "      <td>1</td>\n",
              "      <td>at</td>\n",
              "      <td>4</td>\n",
              "      <td>4</td>\n",
              "      <td>O</td>\n",
              "      <td>O</td>\n",
              "      <td>2</td>\n",
              "    </tr>\n",
              "    <tr>\n",
              "      <th>9</th>\n",
              "      <td>24</td>\n",
              "      <td>24</td>\n",
              "      <td>3</td>\n",
              "      <td>6</td>\n",
              "      <td>6</td>\n",
              "      <td>B-reminder.time</td>\n",
              "      <td>B-reminder.time</td>\n",
              "      <td>2</td>\n",
              "    </tr>\n",
              "    <tr>\n",
              "      <th>10</th>\n",
              "      <td>3</td>\n",
              "      <td>3</td>\n",
              "      <td>PM</td>\n",
              "      <td>5</td>\n",
              "      <td>5</td>\n",
              "      <td>I-reminder.time</td>\n",
              "      <td>I-reminder.time</td>\n",
              "      <td>2</td>\n",
              "    </tr>\n",
              "  </tbody>\n",
              "</table>\n",
              "</div>"
            ],
            "text/plain": [
              "    test_input  test_tokens    tokens  ...  actual_target_tag   pred_target_tag id\n",
              "0           14           14         I  ...                  O                 O  2\n",
              "1           15           15    should  ...                  O                 O  2\n",
              "2            6            6        be  ...                  O                 O  2\n",
              "3            5            5  reminded  ...                  O                 O  2\n",
              "4            2            2        to  ...                  O                 O  2\n",
              "5           26           26    attend  ...   B-reminder.title  B-reminder.title  2\n",
              "6          176          176  calculus  ...   I-reminder.title  I-reminder.title  2\n",
              "7           53           53     class  ...   I-reminder.title  I-reminder.title  2\n",
              "8            1            1        at  ...                  O                 O  2\n",
              "9           24           24         3  ...    B-reminder.time   B-reminder.time  2\n",
              "10           3            3        PM  ...    I-reminder.time   I-reminder.time  2\n",
              "\n",
              "[11 rows x 8 columns]"
            ]
          },
          "metadata": {},
          "execution_count": 120
        }
      ]
    },
    {
      "cell_type": "code",
      "metadata": {
        "id": "3SwtxK-wsN8B"
      },
      "source": [
        ""
      ],
      "execution_count": 57,
      "outputs": []
    }
  ]
}