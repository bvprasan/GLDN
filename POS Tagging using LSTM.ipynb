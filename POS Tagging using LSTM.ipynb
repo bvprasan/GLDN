{
  "nbformat": 4,
  "nbformat_minor": 0,
  "metadata": {
    "colab": {
      "name": "Untitled1.ipynb",
      "provenance": [],
      "toc_visible": true,
      "authorship_tag": "ABX9TyP9xg45gesVGokvcROWzNsF",
      "include_colab_link": true
    },
    "kernelspec": {
      "name": "python3",
      "display_name": "Python 3"
    },
    "language_info": {
      "name": "python"
    }
  },
  "cells": [
    {
      "cell_type": "markdown",
      "metadata": {
        "id": "view-in-github",
        "colab_type": "text"
      },
      "source": [
        "<a href=\"https://colab.research.google.com/github/bvprasan/GLDN/blob/main/POS%20Tagging%20using%20LSTM.ipynb\" target=\"_parent\"><img src=\"https://colab.research.google.com/assets/colab-badge.svg\" alt=\"Open In Colab\"/></a>"
      ]
    },
    {
      "cell_type": "code",
      "metadata": {
        "id": "nDaUMCflykKB"
      },
      "source": [
        "import nltk"
      ],
      "execution_count": 1,
      "outputs": []
    },
    {
      "cell_type": "code",
      "metadata": {
        "colab": {
          "base_uri": "https://localhost:8080/"
        },
        "id": "ad0zTofuys8l",
        "outputId": "bda17452-c2c6-482e-cbe4-f36528daef9c"
      },
      "source": [
        "nltk.download('brown')"
      ],
      "execution_count": 2,
      "outputs": [
        {
          "output_type": "stream",
          "text": [
            "[nltk_data] Downloading package brown to /root/nltk_data...\n",
            "[nltk_data]   Unzipping corpora/brown.zip.\n"
          ],
          "name": "stdout"
        },
        {
          "output_type": "execute_result",
          "data": {
            "text/plain": [
              "True"
            ]
          },
          "metadata": {
            "tags": []
          },
          "execution_count": 2
        }
      ]
    },
    {
      "cell_type": "code",
      "metadata": {
        "colab": {
          "base_uri": "https://localhost:8080/"
        },
        "id": "RXluVLeWy2oV",
        "outputId": "401b00c4-1e6a-4ab8-e102-1fb6f6678f1d"
      },
      "source": [
        "nltk.download('averaged_perceptron_tagger')"
      ],
      "execution_count": 4,
      "outputs": [
        {
          "output_type": "stream",
          "text": [
            "[nltk_data] Downloading package averaged_perceptron_tagger to\n",
            "[nltk_data]     /root/nltk_data...\n",
            "[nltk_data]   Unzipping taggers/averaged_perceptron_tagger.zip.\n"
          ],
          "name": "stdout"
        },
        {
          "output_type": "execute_result",
          "data": {
            "text/plain": [
              "True"
            ]
          },
          "metadata": {
            "tags": []
          },
          "execution_count": 4
        }
      ]
    },
    {
      "cell_type": "code",
      "metadata": {
        "colab": {
          "base_uri": "https://localhost:8080/"
        },
        "id": "Ned_5hNYy-PY",
        "outputId": "45b3ab18-014f-4372-a9ec-023ffcb34542"
      },
      "source": [
        "nltk.download('punkt')"
      ],
      "execution_count": 5,
      "outputs": [
        {
          "output_type": "stream",
          "text": [
            "[nltk_data] Downloading package punkt to /root/nltk_data...\n",
            "[nltk_data]   Unzipping tokenizers/punkt.zip.\n"
          ],
          "name": "stdout"
        },
        {
          "output_type": "execute_result",
          "data": {
            "text/plain": [
              "True"
            ]
          },
          "metadata": {
            "tags": []
          },
          "execution_count": 5
        }
      ]
    },
    {
      "cell_type": "code",
      "metadata": {
        "id": "GwWq0LT_zDqH"
      },
      "source": [
        "text = nltk.word_tokenize('I came to Bangaluru to meet some awesome people.')"
      ],
      "execution_count": 6,
      "outputs": []
    },
    {
      "cell_type": "code",
      "metadata": {
        "colab": {
          "base_uri": "https://localhost:8080/"
        },
        "id": "mNc3t9pyzQpH",
        "outputId": "51440d5b-694d-449e-efaf-6e0d12c47ebe"
      },
      "source": [
        "nltk.pos_tag(text)"
      ],
      "execution_count": 7,
      "outputs": [
        {
          "output_type": "execute_result",
          "data": {
            "text/plain": [
              "[('I', 'PRP'),\n",
              " ('came', 'VBD'),\n",
              " ('to', 'TO'),\n",
              " ('Bangaluru', 'NNP'),\n",
              " ('to', 'TO'),\n",
              " ('meet', 'VB'),\n",
              " ('some', 'DT'),\n",
              " ('awesome', 'JJ'),\n",
              " ('people', 'NNS'),\n",
              " ('.', '.')]"
            ]
          },
          "metadata": {
            "tags": []
          },
          "execution_count": 7
        }
      ]
    },
    {
      "cell_type": "code",
      "metadata": {
        "id": "1rVaPa-wzViZ"
      },
      "source": [
        "text = nltk.word_tokenize('I am walking.')"
      ],
      "execution_count": 8,
      "outputs": []
    },
    {
      "cell_type": "code",
      "metadata": {
        "colab": {
          "base_uri": "https://localhost:8080/"
        },
        "id": "_sSM_w9gzz3m",
        "outputId": "fa116219-4872-4e59-aeaa-0521c68bd19d"
      },
      "source": [
        "nltk.pos_tag(text)"
      ],
      "execution_count": 9,
      "outputs": [
        {
          "output_type": "execute_result",
          "data": {
            "text/plain": [
              "[('I', 'PRP'), ('am', 'VBP'), ('walking', 'VBG'), ('.', '.')]"
            ]
          },
          "metadata": {
            "tags": []
          },
          "execution_count": 9
        }
      ]
    },
    {
      "cell_type": "code",
      "metadata": {
        "id": "XmH7KUwmz1K6"
      },
      "source": [
        "text = nltk.word_tokenize('Walking is good for health.')"
      ],
      "execution_count": 10,
      "outputs": []
    },
    {
      "cell_type": "code",
      "metadata": {
        "colab": {
          "base_uri": "https://localhost:8080/"
        },
        "id": "sp1VShLCz_8F",
        "outputId": "eb4cb9de-d442-44b7-edba-c0010252512a"
      },
      "source": [
        "nltk.pos_tag(text)"
      ],
      "execution_count": 11,
      "outputs": [
        {
          "output_type": "execute_result",
          "data": {
            "text/plain": [
              "[('Walking', 'NN'),\n",
              " ('is', 'VBZ'),\n",
              " ('good', 'JJ'),\n",
              " ('for', 'IN'),\n",
              " ('health', 'NN'),\n",
              " ('.', '.')]"
            ]
          },
          "metadata": {
            "tags": []
          },
          "execution_count": 11
        }
      ]
    },
    {
      "cell_type": "code",
      "metadata": {
        "id": "9WqS_E7t0Cvy"
      },
      "source": [
        "text = nltk.Text(word.lower() for word in nltk.corpus.brown.words())"
      ],
      "execution_count": 12,
      "outputs": []
    },
    {
      "cell_type": "code",
      "metadata": {
        "colab": {
          "base_uri": "https://localhost:8080/"
        },
        "id": "h3VsFoOl0aQs",
        "outputId": "af905ee3-6e1e-4b3d-a2bd-9a69d8b569e7"
      },
      "source": [
        "text.similar('kid')"
      ],
      "execution_count": 13,
      "outputs": [
        {
          "output_type": "stream",
          "text": [
            "man other time house trial way place doctor world car city state one\n",
            "past children case family government south situation\n"
          ],
          "name": "stdout"
        }
      ]
    },
    {
      "cell_type": "code",
      "metadata": {
        "colab": {
          "base_uri": "https://localhost:8080/"
        },
        "id": "x1TZe_SQ0hIU",
        "outputId": "ec4a6b9b-bdc0-475e-a0d9-3fe69f9a61d1"
      },
      "source": [
        "text.similar('run')"
      ],
      "execution_count": 14,
      "outputs": [
        {
          "output_type": "stream",
          "text": [
            "get be do in see work go have take make put and find time look day say\n",
            "use come show\n"
          ],
          "name": "stdout"
        }
      ]
    },
    {
      "cell_type": "code",
      "metadata": {
        "colab": {
          "base_uri": "https://localhost:8080/"
        },
        "id": "I5AThuan0sQ6",
        "outputId": "3339c3a5-6052-435e-a6e2-c659c98b995d"
      },
      "source": [
        "text.similar('on')"
      ],
      "execution_count": 15,
      "outputs": [
        {
          "output_type": "stream",
          "text": [
            "in of to and for at with from by as that is into but when was over\n",
            "about all through\n"
          ],
          "name": "stdout"
        }
      ]
    },
    {
      "cell_type": "code",
      "metadata": {
        "colab": {
          "base_uri": "https://localhost:8080/"
        },
        "id": "GDim_1DZ0wMU",
        "outputId": "219cde44-9062-4743-db31-1a3f578b4f83"
      },
      "source": [
        "text.similar('cricket')"
      ],
      "execution_count": 16,
      "outputs": [
        {
          "output_type": "stream",
          "text": [
            "and available second wonderful glass moment window formidable wicked\n"
          ],
          "name": "stdout"
        }
      ]
    },
    {
      "cell_type": "code",
      "metadata": {
        "colab": {
          "base_uri": "https://localhost:8080/"
        },
        "id": "YwiOorPM01Dc",
        "outputId": "1760117a-8729-4b4b-8879-7606cffe165c"
      },
      "source": [
        "nltk.pos_tag(nltk.word_tokenize('cricket'))"
      ],
      "execution_count": 17,
      "outputs": [
        {
          "output_type": "execute_result",
          "data": {
            "text/plain": [
              "[('cricket', 'NN')]"
            ]
          },
          "metadata": {
            "tags": []
          },
          "execution_count": 17
        }
      ]
    },
    {
      "cell_type": "code",
      "metadata": {
        "id": "jn83gXTh1BPZ"
      },
      "source": [
        "%tensorflow_version 2.x"
      ],
      "execution_count": 18,
      "outputs": []
    },
    {
      "cell_type": "code",
      "metadata": {
        "colab": {
          "base_uri": "https://localhost:8080/",
          "height": 35
        },
        "id": "4nC7TFBP1d85",
        "outputId": "ba68e527-c62e-47a0-a616-468814c007da"
      },
      "source": [
        "import tensorflow\n",
        "tensorflow.__version__"
      ],
      "execution_count": 19,
      "outputs": [
        {
          "output_type": "execute_result",
          "data": {
            "application/vnd.google.colaboratory.intrinsic+json": {
              "type": "string"
            },
            "text/plain": [
              "'2.5.0'"
            ]
          },
          "metadata": {
            "tags": []
          },
          "execution_count": 19
        }
      ]
    },
    {
      "cell_type": "code",
      "metadata": {
        "id": "-7yppGy31kxc"
      },
      "source": [
        "import random"
      ],
      "execution_count": 20,
      "outputs": []
    },
    {
      "cell_type": "code",
      "metadata": {
        "id": "PPkvZKpz1rFI"
      },
      "source": [
        "random.seed(0)"
      ],
      "execution_count": 21,
      "outputs": []
    },
    {
      "cell_type": "code",
      "metadata": {
        "id": "HFNOCCwx1tRI"
      },
      "source": [
        "import warnings\n",
        "warnings.filterwarnings(\"ignore\")"
      ],
      "execution_count": 22,
      "outputs": []
    },
    {
      "cell_type": "code",
      "metadata": {
        "id": "kJ90RTvF10Fx"
      },
      "source": [
        "from google.colab import drive"
      ],
      "execution_count": 23,
      "outputs": []
    },
    {
      "cell_type": "code",
      "metadata": {
        "colab": {
          "base_uri": "https://localhost:8080/"
        },
        "id": "Mj1-nheZ2CYn",
        "outputId": "f9dc093f-163c-4e49-98c2-be5df694a183"
      },
      "source": [
        "drive.mount('/content/drive/')"
      ],
      "execution_count": 24,
      "outputs": [
        {
          "output_type": "stream",
          "text": [
            "Mounted at /content/drive/\n"
          ],
          "name": "stdout"
        }
      ]
    },
    {
      "cell_type": "code",
      "metadata": {
        "id": "zc7VMMgQ2HAF"
      },
      "source": [
        "import pandas as pd"
      ],
      "execution_count": 25,
      "outputs": []
    },
    {
      "cell_type": "code",
      "metadata": {
        "id": "7cdlMIQ12V39"
      },
      "source": [
        "import numpy as np"
      ],
      "execution_count": 26,
      "outputs": []
    },
    {
      "cell_type": "code",
      "metadata": {
        "id": "2Zfd-luP2YJF"
      },
      "source": [
        "data = pd.read_csv('/content/drive/My Drive/ner_dataset (1).csv', encoding='latin1')"
      ],
      "execution_count": 32,
      "outputs": []
    },
    {
      "cell_type": "code",
      "metadata": {
        "id": "qwboSdhf2rRB"
      },
      "source": [
        "data = data.fillna(method=\"ffill\")"
      ],
      "execution_count": 33,
      "outputs": []
    },
    {
      "cell_type": "code",
      "metadata": {
        "id": "S0RX3XCC-09k"
      },
      "source": [
        "tags = list(set(data[\"POS\"].values))"
      ],
      "execution_count": 34,
      "outputs": []
    },
    {
      "cell_type": "code",
      "metadata": {
        "colab": {
          "base_uri": "https://localhost:8080/"
        },
        "id": "FGeA6QdP_Cbc",
        "outputId": "08a024bb-57b0-413c-fcee-2d8a92801b5e"
      },
      "source": [
        "tags"
      ],
      "execution_count": 35,
      "outputs": [
        {
          "output_type": "execute_result",
          "data": {
            "text/plain": [
              "['WDT',\n",
              " ':',\n",
              " 'WRB',\n",
              " 'MD',\n",
              " 'POS',\n",
              " 'VBZ',\n",
              " 'NNPS',\n",
              " 'WP$',\n",
              " ';',\n",
              " 'VBP',\n",
              " 'CC',\n",
              " 'JJR',\n",
              " 'RBR',\n",
              " 'VBG',\n",
              " 'VBD',\n",
              " 'DT',\n",
              " ',',\n",
              " 'PRP$',\n",
              " '``',\n",
              " '.',\n",
              " 'FW',\n",
              " 'VB',\n",
              " 'VBN',\n",
              " 'JJ',\n",
              " 'EX',\n",
              " '$',\n",
              " 'PRP',\n",
              " 'NNS',\n",
              " 'IN',\n",
              " 'NNP',\n",
              " 'NN',\n",
              " 'RP',\n",
              " 'WP',\n",
              " 'PDT',\n",
              " 'CD',\n",
              " 'JJS',\n",
              " 'UH',\n",
              " 'RB',\n",
              " 'RBS',\n",
              " 'RRB',\n",
              " 'LRB',\n",
              " 'TO']"
            ]
          },
          "metadata": {
            "tags": []
          },
          "execution_count": 35
        }
      ]
    },
    {
      "cell_type": "code",
      "metadata": {
        "id": "sZxdBUm1_EIv"
      },
      "source": [
        "words = list(set(data[\"Word\"].values))"
      ],
      "execution_count": 36,
      "outputs": []
    },
    {
      "cell_type": "code",
      "metadata": {
        "id": "DNrJ7Ji6ASTR"
      },
      "source": [
        "words.append(\"DUMMY\")"
      ],
      "execution_count": 37,
      "outputs": []
    },
    {
      "cell_type": "code",
      "metadata": {
        "id": "xdpelek_AXUI"
      },
      "source": [
        "class ReadSentences(object):\n",
        "  def __init__(self, data):\n",
        "    self.data = data\n",
        "    self.empty = False\n",
        "    agg_func = lambda s: [(w, p, t) for w, p, t in zip(s[\"Word\"].values.tolist(),\n",
        "                                                       s[\"POS\"].values.tolist(),\n",
        "                                                       s[\"Tag\"].values.tolist())]\n",
        "    self.grouped = self.data.groupby(\"Sentence #\").apply(agg_func)\n",
        "    self.sentences = [s for s in self.grouped]"
      ],
      "execution_count": 38,
      "outputs": []
    },
    {
      "cell_type": "code",
      "metadata": {
        "id": "oHOwevrKBkuD"
      },
      "source": [
        "sentences = ReadSentences(data).sentences"
      ],
      "execution_count": 39,
      "outputs": []
    },
    {
      "cell_type": "code",
      "metadata": {
        "id": "_2vv-5lkBvyl"
      },
      "source": [
        "word2id = {w: i for i, w in enumerate(words)}\n",
        "tag2id = {t: i for i, t in enumerate(tags)}"
      ],
      "execution_count": 40,
      "outputs": []
    },
    {
      "cell_type": "code",
      "metadata": {
        "id": "euGsZwnICB6b"
      },
      "source": [
        "from tensorflow.keras.preprocessing.sequence import pad_sequences"
      ],
      "execution_count": 41,
      "outputs": []
    },
    {
      "cell_type": "code",
      "metadata": {
        "id": "HH2qvKpqCNOV"
      },
      "source": [
        "max_len = 50\n",
        "X = [[word2id[w[0]] for w in s] for s in sentences]"
      ],
      "execution_count": 42,
      "outputs": []
    },
    {
      "cell_type": "code",
      "metadata": {
        "colab": {
          "base_uri": "https://localhost:8080/"
        },
        "id": "Fb8jjPiECbp1",
        "outputId": "26ed10fb-37e9-4753-b1e8-0c8a5b6d5fad"
      },
      "source": [
        "len(X)"
      ],
      "execution_count": 43,
      "outputs": [
        {
          "output_type": "execute_result",
          "data": {
            "text/plain": [
              "47959"
            ]
          },
          "metadata": {
            "tags": []
          },
          "execution_count": 43
        }
      ]
    },
    {
      "cell_type": "code",
      "metadata": {
        "id": "TAi5dpj6Cds1"
      },
      "source": [
        "X = pad_sequences(maxlen=max_len, sequences=X, padding=\"post\", value=len(words)-1)"
      ],
      "execution_count": 44,
      "outputs": []
    },
    {
      "cell_type": "code",
      "metadata": {
        "colab": {
          "base_uri": "https://localhost:8080/"
        },
        "id": "nl0yWcZ1CxAz",
        "outputId": "7d0b54ff-4451-47c7-87e4-e1732446d973"
      },
      "source": [
        "len(X)"
      ],
      "execution_count": 45,
      "outputs": [
        {
          "output_type": "execute_result",
          "data": {
            "text/plain": [
              "47959"
            ]
          },
          "metadata": {
            "tags": []
          },
          "execution_count": 45
        }
      ]
    },
    {
      "cell_type": "code",
      "metadata": {
        "id": "lDVdjo_xCyan"
      },
      "source": [
        "y = [[tag2id[w[1]] for w in s] for s in sentences]"
      ],
      "execution_count": 46,
      "outputs": []
    },
    {
      "cell_type": "code",
      "metadata": {
        "id": "LMiuZY0tC8GT"
      },
      "source": [
        "y = pad_sequences(maxlen=max_len, sequences=y, padding=\"post\", value=tag2id[\".\"])"
      ],
      "execution_count": 47,
      "outputs": []
    },
    {
      "cell_type": "code",
      "metadata": {
        "id": "fBIjTZhODKUc"
      },
      "source": [
        "from tensorflow.keras.utils import to_categorical"
      ],
      "execution_count": 48,
      "outputs": []
    },
    {
      "cell_type": "code",
      "metadata": {
        "id": "QR7FCU-NDxI7"
      },
      "source": [
        "y = [to_categorical(i, num_classes=len(tags)) for i in y]"
      ],
      "execution_count": 49,
      "outputs": []
    },
    {
      "cell_type": "code",
      "metadata": {
        "colab": {
          "base_uri": "https://localhost:8080/"
        },
        "id": "HlQ5msKoD6Zo",
        "outputId": "ce8ebf4b-4097-4f88-8f09-4679cf551048"
      },
      "source": [
        "y[0]"
      ],
      "execution_count": 50,
      "outputs": [
        {
          "output_type": "execute_result",
          "data": {
            "text/plain": [
              "array([[0., 0., 0., ..., 0., 0., 0.],\n",
              "       [0., 0., 0., ..., 0., 0., 0.],\n",
              "       [0., 0., 0., ..., 0., 0., 0.],\n",
              "       ...,\n",
              "       [0., 0., 0., ..., 0., 0., 0.],\n",
              "       [0., 0., 0., ..., 0., 0., 0.],\n",
              "       [0., 0., 0., ..., 0., 0., 0.]], dtype=float32)"
            ]
          },
          "metadata": {
            "tags": []
          },
          "execution_count": 50
        }
      ]
    },
    {
      "cell_type": "code",
      "metadata": {
        "id": "B3z6a1NjD9EL"
      },
      "source": [
        "from sklearn.model_selection import train_test_split"
      ],
      "execution_count": 51,
      "outputs": []
    },
    {
      "cell_type": "code",
      "metadata": {
        "id": "DjoOCwsSEQMr"
      },
      "source": [
        "X_tr, X_te, y_tr, y_te = train_test_split(X, y, test_size=0.20)"
      ],
      "execution_count": 52,
      "outputs": []
    },
    {
      "cell_type": "code",
      "metadata": {
        "id": "X20yvsIXEdpq"
      },
      "source": [
        "from tensorflow.keras.models import Model\n",
        "from tensorflow.keras.layers import LSTM, Embedding, Dense, TimeDistributed, Dropout, Bidirectional, Input"
      ],
      "execution_count": 53,
      "outputs": []
    },
    {
      "cell_type": "code",
      "metadata": {
        "id": "GDSd3BwPEx-E"
      },
      "source": [
        "input = Input(shape=(max_len,))\n",
        "model = Embedding(input_dim=len(words), output_dim=50, input_length=max_len)(input)"
      ],
      "execution_count": 54,
      "outputs": []
    },
    {
      "cell_type": "code",
      "metadata": {
        "id": "Yn0XsTEfFQEb"
      },
      "source": [
        "model = Dropout(0.1)(model)"
      ],
      "execution_count": 55,
      "outputs": []
    },
    {
      "cell_type": "code",
      "metadata": {
        "id": "w9rNR1b-FWEi"
      },
      "source": [
        "model = Bidirectional(LSTM(units=100, return_sequences=True, recurrent_dropout=0.1))(model)"
      ],
      "execution_count": 56,
      "outputs": []
    },
    {
      "cell_type": "code",
      "metadata": {
        "id": "Uui_hZbGFkv0"
      },
      "source": [
        "out = TimeDistributed(Dense(len(tags), activation=\"softmax\"))(model)"
      ],
      "execution_count": 57,
      "outputs": []
    },
    {
      "cell_type": "code",
      "metadata": {
        "id": "fNDBnuJiFxaW"
      },
      "source": [
        "model = Model(input, out)"
      ],
      "execution_count": 58,
      "outputs": []
    },
    {
      "cell_type": "code",
      "metadata": {
        "id": "5n-3LyyMF4ww"
      },
      "source": [
        "model.compile(optimizer=\"rmsprop\", loss=\"categorical_crossentropy\", metrics=[\"accuracy\"])"
      ],
      "execution_count": 59,
      "outputs": []
    },
    {
      "cell_type": "code",
      "metadata": {
        "colab": {
          "base_uri": "https://localhost:8080/"
        },
        "id": "TKaAiq-1GO_2",
        "outputId": "a2a81bb4-ff22-476c-c669-01054023e096"
      },
      "source": [
        "history = model.fit(X_tr, np.array(y_tr), batch_size=32, epochs=3, validation_split=0.1, verbose=1)"
      ],
      "execution_count": 60,
      "outputs": [
        {
          "output_type": "stream",
          "text": [
            "Epoch 1/3\n",
            "1080/1080 [==============================] - 205s 185ms/step - loss: 0.3787 - accuracy: 0.8961 - val_loss: 0.0635 - val_accuracy: 0.9810\n",
            "Epoch 2/3\n",
            "1080/1080 [==============================] - 200s 185ms/step - loss: 0.0490 - accuracy: 0.9856 - val_loss: 0.0422 - val_accuracy: 0.9871\n",
            "Epoch 3/3\n",
            "1080/1080 [==============================] - 200s 185ms/step - loss: 0.0337 - accuracy: 0.9899 - val_loss: 0.0365 - val_accuracy: 0.9887\n"
          ],
          "name": "stdout"
        }
      ]
    },
    {
      "cell_type": "code",
      "metadata": {
        "colab": {
          "base_uri": "https://localhost:8080/"
        },
        "id": "fNqj0sb_HG8k",
        "outputId": "b2eddf6d-5a55-4175-8808-1b6569809f19"
      },
      "source": [
        "len(X_te)"
      ],
      "execution_count": 61,
      "outputs": [
        {
          "output_type": "execute_result",
          "data": {
            "text/plain": [
              "9592"
            ]
          },
          "metadata": {
            "tags": []
          },
          "execution_count": 61
        }
      ]
    },
    {
      "cell_type": "code",
      "metadata": {
        "colab": {
          "base_uri": "https://localhost:8080/"
        },
        "id": "D4apkof6JeNQ",
        "outputId": "279c656d-16b9-4bfa-d482-dd27dee699c3"
      },
      "source": [
        "i = 1213\n",
        "p = model.predict(np.array([X_te[i]]))\n",
        "p = np.argmax(p, axis=-1)\n",
        "for w, pred in zip(X_te[i], p[0]):\n",
        "  print(\"{:20} -- {}\".format(words[w], tags[pred]))"
      ],
      "execution_count": 62,
      "outputs": [
        {
          "output_type": "stream",
          "text": [
            "U.S                  -- NNP\n",
            "Open                 -- NNP\n",
            "women                -- NNS\n",
            "'s                   -- POS\n",
            "tennis               -- NN\n",
            "champion             -- NN\n",
            "Kim                  -- NNP\n",
            "Clijsters            -- NNP\n",
            "of                   -- IN\n",
            "Belgium              -- NNP\n",
            "has                  -- VBZ\n",
            "defeated             -- VBN\n",
            "French               -- JJ\n",
            "player               -- NN\n",
            "Nathalie             -- NNP\n",
            "Dechy                -- NNP\n",
            "to                   -- TO\n",
            "reach                -- VB\n",
            "the                  -- DT\n",
            "finals               -- NNS\n",
            "of                   -- IN\n",
            "the                  -- DT\n",
            "FORTIS               -- NNP\n",
            "Championships        -- NNP\n",
            "in                   -- IN\n",
            "Luxembourg           -- NNP\n",
            ".                    -- .\n",
            "DUMMY                -- .\n",
            "DUMMY                -- .\n",
            "DUMMY                -- .\n",
            "DUMMY                -- .\n",
            "DUMMY                -- .\n",
            "DUMMY                -- .\n",
            "DUMMY                -- .\n",
            "DUMMY                -- .\n",
            "DUMMY                -- .\n",
            "DUMMY                -- .\n",
            "DUMMY                -- .\n",
            "DUMMY                -- .\n",
            "DUMMY                -- .\n",
            "DUMMY                -- .\n",
            "DUMMY                -- .\n",
            "DUMMY                -- .\n",
            "DUMMY                -- .\n",
            "DUMMY                -- .\n",
            "DUMMY                -- .\n",
            "DUMMY                -- .\n",
            "DUMMY                -- .\n",
            "DUMMY                -- .\n",
            "DUMMY                -- .\n"
          ],
          "name": "stdout"
        }
      ]
    },
    {
      "cell_type": "code",
      "metadata": {
        "id": "2x3IAloPKN6n"
      },
      "source": [
        "sentence = nltk.word_tokenize('That was a nice jump')\n",
        "X_Samp = pad_sequences(maxlen=max_len, sequences=[[word2id[word] for word in sentence]], padding=\"post\", value=word2id[\".\"])"
      ],
      "execution_count": 63,
      "outputs": []
    },
    {
      "cell_type": "code",
      "metadata": {
        "colab": {
          "base_uri": "https://localhost:8080/"
        },
        "id": "H0vKzXnQLgMY",
        "outputId": "13d19d5d-7eb1-4ae5-ab45-7d062f73da56"
      },
      "source": [
        "X_Samp"
      ],
      "execution_count": 64,
      "outputs": [
        {
          "output_type": "execute_result",
          "data": {
            "text/plain": [
              "array([[13871, 28604,  6207, 15141,  9093, 27976, 27976, 27976, 27976,\n",
              "        27976, 27976, 27976, 27976, 27976, 27976, 27976, 27976, 27976,\n",
              "        27976, 27976, 27976, 27976, 27976, 27976, 27976, 27976, 27976,\n",
              "        27976, 27976, 27976, 27976, 27976, 27976, 27976, 27976, 27976,\n",
              "        27976, 27976, 27976, 27976, 27976, 27976, 27976, 27976, 27976,\n",
              "        27976, 27976, 27976, 27976, 27976]], dtype=int32)"
            ]
          },
          "metadata": {
            "tags": []
          },
          "execution_count": 64
        }
      ]
    },
    {
      "cell_type": "code",
      "metadata": {
        "colab": {
          "base_uri": "https://localhost:8080/"
        },
        "id": "OVVngDgKLigP",
        "outputId": "d78e4eb9-d160-4b44-b708-b2553fe0a85e"
      },
      "source": [
        "p = model.predict(np.array([X_Samp[0]]))\n",
        "p = np.argmax(p, axis=-1)\n",
        "for w, pred in zip(X_Samp[0], p[0]):\n",
        "  print(\"{:20} -- {}\".format(words[w], tags[pred]))"
      ],
      "execution_count": 65,
      "outputs": [
        {
          "output_type": "stream",
          "text": [
            "That                 -- DT\n",
            "was                  -- VBD\n",
            "a                    -- DT\n",
            "nice                 -- JJ\n",
            "jump                 -- NN\n",
            ".                    -- .\n",
            ".                    -- .\n",
            ".                    -- .\n",
            ".                    -- .\n",
            ".                    -- .\n",
            ".                    -- .\n",
            ".                    -- .\n",
            ".                    -- .\n",
            ".                    -- .\n",
            ".                    -- .\n",
            ".                    -- .\n",
            ".                    -- .\n",
            ".                    -- .\n",
            ".                    -- .\n",
            ".                    -- .\n",
            ".                    -- .\n",
            ".                    -- .\n",
            ".                    -- .\n",
            ".                    -- .\n",
            ".                    -- .\n",
            ".                    -- .\n",
            ".                    -- .\n",
            ".                    -- .\n",
            ".                    -- .\n",
            ".                    -- .\n",
            ".                    -- .\n",
            ".                    -- .\n",
            ".                    -- .\n",
            ".                    -- .\n",
            ".                    -- .\n",
            ".                    -- .\n",
            ".                    -- .\n",
            ".                    -- .\n",
            ".                    -- .\n",
            ".                    -- .\n",
            ".                    -- .\n",
            ".                    -- .\n",
            ".                    -- .\n",
            ".                    -- .\n",
            ".                    -- .\n",
            ".                    -- .\n",
            ".                    -- .\n",
            ".                    -- .\n",
            ".                    -- .\n",
            ".                    -- .\n"
          ],
          "name": "stdout"
        }
      ]
    },
    {
      "cell_type": "code",
      "metadata": {
        "id": "uj4dyifRMQbR"
      },
      "source": [
        ""
      ],
      "execution_count": null,
      "outputs": []
    }
  ]
}