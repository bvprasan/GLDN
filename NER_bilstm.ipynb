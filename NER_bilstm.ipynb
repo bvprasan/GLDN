{
  "nbformat": 4,
  "nbformat_minor": 0,
  "metadata": {
    "colab": {
      "name": "Welcome To Colaboratory",
      "provenance": [],
      "collapsed_sections": []
    },
    "kernelspec": {
      "display_name": "Python 3",
      "name": "python3"
    },
    "accelerator": "GPU"
  },
  "cells": [
    {
      "cell_type": "code",
      "metadata": {
        "id": "_Ci5f315TLf3"
      },
      "source": [
        "import numpy as np # linear algebra\n",
        "import pandas as pd # data processing, CSV file I/O (e.g. pd.read_csv)\n",
        "\n",
        "import random \n",
        "from sklearn.metrics import classification_report\n",
        "import os\n",
        "from sklearn.model_selection import train_test_split\n",
        "\n",
        "import tensorflow as tf"
      ],
      "execution_count": 1,
      "outputs": []
    },
    {
      "cell_type": "code",
      "metadata": {
        "colab": {
          "base_uri": "https://localhost:8080/",
          "height": 202
        },
        "id": "ikRVOciOWB-O",
        "outputId": "84c0e958-e902-4365-c764-a71c623720a1"
      },
      "source": [
        "data=pd.read_csv(\"/content/nerupd.csv\",encoding=\"latin1\",delimiter='\\t')\n",
        "data.head()"
      ],
      "execution_count": 4,
      "outputs": [
        {
          "output_type": "execute_result",
          "data": {
            "text/html": [
              "<div>\n",
              "<style scoped>\n",
              "    .dataframe tbody tr th:only-of-type {\n",
              "        vertical-align: middle;\n",
              "    }\n",
              "\n",
              "    .dataframe tbody tr th {\n",
              "        vertical-align: top;\n",
              "    }\n",
              "\n",
              "    .dataframe thead th {\n",
              "        text-align: right;\n",
              "    }\n",
              "</style>\n",
              "<table border=\"1\" class=\"dataframe\">\n",
              "  <thead>\n",
              "    <tr style=\"text-align: right;\">\n",
              "      <th></th>\n",
              "      <th>Sentence</th>\n",
              "      <th>Tag</th>\n",
              "    </tr>\n",
              "  </thead>\n",
              "  <tbody>\n",
              "    <tr>\n",
              "      <th>0</th>\n",
              "      <td>Thousands of demonstrators have marched throug...</td>\n",
              "      <td>O O O O O O B-geo O O O O O B-geo O O O O O B-...</td>\n",
              "    </tr>\n",
              "    <tr>\n",
              "      <th>1</th>\n",
              "      <td>Iranian officials say they expect to get acces...</td>\n",
              "      <td>B-gpe O O O O O O O O O O O O O O B-tim O O O ...</td>\n",
              "    </tr>\n",
              "    <tr>\n",
              "      <th>2</th>\n",
              "      <td>Helicopter gunships Saturday pounded militant ...</td>\n",
              "      <td>O O B-tim O O O O O B-geo O O O O O B-org O O ...</td>\n",
              "    </tr>\n",
              "    <tr>\n",
              "      <th>3</th>\n",
              "      <td>They left after a tense hour-long standoff wit...</td>\n",
              "      <td>O O O O O O O O O O O</td>\n",
              "    </tr>\n",
              "    <tr>\n",
              "      <th>4</th>\n",
              "      <td>U.N. relief coordinator Jan Egeland said Sunda...</td>\n",
              "      <td>B-geo O O B-per I-per O B-tim O B-geo O B-gpe ...</td>\n",
              "    </tr>\n",
              "  </tbody>\n",
              "</table>\n",
              "</div>"
            ],
            "text/plain": [
              "                                            Sentence                                                Tag\n",
              "0  Thousands of demonstrators have marched throug...  O O O O O O B-geo O O O O O B-geo O O O O O B-...\n",
              "1  Iranian officials say they expect to get acces...  B-gpe O O O O O O O O O O O O O O B-tim O O O ...\n",
              "2  Helicopter gunships Saturday pounded militant ...  O O B-tim O O O O O B-geo O O O O O B-org O O ...\n",
              "3  They left after a tense hour-long standoff wit...                              O O O O O O O O O O O\n",
              "4  U.N. relief coordinator Jan Egeland said Sunda...  B-geo O O B-per I-per O B-tim O B-geo O B-gpe ..."
            ]
          },
          "metadata": {},
          "execution_count": 4
        }
      ]
    },
    {
      "cell_type": "code",
      "metadata": {
        "colab": {
          "base_uri": "https://localhost:8080/"
        },
        "id": "uLXDSkKZXwog",
        "outputId": "f4217e9f-75af-4576-e24b-c1db1c792262"
      },
      "source": [
        "data.shape"
      ],
      "execution_count": 6,
      "outputs": [
        {
          "output_type": "execute_result",
          "data": {
            "text/plain": [
              "(47949, 2)"
            ]
          },
          "metadata": {},
          "execution_count": 6
        }
      ]
    },
    {
      "cell_type": "code",
      "metadata": {
        "colab": {
          "base_uri": "https://localhost:8080/",
          "height": 202
        },
        "id": "3O3T8fHKX1eR",
        "outputId": "b8195a44-3cf4-4c5d-bd5e-086d4144adc6"
      },
      "source": [
        "data.head()"
      ],
      "execution_count": 7,
      "outputs": [
        {
          "output_type": "execute_result",
          "data": {
            "text/html": [
              "<div>\n",
              "<style scoped>\n",
              "    .dataframe tbody tr th:only-of-type {\n",
              "        vertical-align: middle;\n",
              "    }\n",
              "\n",
              "    .dataframe tbody tr th {\n",
              "        vertical-align: top;\n",
              "    }\n",
              "\n",
              "    .dataframe thead th {\n",
              "        text-align: right;\n",
              "    }\n",
              "</style>\n",
              "<table border=\"1\" class=\"dataframe\">\n",
              "  <thead>\n",
              "    <tr style=\"text-align: right;\">\n",
              "      <th></th>\n",
              "      <th>Sentence</th>\n",
              "      <th>Tag</th>\n",
              "    </tr>\n",
              "  </thead>\n",
              "  <tbody>\n",
              "    <tr>\n",
              "      <th>0</th>\n",
              "      <td>Thousands of demonstrators have marched throug...</td>\n",
              "      <td>O O O O O O B-geo O O O O O B-geo O O O O O B-...</td>\n",
              "    </tr>\n",
              "    <tr>\n",
              "      <th>1</th>\n",
              "      <td>Iranian officials say they expect to get acces...</td>\n",
              "      <td>B-gpe O O O O O O O O O O O O O O B-tim O O O ...</td>\n",
              "    </tr>\n",
              "    <tr>\n",
              "      <th>2</th>\n",
              "      <td>Helicopter gunships Saturday pounded militant ...</td>\n",
              "      <td>O O B-tim O O O O O B-geo O O O O O B-org O O ...</td>\n",
              "    </tr>\n",
              "    <tr>\n",
              "      <th>3</th>\n",
              "      <td>They left after a tense hour-long standoff wit...</td>\n",
              "      <td>O O O O O O O O O O O</td>\n",
              "    </tr>\n",
              "    <tr>\n",
              "      <th>4</th>\n",
              "      <td>U.N. relief coordinator Jan Egeland said Sunda...</td>\n",
              "      <td>B-geo O O B-per I-per O B-tim O B-geo O B-gpe ...</td>\n",
              "    </tr>\n",
              "  </tbody>\n",
              "</table>\n",
              "</div>"
            ],
            "text/plain": [
              "                                            Sentence                                                Tag\n",
              "0  Thousands of demonstrators have marched throug...  O O O O O O B-geo O O O O O B-geo O O O O O B-...\n",
              "1  Iranian officials say they expect to get acces...  B-gpe O O O O O O O O O O O O O O B-tim O O O ...\n",
              "2  Helicopter gunships Saturday pounded militant ...  O O B-tim O O O O O B-geo O O O O O B-org O O ...\n",
              "3  They left after a tense hour-long standoff wit...                              O O O O O O O O O O O\n",
              "4  U.N. relief coordinator Jan Egeland said Sunda...  B-geo O O B-per I-per O B-tim O B-geo O B-gpe ..."
            ]
          },
          "metadata": {},
          "execution_count": 7
        }
      ]
    },
    {
      "cell_type": "code",
      "metadata": {
        "colab": {
          "base_uri": "https://localhost:8080/",
          "height": 285
        },
        "id": "a9yrOK7YX4mc",
        "outputId": "db67bfc7-832b-49b7-af4b-b388e3501893"
      },
      "source": [
        "agg_data = data.copy(True)\n",
        "agg_data['tokenised_sentences']=agg_data['Sentence'].apply(lambda x:x.split())\n",
        "agg_data['tag_list']=agg_data['Tag'].apply(lambda x:x.split())\n",
        "agg_data.head()"
      ],
      "execution_count": 8,
      "outputs": [
        {
          "output_type": "execute_result",
          "data": {
            "text/html": [
              "<div>\n",
              "<style scoped>\n",
              "    .dataframe tbody tr th:only-of-type {\n",
              "        vertical-align: middle;\n",
              "    }\n",
              "\n",
              "    .dataframe tbody tr th {\n",
              "        vertical-align: top;\n",
              "    }\n",
              "\n",
              "    .dataframe thead th {\n",
              "        text-align: right;\n",
              "    }\n",
              "</style>\n",
              "<table border=\"1\" class=\"dataframe\">\n",
              "  <thead>\n",
              "    <tr style=\"text-align: right;\">\n",
              "      <th></th>\n",
              "      <th>Sentence</th>\n",
              "      <th>Tag</th>\n",
              "      <th>tokenised_sentences</th>\n",
              "      <th>tag_list</th>\n",
              "    </tr>\n",
              "  </thead>\n",
              "  <tbody>\n",
              "    <tr>\n",
              "      <th>0</th>\n",
              "      <td>Thousands of demonstrators have marched throug...</td>\n",
              "      <td>O O O O O O B-geo O O O O O B-geo O O O O O B-...</td>\n",
              "      <td>[Thousands, of, demonstrators, have, marched, ...</td>\n",
              "      <td>[O, O, O, O, O, O, B-geo, O, O, O, O, O, B-geo...</td>\n",
              "    </tr>\n",
              "    <tr>\n",
              "      <th>1</th>\n",
              "      <td>Iranian officials say they expect to get acces...</td>\n",
              "      <td>B-gpe O O O O O O O O O O O O O O B-tim O O O ...</td>\n",
              "      <td>[Iranian, officials, say, they, expect, to, ge...</td>\n",
              "      <td>[B-gpe, O, O, O, O, O, O, O, O, O, O, O, O, O,...</td>\n",
              "    </tr>\n",
              "    <tr>\n",
              "      <th>2</th>\n",
              "      <td>Helicopter gunships Saturday pounded militant ...</td>\n",
              "      <td>O O B-tim O O O O O B-geo O O O O O B-org O O ...</td>\n",
              "      <td>[Helicopter, gunships, Saturday, pounded, mili...</td>\n",
              "      <td>[O, O, B-tim, O, O, O, O, O, B-geo, O, O, O, O...</td>\n",
              "    </tr>\n",
              "    <tr>\n",
              "      <th>3</th>\n",
              "      <td>They left after a tense hour-long standoff wit...</td>\n",
              "      <td>O O O O O O O O O O O</td>\n",
              "      <td>[They, left, after, a, tense, hour-long, stand...</td>\n",
              "      <td>[O, O, O, O, O, O, O, O, O, O, O]</td>\n",
              "    </tr>\n",
              "    <tr>\n",
              "      <th>4</th>\n",
              "      <td>U.N. relief coordinator Jan Egeland said Sunda...</td>\n",
              "      <td>B-geo O O B-per I-per O B-tim O B-geo O B-gpe ...</td>\n",
              "      <td>[U.N., relief, coordinator, Jan, Egeland, said...</td>\n",
              "      <td>[B-geo, O, O, B-per, I-per, O, B-tim, O, B-geo...</td>\n",
              "    </tr>\n",
              "  </tbody>\n",
              "</table>\n",
              "</div>"
            ],
            "text/plain": [
              "                                            Sentence  ...                                           tag_list\n",
              "0  Thousands of demonstrators have marched throug...  ...  [O, O, O, O, O, O, B-geo, O, O, O, O, O, B-geo...\n",
              "1  Iranian officials say they expect to get acces...  ...  [B-gpe, O, O, O, O, O, O, O, O, O, O, O, O, O,...\n",
              "2  Helicopter gunships Saturday pounded militant ...  ...  [O, O, B-tim, O, O, O, O, O, B-geo, O, O, O, O...\n",
              "3  They left after a tense hour-long standoff wit...  ...                  [O, O, O, O, O, O, O, O, O, O, O]\n",
              "4  U.N. relief coordinator Jan Egeland said Sunda...  ...  [B-geo, O, O, B-per, I-per, O, B-tim, O, B-geo...\n",
              "\n",
              "[5 rows x 4 columns]"
            ]
          },
          "metadata": {},
          "execution_count": 8
        }
      ]
    },
    {
      "cell_type": "code",
      "metadata": {
        "colab": {
          "base_uri": "https://localhost:8080/"
        },
        "id": "41-ziqxDYL1f",
        "outputId": "d394dc9a-5d99-4f95-c175-359239be23ab"
      },
      "source": [
        "agg_data['len_sentence']=agg_data['tokenised_sentences'].apply(lambda x:len(x))\n",
        "agg_data['len_tag']=agg_data['tag_list'].apply(lambda x:len(x))\n",
        "agg_data['is_equal']=agg_data.apply(lambda row:1 if row['len_sentence']==row['len_tag'] else 0,axis=1)\n",
        "agg_data['is_equal'].value_counts()"
      ],
      "execution_count": 9,
      "outputs": [
        {
          "output_type": "execute_result",
          "data": {
            "text/plain": [
              "1    47836\n",
              "0      113\n",
              "Name: is_equal, dtype: int64"
            ]
          },
          "metadata": {},
          "execution_count": 9
        }
      ]
    },
    {
      "cell_type": "code",
      "metadata": {
        "colab": {
          "base_uri": "https://localhost:8080/",
          "height": 302
        },
        "id": "SJd1KXB2YX4x",
        "outputId": "13f4f761-38fd-4d16-d598-3ad8bea30501"
      },
      "source": [
        "agg_data.head()"
      ],
      "execution_count": 10,
      "outputs": [
        {
          "output_type": "execute_result",
          "data": {
            "text/html": [
              "<div>\n",
              "<style scoped>\n",
              "    .dataframe tbody tr th:only-of-type {\n",
              "        vertical-align: middle;\n",
              "    }\n",
              "\n",
              "    .dataframe tbody tr th {\n",
              "        vertical-align: top;\n",
              "    }\n",
              "\n",
              "    .dataframe thead th {\n",
              "        text-align: right;\n",
              "    }\n",
              "</style>\n",
              "<table border=\"1\" class=\"dataframe\">\n",
              "  <thead>\n",
              "    <tr style=\"text-align: right;\">\n",
              "      <th></th>\n",
              "      <th>Sentence</th>\n",
              "      <th>Tag</th>\n",
              "      <th>tokenised_sentences</th>\n",
              "      <th>tag_list</th>\n",
              "      <th>len_sentence</th>\n",
              "      <th>len_tag</th>\n",
              "      <th>is_equal</th>\n",
              "    </tr>\n",
              "  </thead>\n",
              "  <tbody>\n",
              "    <tr>\n",
              "      <th>0</th>\n",
              "      <td>Thousands of demonstrators have marched throug...</td>\n",
              "      <td>O O O O O O B-geo O O O O O B-geo O O O O O B-...</td>\n",
              "      <td>[Thousands, of, demonstrators, have, marched, ...</td>\n",
              "      <td>[O, O, O, O, O, O, B-geo, O, O, O, O, O, B-geo...</td>\n",
              "      <td>24</td>\n",
              "      <td>24</td>\n",
              "      <td>1</td>\n",
              "    </tr>\n",
              "    <tr>\n",
              "      <th>1</th>\n",
              "      <td>Iranian officials say they expect to get acces...</td>\n",
              "      <td>B-gpe O O O O O O O O O O O O O O B-tim O O O ...</td>\n",
              "      <td>[Iranian, officials, say, they, expect, to, ge...</td>\n",
              "      <td>[B-gpe, O, O, O, O, O, O, O, O, O, O, O, O, O,...</td>\n",
              "      <td>25</td>\n",
              "      <td>25</td>\n",
              "      <td>1</td>\n",
              "    </tr>\n",
              "    <tr>\n",
              "      <th>2</th>\n",
              "      <td>Helicopter gunships Saturday pounded militant ...</td>\n",
              "      <td>O O B-tim O O O O O B-geo O O O O O B-org O O ...</td>\n",
              "      <td>[Helicopter, gunships, Saturday, pounded, mili...</td>\n",
              "      <td>[O, O, B-tim, O, O, O, O, O, B-geo, O, O, O, O...</td>\n",
              "      <td>32</td>\n",
              "      <td>32</td>\n",
              "      <td>1</td>\n",
              "    </tr>\n",
              "    <tr>\n",
              "      <th>3</th>\n",
              "      <td>They left after a tense hour-long standoff wit...</td>\n",
              "      <td>O O O O O O O O O O O</td>\n",
              "      <td>[They, left, after, a, tense, hour-long, stand...</td>\n",
              "      <td>[O, O, O, O, O, O, O, O, O, O, O]</td>\n",
              "      <td>11</td>\n",
              "      <td>11</td>\n",
              "      <td>1</td>\n",
              "    </tr>\n",
              "    <tr>\n",
              "      <th>4</th>\n",
              "      <td>U.N. relief coordinator Jan Egeland said Sunda...</td>\n",
              "      <td>B-geo O O B-per I-per O B-tim O B-geo O B-gpe ...</td>\n",
              "      <td>[U.N., relief, coordinator, Jan, Egeland, said...</td>\n",
              "      <td>[B-geo, O, O, B-per, I-per, O, B-tim, O, B-geo...</td>\n",
              "      <td>35</td>\n",
              "      <td>35</td>\n",
              "      <td>1</td>\n",
              "    </tr>\n",
              "  </tbody>\n",
              "</table>\n",
              "</div>"
            ],
            "text/plain": [
              "                                            Sentence  ... is_equal\n",
              "0  Thousands of demonstrators have marched throug...  ...        1\n",
              "1  Iranian officials say they expect to get acces...  ...        1\n",
              "2  Helicopter gunships Saturday pounded militant ...  ...        1\n",
              "3  They left after a tense hour-long standoff wit...  ...        1\n",
              "4  U.N. relief coordinator Jan Egeland said Sunda...  ...        1\n",
              "\n",
              "[5 rows x 7 columns]"
            ]
          },
          "metadata": {},
          "execution_count": 10
        }
      ]
    },
    {
      "cell_type": "code",
      "metadata": {
        "colab": {
          "base_uri": "https://localhost:8080/",
          "height": 285
        },
        "id": "_4fSCKws-tOJ",
        "outputId": "04f7fb23-9312-4bef-f8c1-65617a1b8ac0"
      },
      "source": [
        "agg_data[agg_data['is_equal']==0].head()"
      ],
      "execution_count": 11,
      "outputs": [
        {
          "output_type": "execute_result",
          "data": {
            "text/html": [
              "<div>\n",
              "<style scoped>\n",
              "    .dataframe tbody tr th:only-of-type {\n",
              "        vertical-align: middle;\n",
              "    }\n",
              "\n",
              "    .dataframe tbody tr th {\n",
              "        vertical-align: top;\n",
              "    }\n",
              "\n",
              "    .dataframe thead th {\n",
              "        text-align: right;\n",
              "    }\n",
              "</style>\n",
              "<table border=\"1\" class=\"dataframe\">\n",
              "  <thead>\n",
              "    <tr style=\"text-align: right;\">\n",
              "      <th></th>\n",
              "      <th>Sentence</th>\n",
              "      <th>Tag</th>\n",
              "      <th>tokenised_sentences</th>\n",
              "      <th>tag_list</th>\n",
              "      <th>len_sentence</th>\n",
              "      <th>len_tag</th>\n",
              "      <th>is_equal</th>\n",
              "    </tr>\n",
              "  </thead>\n",
              "  <tbody>\n",
              "    <tr>\n",
              "      <th>1463</th>\n",
              "      <td>You do me a grave injustice ,  said the Boss ...</td>\n",
              "      <td>O O O O O O O O O O O O O O O O O O O O</td>\n",
              "      <td>[You, do, me, a, grave, injustice, ,, said, th...</td>\n",
              "      <td>[O, O, O, O, O, O, O, O, O, O, O, O, O, O, O, ...</td>\n",
              "      <td>18</td>\n",
              "      <td>20</td>\n",
              "      <td>0</td>\n",
              "    </tr>\n",
              "    <tr>\n",
              "      <th>1464</th>\n",
              "      <td>I came to Canada solely because of its politi...</td>\n",
              "      <td>O O O O B-geo O O O O O O O O O O O O O O O O O O</td>\n",
              "      <td>[I, came, to, Canada, solely, because, of, its...</td>\n",
              "      <td>[O, O, O, O, B-geo, O, O, O, O, O, O, O, O, O,...</td>\n",
              "      <td>21</td>\n",
              "      <td>23</td>\n",
              "      <td>0</td>\n",
              "    </tr>\n",
              "    <tr>\n",
              "      <th>1465</th>\n",
              "      <td>Pray forgive me ,  said the Citizen of Montre...</td>\n",
              "      <td>O O O O O O O O O O B-org O</td>\n",
              "      <td>[Pray, forgive, me, ,, said, the, Citizen, of,...</td>\n",
              "      <td>[O, O, O, O, O, O, O, O, O, O, B-org, O]</td>\n",
              "      <td>10</td>\n",
              "      <td>12</td>\n",
              "      <td>0</td>\n",
              "    </tr>\n",
              "    <tr>\n",
              "      <th>2220</th>\n",
              "      <td>Not so fast , friend ,  said the Hunter .</td>\n",
              "      <td>O O O O O O O O O O O O</td>\n",
              "      <td>[Not, so, fast, ,, friend, ,, said, the, Hunte...</td>\n",
              "      <td>[O, O, O, O, O, O, O, O, O, O, O, O]</td>\n",
              "      <td>10</td>\n",
              "      <td>12</td>\n",
              "      <td>0</td>\n",
              "    </tr>\n",
              "    <tr>\n",
              "      <th>2221</th>\n",
              "      <td>I have now got you under bit and spur , and p...</td>\n",
              "      <td>O O O O O O O O O O O O O O O O O O O O O O O</td>\n",
              "      <td>[I, have, now, got, you, under, bit, and, spur...</td>\n",
              "      <td>[O, O, O, O, O, O, O, O, O, O, O, O, O, O, O, ...</td>\n",
              "      <td>21</td>\n",
              "      <td>23</td>\n",
              "      <td>0</td>\n",
              "    </tr>\n",
              "  </tbody>\n",
              "</table>\n",
              "</div>"
            ],
            "text/plain": [
              "                                               Sentence  ... is_equal\n",
              "1463   You do me a grave injustice ,  said the Boss ...  ...        0\n",
              "1464   I came to Canada solely because of its politi...  ...        0\n",
              "1465   Pray forgive me ,  said the Citizen of Montre...  ...        0\n",
              "2220          Not so fast , friend ,  said the Hunter .  ...        0\n",
              "2221   I have now got you under bit and spur , and p...  ...        0\n",
              "\n",
              "[5 rows x 7 columns]"
            ]
          },
          "metadata": {},
          "execution_count": 11
        }
      ]
    },
    {
      "cell_type": "code",
      "metadata": {
        "id": "UuWwDABHYePz"
      },
      "source": [
        "agg_data=agg_data[agg_data['is_equal']!=0]"
      ],
      "execution_count": 12,
      "outputs": []
    },
    {
      "cell_type": "code",
      "metadata": {
        "colab": {
          "base_uri": "https://localhost:8080/"
        },
        "id": "yGSTkI4UYqTe",
        "outputId": "54e3d89d-52d8-4fce-9f2d-235379459ee5"
      },
      "source": [
        "agg_data.shape"
      ],
      "execution_count": 13,
      "outputs": [
        {
          "output_type": "execute_result",
          "data": {
            "text/plain": [
              "(47836, 7)"
            ]
          },
          "metadata": {},
          "execution_count": 13
        }
      ]
    },
    {
      "cell_type": "code",
      "metadata": {
        "colab": {
          "base_uri": "https://localhost:8080/"
        },
        "id": "KB4VvLobYuz9",
        "outputId": "72ecc386-f2b2-4274-eb8d-00ce39582441"
      },
      "source": [
        "sentences_list=agg_data['Sentence'].tolist()\n",
        "tags_list=agg_data['tag_list'].tolist()\n",
        "\n",
        "print(\"Number of Sentences in the Data \",len(sentences_list))\n",
        "print(\"Are number of Sentences and Tag list equal \",len(sentences_list)==len(tags_list))"
      ],
      "execution_count": 14,
      "outputs": [
        {
          "output_type": "stream",
          "name": "stdout",
          "text": [
            "Number of Sentences in the Data  47836\n",
            "Are number of Sentences and Tag list equal  True\n"
          ]
        }
      ]
    },
    {
      "cell_type": "code",
      "metadata": {
        "colab": {
          "base_uri": "https://localhost:8080/",
          "height": 53
        },
        "id": "ieahoRsYY2S2",
        "outputId": "0a8c543c-b60c-4b2d-dac8-f99795e7aaec"
      },
      "source": [
        "sentences_list[0]"
      ],
      "execution_count": 16,
      "outputs": [
        {
          "output_type": "execute_result",
          "data": {
            "application/vnd.google.colaboratory.intrinsic+json": {
              "type": "string"
            },
            "text/plain": [
              "'Thousands of demonstrators have marched through London to protest the war in Iraq and demand the withdrawal of British troops from that country .'"
            ]
          },
          "metadata": {},
          "execution_count": 16
        }
      ]
    },
    {
      "cell_type": "code",
      "metadata": {
        "colab": {
          "base_uri": "https://localhost:8080/"
        },
        "id": "lZCeslBaY_x1",
        "outputId": "711621f8-d5e3-46d8-a981-1523f1bb3a6c"
      },
      "source": [
        "tags_list[0]"
      ],
      "execution_count": 17,
      "outputs": [
        {
          "output_type": "execute_result",
          "data": {
            "text/plain": [
              "['O',\n",
              " 'O',\n",
              " 'O',\n",
              " 'O',\n",
              " 'O',\n",
              " 'O',\n",
              " 'B-geo',\n",
              " 'O',\n",
              " 'O',\n",
              " 'O',\n",
              " 'O',\n",
              " 'O',\n",
              " 'B-geo',\n",
              " 'O',\n",
              " 'O',\n",
              " 'O',\n",
              " 'O',\n",
              " 'O',\n",
              " 'B-gpe',\n",
              " 'O',\n",
              " 'O',\n",
              " 'O',\n",
              " 'O',\n",
              " 'O']"
            ]
          },
          "metadata": {},
          "execution_count": 17
        }
      ]
    },
    {
      "cell_type": "code",
      "metadata": {
        "id": "hH5hFHY8ZM4Z"
      },
      "source": [
        "tokeniser= tf.keras.preprocessing.text.Tokenizer(lower=False,filters='')\n",
        "\n",
        "tokeniser.fit_on_texts(sentences_list)"
      ],
      "execution_count": 19,
      "outputs": []
    },
    {
      "cell_type": "code",
      "metadata": {
        "colab": {
          "base_uri": "https://localhost:8080/"
        },
        "id": "RQbkixh6ZelE",
        "outputId": "ecbc31dd-b72f-4921-fa53-d8cafd7a970a"
      },
      "source": [
        "print(\"Vocab size of Tokeniser \",len(tokeniser.word_index)+1) ## Adding one since 0 is reserved for padding"
      ],
      "execution_count": 20,
      "outputs": [
        {
          "output_type": "stream",
          "name": "stdout",
          "text": [
            "Vocab size of Tokeniser  35089\n"
          ]
        }
      ]
    },
    {
      "cell_type": "code",
      "metadata": {
        "colab": {
          "base_uri": "https://localhost:8080/",
          "height": 35
        },
        "id": "tfI4x8KcZjV5",
        "outputId": "09908754-863f-472e-ba35-5e189aed835f"
      },
      "source": [
        "tokeniser.index_word[326]"
      ],
      "execution_count": 21,
      "outputs": [
        {
          "output_type": "execute_result",
          "data": {
            "application/vnd.google.colaboratory.intrinsic+json": {
              "type": "string"
            },
            "text/plain": [
              "'West'"
            ]
          },
          "metadata": {},
          "execution_count": 21
        }
      ]
    },
    {
      "cell_type": "code",
      "metadata": {
        "colab": {
          "base_uri": "https://localhost:8080/"
        },
        "id": "wXLZph1ZZmSr",
        "outputId": "4072f18b-4064-4b61-c6a2-5f039f6c1af0"
      },
      "source": [
        "encoded_sentence=tokeniser.texts_to_sequences(sentences_list)\n",
        "print(\"First Original Sentence \",sentences_list[0])\n",
        "print(\"First Encoded Sentence \",encoded_sentence[0])\n",
        "print(\"Is Length of Original Sentence Same as Encoded Sentence \",len(sentences_list[0].split())==len(encoded_sentence[0]))\n",
        "print(\"Length of First Sentence \",len(encoded_sentence[0]))"
      ],
      "execution_count": 22,
      "outputs": [
        {
          "output_type": "stream",
          "name": "stdout",
          "text": [
            "First Original Sentence  Thousands of demonstrators have marched through London to protest the war in Iraq and demand the withdrawal of British troops from that country .\n",
            "First Encoded Sentence  [1114, 4, 1159, 16, 1848, 229, 477, 6, 532, 1, 155, 5, 58, 8, 580, 1, 848, 4, 179, 87, 21, 15, 52, 2]\n",
            "Is Length of Original Sentence Same as Encoded Sentence  True\n",
            "Length of First Sentence  24\n"
          ]
        }
      ]
    },
    {
      "cell_type": "code",
      "metadata": {
        "colab": {
          "base_uri": "https://localhost:8080/"
        },
        "id": "Kt5DhpOFAbPM",
        "outputId": "df9e7506-4385-4ec8-d7a2-2be3623acbc7"
      },
      "source": [
        "print(len(list(set(data['Tag'].values))))"
      ],
      "execution_count": 26,
      "outputs": [
        {
          "output_type": "stream",
          "name": "stdout",
          "text": [
            "33316\n"
          ]
        }
      ]
    },
    {
      "cell_type": "code",
      "metadata": {
        "colab": {
          "base_uri": "https://localhost:8080/"
        },
        "id": "TRg_SfQqB6Mc",
        "outputId": "4d8dd966-cebc-4e3a-8c4e-d660a4b7ce7a"
      },
      "source": [
        "tagset = set()\n",
        "for x in data['Tag']:\n",
        "    for y in x.split():\n",
        "        tagset.add(y)\n",
        "print(len(list(tagset)))"
      ],
      "execution_count": 28,
      "outputs": [
        {
          "output_type": "stream",
          "name": "stdout",
          "text": [
            "17\n"
          ]
        }
      ]
    },
    {
      "cell_type": "code",
      "metadata": {
        "colab": {
          "base_uri": "https://localhost:8080/"
        },
        "id": "Njc4Y1ShZwWf",
        "outputId": "2055e053-d9f2-4c0c-aaf5-9417f43c6d2a"
      },
      "source": [
        "tags=list(tagset)\n",
        "#print(tags)\n",
        "num_tags=len(tags)\n",
        "print(\"Number of Tags \",num_tags)\n",
        "\n",
        "tags_map={tag:i for i,tag in enumerate(tags)}\n",
        "print(\"Tags Map \",tags_map)"
      ],
      "execution_count": 29,
      "outputs": [
        {
          "output_type": "stream",
          "name": "stdout",
          "text": [
            "Number of Tags  17\n",
            "Tags Map  {'B-org': 0, 'B-per': 1, 'I-per': 2, 'I-tim': 3, 'I-nat': 4, 'O': 5, 'B-art': 6, 'I-eve': 7, 'I-art': 8, 'B-geo': 9, 'I-org': 10, 'I-gpe': 11, 'B-eve': 12, 'B-gpe': 13, 'B-tim': 14, 'B-nat': 15, 'I-geo': 16}\n"
          ]
        }
      ]
    },
    {
      "cell_type": "code",
      "metadata": {
        "id": "5UTslclrZ63u"
      },
      "source": [
        "reverse_tag_map={v: k for k, v in tags_map.items()}"
      ],
      "execution_count": 30,
      "outputs": []
    },
    {
      "cell_type": "code",
      "metadata": {
        "colab": {
          "base_uri": "https://localhost:8080/"
        },
        "id": "ztBNMmgpaKFo",
        "outputId": "700e299b-d157-4b6d-e2b9-162a618b2291"
      },
      "source": [
        "print(\"Reverse Tags Map \", reverse_tag_map)"
      ],
      "execution_count": 31,
      "outputs": [
        {
          "output_type": "stream",
          "name": "stdout",
          "text": [
            "Reverse Tags Map  {0: 'B-org', 1: 'B-per', 2: 'I-per', 3: 'I-tim', 4: 'I-nat', 5: 'O', 6: 'B-art', 7: 'I-eve', 8: 'I-art', 9: 'B-geo', 10: 'I-org', 11: 'I-gpe', 12: 'B-eve', 13: 'B-gpe', 14: 'B-tim', 15: 'B-nat', 16: 'I-geo'}\n"
          ]
        }
      ]
    },
    {
      "cell_type": "code",
      "metadata": {
        "colab": {
          "base_uri": "https://localhost:8080/"
        },
        "id": "kWUsSn7EaVpT",
        "outputId": "7e6543d7-9b77-40e4-cd02-d7d2e1d56a3b"
      },
      "source": [
        "encoded_tags=[[tags_map[w] for w in tag] for tag in tags_list]\n",
        "print(\"First Sentence \",sentences_list[0])\n",
        "print('First Sentence Original Tags ',tags_list[0])\n",
        "print(\"First Sentence Encoded Tags \",encoded_tags[0])\n",
        "print(\"Is length of Original Tags and Encoded Tags same \",len(tags_list[0])==len(encoded_tags[0]))\n",
        "print(\"Length of Tags for First Sentence \",len(encoded_tags[0]))"
      ],
      "execution_count": 32,
      "outputs": [
        {
          "output_type": "stream",
          "name": "stdout",
          "text": [
            "First Sentence  Thousands of demonstrators have marched through London to protest the war in Iraq and demand the withdrawal of British troops from that country .\n",
            "First Sentence Original Tags  ['O', 'O', 'O', 'O', 'O', 'O', 'B-geo', 'O', 'O', 'O', 'O', 'O', 'B-geo', 'O', 'O', 'O', 'O', 'O', 'B-gpe', 'O', 'O', 'O', 'O', 'O']\n",
            "First Sentence Encoded Tags  [5, 5, 5, 5, 5, 5, 9, 5, 5, 5, 5, 5, 9, 5, 5, 5, 5, 5, 13, 5, 5, 5, 5, 5]\n",
            "Is length of Original Tags and Encoded Tags same  True\n",
            "Length of Tags for First Sentence  24\n"
          ]
        }
      ]
    },
    {
      "cell_type": "code",
      "metadata": {
        "colab": {
          "base_uri": "https://localhost:8080/"
        },
        "id": "NGuC_7llacew",
        "outputId": "22fc3881-591e-4ea8-b824-db6acc3d0198"
      },
      "source": [
        "max_sentence_length=max([len(s.split()) for s in sentences_list])\n",
        "print(max_sentence_length)"
      ],
      "execution_count": 33,
      "outputs": [
        {
          "output_type": "stream",
          "name": "stdout",
          "text": [
            "104\n"
          ]
        }
      ]
    },
    {
      "cell_type": "code",
      "metadata": {
        "colab": {
          "base_uri": "https://localhost:8080/"
        },
        "id": "OZlL8rQyaray",
        "outputId": "5ee4d998-b920-4ec9-a1a1-8cdab516f0a5"
      },
      "source": [
        "max_len=128\n",
        "from tensorflow.keras.preprocessing.sequence import pad_sequences\n",
        "from tensorflow.keras.utils import to_categorical\n",
        "\n",
        "padded_encoded_sentences=pad_sequences(maxlen=max_len,sequences=encoded_sentence,padding=\"post\",value=0)\n",
        "padded_encoded_tags=pad_sequences(maxlen=max_len,sequences=encoded_tags,padding=\"post\",value=tags_map['O'])\n",
        "\n",
        "print(\"Shape of Encoded Sentence \",padded_encoded_sentences.shape)\n",
        "print(\"Shape of Encoded Labels \",padded_encoded_tags.shape)\n",
        "\n",
        "print(\"First Encoded Sentence Without Padding \",encoded_sentence[0])\n",
        "print(\"First Encoded Sentence with padding \",padded_encoded_sentences[0])\n",
        "print(\"First Sentence Encoded Label without Padding \",encoded_tags[0])\n",
        "print(\"First Sentence Encoded Label with Padding \",padded_encoded_tags[0])"
      ],
      "execution_count": 34,
      "outputs": [
        {
          "output_type": "stream",
          "name": "stdout",
          "text": [
            "Shape of Encoded Sentence  (47836, 128)\n",
            "Shape of Encoded Labels  (47836, 128)\n",
            "First Encoded Sentence Without Padding  [1114, 4, 1159, 16, 1848, 229, 477, 6, 532, 1, 155, 5, 58, 8, 580, 1, 848, 4, 179, 87, 21, 15, 52, 2]\n",
            "First Encoded Sentence with padding  [1114    4 1159   16 1848  229  477    6  532    1  155    5   58    8\n",
            "  580    1  848    4  179   87   21   15   52    2    0    0    0    0\n",
            "    0    0    0    0    0    0    0    0    0    0    0    0    0    0\n",
            "    0    0    0    0    0    0    0    0    0    0    0    0    0    0\n",
            "    0    0    0    0    0    0    0    0    0    0    0    0    0    0\n",
            "    0    0    0    0    0    0    0    0    0    0    0    0    0    0\n",
            "    0    0    0    0    0    0    0    0    0    0    0    0    0    0\n",
            "    0    0    0    0    0    0    0    0    0    0    0    0    0    0\n",
            "    0    0    0    0    0    0    0    0    0    0    0    0    0    0\n",
            "    0    0]\n",
            "First Sentence Encoded Label without Padding  [5, 5, 5, 5, 5, 5, 9, 5, 5, 5, 5, 5, 9, 5, 5, 5, 5, 5, 13, 5, 5, 5, 5, 5]\n",
            "First Sentence Encoded Label with Padding  [ 5  5  5  5  5  5  9  5  5  5  5  5  9  5  5  5  5  5 13  5  5  5  5  5\n",
            "  5  5  5  5  5  5  5  5  5  5  5  5  5  5  5  5  5  5  5  5  5  5  5  5\n",
            "  5  5  5  5  5  5  5  5  5  5  5  5  5  5  5  5  5  5  5  5  5  5  5  5\n",
            "  5  5  5  5  5  5  5  5  5  5  5  5  5  5  5  5  5  5  5  5  5  5  5  5\n",
            "  5  5  5  5  5  5  5  5  5  5  5  5  5  5  5  5  5  5  5  5  5  5  5  5\n",
            "  5  5  5  5  5  5  5  5]\n"
          ]
        }
      ]
    },
    {
      "cell_type": "code",
      "metadata": {
        "colab": {
          "base_uri": "https://localhost:8080/"
        },
        "id": "nlOXcjt0a6bo",
        "outputId": "f9c322b7-5a4d-401c-a559-fc22716397d1"
      },
      "source": [
        "target= [to_categorical(i,num_classes = num_tags) for i in  padded_encoded_tags]\n",
        "print(\"Shape of Labels  after converting to Categorical for first sentence \",target[0].shape)"
      ],
      "execution_count": 35,
      "outputs": [
        {
          "output_type": "stream",
          "name": "stdout",
          "text": [
            "Shape of Labels  after converting to Categorical for first sentence  (128, 17)\n"
          ]
        }
      ]
    },
    {
      "cell_type": "code",
      "metadata": {
        "colab": {
          "base_uri": "https://localhost:8080/"
        },
        "id": "l0zey3wwbPag",
        "outputId": "6ea4fa16-ad4f-435c-d547-e7e8cf652940"
      },
      "source": [
        "target[0]"
      ],
      "execution_count": 36,
      "outputs": [
        {
          "output_type": "execute_result",
          "data": {
            "text/plain": [
              "array([[0., 0., 0., ..., 0., 0., 0.],\n",
              "       [0., 0., 0., ..., 0., 0., 0.],\n",
              "       [0., 0., 0., ..., 0., 0., 0.],\n",
              "       ...,\n",
              "       [0., 0., 0., ..., 0., 0., 0.],\n",
              "       [0., 0., 0., ..., 0., 0., 0.],\n",
              "       [0., 0., 0., ..., 0., 0., 0.]], dtype=float32)"
            ]
          },
          "metadata": {},
          "execution_count": 36
        }
      ]
    },
    {
      "cell_type": "code",
      "metadata": {
        "colab": {
          "base_uri": "https://localhost:8080/"
        },
        "id": "c16Dg5l3bURi",
        "outputId": "4daad494-3b9c-4cc3-b685-0a60fdb2d887"
      },
      "source": [
        "from sklearn.model_selection import train_test_split\n",
        "X_train,X_val_test,y_train,y_val_test = train_test_split(padded_encoded_sentences,target,test_size = 0.3,random_state=42)\n",
        "X_val,X_test,y_val,y_test = train_test_split(X_val_test,y_val_test,test_size = 0.2,random_state=42)\n",
        "print(\"Input Train Data Shape \",X_train.shape)\n",
        "print(\"Train Labels Length \",len(y_train))\n",
        "print(\"Input Test Data Shape \",X_test.shape)\n",
        "print(\"Test Labels Length \",len(y_test))\n",
        "\n",
        "print(\"Input Validation Data Shape \",X_val.shape)\n",
        "print(\"Validation Labels Length \",len(y_val))"
      ],
      "execution_count": 37,
      "outputs": [
        {
          "output_type": "stream",
          "name": "stdout",
          "text": [
            "Input Train Data Shape  (33485, 128)\n",
            "Train Labels Length  33485\n",
            "Input Test Data Shape  (2871, 128)\n",
            "Test Labels Length  2871\n",
            "Input Validation Data Shape  (11480, 128)\n",
            "Validation Labels Length  11480\n"
          ]
        }
      ]
    },
    {
      "cell_type": "code",
      "metadata": {
        "colab": {
          "base_uri": "https://localhost:8080/"
        },
        "id": "EnWDkTu5bpv9",
        "outputId": "e5fa15f8-7f32-46ef-e67e-b79bd173b8ee"
      },
      "source": [
        "print(\"First Sentence in Training Data \",X_train[0])\n",
        "print(\"First sentence Label \",y_train[0])\n",
        "print(\"Shape of First Sentence -Train\",X_train[0].shape)\n",
        "print(\"Shape of First Sentence Label  -Train\",y_train[0].shape)"
      ],
      "execution_count": 38,
      "outputs": [
        {
          "output_type": "stream",
          "name": "stdout",
          "text": [
            "First Sentence in Training Data  [  59    7  156   80    3    1 1447 1983   20  116 1103    1 2251   60\n",
            "   65   44  306  106  281  370    4    1  218  522    2    0    0    0\n",
            "    0    0    0    0    0    0    0    0    0    0    0    0    0    0\n",
            "    0    0    0    0    0    0    0    0    0    0    0    0    0    0\n",
            "    0    0    0    0    0    0    0    0    0    0    0    0    0    0\n",
            "    0    0    0    0    0    0    0    0    0    0    0    0    0    0\n",
            "    0    0    0    0    0    0    0    0    0    0    0    0    0    0\n",
            "    0    0    0    0    0    0    0    0    0    0    0    0    0    0\n",
            "    0    0    0    0    0    0    0    0    0    0    0    0    0    0\n",
            "    0    0]\n",
            "First sentence Label  [[0. 0. 0. ... 0. 0. 0.]\n",
            " [0. 0. 0. ... 0. 0. 0.]\n",
            " [0. 0. 0. ... 0. 0. 0.]\n",
            " ...\n",
            " [0. 0. 0. ... 0. 0. 0.]\n",
            " [0. 0. 0. ... 0. 0. 0.]\n",
            " [0. 0. 0. ... 0. 0. 0.]]\n",
            "Shape of First Sentence -Train (128,)\n",
            "Shape of First Sentence Label  -Train (128, 17)\n"
          ]
        }
      ]
    },
    {
      "cell_type": "code",
      "metadata": {
        "id": "2BTKpkARbz_u"
      },
      "source": [
        "from tensorflow.keras import Model,Input\n",
        "from tensorflow.keras.layers import LSTM,Embedding,Dense\n",
        "from tensorflow.keras.layers import TimeDistributed, SpatialDropout1D,Bidirectional"
      ],
      "execution_count": 39,
      "outputs": []
    },
    {
      "cell_type": "code",
      "metadata": {
        "colab": {
          "base_uri": "https://localhost:8080/"
        },
        "id": "in0a4HaKcZ4W",
        "outputId": "68565669-e317-4cb1-dab3-2bd7f4150af5"
      },
      "source": [
        "embedding_dim=128\n",
        "vocab_size=len(tokeniser.word_index)+1\n",
        "lstm_units=128\n",
        "max_len=128\n",
        "\n",
        "input_word = Input(shape = (max_len,))\n",
        "model = Embedding(input_dim = vocab_size+1,output_dim = embedding_dim,input_length = max_len)(input_word)\n",
        "model = Bidirectional(LSTM(units=embedding_dim, return_sequences=True, dropout=0.2, recurrent_dropout=0.2), merge_mode = 'concat')(model)\n",
        "model = LSTM(units=embedding_dim,return_sequences=True)(model)\n",
        "out = TimeDistributed(Dense(num_tags,activation = 'softmax'))(model)\n",
        "model = Model(input_word,out)\n",
        "model.summary()"
      ],
      "execution_count": 68,
      "outputs": [
        {
          "output_type": "stream",
          "name": "stdout",
          "text": [
            "WARNING:tensorflow:Layer lstm_1 will not use cuDNN kernels since it doesn't meet the criteria. It will use a generic GPU kernel as fallback when running on GPU.\n",
            "WARNING:tensorflow:Layer lstm_1 will not use cuDNN kernels since it doesn't meet the criteria. It will use a generic GPU kernel as fallback when running on GPU.\n",
            "WARNING:tensorflow:Layer lstm_1 will not use cuDNN kernels since it doesn't meet the criteria. It will use a generic GPU kernel as fallback when running on GPU.\n",
            "Model: \"model_1\"\n",
            "_________________________________________________________________\n",
            "Layer (type)                 Output Shape              Param #   \n",
            "=================================================================\n",
            "input_2 (InputLayer)         [(None, 128)]             0         \n",
            "_________________________________________________________________\n",
            "embedding_1 (Embedding)      (None, 128, 128)          4491520   \n",
            "_________________________________________________________________\n",
            "bidirectional (Bidirectional (None, 128, 256)          263168    \n",
            "_________________________________________________________________\n",
            "lstm_2 (LSTM)                (None, 128, 128)          197120    \n",
            "_________________________________________________________________\n",
            "time_distributed_1 (TimeDist (None, 128, 17)           2193      \n",
            "=================================================================\n",
            "Total params: 4,954,001\n",
            "Trainable params: 4,954,001\n",
            "Non-trainable params: 0\n",
            "_________________________________________________________________\n"
          ]
        }
      ]
    },
    {
      "cell_type": "code",
      "metadata": {
        "id": "Q_LXv4CycfUV"
      },
      "source": [
        "model.compile(optimizer = 'adam',loss = 'categorical_crossentropy',metrics = ['accuracy'])"
      ],
      "execution_count": 69,
      "outputs": []
    },
    {
      "cell_type": "code",
      "metadata": {
        "colab": {
          "base_uri": "https://localhost:8080/"
        },
        "id": "vLObTXB7cspi",
        "outputId": "a70a243e-979d-4a85-8b3f-a54593824afb"
      },
      "source": [
        "history = model.fit(X_train,np.array(y_train),validation_data=(X_val,np.array(y_val)),batch_size = 32,epochs = 1)"
      ],
      "execution_count": 70,
      "outputs": [
        {
          "output_type": "stream",
          "name": "stdout",
          "text": [
            "1047/1047 [==============================] - 1962s 2s/step - loss: 0.0801 - accuracy: 0.9818 - val_loss: 0.0308 - val_accuracy: 0.9914\n"
          ]
        }
      ]
    },
    {
      "cell_type": "code",
      "metadata": {
        "id": "qBqvKKticxPn"
      },
      "source": [
        "preds=model.predict(X_test) ## Predict using model on Test Data"
      ],
      "execution_count": 71,
      "outputs": []
    },
    {
      "cell_type": "code",
      "metadata": {
        "id": "aoBKIeLHdaNF"
      },
      "source": [
        "def evaluatePredictions(test_data,preds,actual_preds):\n",
        "    print(\"Shape of Test Data Array\",test_data.shape)\n",
        "    y_actual=np.argmax(np.array(actual_preds),axis=2)\n",
        "    y_pred=np.argmax(preds,axis=2)\n",
        "    num_test_data=test_data.shape[0]\n",
        "    print(\"Number of Test Data Points \",num_test_data)\n",
        "    data=pd.DataFrame()\n",
        "    df_list=[]\n",
        "    for i in range(num_test_data):\n",
        "        test_str=list(test_data[i])\n",
        "        df=pd.DataFrame()\n",
        "        df['test_input']=test_data[i]\n",
        "        df['test_tokens']=test_str\n",
        "        df['tokens']=df['test_tokens'].apply(lambda x:tokeniser.index_word[x] if x!=0 else '<PAD>')\n",
        "        df['actual_target_index']=list(y_actual[i])\n",
        "        df['pred_target_index']=list(y_pred[i])\n",
        "        df['actual_target_tag']=df['actual_target_index'].apply(lambda x:reverse_tag_map[x])\n",
        "        df['pred_target_tag']=df['pred_target_index'].apply(lambda x:reverse_tag_map[x])\n",
        "        df['id']=i+1\n",
        "        df_list.append(df)\n",
        "    data=pd.concat(df_list)\n",
        "    pred_data=data[data['tokens']!='<PAD>']\n",
        "    accuracy=pred_data[pred_data['actual_target_tag']==pred_data['pred_target_tag']].shape[0]/pred_data.shape[0]\n",
        "    \n",
        "    return pred_data,accuracy"
      ],
      "execution_count": 72,
      "outputs": []
    },
    {
      "cell_type": "code",
      "metadata": {
        "colab": {
          "base_uri": "https://localhost:8080/"
        },
        "id": "5gcj6vi7dmyl",
        "outputId": "07643722-010e-444c-99e1-10e172e4cd00"
      },
      "source": [
        "pred_data,accuracy=evaluatePredictions(X_test,preds,y_test)"
      ],
      "execution_count": 73,
      "outputs": [
        {
          "output_type": "stream",
          "name": "stdout",
          "text": [
            "Shape of Test Data Array (2871, 128)\n",
            "Number of Test Data Points  2871\n"
          ]
        }
      ]
    },
    {
      "cell_type": "code",
      "metadata": {
        "id": "w4oYDFFUdsXo"
      },
      "source": [
        "y_pred=pred_data['pred_target_tag'].tolist()\n",
        "y_actual=pred_data['actual_target_tag'].tolist()"
      ],
      "execution_count": 74,
      "outputs": []
    },
    {
      "cell_type": "code",
      "metadata": {
        "colab": {
          "base_uri": "https://localhost:8080/"
        },
        "id": "iT5gNooQd5bZ",
        "outputId": "31afd63d-ad96-47c8-8ea9-7491e15e4190"
      },
      "source": [
        "print(classification_report(y_actual,y_pred))"
      ],
      "execution_count": 75,
      "outputs": [
        {
          "output_type": "stream",
          "name": "stderr",
          "text": [
            "/usr/local/lib/python3.7/dist-packages/sklearn/metrics/_classification.py:1272: UndefinedMetricWarning: Precision and F-score are ill-defined and being set to 0.0 in labels with no predicted samples. Use `zero_division` parameter to control this behavior.\n",
            "  _warn_prf(average, modifier, msg_start, len(result))\n"
          ]
        },
        {
          "output_type": "stream",
          "name": "stdout",
          "text": [
            "              precision    recall  f1-score   support\n",
            "\n",
            "       B-art       0.00      0.00      0.00        23\n",
            "       B-eve       0.00      0.00      0.00        19\n",
            "       B-geo       0.82      0.81      0.82      2352\n",
            "       B-gpe       0.92      0.85      0.88      1011\n",
            "       B-nat       0.00      0.00      0.00        10\n",
            "       B-org       0.57      0.64      0.61      1260\n",
            "       B-per       0.74      0.62      0.68      1060\n",
            "       B-tim       0.89      0.73      0.80      1184\n",
            "       I-art       0.00      0.00      0.00        19\n",
            "       I-eve       0.00      0.00      0.00        23\n",
            "       I-geo       0.77      0.67      0.72       456\n",
            "       I-gpe       0.00      0.00      0.00        10\n",
            "       I-nat       0.00      0.00      0.00         4\n",
            "       I-org       0.64      0.67      0.66       984\n",
            "       I-per       0.82      0.76      0.79      1085\n",
            "       I-tim       0.95      0.35      0.51       449\n",
            "           O       0.98      0.99      0.99     53115\n",
            "\n",
            "    accuracy                           0.95     63064\n",
            "   macro avg       0.48      0.42      0.44     63064\n",
            "weighted avg       0.95      0.95      0.95     63064\n",
            "\n"
          ]
        }
      ]
    },
    {
      "cell_type": "code",
      "metadata": {
        "colab": {
          "base_uri": "https://localhost:8080/",
          "height": 754
        },
        "id": "H_YqG9z2d9bF",
        "outputId": "e96cd1a2-6449-467e-9816-99047ab54443"
      },
      "source": [
        "pred_data[pred_data['actual_target_tag']==\"B-art\"]"
      ],
      "execution_count": 76,
      "outputs": [
        {
          "output_type": "execute_result",
          "data": {
            "text/html": [
              "<div>\n",
              "<style scoped>\n",
              "    .dataframe tbody tr th:only-of-type {\n",
              "        vertical-align: middle;\n",
              "    }\n",
              "\n",
              "    .dataframe tbody tr th {\n",
              "        vertical-align: top;\n",
              "    }\n",
              "\n",
              "    .dataframe thead th {\n",
              "        text-align: right;\n",
              "    }\n",
              "</style>\n",
              "<table border=\"1\" class=\"dataframe\">\n",
              "  <thead>\n",
              "    <tr style=\"text-align: right;\">\n",
              "      <th></th>\n",
              "      <th>test_input</th>\n",
              "      <th>test_tokens</th>\n",
              "      <th>tokens</th>\n",
              "      <th>actual_target_index</th>\n",
              "      <th>pred_target_index</th>\n",
              "      <th>actual_target_tag</th>\n",
              "      <th>pred_target_tag</th>\n",
              "      <th>id</th>\n",
              "    </tr>\n",
              "  </thead>\n",
              "  <tbody>\n",
              "    <tr>\n",
              "      <th>5</th>\n",
              "      <td>19245</td>\n",
              "      <td>19245</td>\n",
              "      <td>Tree</td>\n",
              "      <td>6</td>\n",
              "      <td>5</td>\n",
              "      <td>B-art</td>\n",
              "      <td>O</td>\n",
              "      <td>238</td>\n",
              "    </tr>\n",
              "    <tr>\n",
              "      <th>16</th>\n",
              "      <td>3231</td>\n",
              "      <td>3231</td>\n",
              "      <td>Emergency</td>\n",
              "      <td>6</td>\n",
              "      <td>5</td>\n",
              "      <td>B-art</td>\n",
              "      <td>O</td>\n",
              "      <td>334</td>\n",
              "    </tr>\n",
              "    <tr>\n",
              "      <th>9</th>\n",
              "      <td>31327</td>\n",
              "      <td>31327</td>\n",
              "      <td>Rolls</td>\n",
              "      <td>6</td>\n",
              "      <td>5</td>\n",
              "      <td>B-art</td>\n",
              "      <td>O</td>\n",
              "      <td>391</td>\n",
              "    </tr>\n",
              "    <tr>\n",
              "      <th>26</th>\n",
              "      <td>2797</td>\n",
              "      <td>2797</td>\n",
              "      <td>English</td>\n",
              "      <td>6</td>\n",
              "      <td>13</td>\n",
              "      <td>B-art</td>\n",
              "      <td>B-gpe</td>\n",
              "      <td>417</td>\n",
              "    </tr>\n",
              "    <tr>\n",
              "      <th>6</th>\n",
              "      <td>296</td>\n",
              "      <td>296</td>\n",
              "      <td>French</td>\n",
              "      <td>6</td>\n",
              "      <td>13</td>\n",
              "      <td>B-art</td>\n",
              "      <td>B-gpe</td>\n",
              "      <td>612</td>\n",
              "    </tr>\n",
              "    <tr>\n",
              "      <th>8</th>\n",
              "      <td>3187</td>\n",
              "      <td>3187</td>\n",
              "      <td>al-Jazeera</td>\n",
              "      <td>6</td>\n",
              "      <td>0</td>\n",
              "      <td>B-art</td>\n",
              "      <td>B-org</td>\n",
              "      <td>1064</td>\n",
              "    </tr>\n",
              "    <tr>\n",
              "      <th>9</th>\n",
              "      <td>5647</td>\n",
              "      <td>5647</td>\n",
              "      <td>Facebook</td>\n",
              "      <td>6</td>\n",
              "      <td>0</td>\n",
              "      <td>B-art</td>\n",
              "      <td>B-org</td>\n",
              "      <td>1181</td>\n",
              "    </tr>\n",
              "    <tr>\n",
              "      <th>1</th>\n",
              "      <td>128</td>\n",
              "      <td>128</td>\n",
              "      <td>U.N.</td>\n",
              "      <td>6</td>\n",
              "      <td>0</td>\n",
              "      <td>B-art</td>\n",
              "      <td>B-org</td>\n",
              "      <td>1257</td>\n",
              "    </tr>\n",
              "    <tr>\n",
              "      <th>6</th>\n",
              "      <td>3887</td>\n",
              "      <td>3887</td>\n",
              "      <td>WFP</td>\n",
              "      <td>6</td>\n",
              "      <td>0</td>\n",
              "      <td>B-art</td>\n",
              "      <td>B-org</td>\n",
              "      <td>1257</td>\n",
              "    </tr>\n",
              "    <tr>\n",
              "      <th>21</th>\n",
              "      <td>1013</td>\n",
              "      <td>1013</td>\n",
              "      <td>Georgia</td>\n",
              "      <td>6</td>\n",
              "      <td>9</td>\n",
              "      <td>B-art</td>\n",
              "      <td>B-geo</td>\n",
              "      <td>1346</td>\n",
              "    </tr>\n",
              "    <tr>\n",
              "      <th>7</th>\n",
              "      <td>5647</td>\n",
              "      <td>5647</td>\n",
              "      <td>Facebook</td>\n",
              "      <td>6</td>\n",
              "      <td>0</td>\n",
              "      <td>B-art</td>\n",
              "      <td>B-org</td>\n",
              "      <td>1480</td>\n",
              "    </tr>\n",
              "    <tr>\n",
              "      <th>14</th>\n",
              "      <td>860</td>\n",
              "      <td>860</td>\n",
              "      <td>Abu</td>\n",
              "      <td>6</td>\n",
              "      <td>0</td>\n",
              "      <td>B-art</td>\n",
              "      <td>B-org</td>\n",
              "      <td>1616</td>\n",
              "    </tr>\n",
              "    <tr>\n",
              "      <th>4</th>\n",
              "      <td>2586</td>\n",
              "      <td>2586</td>\n",
              "      <td>Free</td>\n",
              "      <td>6</td>\n",
              "      <td>10</td>\n",
              "      <td>B-art</td>\n",
              "      <td>I-org</td>\n",
              "      <td>1741</td>\n",
              "    </tr>\n",
              "    <tr>\n",
              "      <th>8</th>\n",
              "      <td>14805</td>\n",
              "      <td>14805</td>\n",
              "      <td>CAFTA-DR</td>\n",
              "      <td>6</td>\n",
              "      <td>5</td>\n",
              "      <td>B-art</td>\n",
              "      <td>O</td>\n",
              "      <td>1741</td>\n",
              "    </tr>\n",
              "    <tr>\n",
              "      <th>2</th>\n",
              "      <td>2294</td>\n",
              "      <td>2294</td>\n",
              "      <td>Nobel</td>\n",
              "      <td>6</td>\n",
              "      <td>0</td>\n",
              "      <td>B-art</td>\n",
              "      <td>B-org</td>\n",
              "      <td>1762</td>\n",
              "    </tr>\n",
              "    <tr>\n",
              "      <th>14</th>\n",
              "      <td>27881</td>\n",
              "      <td>27881</td>\n",
              "      <td>Flanders</td>\n",
              "      <td>6</td>\n",
              "      <td>5</td>\n",
              "      <td>B-art</td>\n",
              "      <td>O</td>\n",
              "      <td>2069</td>\n",
              "    </tr>\n",
              "    <tr>\n",
              "      <th>2</th>\n",
              "      <td>2755</td>\n",
              "      <td>2755</td>\n",
              "      <td>Panama</td>\n",
              "      <td>6</td>\n",
              "      <td>1</td>\n",
              "      <td>B-art</td>\n",
              "      <td>B-per</td>\n",
              "      <td>2080</td>\n",
              "    </tr>\n",
              "    <tr>\n",
              "      <th>9</th>\n",
              "      <td>4969</td>\n",
              "      <td>4969</td>\n",
              "      <td>Canal</td>\n",
              "      <td>6</td>\n",
              "      <td>9</td>\n",
              "      <td>B-art</td>\n",
              "      <td>B-geo</td>\n",
              "      <td>2080</td>\n",
              "    </tr>\n",
              "    <tr>\n",
              "      <th>2</th>\n",
              "      <td>5046</td>\n",
              "      <td>5046</td>\n",
              "      <td>Fort</td>\n",
              "      <td>6</td>\n",
              "      <td>0</td>\n",
              "      <td>B-art</td>\n",
              "      <td>B-org</td>\n",
              "      <td>2169</td>\n",
              "    </tr>\n",
              "    <tr>\n",
              "      <th>15</th>\n",
              "      <td>28317</td>\n",
              "      <td>28317</td>\n",
              "      <td>Ouagadougou</td>\n",
              "      <td>6</td>\n",
              "      <td>0</td>\n",
              "      <td>B-art</td>\n",
              "      <td>B-org</td>\n",
              "      <td>2391</td>\n",
              "    </tr>\n",
              "    <tr>\n",
              "      <th>5</th>\n",
              "      <td>11037</td>\n",
              "      <td>11037</td>\n",
              "      <td>Kommersant</td>\n",
              "      <td>6</td>\n",
              "      <td>5</td>\n",
              "      <td>B-art</td>\n",
              "      <td>O</td>\n",
              "      <td>2392</td>\n",
              "    </tr>\n",
              "    <tr>\n",
              "      <th>14</th>\n",
              "      <td>5647</td>\n",
              "      <td>5647</td>\n",
              "      <td>Facebook</td>\n",
              "      <td>6</td>\n",
              "      <td>0</td>\n",
              "      <td>B-art</td>\n",
              "      <td>B-org</td>\n",
              "      <td>2657</td>\n",
              "    </tr>\n",
              "    <tr>\n",
              "      <th>6</th>\n",
              "      <td>9803</td>\n",
              "      <td>9803</td>\n",
              "      <td>Imperial</td>\n",
              "      <td>6</td>\n",
              "      <td>0</td>\n",
              "      <td>B-art</td>\n",
              "      <td>B-org</td>\n",
              "      <td>2702</td>\n",
              "    </tr>\n",
              "  </tbody>\n",
              "</table>\n",
              "</div>"
            ],
            "text/plain": [
              "    test_input  test_tokens  ... pred_target_tag    id\n",
              "5        19245        19245  ...               O   238\n",
              "16        3231         3231  ...               O   334\n",
              "9        31327        31327  ...               O   391\n",
              "26        2797         2797  ...           B-gpe   417\n",
              "6          296          296  ...           B-gpe   612\n",
              "8         3187         3187  ...           B-org  1064\n",
              "9         5647         5647  ...           B-org  1181\n",
              "1          128          128  ...           B-org  1257\n",
              "6         3887         3887  ...           B-org  1257\n",
              "21        1013         1013  ...           B-geo  1346\n",
              "7         5647         5647  ...           B-org  1480\n",
              "14         860          860  ...           B-org  1616\n",
              "4         2586         2586  ...           I-org  1741\n",
              "8        14805        14805  ...               O  1741\n",
              "2         2294         2294  ...           B-org  1762\n",
              "14       27881        27881  ...               O  2069\n",
              "2         2755         2755  ...           B-per  2080\n",
              "9         4969         4969  ...           B-geo  2080\n",
              "2         5046         5046  ...           B-org  2169\n",
              "15       28317        28317  ...           B-org  2391\n",
              "5        11037        11037  ...               O  2392\n",
              "14        5647         5647  ...           B-org  2657\n",
              "6         9803         9803  ...           B-org  2702\n",
              "\n",
              "[23 rows x 8 columns]"
            ]
          },
          "metadata": {},
          "execution_count": 76
        }
      ]
    },
    {
      "cell_type": "code",
      "metadata": {
        "colab": {
          "base_uri": "https://localhost:8080/",
          "height": 355
        },
        "id": "oHlc16CVeOUE",
        "outputId": "6dfd41e8-2d22-4965-b2ee-ca29006759ca"
      },
      "source": [
        "pred_data[pred_data['actual_target_tag']==\"B-nat\"]"
      ],
      "execution_count": 77,
      "outputs": [
        {
          "output_type": "execute_result",
          "data": {
            "text/html": [
              "<div>\n",
              "<style scoped>\n",
              "    .dataframe tbody tr th:only-of-type {\n",
              "        vertical-align: middle;\n",
              "    }\n",
              "\n",
              "    .dataframe tbody tr th {\n",
              "        vertical-align: top;\n",
              "    }\n",
              "\n",
              "    .dataframe thead th {\n",
              "        text-align: right;\n",
              "    }\n",
              "</style>\n",
              "<table border=\"1\" class=\"dataframe\">\n",
              "  <thead>\n",
              "    <tr style=\"text-align: right;\">\n",
              "      <th></th>\n",
              "      <th>test_input</th>\n",
              "      <th>test_tokens</th>\n",
              "      <th>tokens</th>\n",
              "      <th>actual_target_index</th>\n",
              "      <th>pred_target_index</th>\n",
              "      <th>actual_target_tag</th>\n",
              "      <th>pred_target_tag</th>\n",
              "      <th>id</th>\n",
              "    </tr>\n",
              "  </thead>\n",
              "  <tbody>\n",
              "    <tr>\n",
              "      <th>6</th>\n",
              "      <td>948</td>\n",
              "      <td>948</td>\n",
              "      <td>Katrina</td>\n",
              "      <td>15</td>\n",
              "      <td>5</td>\n",
              "      <td>B-nat</td>\n",
              "      <td>O</td>\n",
              "      <td>200</td>\n",
              "    </tr>\n",
              "    <tr>\n",
              "      <th>6</th>\n",
              "      <td>4006</td>\n",
              "      <td>4006</td>\n",
              "      <td>Rita</td>\n",
              "      <td>15</td>\n",
              "      <td>0</td>\n",
              "      <td>B-nat</td>\n",
              "      <td>B-org</td>\n",
              "      <td>290</td>\n",
              "    </tr>\n",
              "    <tr>\n",
              "      <th>18</th>\n",
              "      <td>10306</td>\n",
              "      <td>10306</td>\n",
              "      <td>H5N2</td>\n",
              "      <td>15</td>\n",
              "      <td>5</td>\n",
              "      <td>B-nat</td>\n",
              "      <td>O</td>\n",
              "      <td>459</td>\n",
              "    </tr>\n",
              "    <tr>\n",
              "      <th>14</th>\n",
              "      <td>709</td>\n",
              "      <td>709</td>\n",
              "      <td>2007</td>\n",
              "      <td>15</td>\n",
              "      <td>5</td>\n",
              "      <td>B-nat</td>\n",
              "      <td>O</td>\n",
              "      <td>510</td>\n",
              "    </tr>\n",
              "    <tr>\n",
              "      <th>21</th>\n",
              "      <td>24632</td>\n",
              "      <td>24632</td>\n",
              "      <td>Euphausia</td>\n",
              "      <td>15</td>\n",
              "      <td>5</td>\n",
              "      <td>B-nat</td>\n",
              "      <td>O</td>\n",
              "      <td>595</td>\n",
              "    </tr>\n",
              "    <tr>\n",
              "      <th>34</th>\n",
              "      <td>24635</td>\n",
              "      <td>24635</td>\n",
              "      <td>Dissostichus</td>\n",
              "      <td>15</td>\n",
              "      <td>5</td>\n",
              "      <td>B-nat</td>\n",
              "      <td>O</td>\n",
              "      <td>595</td>\n",
              "    </tr>\n",
              "    <tr>\n",
              "      <th>14</th>\n",
              "      <td>824</td>\n",
              "      <td>824</td>\n",
              "      <td>Hurricane</td>\n",
              "      <td>15</td>\n",
              "      <td>5</td>\n",
              "      <td>B-nat</td>\n",
              "      <td>O</td>\n",
              "      <td>1106</td>\n",
              "    </tr>\n",
              "    <tr>\n",
              "      <th>8</th>\n",
              "      <td>948</td>\n",
              "      <td>948</td>\n",
              "      <td>Katrina</td>\n",
              "      <td>15</td>\n",
              "      <td>5</td>\n",
              "      <td>B-nat</td>\n",
              "      <td>O</td>\n",
              "      <td>1203</td>\n",
              "    </tr>\n",
              "    <tr>\n",
              "      <th>37</th>\n",
              "      <td>948</td>\n",
              "      <td>948</td>\n",
              "      <td>Katrina</td>\n",
              "      <td>15</td>\n",
              "      <td>5</td>\n",
              "      <td>B-nat</td>\n",
              "      <td>O</td>\n",
              "      <td>1350</td>\n",
              "    </tr>\n",
              "    <tr>\n",
              "      <th>0</th>\n",
              "      <td>948</td>\n",
              "      <td>948</td>\n",
              "      <td>Katrina</td>\n",
              "      <td>15</td>\n",
              "      <td>5</td>\n",
              "      <td>B-nat</td>\n",
              "      <td>O</td>\n",
              "      <td>2437</td>\n",
              "    </tr>\n",
              "  </tbody>\n",
              "</table>\n",
              "</div>"
            ],
            "text/plain": [
              "    test_input  test_tokens  ... pred_target_tag    id\n",
              "6          948          948  ...               O   200\n",
              "6         4006         4006  ...           B-org   290\n",
              "18       10306        10306  ...               O   459\n",
              "14         709          709  ...               O   510\n",
              "21       24632        24632  ...               O   595\n",
              "34       24635        24635  ...               O   595\n",
              "14         824          824  ...               O  1106\n",
              "8          948          948  ...               O  1203\n",
              "37         948          948  ...               O  1350\n",
              "0          948          948  ...               O  2437\n",
              "\n",
              "[10 rows x 8 columns]"
            ]
          },
          "metadata": {},
          "execution_count": 77
        }
      ]
    },
    {
      "cell_type": "code",
      "metadata": {
        "colab": {
          "base_uri": "https://localhost:8080/",
          "height": 35
        },
        "id": "MNYcEw7Qhp7k",
        "outputId": "47cb20e8-242c-43c6-c39d-2f0623bba213"
      },
      "source": [
        "y_pred[0]"
      ],
      "execution_count": 78,
      "outputs": [
        {
          "output_type": "execute_result",
          "data": {
            "application/vnd.google.colaboratory.intrinsic+json": {
              "type": "string"
            },
            "text/plain": [
              "'B-gpe'"
            ]
          },
          "metadata": {},
          "execution_count": 78
        }
      ]
    },
    {
      "cell_type": "code",
      "metadata": {
        "colab": {
          "base_uri": "https://localhost:8080/",
          "height": 35
        },
        "id": "h5cGbPWFhzSR",
        "outputId": "b08ebba0-c53f-4baf-fd4e-971fc79ca8c2"
      },
      "source": [
        "y_actual[0]"
      ],
      "execution_count": 79,
      "outputs": [
        {
          "output_type": "execute_result",
          "data": {
            "application/vnd.google.colaboratory.intrinsic+json": {
              "type": "string"
            },
            "text/plain": [
              "'B-gpe'"
            ]
          },
          "metadata": {},
          "execution_count": 79
        }
      ]
    },
    {
      "cell_type": "code",
      "metadata": {
        "colab": {
          "base_uri": "https://localhost:8080/"
        },
        "id": "SaFmiUJsh1aR",
        "outputId": "85f3efbf-c13e-416b-893d-952a5f90d14f"
      },
      "source": [
        "pred_data['tokens'][1]"
      ],
      "execution_count": 80,
      "outputs": [
        {
          "output_type": "execute_result",
          "data": {
            "text/plain": [
              "1     officials\n",
              "1           and\n",
              "1          said\n",
              "1     spokesman\n",
              "1      National\n",
              "        ...    \n",
              "1       hundred\n",
              "1    Ambassador\n",
              "1           was\n",
              "1            of\n",
              "1          week\n",
              "Name: tokens, Length: 2871, dtype: object"
            ]
          },
          "metadata": {},
          "execution_count": 80
        }
      ]
    },
    {
      "cell_type": "code",
      "metadata": {
        "colab": {
          "base_uri": "https://localhost:8080/"
        },
        "id": "hmedkNENiRmG",
        "outputId": "9a991e29-be53-4228-cab7-96b0418021ea"
      },
      "source": [
        "X_test[0]"
      ],
      "execution_count": 81,
      "outputs": [
        {
          "output_type": "execute_result",
          "data": {
            "text/plain": [
              "array([  296,    41,   380,     7,    67,   531,     5,     7,   342,\n",
              "       10452,     2,     0,     0,     0,     0,     0,     0,     0,\n",
              "           0,     0,     0,     0,     0,     0,     0,     0,     0,\n",
              "           0,     0,     0,     0,     0,     0,     0,     0,     0,\n",
              "           0,     0,     0,     0,     0,     0,     0,     0,     0,\n",
              "           0,     0,     0,     0,     0,     0,     0,     0,     0,\n",
              "           0,     0,     0,     0,     0,     0,     0,     0,     0,\n",
              "           0,     0,     0,     0,     0,     0,     0,     0,     0,\n",
              "           0,     0,     0,     0,     0,     0,     0,     0,     0,\n",
              "           0,     0,     0,     0,     0,     0,     0,     0,     0,\n",
              "           0,     0,     0,     0,     0,     0,     0,     0,     0,\n",
              "           0,     0,     0,     0,     0,     0,     0,     0,     0,\n",
              "           0,     0,     0,     0,     0,     0,     0,     0,     0,\n",
              "           0,     0,     0,     0,     0,     0,     0,     0,     0,\n",
              "           0,     0], dtype=int32)"
            ]
          },
          "metadata": {},
          "execution_count": 81
        }
      ]
    },
    {
      "cell_type": "code",
      "metadata": {
        "id": "OW-ly3OHigCi"
      },
      "source": [
        "test_sentences = tokeniser.sequences_to_texts(X_test)"
      ],
      "execution_count": 82,
      "outputs": []
    },
    {
      "cell_type": "code",
      "metadata": {
        "colab": {
          "base_uri": "https://localhost:8080/",
          "height": 35
        },
        "id": "mPrcQNewjgpR",
        "outputId": "590a7f2b-ec7d-4d07-dac5-e9a8b849e5ee"
      },
      "source": [
        "test_sentences[0]"
      ],
      "execution_count": 83,
      "outputs": [
        {
          "output_type": "execute_result",
          "data": {
            "application/vnd.google.colaboratory.intrinsic+json": {
              "type": "string"
            },
            "text/plain": [
              "'French officials confirmed a new case in a dead swan .'"
            ]
          },
          "metadata": {},
          "execution_count": 83
        }
      ]
    },
    {
      "cell_type": "code",
      "metadata": {
        "colab": {
          "base_uri": "https://localhost:8080/"
        },
        "id": "f75J7yN8jijQ",
        "outputId": "185d5ffb-dd9e-4ee9-af38-ec9999ad96f2"
      },
      "source": [
        "y_test[0]"
      ],
      "execution_count": 84,
      "outputs": [
        {
          "output_type": "execute_result",
          "data": {
            "text/plain": [
              "array([[0., 0., 0., ..., 0., 0., 0.],\n",
              "       [0., 0., 0., ..., 0., 0., 0.],\n",
              "       [0., 0., 0., ..., 0., 0., 0.],\n",
              "       ...,\n",
              "       [0., 0., 0., ..., 0., 0., 0.],\n",
              "       [0., 0., 0., ..., 0., 0., 0.],\n",
              "       [0., 0., 0., ..., 0., 0., 0.]], dtype=float32)"
            ]
          },
          "metadata": {},
          "execution_count": 84
        }
      ]
    },
    {
      "cell_type": "code",
      "metadata": {
        "colab": {
          "base_uri": "https://localhost:8080/"
        },
        "id": "W41paJfwkyNJ",
        "outputId": "b5a8008e-1022-4479-eea3-6c029d33b853"
      },
      "source": [
        "preds[0]"
      ],
      "execution_count": 86,
      "outputs": [
        {
          "output_type": "execute_result",
          "data": {
            "text/plain": [
              "array([[2.7035462e-02, 1.4811838e-01, 3.9743781e-03, ..., 1.3823706e-03,\n",
              "        5.5929041e-04, 3.1204775e-03],\n",
              "       [6.3034691e-05, 8.9686364e-05, 3.0238766e-04, ..., 2.3122574e-04,\n",
              "        4.5133016e-05, 4.0437648e-05],\n",
              "       [4.7375954e-05, 2.5247733e-05, 4.5294632e-06, ..., 3.8753380e-04,\n",
              "        9.3793878e-06, 9.6761084e-07],\n",
              "       ...,\n",
              "       [1.2897041e-05, 6.5935756e-06, 8.3452164e-08, ..., 9.7516822e-06,\n",
              "        6.4121002e-07, 4.1073985e-08],\n",
              "       [1.3884485e-05, 7.1878803e-06, 8.0298776e-08, ..., 9.9454082e-06,\n",
              "        6.7405853e-07, 3.9778843e-08],\n",
              "       [1.4700182e-05, 7.6855458e-06, 7.8034113e-08, ..., 1.0111731e-05,\n",
              "        7.0243840e-07, 3.8859884e-08]], dtype=float32)"
            ]
          },
          "metadata": {},
          "execution_count": 86
        }
      ]
    },
    {
      "cell_type": "code",
      "metadata": {
        "colab": {
          "base_uri": "https://localhost:8080/"
        },
        "id": "mKyrXp6Gk7V3",
        "outputId": "3365026a-b2fe-4694-d49a-d0350484bd90"
      },
      "source": [
        "pred_data['pred_target_index'][0]"
      ],
      "execution_count": 87,
      "outputs": [
        {
          "output_type": "execute_result",
          "data": {
            "text/plain": [
              "0    13\n",
              "0     9\n",
              "0     5\n",
              "0     5\n",
              "0     5\n",
              "     ..\n",
              "0     5\n",
              "0    13\n",
              "0     9\n",
              "0     5\n",
              "0     5\n",
              "Name: pred_target_index, Length: 2871, dtype: int64"
            ]
          },
          "metadata": {},
          "execution_count": 87
        }
      ]
    },
    {
      "cell_type": "code",
      "metadata": {
        "colab": {
          "base_uri": "https://localhost:8080/"
        },
        "id": "rKyTnW5rle99",
        "outputId": "b86106a7-baa8-431a-dbf6-faea74259b8e"
      },
      "source": [
        "pred_data['test_input'][0]"
      ],
      "execution_count": 88,
      "outputs": [
        {
          "output_type": "execute_result",
          "data": {
            "text/plain": [
              "0      296\n",
              "0      108\n",
              "0      148\n",
              "0       47\n",
              "0       59\n",
              "     ...  \n",
              "0     1106\n",
              "0      179\n",
              "0      331\n",
              "0    11961\n",
              "0      447\n",
              "Name: test_input, Length: 2871, dtype: int32"
            ]
          },
          "metadata": {},
          "execution_count": 88
        }
      ]
    },
    {
      "cell_type": "code",
      "metadata": {
        "colab": {
          "base_uri": "https://localhost:8080/"
        },
        "id": "FqZ2Wfe2mXv-",
        "outputId": "564042ec-f6f2-438a-efa8-2bc81d99c9e8"
      },
      "source": [
        "pred_data.shape"
      ],
      "execution_count": 89,
      "outputs": [
        {
          "output_type": "execute_result",
          "data": {
            "text/plain": [
              "(63064, 8)"
            ]
          },
          "metadata": {},
          "execution_count": 89
        }
      ]
    },
    {
      "cell_type": "code",
      "metadata": {
        "colab": {
          "base_uri": "https://localhost:8080/"
        },
        "id": "3sQNoWM1o39j",
        "outputId": "5e94c612-1006-4a16-8825-b869e5207ad5"
      },
      "source": [
        "X_test.shape"
      ],
      "execution_count": 92,
      "outputs": [
        {
          "output_type": "execute_result",
          "data": {
            "text/plain": [
              "(2871, 128)"
            ]
          },
          "metadata": {},
          "execution_count": 92
        }
      ]
    },
    {
      "cell_type": "code",
      "metadata": {
        "id": "G5Hh7Juappuk"
      },
      "source": [
        "fin_data = pred_data.groupby('id')"
      ],
      "execution_count": 93,
      "outputs": []
    },
    {
      "cell_type": "code",
      "metadata": {
        "colab": {
          "base_uri": "https://localhost:8080/",
          "height": 414
        },
        "id": "CUcrwUoBp8GQ",
        "outputId": "689498c1-f345-497b-8c33-c8c9135c1641"
      },
      "source": [
        "fin_data.head()"
      ],
      "execution_count": 94,
      "outputs": [
        {
          "output_type": "execute_result",
          "data": {
            "text/html": [
              "<div>\n",
              "<style scoped>\n",
              "    .dataframe tbody tr th:only-of-type {\n",
              "        vertical-align: middle;\n",
              "    }\n",
              "\n",
              "    .dataframe tbody tr th {\n",
              "        vertical-align: top;\n",
              "    }\n",
              "\n",
              "    .dataframe thead th {\n",
              "        text-align: right;\n",
              "    }\n",
              "</style>\n",
              "<table border=\"1\" class=\"dataframe\">\n",
              "  <thead>\n",
              "    <tr style=\"text-align: right;\">\n",
              "      <th></th>\n",
              "      <th>test_input</th>\n",
              "      <th>test_tokens</th>\n",
              "      <th>tokens</th>\n",
              "      <th>actual_target_index</th>\n",
              "      <th>pred_target_index</th>\n",
              "      <th>actual_target_tag</th>\n",
              "      <th>pred_target_tag</th>\n",
              "      <th>id</th>\n",
              "    </tr>\n",
              "  </thead>\n",
              "  <tbody>\n",
              "    <tr>\n",
              "      <th>0</th>\n",
              "      <td>296</td>\n",
              "      <td>296</td>\n",
              "      <td>French</td>\n",
              "      <td>13</td>\n",
              "      <td>13</td>\n",
              "      <td>B-gpe</td>\n",
              "      <td>B-gpe</td>\n",
              "      <td>1</td>\n",
              "    </tr>\n",
              "    <tr>\n",
              "      <th>1</th>\n",
              "      <td>41</td>\n",
              "      <td>41</td>\n",
              "      <td>officials</td>\n",
              "      <td>5</td>\n",
              "      <td>5</td>\n",
              "      <td>O</td>\n",
              "      <td>O</td>\n",
              "      <td>1</td>\n",
              "    </tr>\n",
              "    <tr>\n",
              "      <th>2</th>\n",
              "      <td>380</td>\n",
              "      <td>380</td>\n",
              "      <td>confirmed</td>\n",
              "      <td>5</td>\n",
              "      <td>5</td>\n",
              "      <td>O</td>\n",
              "      <td>O</td>\n",
              "      <td>1</td>\n",
              "    </tr>\n",
              "    <tr>\n",
              "      <th>3</th>\n",
              "      <td>7</td>\n",
              "      <td>7</td>\n",
              "      <td>a</td>\n",
              "      <td>5</td>\n",
              "      <td>5</td>\n",
              "      <td>O</td>\n",
              "      <td>O</td>\n",
              "      <td>1</td>\n",
              "    </tr>\n",
              "    <tr>\n",
              "      <th>4</th>\n",
              "      <td>67</td>\n",
              "      <td>67</td>\n",
              "      <td>new</td>\n",
              "      <td>5</td>\n",
              "      <td>5</td>\n",
              "      <td>O</td>\n",
              "      <td>O</td>\n",
              "      <td>1</td>\n",
              "    </tr>\n",
              "    <tr>\n",
              "      <th>...</th>\n",
              "      <td>...</td>\n",
              "      <td>...</td>\n",
              "      <td>...</td>\n",
              "      <td>...</td>\n",
              "      <td>...</td>\n",
              "      <td>...</td>\n",
              "      <td>...</td>\n",
              "      <td>...</td>\n",
              "    </tr>\n",
              "    <tr>\n",
              "      <th>0</th>\n",
              "      <td>447</td>\n",
              "      <td>447</td>\n",
              "      <td>Last</td>\n",
              "      <td>5</td>\n",
              "      <td>5</td>\n",
              "      <td>O</td>\n",
              "      <td>O</td>\n",
              "      <td>2871</td>\n",
              "    </tr>\n",
              "    <tr>\n",
              "      <th>1</th>\n",
              "      <td>75</td>\n",
              "      <td>75</td>\n",
              "      <td>week</td>\n",
              "      <td>5</td>\n",
              "      <td>5</td>\n",
              "      <td>O</td>\n",
              "      <td>O</td>\n",
              "      <td>2871</td>\n",
              "    </tr>\n",
              "    <tr>\n",
              "      <th>2</th>\n",
              "      <td>3</td>\n",
              "      <td>3</td>\n",
              "      <td>,</td>\n",
              "      <td>5</td>\n",
              "      <td>5</td>\n",
              "      <td>O</td>\n",
              "      <td>O</td>\n",
              "      <td>2871</td>\n",
              "    </tr>\n",
              "    <tr>\n",
              "      <th>3</th>\n",
              "      <td>1334</td>\n",
              "      <td>1334</td>\n",
              "      <td>Zimbabwe</td>\n",
              "      <td>0</td>\n",
              "      <td>0</td>\n",
              "      <td>B-org</td>\n",
              "      <td>B-org</td>\n",
              "      <td>2871</td>\n",
              "    </tr>\n",
              "    <tr>\n",
              "      <th>4</th>\n",
              "      <td>4552</td>\n",
              "      <td>4552</td>\n",
              "      <td>expelled</td>\n",
              "      <td>5</td>\n",
              "      <td>5</td>\n",
              "      <td>O</td>\n",
              "      <td>O</td>\n",
              "      <td>2871</td>\n",
              "    </tr>\n",
              "  </tbody>\n",
              "</table>\n",
              "<p>14347 rows × 8 columns</p>\n",
              "</div>"
            ],
            "text/plain": [
              "    test_input  test_tokens     tokens  ...  actual_target_tag  pred_target_tag    id\n",
              "0          296          296     French  ...              B-gpe            B-gpe     1\n",
              "1           41           41  officials  ...                  O                O     1\n",
              "2          380          380  confirmed  ...                  O                O     1\n",
              "3            7            7          a  ...                  O                O     1\n",
              "4           67           67        new  ...                  O                O     1\n",
              "..         ...          ...        ...  ...                ...              ...   ...\n",
              "0          447          447       Last  ...                  O                O  2871\n",
              "1           75           75       week  ...                  O                O  2871\n",
              "2            3            3          ,  ...                  O                O  2871\n",
              "3         1334         1334   Zimbabwe  ...              B-org            B-org  2871\n",
              "4         4552         4552   expelled  ...                  O                O  2871\n",
              "\n",
              "[14347 rows x 8 columns]"
            ]
          },
          "metadata": {},
          "execution_count": 94
        }
      ]
    },
    {
      "cell_type": "code",
      "metadata": {
        "colab": {
          "base_uri": "https://localhost:8080/",
          "height": 385
        },
        "id": "UN9XopYirkGU",
        "outputId": "badc0366-066c-43a1-9f0e-c2d09903e0c5"
      },
      "source": [
        "pred_data[pred_data['id']==1]"
      ],
      "execution_count": 95,
      "outputs": [
        {
          "output_type": "execute_result",
          "data": {
            "text/html": [
              "<div>\n",
              "<style scoped>\n",
              "    .dataframe tbody tr th:only-of-type {\n",
              "        vertical-align: middle;\n",
              "    }\n",
              "\n",
              "    .dataframe tbody tr th {\n",
              "        vertical-align: top;\n",
              "    }\n",
              "\n",
              "    .dataframe thead th {\n",
              "        text-align: right;\n",
              "    }\n",
              "</style>\n",
              "<table border=\"1\" class=\"dataframe\">\n",
              "  <thead>\n",
              "    <tr style=\"text-align: right;\">\n",
              "      <th></th>\n",
              "      <th>test_input</th>\n",
              "      <th>test_tokens</th>\n",
              "      <th>tokens</th>\n",
              "      <th>actual_target_index</th>\n",
              "      <th>pred_target_index</th>\n",
              "      <th>actual_target_tag</th>\n",
              "      <th>pred_target_tag</th>\n",
              "      <th>id</th>\n",
              "    </tr>\n",
              "  </thead>\n",
              "  <tbody>\n",
              "    <tr>\n",
              "      <th>0</th>\n",
              "      <td>296</td>\n",
              "      <td>296</td>\n",
              "      <td>French</td>\n",
              "      <td>13</td>\n",
              "      <td>13</td>\n",
              "      <td>B-gpe</td>\n",
              "      <td>B-gpe</td>\n",
              "      <td>1</td>\n",
              "    </tr>\n",
              "    <tr>\n",
              "      <th>1</th>\n",
              "      <td>41</td>\n",
              "      <td>41</td>\n",
              "      <td>officials</td>\n",
              "      <td>5</td>\n",
              "      <td>5</td>\n",
              "      <td>O</td>\n",
              "      <td>O</td>\n",
              "      <td>1</td>\n",
              "    </tr>\n",
              "    <tr>\n",
              "      <th>2</th>\n",
              "      <td>380</td>\n",
              "      <td>380</td>\n",
              "      <td>confirmed</td>\n",
              "      <td>5</td>\n",
              "      <td>5</td>\n",
              "      <td>O</td>\n",
              "      <td>O</td>\n",
              "      <td>1</td>\n",
              "    </tr>\n",
              "    <tr>\n",
              "      <th>3</th>\n",
              "      <td>7</td>\n",
              "      <td>7</td>\n",
              "      <td>a</td>\n",
              "      <td>5</td>\n",
              "      <td>5</td>\n",
              "      <td>O</td>\n",
              "      <td>O</td>\n",
              "      <td>1</td>\n",
              "    </tr>\n",
              "    <tr>\n",
              "      <th>4</th>\n",
              "      <td>67</td>\n",
              "      <td>67</td>\n",
              "      <td>new</td>\n",
              "      <td>5</td>\n",
              "      <td>5</td>\n",
              "      <td>O</td>\n",
              "      <td>O</td>\n",
              "      <td>1</td>\n",
              "    </tr>\n",
              "    <tr>\n",
              "      <th>5</th>\n",
              "      <td>531</td>\n",
              "      <td>531</td>\n",
              "      <td>case</td>\n",
              "      <td>5</td>\n",
              "      <td>5</td>\n",
              "      <td>O</td>\n",
              "      <td>O</td>\n",
              "      <td>1</td>\n",
              "    </tr>\n",
              "    <tr>\n",
              "      <th>6</th>\n",
              "      <td>5</td>\n",
              "      <td>5</td>\n",
              "      <td>in</td>\n",
              "      <td>5</td>\n",
              "      <td>5</td>\n",
              "      <td>O</td>\n",
              "      <td>O</td>\n",
              "      <td>1</td>\n",
              "    </tr>\n",
              "    <tr>\n",
              "      <th>7</th>\n",
              "      <td>7</td>\n",
              "      <td>7</td>\n",
              "      <td>a</td>\n",
              "      <td>5</td>\n",
              "      <td>5</td>\n",
              "      <td>O</td>\n",
              "      <td>O</td>\n",
              "      <td>1</td>\n",
              "    </tr>\n",
              "    <tr>\n",
              "      <th>8</th>\n",
              "      <td>342</td>\n",
              "      <td>342</td>\n",
              "      <td>dead</td>\n",
              "      <td>5</td>\n",
              "      <td>5</td>\n",
              "      <td>O</td>\n",
              "      <td>O</td>\n",
              "      <td>1</td>\n",
              "    </tr>\n",
              "    <tr>\n",
              "      <th>9</th>\n",
              "      <td>10452</td>\n",
              "      <td>10452</td>\n",
              "      <td>swan</td>\n",
              "      <td>5</td>\n",
              "      <td>5</td>\n",
              "      <td>O</td>\n",
              "      <td>O</td>\n",
              "      <td>1</td>\n",
              "    </tr>\n",
              "    <tr>\n",
              "      <th>10</th>\n",
              "      <td>2</td>\n",
              "      <td>2</td>\n",
              "      <td>.</td>\n",
              "      <td>5</td>\n",
              "      <td>5</td>\n",
              "      <td>O</td>\n",
              "      <td>O</td>\n",
              "      <td>1</td>\n",
              "    </tr>\n",
              "  </tbody>\n",
              "</table>\n",
              "</div>"
            ],
            "text/plain": [
              "    test_input  test_tokens     tokens  ...  actual_target_tag  pred_target_tag id\n",
              "0          296          296     French  ...              B-gpe            B-gpe  1\n",
              "1           41           41  officials  ...                  O                O  1\n",
              "2          380          380  confirmed  ...                  O                O  1\n",
              "3            7            7          a  ...                  O                O  1\n",
              "4           67           67        new  ...                  O                O  1\n",
              "5          531          531       case  ...                  O                O  1\n",
              "6            5            5         in  ...                  O                O  1\n",
              "7            7            7          a  ...                  O                O  1\n",
              "8          342          342       dead  ...                  O                O  1\n",
              "9        10452        10452       swan  ...                  O                O  1\n",
              "10           2            2          .  ...                  O                O  1\n",
              "\n",
              "[11 rows x 8 columns]"
            ]
          },
          "metadata": {},
          "execution_count": 95
        }
      ]
    },
    {
      "cell_type": "code",
      "metadata": {
        "id": "3SwtxK-wsN8B"
      },
      "source": [
        ""
      ],
      "execution_count": null,
      "outputs": []
    }
  ]
}