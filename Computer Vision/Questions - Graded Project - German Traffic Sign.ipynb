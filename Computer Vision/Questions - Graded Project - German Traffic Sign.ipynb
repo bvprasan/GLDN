{
 "cells": [
  {
   "cell_type": "markdown",
   "metadata": {
    "colab_type": "text",
    "id": "O9jAqShELHZI"
   },
   "source": [
    "![alt text](https://drive.google.com/uc?export=view&id=1UXScsVx_Wni_JuDdB8LeTnM6jsPfIwkW)\n",
    "\n",
    "Proprietary content. © Great Learning. All Rights Reserved. Unauthorized use or distribution prohibited."
   ]
  },
  {
   "cell_type": "markdown",
   "metadata": {
    "colab_type": "text",
    "id": "SRkFT8HtCZHS"
   },
   "source": [
    "# German Traffic Sign Recognition\n",
    "Multi-class, single-image classification"
   ]
  },
  {
   "cell_type": "markdown",
   "metadata": {
    "colab_type": "text",
    "id": "SJWdbMALTcGJ"
   },
   "source": [
    "### Dataset\n",
    "The German Traffic Sign Benchmark is a multi-class, single-image classification challenge held at the International Joint Conference on Neural Networks (IJCNN) 2011. They cordially invite researchers from relevant fields to participate: The competition is designed to allow for participation without special domain knowledge. Their benchmark has the following properties:\n",
    "\n",
    "- Single-image, multi-class classification problem\n",
    "- More than 40 classes\n",
    "- More than 50,000 images in total\n",
    "- Large, lifelike database"
   ]
  },
  {
   "cell_type": "markdown",
   "metadata": {
    "colab_type": "text",
    "id": "hRhJulWyIGMN"
   },
   "source": [
    "#### Notes\n",
    "- For this project, we have reduced the number of images. There are around 16,500+ images in the dataset provided. You can check “label_details” folder for getting information about the classes.\n",
    "- If the model is taking too much time to get trained then you can reduce the number of classes. There are around 43 classes in the dataset, model should be trained on a minimum of 15 classes."
   ]
  },
  {
   "cell_type": "markdown",
   "metadata": {
    "colab_type": "text",
    "id": "qC37j3FUDVYd"
   },
   "source": [
    "### Initialize ImageDataGenerator (7 Marks)\n",
    "- Rescale the images\n",
    "- Specify value for validation_split & get 75% data in training and 25% data in training"
   ]
  },
  {
   "cell_type": "code",
   "execution_count": null,
   "metadata": {
    "colab": {},
    "colab_type": "code",
    "collapsed": true,
    "id": "OakETLlCBwy1"
   },
   "outputs": [],
   "source": []
  },
  {
   "cell_type": "markdown",
   "metadata": {
    "colab_type": "text",
    "id": "58e4ODapEVdx"
   },
   "source": [
    "### Get training data from ImageDataGenerator (5 Marks)\n",
    "- Give directory path\n",
    "- Give target size\n",
    "- Give batch_size\n",
    "- Specify classes, if you wish to use less number of classes you need to give class names in a list (Atleast 15 classes should be there)\n",
    "- Specify class_mode\n",
    "- Specify color_mode\n",
    "- Specify subset\n",
    "\n",
    "You can get details here\n",
    "https://www.tensorflow.org/api_docs/python/tf/keras/preprocessing/image/ImageDataGenerator"
   ]
  },
  {
   "cell_type": "code",
   "execution_count": null,
   "metadata": {
    "colab": {},
    "colab_type": "code",
    "collapsed": true,
    "id": "GSfT2cB4COgC"
   },
   "outputs": [],
   "source": []
  },
  {
   "cell_type": "markdown",
   "metadata": {
    "colab_type": "text",
    "id": "GzYNcoV9Gawj"
   },
   "source": [
    "### Get validation data from ImageDataGenerator (5 Marks)\n",
    "- Give directory path\n",
    "- Give target size\n",
    "- Give batch_size\n",
    "- Specify classes, if you wish to use less number of classes you need to give class names in a list (Atleast 15 classes should be there)\n",
    "- Specify class_mode\n",
    "- Specify color_mode\n",
    "- Specify subset\n",
    "\n",
    "You can get details here\n",
    "https://www.tensorflow.org/api_docs/python/tf/keras/preprocessing/image/ImageDataGenerator"
   ]
  },
  {
   "cell_type": "code",
   "execution_count": null,
   "metadata": {
    "colab": {},
    "colab_type": "code",
    "collapsed": true,
    "id": "-m9zfw0AHIma"
   },
   "outputs": [],
   "source": []
  },
  {
   "cell_type": "markdown",
   "metadata": {
    "colab_type": "text",
    "id": "S2fXxJz1I_SV"
   },
   "source": [
    "### Define model (10 Marks)\n",
    "- Initialize a Sequential Model\n",
    "- Add Convolution, Maxpool, Dropout, Flatten & Dense layers according to your model architecture"
   ]
  },
  {
   "cell_type": "code",
   "execution_count": null,
   "metadata": {
    "colab": {},
    "colab_type": "code",
    "collapsed": true,
    "id": "Fns3rEJ-DHQq"
   },
   "outputs": [],
   "source": []
  },
  {
   "cell_type": "markdown",
   "metadata": {
    "colab_type": "text",
    "id": "lRs36YJgJvI0"
   },
   "source": [
    "### Compile the model (5 Marks)\n",
    "- Specify optimizer, loss & metrics"
   ]
  },
  {
   "cell_type": "code",
   "execution_count": null,
   "metadata": {
    "colab": {},
    "colab_type": "code",
    "collapsed": true,
    "id": "jvgO3JPvDQpL"
   },
   "outputs": [],
   "source": []
  },
  {
   "cell_type": "markdown",
   "metadata": {
    "colab_type": "text",
    "id": "U_Q6ihfUJ6Hm"
   },
   "source": [
    "### Get model summary (3 Marks)"
   ]
  },
  {
   "cell_type": "code",
   "execution_count": null,
   "metadata": {
    "colab": {},
    "colab_type": "code",
    "collapsed": true,
    "id": "b3Sxnbo-lhfV"
   },
   "outputs": [],
   "source": []
  },
  {
   "cell_type": "markdown",
   "metadata": {
    "colab_type": "text",
    "id": "4mK8GNxFJ9vB"
   },
   "source": [
    "### Fit the model (5 Marks)\n",
    "- Specify epochs\n",
    "- Specify batch_size\n",
    "- Give validation_data\n",
    "- Validation accuracy should be more than 90%"
   ]
  },
  {
   "cell_type": "code",
   "execution_count": null,
   "metadata": {
    "colab": {},
    "colab_type": "code",
    "collapsed": true,
    "id": "9SLjprPDDYOs"
   },
   "outputs": [],
   "source": []
  },
  {
   "cell_type": "markdown",
   "metadata": {
    "colab_type": "text",
    "id": "diNbnH_dKO8J"
   },
   "source": [
    "### Draw plots (5 Marks)\n",
    "- Plot training accuracy and validation accuracy with respect to epochs\n",
    "- Plot training loss and validation loss with respect to epochs"
   ]
  },
  {
   "cell_type": "code",
   "execution_count": null,
   "metadata": {
    "colab": {},
    "colab_type": "code",
    "collapsed": true,
    "id": "8uoIPTssDofN"
   },
   "outputs": [],
   "source": []
  },
  {
   "cell_type": "markdown",
   "metadata": {
    "colab_type": "text",
    "id": "TXeibTPdU9iI"
   },
   "source": [
    "## Future work (ungraded)\n",
    "- Try to apply transfer learning and see if you can improve the performance."
   ]
  },
  {
   "cell_type": "code",
   "execution_count": null,
   "metadata": {
    "colab": {},
    "colab_type": "code",
    "collapsed": true,
    "id": "Dt1a3ayrVKoX"
   },
   "outputs": [],
   "source": []
  }
 ],
 "metadata": {
  "colab": {
   "collapsed_sections": [],
   "name": "Questions - Graded Project - German Traffic Sign.ipynb",
   "provenance": []
  },
  "kernelspec": {
   "display_name": "Python 3",
   "language": "python",
   "name": "python3"
  },
  "language_info": {
   "codemirror_mode": {
    "name": "ipython",
    "version": 3
   },
   "file_extension": ".py",
   "mimetype": "text/x-python",
   "name": "python",
   "nbconvert_exporter": "python",
   "pygments_lexer": "ipython3",
   "version": "3.6.3"
  }
 },
 "nbformat": 4,
 "nbformat_minor": 1
}
