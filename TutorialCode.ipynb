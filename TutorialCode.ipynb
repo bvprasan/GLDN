{
  "nbformat": 4,
  "nbformat_minor": 0,
  "metadata": {
    "colab": {
      "name": "Welcome To Colaboratory",
      "provenance": [],
      "collapsed_sections": []
    },
    "kernelspec": {
      "display_name": "Python 3",
      "name": "python3"
    },
    "accelerator": "GPU"
  },
  "cells": [
    {
      "cell_type": "code",
      "metadata": {
        "id": "D73-_zKE0CHQ",
        "outputId": "42385dfb-724a-4db2-d74b-e8e2f9afc839",
        "colab": {
          "base_uri": "https://localhost:8080/"
        }
      },
      "source": [
        "!git clone https://github.com/chsasank/ATIS.keras.git\n",
        "!cd ATIS.keras"
      ],
      "execution_count": 1,
      "outputs": [
        {
          "output_type": "stream",
          "text": [
            "Cloning into 'ATIS.keras'...\n",
            "remote: Enumerating objects: 30, done.\u001b[K\n",
            "remote: Total 30 (delta 0), reused 0 (delta 0), pack-reused 30\u001b[K\n",
            "Unpacking objects: 100% (30/30), done.\n"
          ],
          "name": "stdout"
        }
      ]
    },
    {
      "cell_type": "code",
      "metadata": {
        "id": "ncLexnZY0G7B",
        "outputId": "0464a935-7c67-4a4b-d98b-a9879a5a92ad",
        "colab": {
          "base_uri": "https://localhost:8080/"
        }
      },
      "source": [
        "!pwd"
      ],
      "execution_count": 2,
      "outputs": [
        {
          "output_type": "stream",
          "text": [
            "/content\n"
          ],
          "name": "stdout"
        }
      ]
    },
    {
      "cell_type": "code",
      "metadata": {
        "id": "J-BXC08o0KHI"
      },
      "source": [
        "!cp -r ATIS.keras/* ./"
      ],
      "execution_count": 3,
      "outputs": []
    },
    {
      "cell_type": "code",
      "metadata": {
        "id": "M9l5-0OW0OZo"
      },
      "source": [
        "import numpy as np\n",
        "import data.load"
      ],
      "execution_count": 4,
      "outputs": []
    },
    {
      "cell_type": "code",
      "metadata": {
        "id": "1CFQ5ztw0TRl"
      },
      "source": [
        "train_set, valid_set, dicts = data.load.atisfull()\n",
        "w2idx, labels2idx = dicts['words2idx'], dicts['labels2idx']"
      ],
      "execution_count": 5,
      "outputs": []
    },
    {
      "cell_type": "code",
      "metadata": {
        "id": "WzUxGpe-0XYW"
      },
      "source": [
        "train_x, _, train_label = train_set\n",
        "val_x, _, val_label = valid_set"
      ],
      "execution_count": 6,
      "outputs": []
    },
    {
      "cell_type": "code",
      "metadata": {
        "id": "IN3bqarn0cFI"
      },
      "source": [
        "# Create index to word/label dicts\n",
        "idx2w  = {w2idx[k]:k for k in w2idx}\n",
        "idx2la = {labels2idx[k]:k for k in labels2idx}"
      ],
      "execution_count": 7,
      "outputs": []
    },
    {
      "cell_type": "code",
      "metadata": {
        "id": "H2pcKN1e0eyH"
      },
      "source": [
        "# For conlleval script\n",
        "words_train = [ list(map(lambda x: idx2w[x], w)) for w in train_x]\n",
        "labels_train = [ list(map(lambda x: idx2la[x], y)) for y in train_label]\n",
        "words_val = [ list(map(lambda x: idx2w[x], w)) for w in val_x]\n",
        "labels_val = [ list(map(lambda x: idx2la[x], y)) for y in val_label]"
      ],
      "execution_count": 8,
      "outputs": []
    },
    {
      "cell_type": "code",
      "metadata": {
        "id": "dYNafPKt0jzE"
      },
      "source": [
        "n_classes = len(idx2la)\n",
        "n_vocab = len(idx2w)"
      ],
      "execution_count": 9,
      "outputs": []
    },
    {
      "cell_type": "code",
      "metadata": {
        "id": "xTX5qbaS0mLG",
        "outputId": "56b1f986-317f-41e3-d543-85edee1f6746",
        "colab": {
          "base_uri": "https://localhost:8080/"
        }
      },
      "source": [
        "print(\"Example sentence : {}\".format(words_train[0]))\n",
        "print(\"Encoded form: {}\".format(train_x[0]))\n",
        "print()\n",
        "print(\"It's label : {}\".format(labels_train[0]))\n",
        "print(\"Encoded form: {}\".format(train_label[0]))"
      ],
      "execution_count": 10,
      "outputs": [
        {
          "output_type": "stream",
          "text": [
            "Example sentence : ['i', 'want', 'to', 'fly', 'from', 'boston', 'at', 'DIGITDIGITDIGIT', 'am', 'and', 'arrive', 'in', 'denver', 'at', 'DIGITDIGITDIGITDIGIT', 'in', 'the', 'morning']\n",
            "Encoded form: [232 542 502 196 208  77  62  10  35  40  58 234 137  62  11 234 481 321]\n",
            "\n",
            "It's label : ['O', 'O', 'O', 'O', 'O', 'B-fromloc.city_name', 'O', 'B-depart_time.time', 'I-depart_time.time', 'O', 'O', 'O', 'B-toloc.city_name', 'O', 'B-arrive_time.time', 'O', 'O', 'B-arrive_time.period_of_day']\n",
            "Encoded form: [126 126 126 126 126  48 126  35  99 126 126 126  78 126  14 126 126  12]\n"
          ],
          "name": "stdout"
        }
      ]
    },
    {
      "cell_type": "code",
      "metadata": {
        "id": "-uMiVdNg0oTF"
      },
      "source": [
        "from keras.models import Sequential\n",
        "from keras.layers.embeddings import Embedding\n",
        "from keras.layers.recurrent import SimpleRNN\n",
        "from keras.layers.core import Dense, Dropout\n",
        "from keras.layers.wrappers import TimeDistributed\n",
        "from keras.layers import Convolution1D\n",
        "\n",
        "model = Sequential()\n",
        "model.add(Embedding(n_vocab,100))\n",
        "model.add(Dropout(0.25))\n",
        "model.add(SimpleRNN(100,return_sequences=True))\n",
        "model.add(TimeDistributed(Dense(n_classes, activation='softmax')))\n",
        "model.compile('rmsprop', 'categorical_crossentropy')"
      ],
      "execution_count": 11,
      "outputs": []
    },
    {
      "cell_type": "code",
      "metadata": {
        "id": "kQT8owU91nhq",
        "outputId": "0e7af842-fbfd-4c84-920b-8ef4eba05cfb",
        "colab": {
          "base_uri": "https://localhost:8080/"
        }
      },
      "source": [
        "print(model.summary())"
      ],
      "execution_count": 13,
      "outputs": [
        {
          "output_type": "stream",
          "text": [
            "Model: \"sequential\"\n",
            "_________________________________________________________________\n",
            "Layer (type)                 Output Shape              Param #   \n",
            "=================================================================\n",
            "embedding (Embedding)        (None, None, 100)         57200     \n",
            "_________________________________________________________________\n",
            "dropout (Dropout)            (None, None, 100)         0         \n",
            "_________________________________________________________________\n",
            "simple_rnn (SimpleRNN)       (None, None, 100)         20100     \n",
            "_________________________________________________________________\n",
            "time_distributed (TimeDistri (None, None, 127)         12827     \n",
            "=================================================================\n",
            "Total params: 90,127\n",
            "Trainable params: 90,127\n",
            "Non-trainable params: 0\n",
            "_________________________________________________________________\n",
            "None\n"
          ],
          "name": "stdout"
        }
      ]
    },
    {
      "cell_type": "code",
      "metadata": {
        "id": "pj2RZeu703tj",
        "outputId": "c4970ef1-59ba-4bd9-b554-0cf29277c28d",
        "colab": {
          "base_uri": "https://localhost:8080/"
        }
      },
      "source": [
        "import progressbar\n",
        "n_epochs = 3\n",
        "\n",
        "for i in range(n_epochs):\n",
        "    print(\"Training epoch {}\".format(i))\n",
        "    \n",
        "    bar = progressbar.ProgressBar(max_value=len(train_x))\n",
        "    for n_batch, sent in bar(enumerate(train_x)):\n",
        "        label = train_label[n_batch]\n",
        "        # Make labels one hot\n",
        "        label = np.eye(n_classes)[label][np.newaxis,:] \n",
        "        # View each sentence as a batch\n",
        "        sent = sent[np.newaxis,:]\n",
        "        \n",
        "        if sent.shape[1] > 1: #ignore 1 word sentences\n",
        "            model.train_on_batch(sent, label)"
      ],
      "execution_count": 14,
      "outputs": [
        {
          "output_type": "stream",
          "text": [
            "  0% (6 of 4978) |                       | Elapsed Time: 0:00:00 ETA:   0:01:29"
          ],
          "name": "stderr"
        },
        {
          "output_type": "stream",
          "text": [
            "Training epoch 0\n"
          ],
          "name": "stdout"
        },
        {
          "output_type": "stream",
          "text": [
            "100% (4978 of 4978) |####################| Elapsed Time: 0:01:15 Time:  0:01:15\n",
            "  0% (7 of 4978) |                       | Elapsed Time: 0:00:00 ETA:   0:01:16"
          ],
          "name": "stderr"
        },
        {
          "output_type": "stream",
          "text": [
            "Training epoch 1\n"
          ],
          "name": "stdout"
        },
        {
          "output_type": "stream",
          "text": [
            "100% (4978 of 4978) |####################| Elapsed Time: 0:01:16 Time:  0:01:16\n",
            "  0% (7 of 4978) |                       | Elapsed Time: 0:00:00 ETA:   0:01:18"
          ],
          "name": "stderr"
        },
        {
          "output_type": "stream",
          "text": [
            "Training epoch 2\n"
          ],
          "name": "stdout"
        },
        {
          "output_type": "stream",
          "text": [
            "100% (4978 of 4978) |####################| Elapsed Time: 0:01:16 Time:  0:01:16\n"
          ],
          "name": "stderr"
        }
      ]
    },
    {
      "cell_type": "code",
      "metadata": {
        "id": "1mkV44fY0_u1",
        "outputId": "216487ec-0a91-453a-fdb1-62d3c3cffc27",
        "colab": {
          "base_uri": "https://localhost:8080/"
        }
      },
      "source": [
        "from metrics.accuracy import conlleval\n",
        "\n",
        "labels_pred_val = []\n",
        "\n",
        "bar = progressbar.ProgressBar(max_value=len(val_x))\n",
        "for n_batch, sent in bar(enumerate(val_x)):\n",
        "    label = val_label[n_batch]\n",
        "    label = np.eye(n_classes)[label][np.newaxis,:]\n",
        "    sent = sent[np.newaxis,:]\n",
        "\n",
        "    pred = model.predict_on_batch(sent)\n",
        "    pred = np.argmax(pred,-1)[0]\n",
        "    labels_pred_val.append(pred)\n",
        "\n",
        "labels_pred_val = [ list(map(lambda x: idx2la[x], y)) \\\n",
        "                                    for y in labels_pred_val]\n",
        "con_dict = conlleval(labels_pred_val, labels_val, \n",
        "                            words_val, 'measure.txt')\n",
        "\n",
        "print('Precision = {}, Recall = {}, F1 = {}'.format(\n",
        "            con_dict['r'], con_dict['p'], con_dict['f1']))"
      ],
      "execution_count": 15,
      "outputs": [
        {
          "output_type": "stream",
          "text": [
            "100% (893 of 893) |######################| Elapsed Time: 0:00:06 Time:  0:00:06\n"
          ],
          "name": "stderr"
        },
        {
          "output_type": "stream",
          "text": [
            "Precision = 86.32, Recall = 88.28, F1 = 87.29\n"
          ],
          "name": "stdout"
        }
      ]
    },
    {
      "cell_type": "code",
      "metadata": {
        "id": "D8hEMgrc32f6"
      },
      "source": [
        ""
      ],
      "execution_count": null,
      "outputs": []
    }
  ]
}