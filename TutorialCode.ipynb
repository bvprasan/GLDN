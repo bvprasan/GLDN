{
  "nbformat": 4,
  "nbformat_minor": 0,
  "metadata": {
    "colab": {
      "name": "Welcome To Colaboratory",
      "provenance": [],
      "collapsed_sections": []
    },
    "kernelspec": {
      "display_name": "Python 3",
      "name": "python3"
    },
    "accelerator": "GPU"
  },
  "cells": [
    {
      "cell_type": "code",
      "metadata": {
        "id": "D73-_zKE0CHQ",
        "colab": {
          "base_uri": "https://localhost:8080/"
        },
        "outputId": "9298eb11-cc03-45d7-d8df-65840a7fe805"
      },
      "source": [
        "!git clone https://github.com/chsasank/ATIS.keras.git\n",
        "!cd ATIS.keras"
      ],
      "execution_count": 1,
      "outputs": [
        {
          "output_type": "stream",
          "text": [
            "Cloning into 'ATIS.keras'...\n",
            "remote: Enumerating objects: 30, done.\u001b[K\n",
            "remote: Total 30 (delta 0), reused 0 (delta 0), pack-reused 30\u001b[K\n",
            "Unpacking objects: 100% (30/30), done.\n"
          ],
          "name": "stdout"
        }
      ]
    },
    {
      "cell_type": "code",
      "metadata": {
        "id": "ncLexnZY0G7B",
        "colab": {
          "base_uri": "https://localhost:8080/"
        },
        "outputId": "e63267d0-737b-4e86-e42d-e4b2d3cb4032"
      },
      "source": [
        "!pwd"
      ],
      "execution_count": 3,
      "outputs": [
        {
          "output_type": "stream",
          "text": [
            "/content\n"
          ],
          "name": "stdout"
        }
      ]
    },
    {
      "cell_type": "code",
      "metadata": {
        "id": "J-BXC08o0KHI"
      },
      "source": [
        "!cp -r ATIS.keras/* ./"
      ],
      "execution_count": 4,
      "outputs": []
    },
    {
      "cell_type": "code",
      "metadata": {
        "id": "M9l5-0OW0OZo"
      },
      "source": [
        "import numpy as np\n",
        "import data.load"
      ],
      "execution_count": 5,
      "outputs": []
    },
    {
      "cell_type": "code",
      "metadata": {
        "id": "1CFQ5ztw0TRl"
      },
      "source": [
        "train_set, valid_set, dicts = data.load.atisfull()\n",
        "w2idx, labels2idx = dicts['words2idx'], dicts['labels2idx']"
      ],
      "execution_count": 7,
      "outputs": []
    },
    {
      "cell_type": "code",
      "metadata": {
        "id": "WzUxGpe-0XYW"
      },
      "source": [
        "train_x, _, train_label = train_set\n",
        "val_x, _, val_label = valid_set"
      ],
      "execution_count": 8,
      "outputs": []
    },
    {
      "cell_type": "code",
      "metadata": {
        "id": "IN3bqarn0cFI"
      },
      "source": [
        "# Create index to word/label dicts\n",
        "idx2w  = {w2idx[k]:k for k in w2idx}\n",
        "idx2la = {labels2idx[k]:k for k in labels2idx}"
      ],
      "execution_count": 9,
      "outputs": []
    },
    {
      "cell_type": "code",
      "metadata": {
        "id": "H2pcKN1e0eyH"
      },
      "source": [
        "# For conlleval script\n",
        "words_train = [ list(map(lambda x: idx2w[x], w)) for w in train_x]\n",
        "labels_train = [ list(map(lambda x: idx2la[x], y)) for y in train_label]\n",
        "words_val = [ list(map(lambda x: idx2w[x], w)) for w in val_x]\n",
        "labels_val = [ list(map(lambda x: idx2la[x], y)) for y in val_label]"
      ],
      "execution_count": 10,
      "outputs": []
    },
    {
      "cell_type": "code",
      "metadata": {
        "id": "dYNafPKt0jzE"
      },
      "source": [
        "n_classes = len(idx2la)\n",
        "n_vocab = len(idx2w)"
      ],
      "execution_count": 11,
      "outputs": []
    },
    {
      "cell_type": "code",
      "metadata": {
        "id": "xTX5qbaS0mLG",
        "colab": {
          "base_uri": "https://localhost:8080/"
        },
        "outputId": "436f5258-28aa-4467-c9f9-553f4130543e"
      },
      "source": [
        "print(\"Example sentence : {}\".format(words_train[0]))\n",
        "print(\"Encoded form: {}\".format(train_x[0]))\n",
        "print()\n",
        "print(\"It's label : {}\".format(labels_train[0]))\n",
        "print(\"Encoded form: {}\".format(train_label[0]))"
      ],
      "execution_count": 13,
      "outputs": [
        {
          "output_type": "stream",
          "text": [
            "Example sentence : ['i', 'want', 'to', 'fly', 'from', 'boston', 'at', 'DIGITDIGITDIGIT', 'am', 'and', 'arrive', 'in', 'denver', 'at', 'DIGITDIGITDIGITDIGIT', 'in', 'the', 'morning']\n",
            "Encoded form: [232 542 502 196 208  77  62  10  35  40  58 234 137  62  11 234 481 321]\n",
            "\n",
            "It's label : ['O', 'O', 'O', 'O', 'O', 'B-fromloc.city_name', 'O', 'B-depart_time.time', 'I-depart_time.time', 'O', 'O', 'O', 'B-toloc.city_name', 'O', 'B-arrive_time.time', 'O', 'O', 'B-arrive_time.period_of_day']\n",
            "Encoded form: [126 126 126 126 126  48 126  35  99 126 126 126  78 126  14 126 126  12]\n"
          ],
          "name": "stdout"
        }
      ]
    },
    {
      "cell_type": "code",
      "metadata": {
        "id": "-uMiVdNg0oTF"
      },
      "source": [
        "from keras.models import Sequential\n",
        "from keras.layers.embeddings import Embedding\n",
        "from keras.layers.recurrent import SimpleRNN\n",
        "from keras.layers.core import Dense, Dropout\n",
        "from keras.layers.wrappers import TimeDistributed\n",
        "from keras.layers import Convolution1D\n",
        "\n",
        "model = Sequential()\n",
        "model.add(Embedding(n_vocab,100))\n",
        "model.add(Dropout(0.25))\n",
        "model.add(SimpleRNN(100,return_sequences=True))\n",
        "model.add(TimeDistributed(Dense(n_classes, activation='softmax')))\n",
        "model.compile('rmsprop', 'categorical_crossentropy')"
      ],
      "execution_count": 14,
      "outputs": []
    },
    {
      "cell_type": "code",
      "metadata": {
        "id": "kQT8owU91nhq",
        "colab": {
          "base_uri": "https://localhost:8080/"
        },
        "outputId": "7e67ce55-812a-4dde-a0dc-20ab973e46b7"
      },
      "source": [
        "print(model.summary())"
      ],
      "execution_count": 16,
      "outputs": [
        {
          "output_type": "stream",
          "text": [
            "Model: \"sequential\"\n",
            "_________________________________________________________________\n",
            "Layer (type)                 Output Shape              Param #   \n",
            "=================================================================\n",
            "embedding (Embedding)        (None, None, 100)         57200     \n",
            "_________________________________________________________________\n",
            "dropout (Dropout)            (None, None, 100)         0         \n",
            "_________________________________________________________________\n",
            "simple_rnn (SimpleRNN)       (None, None, 100)         20100     \n",
            "_________________________________________________________________\n",
            "time_distributed (TimeDistri (None, None, 127)         12827     \n",
            "=================================================================\n",
            "Total params: 90,127\n",
            "Trainable params: 90,127\n",
            "Non-trainable params: 0\n",
            "_________________________________________________________________\n",
            "None\n"
          ],
          "name": "stdout"
        }
      ]
    },
    {
      "cell_type": "code",
      "metadata": {
        "id": "pj2RZeu703tj",
        "colab": {
          "base_uri": "https://localhost:8080/"
        },
        "outputId": "53776e43-1260-411e-fa08-f15c78072adb"
      },
      "source": [
        "import progressbar\n",
        "n_epochs = 3\n",
        "\n",
        "for i in range(n_epochs):\n",
        "    print(\"Training epoch {}\".format(i))\n",
        "    \n",
        "    bar = progressbar.ProgressBar(max_value=len(train_x))\n",
        "    for n_batch, sent in bar(enumerate(train_x)):\n",
        "        label = train_label[n_batch]\n",
        "        # Make labels one hot\n",
        "        label = np.eye(n_classes)[label][np.newaxis,:] \n",
        "        # View each sentence as a batch\n",
        "        sent = sent[np.newaxis,:]\n",
        "        \n",
        "        if sent.shape[1] > 1: #ignore 1 word sentences\n",
        "            model.train_on_batch(sent, label)"
      ],
      "execution_count": 17,
      "outputs": [
        {
          "output_type": "stream",
          "text": [
            "\r                                                                               \r\rN/A% (0 of 4978) |                       | Elapsed Time: 0:00:00 ETA:  --:--:--"
          ],
          "name": "stderr"
        },
        {
          "output_type": "stream",
          "text": [
            "Training epoch 0\n"
          ],
          "name": "stdout"
        },
        {
          "output_type": "stream",
          "text": [
            "100% (4978 of 4978) |####################| Elapsed Time: 0:02:21 Time:  0:02:21\n",
            "  0% (5 of 4978) |                       | Elapsed Time: 0:00:00 ETA:   0:01:53"
          ],
          "name": "stderr"
        },
        {
          "output_type": "stream",
          "text": [
            "Training epoch 1\n"
          ],
          "name": "stdout"
        },
        {
          "output_type": "stream",
          "text": [
            "100% (4978 of 4978) |####################| Elapsed Time: 0:01:53 Time:  0:01:53\n",
            "  0% (5 of 4978) |                       | Elapsed Time: 0:00:00 ETA:   0:01:49"
          ],
          "name": "stderr"
        },
        {
          "output_type": "stream",
          "text": [
            "Training epoch 2\n"
          ],
          "name": "stdout"
        },
        {
          "output_type": "stream",
          "text": [
            "100% (4978 of 4978) |####################| Elapsed Time: 0:01:53 Time:  0:01:53\n"
          ],
          "name": "stderr"
        }
      ]
    },
    {
      "cell_type": "code",
      "metadata": {
        "id": "1mkV44fY0_u1",
        "colab": {
          "base_uri": "https://localhost:8080/"
        },
        "outputId": "c1bab7be-3d6c-41d2-b928-f8e86eb15444"
      },
      "source": [
        "from metrics.accuracy import conlleval\n",
        "\n",
        "labels_pred_val = []\n",
        "\n",
        "bar = progressbar.ProgressBar(max_value=len(val_x))\n",
        "for n_batch, sent in bar(enumerate(val_x)):\n",
        "    label = val_label[n_batch]\n",
        "    label = np.eye(n_classes)[label][np.newaxis,:]\n",
        "    sent = sent[np.newaxis,:]\n",
        "\n",
        "    pred = model.predict_on_batch(sent)\n",
        "    pred = np.argmax(pred,-1)[0]\n",
        "    labels_pred_val.append(pred)\n",
        "print(words_val[0])\n",
        "print(labels_val[0])\n",
        "labels_pred_val = [ list(map(lambda x: idx2la[x], y)) \\\n",
        "                                    for y in labels_pred_val]\n",
        "print(labels_pred_val[0])\n",
        "con_dict = conlleval(labels_pred_val, labels_val, \n",
        "                            words_val, 'measure.txt')\n",
        "\n",
        "print('Precision = {}, Recall = {}, F1 = {}'.format(\n",
        "            con_dict['r'], con_dict['p'], con_dict['f1']))"
      ],
      "execution_count": 19,
      "outputs": [
        {
          "output_type": "stream",
          "text": [
            "100% (893 of 893) |######################| Elapsed Time: 0:00:06 Time:  0:00:06\n"
          ],
          "name": "stderr"
        },
        {
          "output_type": "stream",
          "text": [
            "['i', 'would', 'like', 'to', 'find', 'a', 'flight', 'from', 'charlotte', 'to', 'las', 'vegas', 'that', 'makes', 'a', 'stop', 'in', 'st.', 'louis']\n",
            "['O', 'O', 'O', 'O', 'O', 'O', 'O', 'O', 'B-fromloc.city_name', 'O', 'B-toloc.city_name', 'I-toloc.city_name', 'O', 'O', 'O', 'O', 'O', 'B-stoploc.city_name', 'I-stoploc.city_name']\n",
            "['O', 'O', 'O', 'O', 'O', 'O', 'O', 'O', 'B-fromloc.city_name', 'O', 'B-toloc.city_name', 'I-toloc.city_name', 'O', 'O', 'O', 'O', 'O', 'B-stoploc.city_name', 'I-stoploc.city_name']\n",
            "Precision = 84.6, Recall = 87.43, F1 = 85.99\n"
          ],
          "name": "stdout"
        }
      ]
    },
    {
      "cell_type": "code",
      "metadata": {
        "id": "D8hEMgrc32f6"
      },
      "source": [
        ""
      ],
      "execution_count": null,
      "outputs": []
    }
  ]
}