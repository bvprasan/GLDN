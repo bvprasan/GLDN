{
  "nbformat": 4,
  "nbformat_minor": 0,
  "metadata": {
    "colab": {
      "name": "Welcome To Colaboratory",
      "provenance": [],
      "collapsed_sections": []
    },
    "kernelspec": {
      "display_name": "Python 3",
      "name": "python3"
    },
    "accelerator": "GPU"
  },
  "cells": [
    {
      "cell_type": "code",
      "metadata": {
        "id": "_Ci5f315TLf3",
        "outputId": "020e4032-248d-4e63-8a55-d7f6db0b12b6",
        "colab": {
          "base_uri": "https://localhost:8080/"
        }
      },
      "source": [
        "import numpy as np # linear algebra\n",
        "import pandas as pd # data processing, CSV file I/O (e.g. pd.read_csv)\n",
        "\n",
        "import random \n",
        "from sklearn.metrics import classification_report\n",
        "import os\n",
        "from sklearn.model_selection import train_test_split\n",
        "\n",
        "import tensorflow as tf\n",
        "for dirname, _, filenames in os.walk('/content/kaggle'):\n",
        "    for filename in filenames:\n",
        "        print(os.path.join(dirname, filename))"
      ],
      "execution_count": 1,
      "outputs": [
        {
          "output_type": "stream",
          "name": "stdout",
          "text": [
            "/content/kaggle/ner_dataset.csv.zip\n",
            "/content/kaggle/ner.csv.zip\n"
          ]
        }
      ]
    },
    {
      "cell_type": "code",
      "metadata": {
        "id": "huGZhWI3Vxev",
        "outputId": "708ac559-d46a-4aaf-a0d0-849cda88172f",
        "colab": {
          "base_uri": "https://localhost:8080/"
        }
      },
      "source": [
        "!unzip /content/kaggle/ner_dataset.csv.zip"
      ],
      "execution_count": 2,
      "outputs": [
        {
          "output_type": "stream",
          "name": "stdout",
          "text": [
            "Archive:  /content/kaggle/ner_dataset.csv.zip\n",
            "  inflating: ner_dataset.csv         \n"
          ]
        }
      ]
    },
    {
      "cell_type": "code",
      "metadata": {
        "id": "CVHdXLtIV5mY",
        "outputId": "39c5a6b8-d8d4-4763-f410-8cc60ed2e9c9",
        "colab": {
          "base_uri": "https://localhost:8080/"
        }
      },
      "source": [
        "!unzip /content/kaggle/ner.csv.zip"
      ],
      "execution_count": 3,
      "outputs": [
        {
          "output_type": "stream",
          "name": "stdout",
          "text": [
            "Archive:  /content/kaggle/ner.csv.zip\n",
            "  inflating: ner.csv                 \n"
          ]
        }
      ]
    },
    {
      "cell_type": "code",
      "metadata": {
        "id": "ikRVOciOWB-O",
        "outputId": "4a4c95a9-1450-415e-f45c-a371805ad6e5",
        "colab": {
          "base_uri": "https://localhost:8080/",
          "height": 202
        }
      },
      "source": [
        "data=pd.read_csv(\"/content/ner_dataset.csv\",encoding=\"latin1\")\n",
        "data.head()"
      ],
      "execution_count": 4,
      "outputs": [
        {
          "output_type": "execute_result",
          "data": {
            "text/html": [
              "<div>\n",
              "<style scoped>\n",
              "    .dataframe tbody tr th:only-of-type {\n",
              "        vertical-align: middle;\n",
              "    }\n",
              "\n",
              "    .dataframe tbody tr th {\n",
              "        vertical-align: top;\n",
              "    }\n",
              "\n",
              "    .dataframe thead th {\n",
              "        text-align: right;\n",
              "    }\n",
              "</style>\n",
              "<table border=\"1\" class=\"dataframe\">\n",
              "  <thead>\n",
              "    <tr style=\"text-align: right;\">\n",
              "      <th></th>\n",
              "      <th>Sentence #</th>\n",
              "      <th>Word</th>\n",
              "      <th>POS</th>\n",
              "      <th>Tag</th>\n",
              "    </tr>\n",
              "  </thead>\n",
              "  <tbody>\n",
              "    <tr>\n",
              "      <th>0</th>\n",
              "      <td>Sentence: 1</td>\n",
              "      <td>Thousands</td>\n",
              "      <td>NNS</td>\n",
              "      <td>O</td>\n",
              "    </tr>\n",
              "    <tr>\n",
              "      <th>1</th>\n",
              "      <td>NaN</td>\n",
              "      <td>of</td>\n",
              "      <td>IN</td>\n",
              "      <td>O</td>\n",
              "    </tr>\n",
              "    <tr>\n",
              "      <th>2</th>\n",
              "      <td>NaN</td>\n",
              "      <td>demonstrators</td>\n",
              "      <td>NNS</td>\n",
              "      <td>O</td>\n",
              "    </tr>\n",
              "    <tr>\n",
              "      <th>3</th>\n",
              "      <td>NaN</td>\n",
              "      <td>have</td>\n",
              "      <td>VBP</td>\n",
              "      <td>O</td>\n",
              "    </tr>\n",
              "    <tr>\n",
              "      <th>4</th>\n",
              "      <td>NaN</td>\n",
              "      <td>marched</td>\n",
              "      <td>VBN</td>\n",
              "      <td>O</td>\n",
              "    </tr>\n",
              "  </tbody>\n",
              "</table>\n",
              "</div>"
            ],
            "text/plain": [
              "    Sentence #           Word  POS Tag\n",
              "0  Sentence: 1      Thousands  NNS   O\n",
              "1          NaN             of   IN   O\n",
              "2          NaN  demonstrators  NNS   O\n",
              "3          NaN           have  VBP   O\n",
              "4          NaN        marched  VBN   O"
            ]
          },
          "metadata": {},
          "execution_count": 4
        }
      ]
    },
    {
      "cell_type": "code",
      "metadata": {
        "id": "L0uW7fs6WX2A",
        "outputId": "6f10bdd5-96d3-424d-c93f-6c98c5453f14",
        "colab": {
          "base_uri": "https://localhost:8080/",
          "height": 202
        }
      },
      "source": [
        "data['Sentence #']=data['Sentence #'].ffill(axis = 0) \n",
        "data.head()"
      ],
      "execution_count": 5,
      "outputs": [
        {
          "output_type": "execute_result",
          "data": {
            "text/html": [
              "<div>\n",
              "<style scoped>\n",
              "    .dataframe tbody tr th:only-of-type {\n",
              "        vertical-align: middle;\n",
              "    }\n",
              "\n",
              "    .dataframe tbody tr th {\n",
              "        vertical-align: top;\n",
              "    }\n",
              "\n",
              "    .dataframe thead th {\n",
              "        text-align: right;\n",
              "    }\n",
              "</style>\n",
              "<table border=\"1\" class=\"dataframe\">\n",
              "  <thead>\n",
              "    <tr style=\"text-align: right;\">\n",
              "      <th></th>\n",
              "      <th>Sentence #</th>\n",
              "      <th>Word</th>\n",
              "      <th>POS</th>\n",
              "      <th>Tag</th>\n",
              "    </tr>\n",
              "  </thead>\n",
              "  <tbody>\n",
              "    <tr>\n",
              "      <th>0</th>\n",
              "      <td>Sentence: 1</td>\n",
              "      <td>Thousands</td>\n",
              "      <td>NNS</td>\n",
              "      <td>O</td>\n",
              "    </tr>\n",
              "    <tr>\n",
              "      <th>1</th>\n",
              "      <td>Sentence: 1</td>\n",
              "      <td>of</td>\n",
              "      <td>IN</td>\n",
              "      <td>O</td>\n",
              "    </tr>\n",
              "    <tr>\n",
              "      <th>2</th>\n",
              "      <td>Sentence: 1</td>\n",
              "      <td>demonstrators</td>\n",
              "      <td>NNS</td>\n",
              "      <td>O</td>\n",
              "    </tr>\n",
              "    <tr>\n",
              "      <th>3</th>\n",
              "      <td>Sentence: 1</td>\n",
              "      <td>have</td>\n",
              "      <td>VBP</td>\n",
              "      <td>O</td>\n",
              "    </tr>\n",
              "    <tr>\n",
              "      <th>4</th>\n",
              "      <td>Sentence: 1</td>\n",
              "      <td>marched</td>\n",
              "      <td>VBN</td>\n",
              "      <td>O</td>\n",
              "    </tr>\n",
              "  </tbody>\n",
              "</table>\n",
              "</div>"
            ],
            "text/plain": [
              "    Sentence #           Word  POS Tag\n",
              "0  Sentence: 1      Thousands  NNS   O\n",
              "1  Sentence: 1             of   IN   O\n",
              "2  Sentence: 1  demonstrators  NNS   O\n",
              "3  Sentence: 1           have  VBP   O\n",
              "4  Sentence: 1        marched  VBN   O"
            ]
          },
          "metadata": {},
          "execution_count": 5
        }
      ]
    },
    {
      "cell_type": "code",
      "metadata": {
        "id": "LeU-0PxzWciz"
      },
      "source": [
        "agg_func = lambda s: [(w,p, t) for w,p, t in zip(s[\"Word\"].values.tolist(),\n",
        "                                                 s['POS'].values.tolist(),\n",
        "                                                 s[\"Tag\"].values.tolist())]"
      ],
      "execution_count": 6,
      "outputs": []
    },
    {
      "cell_type": "code",
      "metadata": {
        "id": "Tr6qQ435W6vq",
        "outputId": "a6c7aae2-860f-4fe4-c0d3-6f9fdcd09a98",
        "colab": {
          "base_uri": "https://localhost:8080/",
          "height": 202
        }
      },
      "source": [
        "agg_data=data.groupby(['Sentence #']).apply(agg_func).reset_index().rename(columns={0:'Sentence_POS_Tag_Pair'})\n",
        "agg_data.head()"
      ],
      "execution_count": 7,
      "outputs": [
        {
          "output_type": "execute_result",
          "data": {
            "text/html": [
              "<div>\n",
              "<style scoped>\n",
              "    .dataframe tbody tr th:only-of-type {\n",
              "        vertical-align: middle;\n",
              "    }\n",
              "\n",
              "    .dataframe tbody tr th {\n",
              "        vertical-align: top;\n",
              "    }\n",
              "\n",
              "    .dataframe thead th {\n",
              "        text-align: right;\n",
              "    }\n",
              "</style>\n",
              "<table border=\"1\" class=\"dataframe\">\n",
              "  <thead>\n",
              "    <tr style=\"text-align: right;\">\n",
              "      <th></th>\n",
              "      <th>Sentence #</th>\n",
              "      <th>Sentence_POS_Tag_Pair</th>\n",
              "    </tr>\n",
              "  </thead>\n",
              "  <tbody>\n",
              "    <tr>\n",
              "      <th>0</th>\n",
              "      <td>Sentence: 1</td>\n",
              "      <td>[(Thousands, NNS, O), (of, IN, O), (demonstrat...</td>\n",
              "    </tr>\n",
              "    <tr>\n",
              "      <th>1</th>\n",
              "      <td>Sentence: 10</td>\n",
              "      <td>[(Iranian, JJ, B-gpe), (officials, NNS, O), (s...</td>\n",
              "    </tr>\n",
              "    <tr>\n",
              "      <th>2</th>\n",
              "      <td>Sentence: 100</td>\n",
              "      <td>[(Helicopter, NN, O), (gunships, NNS, O), (Sat...</td>\n",
              "    </tr>\n",
              "    <tr>\n",
              "      <th>3</th>\n",
              "      <td>Sentence: 1000</td>\n",
              "      <td>[(They, PRP, O), (left, VBD, O), (after, IN, O...</td>\n",
              "    </tr>\n",
              "    <tr>\n",
              "      <th>4</th>\n",
              "      <td>Sentence: 10000</td>\n",
              "      <td>[(U.N., NNP, B-geo), (relief, NN, O), (coordin...</td>\n",
              "    </tr>\n",
              "  </tbody>\n",
              "</table>\n",
              "</div>"
            ],
            "text/plain": [
              "        Sentence #                              Sentence_POS_Tag_Pair\n",
              "0      Sentence: 1  [(Thousands, NNS, O), (of, IN, O), (demonstrat...\n",
              "1     Sentence: 10  [(Iranian, JJ, B-gpe), (officials, NNS, O), (s...\n",
              "2    Sentence: 100  [(Helicopter, NN, O), (gunships, NNS, O), (Sat...\n",
              "3   Sentence: 1000  [(They, PRP, O), (left, VBD, O), (after, IN, O...\n",
              "4  Sentence: 10000  [(U.N., NNP, B-geo), (relief, NN, O), (coordin..."
            ]
          },
          "metadata": {},
          "execution_count": 7
        }
      ]
    },
    {
      "cell_type": "code",
      "metadata": {
        "id": "bFndAp-sXZGF"
      },
      "source": [
        "agg_data['Sentence']=agg_data['Sentence_POS_Tag_Pair'].apply(lambda sentence:\" \".join([s[0] for s in sentence]))\n",
        "agg_data['POS']=agg_data['Sentence_POS_Tag_Pair'].apply(lambda sentence:\" \".join([s[1] for s in sentence]))\n",
        "agg_data['Tag']=agg_data['Sentence_POS_Tag_Pair'].apply(lambda sentence:\" \".join([s[2] for s in sentence]))"
      ],
      "execution_count": 8,
      "outputs": []
    },
    {
      "cell_type": "code",
      "metadata": {
        "id": "uLXDSkKZXwog",
        "outputId": "fd09d5b0-5433-498a-b390-93ba444ebf68",
        "colab": {
          "base_uri": "https://localhost:8080/"
        }
      },
      "source": [
        "agg_data.shape"
      ],
      "execution_count": 9,
      "outputs": [
        {
          "output_type": "execute_result",
          "data": {
            "text/plain": [
              "(47959, 5)"
            ]
          },
          "metadata": {},
          "execution_count": 9
        }
      ]
    },
    {
      "cell_type": "code",
      "metadata": {
        "id": "3O3T8fHKX1eR",
        "outputId": "b5a36114-054d-4264-e803-a404e99d96c4",
        "colab": {
          "base_uri": "https://localhost:8080/",
          "height": 285
        }
      },
      "source": [
        "agg_data.head()"
      ],
      "execution_count": 10,
      "outputs": [
        {
          "output_type": "execute_result",
          "data": {
            "text/html": [
              "<div>\n",
              "<style scoped>\n",
              "    .dataframe tbody tr th:only-of-type {\n",
              "        vertical-align: middle;\n",
              "    }\n",
              "\n",
              "    .dataframe tbody tr th {\n",
              "        vertical-align: top;\n",
              "    }\n",
              "\n",
              "    .dataframe thead th {\n",
              "        text-align: right;\n",
              "    }\n",
              "</style>\n",
              "<table border=\"1\" class=\"dataframe\">\n",
              "  <thead>\n",
              "    <tr style=\"text-align: right;\">\n",
              "      <th></th>\n",
              "      <th>Sentence #</th>\n",
              "      <th>Sentence_POS_Tag_Pair</th>\n",
              "      <th>Sentence</th>\n",
              "      <th>POS</th>\n",
              "      <th>Tag</th>\n",
              "    </tr>\n",
              "  </thead>\n",
              "  <tbody>\n",
              "    <tr>\n",
              "      <th>0</th>\n",
              "      <td>Sentence: 1</td>\n",
              "      <td>[(Thousands, NNS, O), (of, IN, O), (demonstrat...</td>\n",
              "      <td>Thousands of demonstrators have marched throug...</td>\n",
              "      <td>NNS IN NNS VBP VBN IN NNP TO VB DT NN IN NNP C...</td>\n",
              "      <td>O O O O O O B-geo O O O O O B-geo O O O O O B-...</td>\n",
              "    </tr>\n",
              "    <tr>\n",
              "      <th>1</th>\n",
              "      <td>Sentence: 10</td>\n",
              "      <td>[(Iranian, JJ, B-gpe), (officials, NNS, O), (s...</td>\n",
              "      <td>Iranian officials say they expect to get acces...</td>\n",
              "      <td>JJ NNS VBP PRP VBP TO VB NN TO JJ JJ NNS IN DT...</td>\n",
              "      <td>B-gpe O O O O O O O O O O O O O O B-tim O O O ...</td>\n",
              "    </tr>\n",
              "    <tr>\n",
              "      <th>2</th>\n",
              "      <td>Sentence: 100</td>\n",
              "      <td>[(Helicopter, NN, O), (gunships, NNS, O), (Sat...</td>\n",
              "      <td>Helicopter gunships Saturday pounded militant ...</td>\n",
              "      <td>NN NNS NNP VBD JJ NNS IN DT NNP JJ NN , WRB JJ...</td>\n",
              "      <td>O O B-tim O O O O O B-geo O O O O O B-org O O ...</td>\n",
              "    </tr>\n",
              "    <tr>\n",
              "      <th>3</th>\n",
              "      <td>Sentence: 1000</td>\n",
              "      <td>[(They, PRP, O), (left, VBD, O), (after, IN, O...</td>\n",
              "      <td>They left after a tense hour-long standoff wit...</td>\n",
              "      <td>PRP VBD IN DT NN JJ NN IN NN NNS .</td>\n",
              "      <td>O O O O O O O O O O O</td>\n",
              "    </tr>\n",
              "    <tr>\n",
              "      <th>4</th>\n",
              "      <td>Sentence: 10000</td>\n",
              "      <td>[(U.N., NNP, B-geo), (relief, NN, O), (coordin...</td>\n",
              "      <td>U.N. relief coordinator Jan Egeland said Sunda...</td>\n",
              "      <td>NNP NN NN NNP NNP VBD NNP , NNP , JJ CC JJ JJ ...</td>\n",
              "      <td>B-geo O O B-per I-per O B-tim O B-geo O B-gpe ...</td>\n",
              "    </tr>\n",
              "  </tbody>\n",
              "</table>\n",
              "</div>"
            ],
            "text/plain": [
              "        Sentence #  ...                                                Tag\n",
              "0      Sentence: 1  ...  O O O O O O B-geo O O O O O B-geo O O O O O B-...\n",
              "1     Sentence: 10  ...  B-gpe O O O O O O O O O O O O O O B-tim O O O ...\n",
              "2    Sentence: 100  ...  O O B-tim O O O O O B-geo O O O O O B-org O O ...\n",
              "3   Sentence: 1000  ...                              O O O O O O O O O O O\n",
              "4  Sentence: 10000  ...  B-geo O O B-per I-per O B-tim O B-geo O B-gpe ...\n",
              "\n",
              "[5 rows x 5 columns]"
            ]
          },
          "metadata": {},
          "execution_count": 10
        }
      ]
    },
    {
      "cell_type": "code",
      "metadata": {
        "id": "J7sj7iqY9opZ",
        "outputId": "acfa408f-205e-4b50-e149-5629040144a4",
        "colab": {
          "base_uri": "https://localhost:8080/"
        }
      },
      "source": [
        "print(agg_data['Sentence'][0],'\\t',agg_data['Tag'][0])"
      ],
      "execution_count": 13,
      "outputs": [
        {
          "output_type": "stream",
          "name": "stdout",
          "text": [
            "Thousands of demonstrators have marched through London to protest the war in Iraq and demand the withdrawal of British troops from that country . \t O O O O O O B-geo O O O O O B-geo O O O O O B-gpe O O O O O\n"
          ]
        }
      ]
    },
    {
      "cell_type": "code",
      "metadata": {
        "id": "qZCiFa0_-PPl",
        "outputId": "39da0702-6728-4254-9ee2-b3aff3a8d751",
        "colab": {
          "base_uri": "https://localhost:8080/",
          "height": 583
        }
      },
      "source": [
        "print(agg_data[0][0])"
      ],
      "execution_count": 16,
      "outputs": [
        {
          "output_type": "error",
          "ename": "KeyError",
          "evalue": "ignored",
          "traceback": [
            "\u001b[0;31m---------------------------------------------------------------------------\u001b[0m",
            "\u001b[0;31mKeyError\u001b[0m                                  Traceback (most recent call last)",
            "\u001b[0;32m/usr/local/lib/python3.7/dist-packages/pandas/core/indexes/base.py\u001b[0m in \u001b[0;36mget_loc\u001b[0;34m(self, key, method, tolerance)\u001b[0m\n\u001b[1;32m   2897\u001b[0m             \u001b[0;32mtry\u001b[0m\u001b[0;34m:\u001b[0m\u001b[0;34m\u001b[0m\u001b[0;34m\u001b[0m\u001b[0m\n\u001b[0;32m-> 2898\u001b[0;31m                 \u001b[0;32mreturn\u001b[0m \u001b[0mself\u001b[0m\u001b[0;34m.\u001b[0m\u001b[0m_engine\u001b[0m\u001b[0;34m.\u001b[0m\u001b[0mget_loc\u001b[0m\u001b[0;34m(\u001b[0m\u001b[0mcasted_key\u001b[0m\u001b[0;34m)\u001b[0m\u001b[0;34m\u001b[0m\u001b[0;34m\u001b[0m\u001b[0m\n\u001b[0m\u001b[1;32m   2899\u001b[0m             \u001b[0;32mexcept\u001b[0m \u001b[0mKeyError\u001b[0m \u001b[0;32mas\u001b[0m \u001b[0merr\u001b[0m\u001b[0;34m:\u001b[0m\u001b[0;34m\u001b[0m\u001b[0;34m\u001b[0m\u001b[0m\n",
            "\u001b[0;32mpandas/_libs/index.pyx\u001b[0m in \u001b[0;36mpandas._libs.index.IndexEngine.get_loc\u001b[0;34m()\u001b[0m\n",
            "\u001b[0;32mpandas/_libs/index.pyx\u001b[0m in \u001b[0;36mpandas._libs.index.IndexEngine.get_loc\u001b[0;34m()\u001b[0m\n",
            "\u001b[0;32mpandas/_libs/hashtable_class_helper.pxi\u001b[0m in \u001b[0;36mpandas._libs.hashtable.PyObjectHashTable.get_item\u001b[0;34m()\u001b[0m\n",
            "\u001b[0;32mpandas/_libs/hashtable_class_helper.pxi\u001b[0m in \u001b[0;36mpandas._libs.hashtable.PyObjectHashTable.get_item\u001b[0;34m()\u001b[0m\n",
            "\u001b[0;31mKeyError\u001b[0m: 0",
            "\nThe above exception was the direct cause of the following exception:\n",
            "\u001b[0;31mKeyError\u001b[0m                                  Traceback (most recent call last)",
            "\u001b[0;32m<ipython-input-16-c4c1d72e9853>\u001b[0m in \u001b[0;36m<module>\u001b[0;34m()\u001b[0m\n\u001b[0;32m----> 1\u001b[0;31m \u001b[0mprint\u001b[0m\u001b[0;34m(\u001b[0m\u001b[0magg_data\u001b[0m\u001b[0;34m[\u001b[0m\u001b[0;36m0\u001b[0m\u001b[0;34m]\u001b[0m\u001b[0;34m[\u001b[0m\u001b[0;36m0\u001b[0m\u001b[0;34m]\u001b[0m\u001b[0;34m)\u001b[0m\u001b[0;34m\u001b[0m\u001b[0;34m\u001b[0m\u001b[0m\n\u001b[0m",
            "\u001b[0;32m/usr/local/lib/python3.7/dist-packages/pandas/core/frame.py\u001b[0m in \u001b[0;36m__getitem__\u001b[0;34m(self, key)\u001b[0m\n\u001b[1;32m   2904\u001b[0m             \u001b[0;32mif\u001b[0m \u001b[0mself\u001b[0m\u001b[0;34m.\u001b[0m\u001b[0mcolumns\u001b[0m\u001b[0;34m.\u001b[0m\u001b[0mnlevels\u001b[0m \u001b[0;34m>\u001b[0m \u001b[0;36m1\u001b[0m\u001b[0;34m:\u001b[0m\u001b[0;34m\u001b[0m\u001b[0;34m\u001b[0m\u001b[0m\n\u001b[1;32m   2905\u001b[0m                 \u001b[0;32mreturn\u001b[0m \u001b[0mself\u001b[0m\u001b[0;34m.\u001b[0m\u001b[0m_getitem_multilevel\u001b[0m\u001b[0;34m(\u001b[0m\u001b[0mkey\u001b[0m\u001b[0;34m)\u001b[0m\u001b[0;34m\u001b[0m\u001b[0;34m\u001b[0m\u001b[0m\n\u001b[0;32m-> 2906\u001b[0;31m             \u001b[0mindexer\u001b[0m \u001b[0;34m=\u001b[0m \u001b[0mself\u001b[0m\u001b[0;34m.\u001b[0m\u001b[0mcolumns\u001b[0m\u001b[0;34m.\u001b[0m\u001b[0mget_loc\u001b[0m\u001b[0;34m(\u001b[0m\u001b[0mkey\u001b[0m\u001b[0;34m)\u001b[0m\u001b[0;34m\u001b[0m\u001b[0;34m\u001b[0m\u001b[0m\n\u001b[0m\u001b[1;32m   2907\u001b[0m             \u001b[0;32mif\u001b[0m \u001b[0mis_integer\u001b[0m\u001b[0;34m(\u001b[0m\u001b[0mindexer\u001b[0m\u001b[0;34m)\u001b[0m\u001b[0;34m:\u001b[0m\u001b[0;34m\u001b[0m\u001b[0;34m\u001b[0m\u001b[0m\n\u001b[1;32m   2908\u001b[0m                 \u001b[0mindexer\u001b[0m \u001b[0;34m=\u001b[0m \u001b[0;34m[\u001b[0m\u001b[0mindexer\u001b[0m\u001b[0;34m]\u001b[0m\u001b[0;34m\u001b[0m\u001b[0;34m\u001b[0m\u001b[0m\n",
            "\u001b[0;32m/usr/local/lib/python3.7/dist-packages/pandas/core/indexes/base.py\u001b[0m in \u001b[0;36mget_loc\u001b[0;34m(self, key, method, tolerance)\u001b[0m\n\u001b[1;32m   2898\u001b[0m                 \u001b[0;32mreturn\u001b[0m \u001b[0mself\u001b[0m\u001b[0;34m.\u001b[0m\u001b[0m_engine\u001b[0m\u001b[0;34m.\u001b[0m\u001b[0mget_loc\u001b[0m\u001b[0;34m(\u001b[0m\u001b[0mcasted_key\u001b[0m\u001b[0;34m)\u001b[0m\u001b[0;34m\u001b[0m\u001b[0;34m\u001b[0m\u001b[0m\n\u001b[1;32m   2899\u001b[0m             \u001b[0;32mexcept\u001b[0m \u001b[0mKeyError\u001b[0m \u001b[0;32mas\u001b[0m \u001b[0merr\u001b[0m\u001b[0;34m:\u001b[0m\u001b[0;34m\u001b[0m\u001b[0;34m\u001b[0m\u001b[0m\n\u001b[0;32m-> 2900\u001b[0;31m                 \u001b[0;32mraise\u001b[0m \u001b[0mKeyError\u001b[0m\u001b[0;34m(\u001b[0m\u001b[0mkey\u001b[0m\u001b[0;34m)\u001b[0m \u001b[0;32mfrom\u001b[0m \u001b[0merr\u001b[0m\u001b[0;34m\u001b[0m\u001b[0;34m\u001b[0m\u001b[0m\n\u001b[0m\u001b[1;32m   2901\u001b[0m \u001b[0;34m\u001b[0m\u001b[0m\n\u001b[1;32m   2902\u001b[0m         \u001b[0;32mif\u001b[0m \u001b[0mtolerance\u001b[0m \u001b[0;32mis\u001b[0m \u001b[0;32mnot\u001b[0m \u001b[0;32mNone\u001b[0m\u001b[0;34m:\u001b[0m\u001b[0;34m\u001b[0m\u001b[0;34m\u001b[0m\u001b[0m\n",
            "\u001b[0;31mKeyError\u001b[0m: 0"
          ]
        }
      ]
    },
    {
      "cell_type": "code",
      "metadata": {
        "id": "a9yrOK7YX4mc",
        "outputId": "161e7998-d469-483e-a3a5-9e1ba5a59082",
        "colab": {
          "base_uri": "https://localhost:8080/",
          "height": 452
        }
      },
      "source": [
        "agg_data['tokenised_sentences']=agg_data['Sentence'].apply(lambda x:x.split())\n",
        "agg_data['tag_list']=agg_data['Tag'].apply(lambda x:x.split())\n",
        "agg_data.head()"
      ],
      "execution_count": 14,
      "outputs": [
        {
          "output_type": "execute_result",
          "data": {
            "text/html": [
              "<div>\n",
              "<style scoped>\n",
              "    .dataframe tbody tr th:only-of-type {\n",
              "        vertical-align: middle;\n",
              "    }\n",
              "\n",
              "    .dataframe tbody tr th {\n",
              "        vertical-align: top;\n",
              "    }\n",
              "\n",
              "    .dataframe thead th {\n",
              "        text-align: right;\n",
              "    }\n",
              "</style>\n",
              "<table border=\"1\" class=\"dataframe\">\n",
              "  <thead>\n",
              "    <tr style=\"text-align: right;\">\n",
              "      <th></th>\n",
              "      <th>Sentence #</th>\n",
              "      <th>Sentence_POS_Tag_Pair</th>\n",
              "      <th>Sentence</th>\n",
              "      <th>POS</th>\n",
              "      <th>Tag</th>\n",
              "      <th>tokenised_sentences</th>\n",
              "      <th>tag_list</th>\n",
              "    </tr>\n",
              "  </thead>\n",
              "  <tbody>\n",
              "    <tr>\n",
              "      <th>0</th>\n",
              "      <td>Sentence: 1</td>\n",
              "      <td>[(Thousands, NNS, O), (of, IN, O), (demonstrat...</td>\n",
              "      <td>Thousands of demonstrators have marched throug...</td>\n",
              "      <td>NNS IN NNS VBP VBN IN NNP TO VB DT NN IN NNP C...</td>\n",
              "      <td>O O O O O O B-geo O O O O O B-geo O O O O O B-...</td>\n",
              "      <td>[Thousands, of, demonstrators, have, marched, ...</td>\n",
              "      <td>[O, O, O, O, O, O, B-geo, O, O, O, O, O, B-geo...</td>\n",
              "    </tr>\n",
              "    <tr>\n",
              "      <th>1</th>\n",
              "      <td>Sentence: 10</td>\n",
              "      <td>[(Iranian, JJ, B-gpe), (officials, NNS, O), (s...</td>\n",
              "      <td>Iranian officials say they expect to get acces...</td>\n",
              "      <td>JJ NNS VBP PRP VBP TO VB NN TO JJ JJ NNS IN DT...</td>\n",
              "      <td>B-gpe O O O O O O O O O O O O O O B-tim O O O ...</td>\n",
              "      <td>[Iranian, officials, say, they, expect, to, ge...</td>\n",
              "      <td>[B-gpe, O, O, O, O, O, O, O, O, O, O, O, O, O,...</td>\n",
              "    </tr>\n",
              "    <tr>\n",
              "      <th>2</th>\n",
              "      <td>Sentence: 100</td>\n",
              "      <td>[(Helicopter, NN, O), (gunships, NNS, O), (Sat...</td>\n",
              "      <td>Helicopter gunships Saturday pounded militant ...</td>\n",
              "      <td>NN NNS NNP VBD JJ NNS IN DT NNP JJ NN , WRB JJ...</td>\n",
              "      <td>O O B-tim O O O O O B-geo O O O O O B-org O O ...</td>\n",
              "      <td>[Helicopter, gunships, Saturday, pounded, mili...</td>\n",
              "      <td>[O, O, B-tim, O, O, O, O, O, B-geo, O, O, O, O...</td>\n",
              "    </tr>\n",
              "    <tr>\n",
              "      <th>3</th>\n",
              "      <td>Sentence: 1000</td>\n",
              "      <td>[(They, PRP, O), (left, VBD, O), (after, IN, O...</td>\n",
              "      <td>They left after a tense hour-long standoff wit...</td>\n",
              "      <td>PRP VBD IN DT NN JJ NN IN NN NNS .</td>\n",
              "      <td>O O O O O O O O O O O</td>\n",
              "      <td>[They, left, after, a, tense, hour-long, stand...</td>\n",
              "      <td>[O, O, O, O, O, O, O, O, O, O, O]</td>\n",
              "    </tr>\n",
              "    <tr>\n",
              "      <th>4</th>\n",
              "      <td>Sentence: 10000</td>\n",
              "      <td>[(U.N., NNP, B-geo), (relief, NN, O), (coordin...</td>\n",
              "      <td>U.N. relief coordinator Jan Egeland said Sunda...</td>\n",
              "      <td>NNP NN NN NNP NNP VBD NNP , NNP , JJ CC JJ JJ ...</td>\n",
              "      <td>B-geo O O B-per I-per O B-tim O B-geo O B-gpe ...</td>\n",
              "      <td>[U.N., relief, coordinator, Jan, Egeland, said...</td>\n",
              "      <td>[B-geo, O, O, B-per, I-per, O, B-tim, O, B-geo...</td>\n",
              "    </tr>\n",
              "  </tbody>\n",
              "</table>\n",
              "</div>"
            ],
            "text/plain": [
              "        Sentence #  ...                                           tag_list\n",
              "0      Sentence: 1  ...  [O, O, O, O, O, O, B-geo, O, O, O, O, O, B-geo...\n",
              "1     Sentence: 10  ...  [B-gpe, O, O, O, O, O, O, O, O, O, O, O, O, O,...\n",
              "2    Sentence: 100  ...  [O, O, B-tim, O, O, O, O, O, B-geo, O, O, O, O...\n",
              "3   Sentence: 1000  ...                  [O, O, O, O, O, O, O, O, O, O, O]\n",
              "4  Sentence: 10000  ...  [B-geo, O, O, B-per, I-per, O, B-tim, O, B-geo...\n",
              "\n",
              "[5 rows x 7 columns]"
            ]
          },
          "metadata": {},
          "execution_count": 14
        }
      ]
    },
    {
      "cell_type": "code",
      "metadata": {
        "id": "41-ziqxDYL1f",
        "outputId": "b042f0cd-c77a-418e-c2f0-d575ae064ad8",
        "colab": {
          "base_uri": "https://localhost:8080/"
        }
      },
      "source": [
        "agg_data['len_sentence']=agg_data['tokenised_sentences'].apply(lambda x:len(x))\n",
        "agg_data['len_tag']=agg_data['tag_list'].apply(lambda x:len(x))\n",
        "agg_data['is_equal']=agg_data.apply(lambda row:1 if row['len_sentence']==row['len_tag'] else 0,axis=1)\n",
        "agg_data['is_equal'].value_counts()"
      ],
      "execution_count": 15,
      "outputs": [
        {
          "output_type": "execute_result",
          "data": {
            "text/plain": [
              "1    47955\n",
              "0        4\n",
              "Name: is_equal, dtype: int64"
            ]
          },
          "metadata": {},
          "execution_count": 15
        }
      ]
    },
    {
      "cell_type": "code",
      "metadata": {
        "id": "SJd1KXB2YX4x",
        "outputId": "708505e1-20c8-40f5-ff34-547be7842376",
        "colab": {
          "base_uri": "https://localhost:8080/",
          "height": 668
        }
      },
      "source": [
        "agg_data.head()"
      ],
      "execution_count": 16,
      "outputs": [
        {
          "output_type": "execute_result",
          "data": {
            "text/html": [
              "<div>\n",
              "<style scoped>\n",
              "    .dataframe tbody tr th:only-of-type {\n",
              "        vertical-align: middle;\n",
              "    }\n",
              "\n",
              "    .dataframe tbody tr th {\n",
              "        vertical-align: top;\n",
              "    }\n",
              "\n",
              "    .dataframe thead th {\n",
              "        text-align: right;\n",
              "    }\n",
              "</style>\n",
              "<table border=\"1\" class=\"dataframe\">\n",
              "  <thead>\n",
              "    <tr style=\"text-align: right;\">\n",
              "      <th></th>\n",
              "      <th>Sentence #</th>\n",
              "      <th>Sentence_POS_Tag_Pair</th>\n",
              "      <th>Sentence</th>\n",
              "      <th>POS</th>\n",
              "      <th>Tag</th>\n",
              "      <th>tokenised_sentences</th>\n",
              "      <th>tag_list</th>\n",
              "      <th>len_sentence</th>\n",
              "      <th>len_tag</th>\n",
              "      <th>is_equal</th>\n",
              "    </tr>\n",
              "  </thead>\n",
              "  <tbody>\n",
              "    <tr>\n",
              "      <th>0</th>\n",
              "      <td>Sentence: 1</td>\n",
              "      <td>[(Thousands, NNS, O), (of, IN, O), (demonstrat...</td>\n",
              "      <td>Thousands of demonstrators have marched throug...</td>\n",
              "      <td>NNS IN NNS VBP VBN IN NNP TO VB DT NN IN NNP C...</td>\n",
              "      <td>O O O O O O B-geo O O O O O B-geo O O O O O B-...</td>\n",
              "      <td>[Thousands, of, demonstrators, have, marched, ...</td>\n",
              "      <td>[O, O, O, O, O, O, B-geo, O, O, O, O, O, B-geo...</td>\n",
              "      <td>24</td>\n",
              "      <td>24</td>\n",
              "      <td>1</td>\n",
              "    </tr>\n",
              "    <tr>\n",
              "      <th>1</th>\n",
              "      <td>Sentence: 10</td>\n",
              "      <td>[(Iranian, JJ, B-gpe), (officials, NNS, O), (s...</td>\n",
              "      <td>Iranian officials say they expect to get acces...</td>\n",
              "      <td>JJ NNS VBP PRP VBP TO VB NN TO JJ JJ NNS IN DT...</td>\n",
              "      <td>B-gpe O O O O O O O O O O O O O O B-tim O O O ...</td>\n",
              "      <td>[Iranian, officials, say, they, expect, to, ge...</td>\n",
              "      <td>[B-gpe, O, O, O, O, O, O, O, O, O, O, O, O, O,...</td>\n",
              "      <td>25</td>\n",
              "      <td>25</td>\n",
              "      <td>1</td>\n",
              "    </tr>\n",
              "    <tr>\n",
              "      <th>2</th>\n",
              "      <td>Sentence: 100</td>\n",
              "      <td>[(Helicopter, NN, O), (gunships, NNS, O), (Sat...</td>\n",
              "      <td>Helicopter gunships Saturday pounded militant ...</td>\n",
              "      <td>NN NNS NNP VBD JJ NNS IN DT NNP JJ NN , WRB JJ...</td>\n",
              "      <td>O O B-tim O O O O O B-geo O O O O O B-org O O ...</td>\n",
              "      <td>[Helicopter, gunships, Saturday, pounded, mili...</td>\n",
              "      <td>[O, O, B-tim, O, O, O, O, O, B-geo, O, O, O, O...</td>\n",
              "      <td>32</td>\n",
              "      <td>32</td>\n",
              "      <td>1</td>\n",
              "    </tr>\n",
              "    <tr>\n",
              "      <th>3</th>\n",
              "      <td>Sentence: 1000</td>\n",
              "      <td>[(They, PRP, O), (left, VBD, O), (after, IN, O...</td>\n",
              "      <td>They left after a tense hour-long standoff wit...</td>\n",
              "      <td>PRP VBD IN DT NN JJ NN IN NN NNS .</td>\n",
              "      <td>O O O O O O O O O O O</td>\n",
              "      <td>[They, left, after, a, tense, hour-long, stand...</td>\n",
              "      <td>[O, O, O, O, O, O, O, O, O, O, O]</td>\n",
              "      <td>11</td>\n",
              "      <td>11</td>\n",
              "      <td>1</td>\n",
              "    </tr>\n",
              "    <tr>\n",
              "      <th>4</th>\n",
              "      <td>Sentence: 10000</td>\n",
              "      <td>[(U.N., NNP, B-geo), (relief, NN, O), (coordin...</td>\n",
              "      <td>U.N. relief coordinator Jan Egeland said Sunda...</td>\n",
              "      <td>NNP NN NN NNP NNP VBD NNP , NNP , JJ CC JJ JJ ...</td>\n",
              "      <td>B-geo O O B-per I-per O B-tim O B-geo O B-gpe ...</td>\n",
              "      <td>[U.N., relief, coordinator, Jan, Egeland, said...</td>\n",
              "      <td>[B-geo, O, O, B-per, I-per, O, B-tim, O, B-geo...</td>\n",
              "      <td>35</td>\n",
              "      <td>35</td>\n",
              "      <td>1</td>\n",
              "    </tr>\n",
              "  </tbody>\n",
              "</table>\n",
              "</div>"
            ],
            "text/plain": [
              "        Sentence #  ... is_equal\n",
              "0      Sentence: 1  ...        1\n",
              "1     Sentence: 10  ...        1\n",
              "2    Sentence: 100  ...        1\n",
              "3   Sentence: 1000  ...        1\n",
              "4  Sentence: 10000  ...        1\n",
              "\n",
              "[5 rows x 10 columns]"
            ]
          },
          "metadata": {},
          "execution_count": 16
        }
      ]
    },
    {
      "cell_type": "code",
      "metadata": {
        "id": "UuWwDABHYePz"
      },
      "source": [
        "agg_data=agg_data[agg_data['is_equal']!=0]"
      ],
      "execution_count": 17,
      "outputs": []
    },
    {
      "cell_type": "code",
      "metadata": {
        "id": "yGSTkI4UYqTe",
        "outputId": "3a08112d-13df-49de-f6e6-6a0748ed8335",
        "colab": {
          "base_uri": "https://localhost:8080/"
        }
      },
      "source": [
        "agg_data.shape"
      ],
      "execution_count": 18,
      "outputs": [
        {
          "output_type": "execute_result",
          "data": {
            "text/plain": [
              "(47955, 10)"
            ]
          },
          "metadata": {},
          "execution_count": 18
        }
      ]
    },
    {
      "cell_type": "code",
      "metadata": {
        "id": "KB4VvLobYuz9",
        "outputId": "049a7a7d-9a9f-4157-c8a2-9a6580a0f545",
        "colab": {
          "base_uri": "https://localhost:8080/"
        }
      },
      "source": [
        "sentences_list=agg_data['Sentence'].tolist()\n",
        "tags_list=agg_data['tag_list'].tolist()\n",
        "\n",
        "print(\"Number of Sentences in the Data \",len(sentences_list))\n",
        "print(\"Are number of Sentences and Tag list equal \",len(sentences_list)==len(tags_list))"
      ],
      "execution_count": 19,
      "outputs": [
        {
          "output_type": "stream",
          "name": "stdout",
          "text": [
            "Number of Sentences in the Data  47955\n",
            "Are number of Sentences and Tag list equal  True\n"
          ]
        }
      ]
    },
    {
      "cell_type": "code",
      "metadata": {
        "id": "ieahoRsYY2S2",
        "outputId": "d4cfde2f-4887-4dd7-e675-027c403b5cd4",
        "colab": {
          "base_uri": "https://localhost:8080/",
          "height": 53
        }
      },
      "source": [
        "sentences_list[0]"
      ],
      "execution_count": 21,
      "outputs": [
        {
          "output_type": "execute_result",
          "data": {
            "application/vnd.google.colaboratory.intrinsic+json": {
              "type": "string"
            },
            "text/plain": [
              "'Thousands of demonstrators have marched through London to protest the war in Iraq and demand the withdrawal of British troops from that country .'"
            ]
          },
          "metadata": {},
          "execution_count": 21
        }
      ]
    },
    {
      "cell_type": "code",
      "metadata": {
        "id": "lZCeslBaY_x1",
        "outputId": "3e21159c-3aa8-495c-9e47-341354fe65ba",
        "colab": {
          "base_uri": "https://localhost:8080/"
        }
      },
      "source": [
        "tags_list[0]"
      ],
      "execution_count": 22,
      "outputs": [
        {
          "output_type": "execute_result",
          "data": {
            "text/plain": [
              "['O',\n",
              " 'O',\n",
              " 'O',\n",
              " 'O',\n",
              " 'O',\n",
              " 'O',\n",
              " 'B-geo',\n",
              " 'O',\n",
              " 'O',\n",
              " 'O',\n",
              " 'O',\n",
              " 'O',\n",
              " 'B-geo',\n",
              " 'O',\n",
              " 'O',\n",
              " 'O',\n",
              " 'O',\n",
              " 'O',\n",
              " 'B-gpe',\n",
              " 'O',\n",
              " 'O',\n",
              " 'O',\n",
              " 'O',\n",
              " 'O']"
            ]
          },
          "metadata": {},
          "execution_count": 22
        }
      ]
    },
    {
      "cell_type": "code",
      "metadata": {
        "id": "hH5hFHY8ZM4Z"
      },
      "source": [
        "tokeniser= tf.keras.preprocessing.text.Tokenizer(lower=False,filters='')\n",
        "\n",
        "tokeniser.fit_on_texts(sentences_list)"
      ],
      "execution_count": 23,
      "outputs": []
    },
    {
      "cell_type": "code",
      "metadata": {
        "id": "RQbkixh6ZelE",
        "outputId": "c418da52-46c5-44d0-9913-6087c431e8a7",
        "colab": {
          "base_uri": "https://localhost:8080/"
        }
      },
      "source": [
        "print(\"Vocab size of Tokeniser \",len(tokeniser.word_index)+1) ## Adding one since 0 is reserved for padding"
      ],
      "execution_count": 24,
      "outputs": [
        {
          "output_type": "stream",
          "name": "stdout",
          "text": [
            "Vocab size of Tokeniser  35170\n"
          ]
        }
      ]
    },
    {
      "cell_type": "code",
      "metadata": {
        "id": "tfI4x8KcZjV5",
        "outputId": "af7e381d-eec0-49e0-fc51-349f9fc60409",
        "colab": {
          "base_uri": "https://localhost:8080/",
          "height": 35
        }
      },
      "source": [
        "tokeniser.index_word[326]"
      ],
      "execution_count": 25,
      "outputs": [
        {
          "output_type": "execute_result",
          "data": {
            "application/vnd.google.colaboratory.intrinsic+json": {
              "type": "string"
            },
            "text/plain": [
              "'national'"
            ]
          },
          "metadata": {},
          "execution_count": 25
        }
      ]
    },
    {
      "cell_type": "code",
      "metadata": {
        "id": "wXLZph1ZZmSr",
        "outputId": "5d1a1697-f009-4577-e65d-9874f9ecffa6",
        "colab": {
          "base_uri": "https://localhost:8080/"
        }
      },
      "source": [
        "encoded_sentence=tokeniser.texts_to_sequences(sentences_list)\n",
        "print(\"First Original Sentence \",sentences_list[0])\n",
        "print(\"First Encoded Sentence \",encoded_sentence[0])\n",
        "print(\"Is Length of Original Sentence Same as Encoded Sentence \",len(sentences_list[0].split())==len(encoded_sentence[0]))\n",
        "print(\"Length of First Sentence \",len(encoded_sentence[0]))"
      ],
      "execution_count": 26,
      "outputs": [
        {
          "output_type": "stream",
          "name": "stdout",
          "text": [
            "First Original Sentence  Thousands of demonstrators have marched through London to protest the war in Iraq and demand the withdrawal of British troops from that country .\n",
            "First Encoded Sentence  [1114, 4, 1161, 16, 1852, 230, 478, 6, 533, 1, 155, 5, 58, 8, 582, 1, 843, 4, 179, 87, 21, 15, 52, 2]\n",
            "Is Length of Original Sentence Same as Encoded Sentence  True\n",
            "Length of First Sentence  24\n"
          ]
        }
      ]
    },
    {
      "cell_type": "code",
      "metadata": {
        "id": "Njc4Y1ShZwWf",
        "outputId": "94d017bb-2c5a-4145-f9ba-101df0f6b07b",
        "colab": {
          "base_uri": "https://localhost:8080/"
        }
      },
      "source": [
        "tags=list(set(data['Tag'].values))\n",
        "print(tags)\n",
        "num_tags=len(tags)\n",
        "print(\"Number of Tags \",num_tags)\n",
        "\n",
        "tags_map={tag:i for i,tag in enumerate(tags)}\n",
        "print(\"Tags Map \",tags_map)"
      ],
      "execution_count": 27,
      "outputs": [
        {
          "output_type": "stream",
          "name": "stdout",
          "text": [
            "['B-tim', 'B-nat', 'I-art', 'I-gpe', 'I-nat', 'B-org', 'O', 'I-eve', 'I-org', 'B-per', 'I-per', 'B-geo', 'I-tim', 'I-geo', 'B-gpe', 'B-eve', 'B-art']\n",
            "Number of Tags  17\n",
            "Tags Map  {'B-tim': 0, 'B-nat': 1, 'I-art': 2, 'I-gpe': 3, 'I-nat': 4, 'B-org': 5, 'O': 6, 'I-eve': 7, 'I-org': 8, 'B-per': 9, 'I-per': 10, 'B-geo': 11, 'I-tim': 12, 'I-geo': 13, 'B-gpe': 14, 'B-eve': 15, 'B-art': 16}\n"
          ]
        }
      ]
    },
    {
      "cell_type": "code",
      "metadata": {
        "id": "5UTslclrZ63u"
      },
      "source": [
        "reverse_tag_map={v: k for k, v in tags_map.items()}"
      ],
      "execution_count": 28,
      "outputs": []
    },
    {
      "cell_type": "code",
      "metadata": {
        "id": "ztBNMmgpaKFo",
        "outputId": "ef6c46b4-b6d7-4da4-9e5a-877616da326f",
        "colab": {
          "base_uri": "https://localhost:8080/"
        }
      },
      "source": [
        "print(\"Reverse Tags Map \", reverse_tag_map)"
      ],
      "execution_count": 29,
      "outputs": [
        {
          "output_type": "stream",
          "name": "stdout",
          "text": [
            "Reverse Tags Map  {0: 'B-tim', 1: 'B-nat', 2: 'I-art', 3: 'I-gpe', 4: 'I-nat', 5: 'B-org', 6: 'O', 7: 'I-eve', 8: 'I-org', 9: 'B-per', 10: 'I-per', 11: 'B-geo', 12: 'I-tim', 13: 'I-geo', 14: 'B-gpe', 15: 'B-eve', 16: 'B-art'}\n"
          ]
        }
      ]
    },
    {
      "cell_type": "code",
      "metadata": {
        "id": "kWUsSn7EaVpT",
        "outputId": "b5ed7872-3fd1-43e3-e1bd-8dda712e660f",
        "colab": {
          "base_uri": "https://localhost:8080/"
        }
      },
      "source": [
        "encoded_tags=[[tags_map[w] for w in tag] for tag in tags_list]\n",
        "print(\"First Sentence \",sentences_list[0])\n",
        "print('First Sentence Original Tags ',tags_list[0])\n",
        "print(\"First Sentence Encoded Tags \",encoded_tags[0])\n",
        "print(\"Is length of Original Tags and Encoded Tags same \",len(tags_list[0])==len(encoded_tags[0]))\n",
        "print(\"Length of Tags for First Sentence \",len(encoded_tags[0]))"
      ],
      "execution_count": 30,
      "outputs": [
        {
          "output_type": "stream",
          "name": "stdout",
          "text": [
            "First Sentence  Thousands of demonstrators have marched through London to protest the war in Iraq and demand the withdrawal of British troops from that country .\n",
            "First Sentence Original Tags  ['O', 'O', 'O', 'O', 'O', 'O', 'B-geo', 'O', 'O', 'O', 'O', 'O', 'B-geo', 'O', 'O', 'O', 'O', 'O', 'B-gpe', 'O', 'O', 'O', 'O', 'O']\n",
            "First Sentence Encoded Tags  [6, 6, 6, 6, 6, 6, 11, 6, 6, 6, 6, 6, 11, 6, 6, 6, 6, 6, 14, 6, 6, 6, 6, 6]\n",
            "Is length of Original Tags and Encoded Tags same  True\n",
            "Length of Tags for First Sentence  24\n"
          ]
        }
      ]
    },
    {
      "cell_type": "code",
      "metadata": {
        "id": "NGuC_7llacew",
        "outputId": "8373d6d7-ad2f-442c-d322-cb43066be63e",
        "colab": {
          "base_uri": "https://localhost:8080/"
        }
      },
      "source": [
        "max_sentence_length=max([len(s.split()) for s in sentences_list])\n",
        "print(max_sentence_length)"
      ],
      "execution_count": 31,
      "outputs": [
        {
          "output_type": "stream",
          "name": "stdout",
          "text": [
            "104\n"
          ]
        }
      ]
    },
    {
      "cell_type": "code",
      "metadata": {
        "id": "OZlL8rQyaray",
        "outputId": "2c428734-e7d3-4fa5-ab02-61846833392b",
        "colab": {
          "base_uri": "https://localhost:8080/"
        }
      },
      "source": [
        "max_len=128\n",
        "from tensorflow.keras.preprocessing.sequence import pad_sequences\n",
        "from tensorflow.keras.utils import to_categorical\n",
        "\n",
        "padded_encoded_sentences=pad_sequences(maxlen=max_len,sequences=encoded_sentence,padding=\"post\",value=0)\n",
        "padded_encoded_tags=pad_sequences(maxlen=max_len,sequences=encoded_tags,padding=\"post\",value=tags_map['O'])\n",
        "\n",
        "print(\"Shape of Encoded Sentence \",padded_encoded_sentences.shape)\n",
        "print(\"Shape of Encoded Labels \",padded_encoded_tags.shape)\n",
        "\n",
        "print(\"First Encoded Sentence Without Padding \",encoded_sentence[0])\n",
        "print(\"First Encoded Sentence with padding \",padded_encoded_sentences[0])\n",
        "print(\"First Sentence Encoded Label without Padding \",encoded_tags[0])\n",
        "print(\"First Sentence Encoded Label with Padding \",padded_encoded_tags[0])"
      ],
      "execution_count": 32,
      "outputs": [
        {
          "output_type": "stream",
          "name": "stdout",
          "text": [
            "Shape of Encoded Sentence  (47955, 128)\n",
            "Shape of Encoded Labels  (47955, 128)\n",
            "First Encoded Sentence Without Padding  [1114, 4, 1161, 16, 1852, 230, 478, 6, 533, 1, 155, 5, 58, 8, 582, 1, 843, 4, 179, 87, 21, 15, 52, 2]\n",
            "First Encoded Sentence with padding  [1114    4 1161   16 1852  230  478    6  533    1  155    5   58    8\n",
            "  582    1  843    4  179   87   21   15   52    2    0    0    0    0\n",
            "    0    0    0    0    0    0    0    0    0    0    0    0    0    0\n",
            "    0    0    0    0    0    0    0    0    0    0    0    0    0    0\n",
            "    0    0    0    0    0    0    0    0    0    0    0    0    0    0\n",
            "    0    0    0    0    0    0    0    0    0    0    0    0    0    0\n",
            "    0    0    0    0    0    0    0    0    0    0    0    0    0    0\n",
            "    0    0    0    0    0    0    0    0    0    0    0    0    0    0\n",
            "    0    0    0    0    0    0    0    0    0    0    0    0    0    0\n",
            "    0    0]\n",
            "First Sentence Encoded Label without Padding  [6, 6, 6, 6, 6, 6, 11, 6, 6, 6, 6, 6, 11, 6, 6, 6, 6, 6, 14, 6, 6, 6, 6, 6]\n",
            "First Sentence Encoded Label with Padding  [ 6  6  6  6  6  6 11  6  6  6  6  6 11  6  6  6  6  6 14  6  6  6  6  6\n",
            "  6  6  6  6  6  6  6  6  6  6  6  6  6  6  6  6  6  6  6  6  6  6  6  6\n",
            "  6  6  6  6  6  6  6  6  6  6  6  6  6  6  6  6  6  6  6  6  6  6  6  6\n",
            "  6  6  6  6  6  6  6  6  6  6  6  6  6  6  6  6  6  6  6  6  6  6  6  6\n",
            "  6  6  6  6  6  6  6  6  6  6  6  6  6  6  6  6  6  6  6  6  6  6  6  6\n",
            "  6  6  6  6  6  6  6  6]\n"
          ]
        }
      ]
    },
    {
      "cell_type": "code",
      "metadata": {
        "id": "nlOXcjt0a6bo",
        "outputId": "5e7e0684-d7d7-4d25-d834-3f8681b2e153",
        "colab": {
          "base_uri": "https://localhost:8080/"
        }
      },
      "source": [
        "target= [to_categorical(i,num_classes = num_tags) for i in  padded_encoded_tags]\n",
        "print(\"Shape of Labels  after converting to Categorical for first sentence \",target[0].shape)"
      ],
      "execution_count": 33,
      "outputs": [
        {
          "output_type": "stream",
          "name": "stdout",
          "text": [
            "Shape of Labels  after converting to Categorical for first sentence  (128, 17)\n"
          ]
        }
      ]
    },
    {
      "cell_type": "code",
      "metadata": {
        "id": "l0zey3wwbPag",
        "outputId": "4d2db9e0-e630-4d7a-be30-abc52ea09056",
        "colab": {
          "base_uri": "https://localhost:8080/"
        }
      },
      "source": [
        "target[0]"
      ],
      "execution_count": 34,
      "outputs": [
        {
          "output_type": "execute_result",
          "data": {
            "text/plain": [
              "array([[0., 0., 0., ..., 0., 0., 0.],\n",
              "       [0., 0., 0., ..., 0., 0., 0.],\n",
              "       [0., 0., 0., ..., 0., 0., 0.],\n",
              "       ...,\n",
              "       [0., 0., 0., ..., 0., 0., 0.],\n",
              "       [0., 0., 0., ..., 0., 0., 0.],\n",
              "       [0., 0., 0., ..., 0., 0., 0.]], dtype=float32)"
            ]
          },
          "metadata": {},
          "execution_count": 34
        }
      ]
    },
    {
      "cell_type": "code",
      "metadata": {
        "id": "c16Dg5l3bURi",
        "outputId": "c359680a-0202-4175-e12f-45700b7fb0c1",
        "colab": {
          "base_uri": "https://localhost:8080/"
        }
      },
      "source": [
        "from sklearn.model_selection import train_test_split\n",
        "X_train,X_val_test,y_train,y_val_test = train_test_split(padded_encoded_sentences,target,test_size = 0.3,random_state=42)\n",
        "X_val,X_test,y_val,y_test = train_test_split(X_val_test,y_val_test,test_size = 0.2,random_state=42)\n",
        "print(\"Input Train Data Shape \",X_train.shape)\n",
        "print(\"Train Labels Length \",len(y_train))\n",
        "print(\"Input Test Data Shape \",X_test.shape)\n",
        "print(\"Test Labels Length \",len(y_test))\n",
        "\n",
        "print(\"Input Validation Data Shape \",X_val.shape)\n",
        "print(\"Validation Labels Length \",len(y_val))"
      ],
      "execution_count": 35,
      "outputs": [
        {
          "output_type": "stream",
          "name": "stdout",
          "text": [
            "Input Train Data Shape  (33568, 128)\n",
            "Train Labels Length  33568\n",
            "Input Test Data Shape  (2878, 128)\n",
            "Test Labels Length  2878\n",
            "Input Validation Data Shape  (11509, 128)\n",
            "Validation Labels Length  11509\n"
          ]
        }
      ]
    },
    {
      "cell_type": "code",
      "metadata": {
        "id": "EnWDkTu5bpv9",
        "outputId": "cc04cd1f-8355-43be-d26a-54c8813624b5",
        "colab": {
          "base_uri": "https://localhost:8080/"
        }
      },
      "source": [
        "print(\"First Sentence in Training Data \",X_train[0])\n",
        "print(\"First sentence Label \",y_train[0])\n",
        "print(\"Shape of First Sentence -Train\",X_train[0].shape)\n",
        "print(\"Shape of First Sentence Label  -Train\",y_train[0].shape)"
      ],
      "execution_count": 36,
      "outputs": [
        {
          "output_type": "stream",
          "name": "stdout",
          "text": [
            "First Sentence in Training Data  [ 144    1  873   20  198   13  132 1682    4    7  416 3636    5    1\n",
            " 1396  653    2    0    0    0    0    0    0    0    0    0    0    0\n",
            "    0    0    0    0    0    0    0    0    0    0    0    0    0    0\n",
            "    0    0    0    0    0    0    0    0    0    0    0    0    0    0\n",
            "    0    0    0    0    0    0    0    0    0    0    0    0    0    0\n",
            "    0    0    0    0    0    0    0    0    0    0    0    0    0    0\n",
            "    0    0    0    0    0    0    0    0    0    0    0    0    0    0\n",
            "    0    0    0    0    0    0    0    0    0    0    0    0    0    0\n",
            "    0    0    0    0    0    0    0    0    0    0    0    0    0    0\n",
            "    0    0]\n",
            "First sentence Label  [[0. 0. 0. ... 0. 0. 0.]\n",
            " [0. 0. 0. ... 0. 0. 0.]\n",
            " [0. 0. 0. ... 0. 0. 0.]\n",
            " ...\n",
            " [0. 0. 0. ... 0. 0. 0.]\n",
            " [0. 0. 0. ... 0. 0. 0.]\n",
            " [0. 0. 0. ... 0. 0. 0.]]\n",
            "Shape of First Sentence -Train (128,)\n",
            "Shape of First Sentence Label  -Train (128, 17)\n"
          ]
        }
      ]
    },
    {
      "cell_type": "code",
      "metadata": {
        "id": "2BTKpkARbz_u"
      },
      "source": [
        "from tensorflow.keras import Model,Input\n",
        "from tensorflow.keras.layers import LSTM,Embedding,Dense\n",
        "from tensorflow.keras.layers import TimeDistributed, SpatialDropout1D,Bidirectional"
      ],
      "execution_count": 37,
      "outputs": []
    },
    {
      "cell_type": "code",
      "metadata": {
        "id": "in0a4HaKcZ4W",
        "outputId": "1774bf20-fd95-4d0d-be81-5feb45cf0e4b",
        "colab": {
          "base_uri": "https://localhost:8080/"
        }
      },
      "source": [
        "embedding_dim=128\n",
        "vocab_size=len(tokeniser.word_index)+1\n",
        "lstm_units=128\n",
        "max_len=128\n",
        "\n",
        "input_word = Input(shape = (max_len,))\n",
        "model = Embedding(input_dim = vocab_size+1,output_dim = embedding_dim,input_length = max_len)(input_word)\n",
        "#model = Bidirectional(LSTM(units=embedding_dim, return_sequences=True, dropout=0.2, recurrent_dropout=0.2), merge_mode = 'concat')(model)\n",
        "model = LSTM(units=embedding_dim,return_sequences=True)(model)\n",
        "out = TimeDistributed(Dense(num_tags,activation = 'softmax'))(model)\n",
        "model = Model(input_word,out)\n",
        "model.summary()"
      ],
      "execution_count": 50,
      "outputs": [
        {
          "output_type": "stream",
          "name": "stdout",
          "text": [
            "Model: \"model_2\"\n",
            "_________________________________________________________________\n",
            "Layer (type)                 Output Shape              Param #   \n",
            "=================================================================\n",
            "input_3 (InputLayer)         [(None, 128)]             0         \n",
            "_________________________________________________________________\n",
            "embedding_2 (Embedding)      (None, 128, 128)          4501888   \n",
            "_________________________________________________________________\n",
            "lstm_3 (LSTM)                (None, 128, 128)          131584    \n",
            "_________________________________________________________________\n",
            "time_distributed_2 (TimeDist (None, 128, 17)           2193      \n",
            "=================================================================\n",
            "Total params: 4,635,665\n",
            "Trainable params: 4,635,665\n",
            "Non-trainable params: 0\n",
            "_________________________________________________________________\n"
          ]
        }
      ]
    },
    {
      "cell_type": "code",
      "metadata": {
        "id": "Q_LXv4CycfUV"
      },
      "source": [
        "model.compile(optimizer = 'adam',loss = 'categorical_crossentropy',metrics = ['accuracy'])"
      ],
      "execution_count": 51,
      "outputs": []
    },
    {
      "cell_type": "code",
      "metadata": {
        "id": "vLObTXB7cspi",
        "outputId": "03cbfe4c-2e57-490c-e765-ff03e8d15f01",
        "colab": {
          "base_uri": "https://localhost:8080/"
        }
      },
      "source": [
        "history = model.fit(X_train,np.array(y_train),validation_data=(X_val,np.array(y_val)),batch_size = 32,epochs = 3)"
      ],
      "execution_count": 52,
      "outputs": [
        {
          "output_type": "stream",
          "name": "stdout",
          "text": [
            "Epoch 1/3\n",
            "1049/1049 [==============================] - 38s 35ms/step - loss: 0.0998 - accuracy: 0.9809 - val_loss: 0.0366 - val_accuracy: 0.9910\n",
            "Epoch 2/3\n",
            "1049/1049 [==============================] - 35s 33ms/step - loss: 0.0255 - accuracy: 0.9930 - val_loss: 0.0248 - val_accuracy: 0.9927\n",
            "Epoch 3/3\n",
            "1049/1049 [==============================] - 34s 33ms/step - loss: 0.0176 - accuracy: 0.9946 - val_loss: 0.0225 - val_accuracy: 0.9932\n"
          ]
        }
      ]
    },
    {
      "cell_type": "code",
      "metadata": {
        "id": "qBqvKKticxPn"
      },
      "source": [
        "preds=model.predict(X_test) ## Predict using model on Test Data"
      ],
      "execution_count": 53,
      "outputs": []
    },
    {
      "cell_type": "code",
      "metadata": {
        "id": "aoBKIeLHdaNF"
      },
      "source": [
        "def evaluatePredictions(test_data,preds,actual_preds):\n",
        "    print(\"Shape of Test Data Array\",test_data.shape)\n",
        "    y_actual=np.argmax(np.array(actual_preds),axis=2)\n",
        "    y_pred=np.argmax(preds,axis=2)\n",
        "    num_test_data=test_data.shape[0]\n",
        "    print(\"Number of Test Data Points \",num_test_data)\n",
        "    data=pd.DataFrame()\n",
        "    df_list=[]\n",
        "    for i in range(num_test_data):\n",
        "        test_str=list(test_data[i])\n",
        "        df=pd.DataFrame()\n",
        "        df['test_input']=test_data[i]\n",
        "        df['test_tokens']=test_str\n",
        "        df['tokens']=df['test_tokens'].apply(lambda x:tokeniser.index_word[x] if x!=0 else '<PAD>')\n",
        "        df['actual_target_index']=list(y_actual[i])\n",
        "        df['pred_target_index']=list(y_pred[i])\n",
        "        df['actual_target_tag']=df['actual_target_index'].apply(lambda x:reverse_tag_map[x])\n",
        "        df['pred_target_tag']=df['pred_target_index'].apply(lambda x:reverse_tag_map[x])\n",
        "        df['id']=i+1\n",
        "        df_list.append(df)\n",
        "    data=pd.concat(df_list)\n",
        "    pred_data=data[data['tokens']!='<PAD>']\n",
        "    accuracy=pred_data[pred_data['actual_target_tag']==pred_data['pred_target_tag']].shape[0]/pred_data.shape[0]\n",
        "    \n",
        "    return pred_data,accuracy"
      ],
      "execution_count": 71,
      "outputs": []
    },
    {
      "cell_type": "code",
      "metadata": {
        "id": "5gcj6vi7dmyl",
        "outputId": "bafd251b-5440-4e82-d999-7439b25e15c6",
        "colab": {
          "base_uri": "https://localhost:8080/"
        }
      },
      "source": [
        "pred_data,accuracy=evaluatePredictions(X_test,preds,y_test)"
      ],
      "execution_count": 72,
      "outputs": [
        {
          "output_type": "stream",
          "name": "stdout",
          "text": [
            "Shape of Test Data Array (2878, 128)\n",
            "Number of Test Data Points  2878\n"
          ]
        }
      ]
    },
    {
      "cell_type": "code",
      "metadata": {
        "id": "w4oYDFFUdsXo"
      },
      "source": [
        "y_pred=pred_data['pred_target_tag'].tolist()\n",
        "y_actual=pred_data['actual_target_tag'].tolist()"
      ],
      "execution_count": 73,
      "outputs": []
    },
    {
      "cell_type": "code",
      "metadata": {
        "id": "iT5gNooQd5bZ",
        "outputId": "8d8bf57c-fcb9-4618-d93d-56c54479cc85",
        "colab": {
          "base_uri": "https://localhost:8080/"
        }
      },
      "source": [
        "print(classification_report(y_actual,y_pred))"
      ],
      "execution_count": 74,
      "outputs": [
        {
          "output_type": "stream",
          "name": "stderr",
          "text": [
            "/usr/local/lib/python3.7/dist-packages/sklearn/metrics/_classification.py:1272: UndefinedMetricWarning: Precision and F-score are ill-defined and being set to 0.0 in labels with no predicted samples. Use `zero_division` parameter to control this behavior.\n",
            "  _warn_prf(average, modifier, msg_start, len(result))\n"
          ]
        },
        {
          "output_type": "stream",
          "name": "stdout",
          "text": [
            "              precision    recall  f1-score   support\n",
            "\n",
            "       B-art       0.00      0.00      0.00        25\n",
            "       B-eve       1.00      0.26      0.42        19\n",
            "       B-geo       0.82      0.88      0.85      2190\n",
            "       B-gpe       0.93      0.92      0.93       909\n",
            "       B-nat       0.00      0.00      0.00         5\n",
            "       B-org       0.70      0.62      0.66      1170\n",
            "       B-per       0.83      0.82      0.83      1026\n",
            "       B-tim       0.92      0.80      0.85      1244\n",
            "       I-art       0.00      0.00      0.00        13\n",
            "       I-eve       0.00      0.00      0.00        17\n",
            "       I-geo       0.82      0.75      0.78       419\n",
            "       I-gpe       1.00      0.28      0.43        18\n",
            "       I-nat       0.00      0.00      0.00         1\n",
            "       I-org       0.78      0.75      0.77       995\n",
            "       I-per       0.92      0.84      0.88      1090\n",
            "       I-tim       0.84      0.57      0.68       386\n",
            "           O       0.98      0.99      0.99     53126\n",
            "\n",
            "    accuracy                           0.96     62653\n",
            "   macro avg       0.62      0.50      0.53     62653\n",
            "weighted avg       0.96      0.96      0.96     62653\n",
            "\n"
          ]
        }
      ]
    },
    {
      "cell_type": "code",
      "metadata": {
        "id": "H_YqG9z2d9bF",
        "outputId": "2dc7f27d-6403-43ed-d372-2253149ef7c9",
        "colab": {
          "base_uri": "https://localhost:8080/",
          "height": 815
        }
      },
      "source": [
        "pred_data[pred_data['actual_target_tag']==\"B-art\"]"
      ],
      "execution_count": 75,
      "outputs": [
        {
          "output_type": "execute_result",
          "data": {
            "text/html": [
              "<div>\n",
              "<style scoped>\n",
              "    .dataframe tbody tr th:only-of-type {\n",
              "        vertical-align: middle;\n",
              "    }\n",
              "\n",
              "    .dataframe tbody tr th {\n",
              "        vertical-align: top;\n",
              "    }\n",
              "\n",
              "    .dataframe thead th {\n",
              "        text-align: right;\n",
              "    }\n",
              "</style>\n",
              "<table border=\"1\" class=\"dataframe\">\n",
              "  <thead>\n",
              "    <tr style=\"text-align: right;\">\n",
              "      <th></th>\n",
              "      <th>test_input</th>\n",
              "      <th>test_tokens</th>\n",
              "      <th>tokens</th>\n",
              "      <th>actual_target_index</th>\n",
              "      <th>pred_target_index</th>\n",
              "      <th>actual_target_tag</th>\n",
              "      <th>pred_target_tag</th>\n",
              "      <th>id</th>\n",
              "    </tr>\n",
              "  </thead>\n",
              "  <tbody>\n",
              "    <tr>\n",
              "      <th>9</th>\n",
              "      <td>9370</td>\n",
              "      <td>9370</td>\n",
              "      <td>Vioxx</td>\n",
              "      <td>16</td>\n",
              "      <td>5</td>\n",
              "      <td>B-art</td>\n",
              "      <td>B-org</td>\n",
              "      <td>27</td>\n",
              "    </tr>\n",
              "    <tr>\n",
              "      <th>11</th>\n",
              "      <td>3852</td>\n",
              "      <td>3852</td>\n",
              "      <td>Camp</td>\n",
              "      <td>16</td>\n",
              "      <td>5</td>\n",
              "      <td>B-art</td>\n",
              "      <td>B-org</td>\n",
              "      <td>223</td>\n",
              "    </tr>\n",
              "    <tr>\n",
              "      <th>7</th>\n",
              "      <td>25979</td>\n",
              "      <td>25979</td>\n",
              "      <td>alHurra</td>\n",
              "      <td>16</td>\n",
              "      <td>8</td>\n",
              "      <td>B-art</td>\n",
              "      <td>I-org</td>\n",
              "      <td>596</td>\n",
              "    </tr>\n",
              "    <tr>\n",
              "      <th>29</th>\n",
              "      <td>8157</td>\n",
              "      <td>8157</td>\n",
              "      <td>Please</td>\n",
              "      <td>16</td>\n",
              "      <td>6</td>\n",
              "      <td>B-art</td>\n",
              "      <td>O</td>\n",
              "      <td>690</td>\n",
              "    </tr>\n",
              "    <tr>\n",
              "      <th>31</th>\n",
              "      <td>8157</td>\n",
              "      <td>8157</td>\n",
              "      <td>Please</td>\n",
              "      <td>16</td>\n",
              "      <td>6</td>\n",
              "      <td>B-art</td>\n",
              "      <td>O</td>\n",
              "      <td>690</td>\n",
              "    </tr>\n",
              "    <tr>\n",
              "      <th>33</th>\n",
              "      <td>8157</td>\n",
              "      <td>8157</td>\n",
              "      <td>Please</td>\n",
              "      <td>16</td>\n",
              "      <td>6</td>\n",
              "      <td>B-art</td>\n",
              "      <td>O</td>\n",
              "      <td>690</td>\n",
              "    </tr>\n",
              "    <tr>\n",
              "      <th>4</th>\n",
              "      <td>7382</td>\n",
              "      <td>7382</td>\n",
              "      <td>Telegraph</td>\n",
              "      <td>16</td>\n",
              "      <td>11</td>\n",
              "      <td>B-art</td>\n",
              "      <td>B-geo</td>\n",
              "      <td>734</td>\n",
              "    </tr>\n",
              "    <tr>\n",
              "      <th>30</th>\n",
              "      <td>4008</td>\n",
              "      <td>4008</td>\n",
              "      <td>Nuclear</td>\n",
              "      <td>16</td>\n",
              "      <td>5</td>\n",
              "      <td>B-art</td>\n",
              "      <td>B-org</td>\n",
              "      <td>776</td>\n",
              "    </tr>\n",
              "    <tr>\n",
              "      <th>5</th>\n",
              "      <td>30307</td>\n",
              "      <td>30307</td>\n",
              "      <td>mon</td>\n",
              "      <td>16</td>\n",
              "      <td>6</td>\n",
              "      <td>B-art</td>\n",
              "      <td>O</td>\n",
              "      <td>858</td>\n",
              "    </tr>\n",
              "    <tr>\n",
              "      <th>5</th>\n",
              "      <td>20253</td>\n",
              "      <td>20253</td>\n",
              "      <td>Soprano</td>\n",
              "      <td>16</td>\n",
              "      <td>8</td>\n",
              "      <td>B-art</td>\n",
              "      <td>I-org</td>\n",
              "      <td>1550</td>\n",
              "    </tr>\n",
              "    <tr>\n",
              "      <th>26</th>\n",
              "      <td>27681</td>\n",
              "      <td>27681</td>\n",
              "      <td>Cajun</td>\n",
              "      <td>16</td>\n",
              "      <td>6</td>\n",
              "      <td>B-art</td>\n",
              "      <td>O</td>\n",
              "      <td>1739</td>\n",
              "    </tr>\n",
              "    <tr>\n",
              "      <th>20</th>\n",
              "      <td>4978</td>\n",
              "      <td>4978</td>\n",
              "      <td>Canal</td>\n",
              "      <td>16</td>\n",
              "      <td>11</td>\n",
              "      <td>B-art</td>\n",
              "      <td>B-geo</td>\n",
              "      <td>1826</td>\n",
              "    </tr>\n",
              "    <tr>\n",
              "      <th>23</th>\n",
              "      <td>27801</td>\n",
              "      <td>27801</td>\n",
              "      <td>Crank</td>\n",
              "      <td>16</td>\n",
              "      <td>6</td>\n",
              "      <td>B-art</td>\n",
              "      <td>O</td>\n",
              "      <td>1915</td>\n",
              "    </tr>\n",
              "    <tr>\n",
              "      <th>0</th>\n",
              "      <td>9625</td>\n",
              "      <td>9625</td>\n",
              "      <td>Atlantis</td>\n",
              "      <td>16</td>\n",
              "      <td>6</td>\n",
              "      <td>B-art</td>\n",
              "      <td>O</td>\n",
              "      <td>1969</td>\n",
              "    </tr>\n",
              "    <tr>\n",
              "      <th>0</th>\n",
              "      <td>8739</td>\n",
              "      <td>8739</td>\n",
              "      <td>Forbes</td>\n",
              "      <td>16</td>\n",
              "      <td>9</td>\n",
              "      <td>B-art</td>\n",
              "      <td>B-per</td>\n",
              "      <td>2041</td>\n",
              "    </tr>\n",
              "    <tr>\n",
              "      <th>2</th>\n",
              "      <td>2761</td>\n",
              "      <td>2761</td>\n",
              "      <td>Panama</td>\n",
              "      <td>16</td>\n",
              "      <td>11</td>\n",
              "      <td>B-art</td>\n",
              "      <td>B-geo</td>\n",
              "      <td>2102</td>\n",
              "    </tr>\n",
              "    <tr>\n",
              "      <th>9</th>\n",
              "      <td>4978</td>\n",
              "      <td>4978</td>\n",
              "      <td>Canal</td>\n",
              "      <td>16</td>\n",
              "      <td>5</td>\n",
              "      <td>B-art</td>\n",
              "      <td>B-org</td>\n",
              "      <td>2102</td>\n",
              "    </tr>\n",
              "    <tr>\n",
              "      <th>0</th>\n",
              "      <td>744</td>\n",
              "      <td>744</td>\n",
              "      <td>GDP</td>\n",
              "      <td>16</td>\n",
              "      <td>6</td>\n",
              "      <td>B-art</td>\n",
              "      <td>O</td>\n",
              "      <td>2427</td>\n",
              "    </tr>\n",
              "    <tr>\n",
              "      <th>2</th>\n",
              "      <td>388</td>\n",
              "      <td>388</td>\n",
              "      <td>France</td>\n",
              "      <td>16</td>\n",
              "      <td>11</td>\n",
              "      <td>B-art</td>\n",
              "      <td>B-geo</td>\n",
              "      <td>2509</td>\n",
              "    </tr>\n",
              "    <tr>\n",
              "      <th>15</th>\n",
              "      <td>27543</td>\n",
              "      <td>27543</td>\n",
              "      <td>K-4</td>\n",
              "      <td>16</td>\n",
              "      <td>5</td>\n",
              "      <td>B-art</td>\n",
              "      <td>B-org</td>\n",
              "      <td>2595</td>\n",
              "    </tr>\n",
              "    <tr>\n",
              "      <th>16</th>\n",
              "      <td>3236</td>\n",
              "      <td>3236</td>\n",
              "      <td>Emergency</td>\n",
              "      <td>16</td>\n",
              "      <td>5</td>\n",
              "      <td>B-art</td>\n",
              "      <td>B-org</td>\n",
              "      <td>2617</td>\n",
              "    </tr>\n",
              "    <tr>\n",
              "      <th>3</th>\n",
              "      <td>5864</td>\n",
              "      <td>5864</td>\n",
              "      <td>Hubble</td>\n",
              "      <td>16</td>\n",
              "      <td>5</td>\n",
              "      <td>B-art</td>\n",
              "      <td>B-org</td>\n",
              "      <td>2701</td>\n",
              "    </tr>\n",
              "    <tr>\n",
              "      <th>9</th>\n",
              "      <td>11995</td>\n",
              "      <td>11995</td>\n",
              "      <td>Topol</td>\n",
              "      <td>16</td>\n",
              "      <td>5</td>\n",
              "      <td>B-art</td>\n",
              "      <td>B-org</td>\n",
              "      <td>2790</td>\n",
              "    </tr>\n",
              "    <tr>\n",
              "      <th>4</th>\n",
              "      <td>33041</td>\n",
              "      <td>33041</td>\n",
              "      <td>Cy</td>\n",
              "      <td>16</td>\n",
              "      <td>6</td>\n",
              "      <td>B-art</td>\n",
              "      <td>O</td>\n",
              "      <td>2838</td>\n",
              "    </tr>\n",
              "    <tr>\n",
              "      <th>25</th>\n",
              "      <td>218</td>\n",
              "      <td>218</td>\n",
              "      <td>Washington</td>\n",
              "      <td>16</td>\n",
              "      <td>11</td>\n",
              "      <td>B-art</td>\n",
              "      <td>B-geo</td>\n",
              "      <td>2862</td>\n",
              "    </tr>\n",
              "  </tbody>\n",
              "</table>\n",
              "</div>"
            ],
            "text/plain": [
              "    test_input  test_tokens      tokens  ...  actual_target_tag  pred_target_tag    id\n",
              "9         9370         9370       Vioxx  ...              B-art            B-org    27\n",
              "11        3852         3852        Camp  ...              B-art            B-org   223\n",
              "7        25979        25979     alHurra  ...              B-art            I-org   596\n",
              "29        8157         8157      Please  ...              B-art                O   690\n",
              "31        8157         8157      Please  ...              B-art                O   690\n",
              "33        8157         8157      Please  ...              B-art                O   690\n",
              "4         7382         7382   Telegraph  ...              B-art            B-geo   734\n",
              "30        4008         4008     Nuclear  ...              B-art            B-org   776\n",
              "5        30307        30307         mon  ...              B-art                O   858\n",
              "5        20253        20253     Soprano  ...              B-art            I-org  1550\n",
              "26       27681        27681       Cajun  ...              B-art                O  1739\n",
              "20        4978         4978       Canal  ...              B-art            B-geo  1826\n",
              "23       27801        27801       Crank  ...              B-art                O  1915\n",
              "0         9625         9625    Atlantis  ...              B-art                O  1969\n",
              "0         8739         8739      Forbes  ...              B-art            B-per  2041\n",
              "2         2761         2761      Panama  ...              B-art            B-geo  2102\n",
              "9         4978         4978       Canal  ...              B-art            B-org  2102\n",
              "0          744          744         GDP  ...              B-art                O  2427\n",
              "2          388          388      France  ...              B-art            B-geo  2509\n",
              "15       27543        27543         K-4  ...              B-art            B-org  2595\n",
              "16        3236         3236   Emergency  ...              B-art            B-org  2617\n",
              "3         5864         5864      Hubble  ...              B-art            B-org  2701\n",
              "9        11995        11995       Topol  ...              B-art            B-org  2790\n",
              "4        33041        33041          Cy  ...              B-art                O  2838\n",
              "25         218          218  Washington  ...              B-art            B-geo  2862\n",
              "\n",
              "[25 rows x 8 columns]"
            ]
          },
          "metadata": {},
          "execution_count": 75
        }
      ]
    },
    {
      "cell_type": "code",
      "metadata": {
        "id": "oHlc16CVeOUE",
        "outputId": "fd0e7469-41fb-4dd3-b500-c9b8da7871b0",
        "colab": {
          "base_uri": "https://localhost:8080/",
          "height": 202
        }
      },
      "source": [
        "pred_data[pred_data['actual_target_tag']==\"B-nat\"]"
      ],
      "execution_count": 76,
      "outputs": [
        {
          "output_type": "execute_result",
          "data": {
            "text/html": [
              "<div>\n",
              "<style scoped>\n",
              "    .dataframe tbody tr th:only-of-type {\n",
              "        vertical-align: middle;\n",
              "    }\n",
              "\n",
              "    .dataframe tbody tr th {\n",
              "        vertical-align: top;\n",
              "    }\n",
              "\n",
              "    .dataframe thead th {\n",
              "        text-align: right;\n",
              "    }\n",
              "</style>\n",
              "<table border=\"1\" class=\"dataframe\">\n",
              "  <thead>\n",
              "    <tr style=\"text-align: right;\">\n",
              "      <th></th>\n",
              "      <th>test_input</th>\n",
              "      <th>test_tokens</th>\n",
              "      <th>tokens</th>\n",
              "      <th>actual_target_index</th>\n",
              "      <th>pred_target_index</th>\n",
              "      <th>actual_target_tag</th>\n",
              "      <th>pred_target_tag</th>\n",
              "      <th>id</th>\n",
              "    </tr>\n",
              "  </thead>\n",
              "  <tbody>\n",
              "    <tr>\n",
              "      <th>11</th>\n",
              "      <td>950</td>\n",
              "      <td>950</td>\n",
              "      <td>Katrina</td>\n",
              "      <td>1</td>\n",
              "      <td>6</td>\n",
              "      <td>B-nat</td>\n",
              "      <td>O</td>\n",
              "      <td>637</td>\n",
              "    </tr>\n",
              "    <tr>\n",
              "      <th>6</th>\n",
              "      <td>4013</td>\n",
              "      <td>4013</td>\n",
              "      <td>Rita</td>\n",
              "      <td>1</td>\n",
              "      <td>6</td>\n",
              "      <td>B-nat</td>\n",
              "      <td>O</td>\n",
              "      <td>749</td>\n",
              "    </tr>\n",
              "    <tr>\n",
              "      <th>18</th>\n",
              "      <td>10325</td>\n",
              "      <td>10325</td>\n",
              "      <td>H5N2</td>\n",
              "      <td>1</td>\n",
              "      <td>6</td>\n",
              "      <td>B-nat</td>\n",
              "      <td>O</td>\n",
              "      <td>1508</td>\n",
              "    </tr>\n",
              "    <tr>\n",
              "      <th>18</th>\n",
              "      <td>10325</td>\n",
              "      <td>10325</td>\n",
              "      <td>H5N2</td>\n",
              "      <td>1</td>\n",
              "      <td>6</td>\n",
              "      <td>B-nat</td>\n",
              "      <td>O</td>\n",
              "      <td>1717</td>\n",
              "    </tr>\n",
              "    <tr>\n",
              "      <th>24</th>\n",
              "      <td>827</td>\n",
              "      <td>827</td>\n",
              "      <td>Hurricane</td>\n",
              "      <td>1</td>\n",
              "      <td>6</td>\n",
              "      <td>B-nat</td>\n",
              "      <td>O</td>\n",
              "      <td>2205</td>\n",
              "    </tr>\n",
              "  </tbody>\n",
              "</table>\n",
              "</div>"
            ],
            "text/plain": [
              "    test_input  test_tokens     tokens  ...  actual_target_tag  pred_target_tag    id\n",
              "11         950          950    Katrina  ...              B-nat                O   637\n",
              "6         4013         4013       Rita  ...              B-nat                O   749\n",
              "18       10325        10325       H5N2  ...              B-nat                O  1508\n",
              "18       10325        10325       H5N2  ...              B-nat                O  1717\n",
              "24         827          827  Hurricane  ...              B-nat                O  2205\n",
              "\n",
              "[5 rows x 8 columns]"
            ]
          },
          "metadata": {},
          "execution_count": 76
        }
      ]
    },
    {
      "cell_type": "code",
      "metadata": {
        "id": "MNYcEw7Qhp7k",
        "outputId": "4247a2e0-a91d-4718-d8f0-c68df65c23f1",
        "colab": {
          "base_uri": "https://localhost:8080/",
          "height": 35
        }
      },
      "source": [
        "y_pred[0]"
      ],
      "execution_count": 77,
      "outputs": [
        {
          "output_type": "execute_result",
          "data": {
            "application/vnd.google.colaboratory.intrinsic+json": {
              "type": "string"
            },
            "text/plain": [
              "'O'"
            ]
          },
          "metadata": {},
          "execution_count": 77
        }
      ]
    },
    {
      "cell_type": "code",
      "metadata": {
        "id": "h5cGbPWFhzSR",
        "outputId": "e4c6be0b-2675-4720-ce19-df4e570b66a1",
        "colab": {
          "base_uri": "https://localhost:8080/",
          "height": 35
        }
      },
      "source": [
        "y_actual[0]"
      ],
      "execution_count": 78,
      "outputs": [
        {
          "output_type": "execute_result",
          "data": {
            "application/vnd.google.colaboratory.intrinsic+json": {
              "type": "string"
            },
            "text/plain": [
              "'O'"
            ]
          },
          "metadata": {},
          "execution_count": 78
        }
      ]
    },
    {
      "cell_type": "code",
      "metadata": {
        "id": "SaFmiUJsh1aR",
        "outputId": "a374f91b-f4ef-4833-9243-00e6335612ac",
        "colab": {
          "base_uri": "https://localhost:8080/"
        }
      },
      "source": [
        "pred_data['tokens'][1]"
      ],
      "execution_count": 94,
      "outputs": [
        {
          "output_type": "execute_result",
          "data": {
            "text/plain": [
              "1          top\n",
              "1    spokesman\n",
              "1         U.S.\n",
              "1        Bowen\n",
              "1        White\n",
              "       ...    \n",
              "1    companies\n",
              "1          has\n",
              "1         also\n",
              "1           is\n",
              "1         bomb\n",
              "Name: tokens, Length: 2878, dtype: object"
            ]
          },
          "metadata": {},
          "execution_count": 94
        }
      ]
    },
    {
      "cell_type": "code",
      "metadata": {
        "id": "hmedkNENiRmG",
        "outputId": "c6eb6f8e-3c7c-4127-8163-b0dfe7cd8f3b",
        "colab": {
          "base_uri": "https://localhost:8080/"
        }
      },
      "source": [
        "X_test[0]"
      ],
      "execution_count": 80,
      "outputs": [
        {
          "output_type": "execute_result",
          "data": {
            "text/plain": [
              "array([   47,   252,    25,   151,   365,    17,  7063,  3479,  4053,\n",
              "        7064,    72,     3, 32511,    23,     7,   493,  8195,     5,\n",
              "         636,   104,     1,   120,  4937,   717,  5917,     2,     0,\n",
              "           0,     0,     0,     0,     0,     0,     0,     0,     0,\n",
              "           0,     0,     0,     0,     0,     0,     0,     0,     0,\n",
              "           0,     0,     0,     0,     0,     0,     0,     0,     0,\n",
              "           0,     0,     0,     0,     0,     0,     0,     0,     0,\n",
              "           0,     0,     0,     0,     0,     0,     0,     0,     0,\n",
              "           0,     0,     0,     0,     0,     0,     0,     0,     0,\n",
              "           0,     0,     0,     0,     0,     0,     0,     0,     0,\n",
              "           0,     0,     0,     0,     0,     0,     0,     0,     0,\n",
              "           0,     0,     0,     0,     0,     0,     0,     0,     0,\n",
              "           0,     0,     0,     0,     0,     0,     0,     0,     0,\n",
              "           0,     0,     0,     0,     0,     0,     0,     0,     0,\n",
              "           0,     0], dtype=int32)"
            ]
          },
          "metadata": {},
          "execution_count": 80
        }
      ]
    },
    {
      "cell_type": "code",
      "metadata": {
        "id": "OW-ly3OHigCi"
      },
      "source": [
        "test_sentences = tokeniser.sequences_to_texts(X_test)"
      ],
      "execution_count": 81,
      "outputs": []
    },
    {
      "cell_type": "code",
      "metadata": {
        "id": "mPrcQNewjgpR",
        "outputId": "43699226-6b7f-46c8-eee6-a0c31f06d3e8",
        "colab": {
          "base_uri": "https://localhost:8080/",
          "height": 53
        }
      },
      "source": [
        "test_sentences[0]"
      ],
      "execution_count": 130,
      "outputs": [
        {
          "output_type": "execute_result",
          "data": {
            "application/vnd.google.colaboratory.intrinsic+json": {
              "type": "string"
            },
            "text/plain": [
              "'A top U.S. official met with Nicaraguan President-elect Daniel Ortega Tuesday , hinting at a possible thaw in relations between the former Cold War enemies .'"
            ]
          },
          "metadata": {},
          "execution_count": 130
        }
      ]
    },
    {
      "cell_type": "code",
      "metadata": {
        "id": "f75J7yN8jijQ",
        "outputId": "53003c8f-6797-48d7-97ef-2203f336a9c6",
        "colab": {
          "base_uri": "https://localhost:8080/"
        }
      },
      "source": [
        "y_test[0]"
      ],
      "execution_count": 83,
      "outputs": [
        {
          "output_type": "execute_result",
          "data": {
            "text/plain": [
              "array([[0., 0., 0., ..., 0., 0., 0.],\n",
              "       [0., 0., 0., ..., 0., 0., 0.],\n",
              "       [0., 0., 0., ..., 0., 0., 0.],\n",
              "       ...,\n",
              "       [0., 0., 0., ..., 0., 0., 0.],\n",
              "       [0., 0., 0., ..., 0., 0., 0.],\n",
              "       [0., 0., 0., ..., 0., 0., 0.]], dtype=float32)"
            ]
          },
          "metadata": {},
          "execution_count": 83
        }
      ]
    },
    {
      "cell_type": "code",
      "metadata": {
        "id": "RNWEthgDkuJ7",
        "outputId": "51ee75c5-03d2-4e50-b48e-10adb145202b",
        "colab": {
          "base_uri": "https://localhost:8080/",
          "height": 35
        }
      },
      "source": [
        "y_pred[0]"
      ],
      "execution_count": 84,
      "outputs": [
        {
          "output_type": "execute_result",
          "data": {
            "application/vnd.google.colaboratory.intrinsic+json": {
              "type": "string"
            },
            "text/plain": [
              "'O'"
            ]
          },
          "metadata": {},
          "execution_count": 84
        }
      ]
    },
    {
      "cell_type": "code",
      "metadata": {
        "id": "W41paJfwkyNJ",
        "outputId": "dc0366d2-5103-4580-b450-d151a77da290",
        "colab": {
          "base_uri": "https://localhost:8080/"
        }
      },
      "source": [
        "preds[0]"
      ],
      "execution_count": 85,
      "outputs": [
        {
          "output_type": "execute_result",
          "data": {
            "text/plain": [
              "array([[1.0620982e-04, 8.9750713e-05, 9.3903771e-05, ..., 3.4518129e-05,\n",
              "        5.1193983e-05, 8.7045380e-05],\n",
              "       [6.3192269e-06, 2.4061715e-06, 7.3615962e-07, ..., 1.3004379e-07,\n",
              "        9.0533030e-07, 1.8238031e-06],\n",
              "       [9.9398378e-05, 1.3288851e-04, 5.0997831e-05, ..., 2.2375599e-02,\n",
              "        3.2329676e-04, 4.0299786e-04],\n",
              "       ...,\n",
              "       [2.6404052e-06, 2.3721473e-06, 1.1715245e-07, ..., 5.0174840e-08,\n",
              "        4.0206746e-07, 8.4540466e-07],\n",
              "       [2.6404052e-06, 2.3721473e-06, 1.1715245e-07, ..., 5.0174840e-08,\n",
              "        4.0206746e-07, 8.4540466e-07],\n",
              "       [2.6404025e-06, 2.3721473e-06, 1.1715245e-07, ..., 5.0174840e-08,\n",
              "        4.0206746e-07, 8.4540466e-07]], dtype=float32)"
            ]
          },
          "metadata": {},
          "execution_count": 85
        }
      ]
    },
    {
      "cell_type": "code",
      "metadata": {
        "id": "mKyrXp6Gk7V3",
        "outputId": "fc56ce6f-be27-40df-956c-5b2d770f7908",
        "colab": {
          "base_uri": "https://localhost:8080/"
        }
      },
      "source": [
        "pred_data['pred_target_index'][0]"
      ],
      "execution_count": 86,
      "outputs": [
        {
          "output_type": "execute_result",
          "data": {
            "text/plain": [
              "0     6\n",
              "0     6\n",
              "0     6\n",
              "0     9\n",
              "0     6\n",
              "     ..\n",
              "0    14\n",
              "0     9\n",
              "0     9\n",
              "0     6\n",
              "0     6\n",
              "Name: pred_target_index, Length: 2878, dtype: int64"
            ]
          },
          "metadata": {},
          "execution_count": 86
        }
      ]
    },
    {
      "cell_type": "code",
      "metadata": {
        "id": "rKyTnW5rle99",
        "outputId": "3555e460-b95e-4872-93a0-56a2d9d80ff1",
        "colab": {
          "base_uri": "https://localhost:8080/"
        }
      },
      "source": [
        "pred_data['test_input'][0]"
      ],
      "execution_count": 87,
      "outputs": [
        {
          "output_type": "execute_result",
          "data": {
            "text/plain": [
              "0      47\n",
              "0       9\n",
              "0      47\n",
              "0      33\n",
              "0      47\n",
              "     ... \n",
              "0     272\n",
              "0    6599\n",
              "0    1626\n",
              "0      61\n",
              "0       9\n",
              "Name: test_input, Length: 2878, dtype: int32"
            ]
          },
          "metadata": {},
          "execution_count": 87
        }
      ]
    },
    {
      "cell_type": "code",
      "metadata": {
        "id": "FqZ2Wfe2mXv-",
        "outputId": "81268315-0927-4dbf-ad5d-fa31916bc96c",
        "colab": {
          "base_uri": "https://localhost:8080/"
        }
      },
      "source": [
        "pred_data.shape"
      ],
      "execution_count": 100,
      "outputs": [
        {
          "output_type": "execute_result",
          "data": {
            "text/plain": [
              "(62653, 8)"
            ]
          },
          "metadata": {},
          "execution_count": 100
        }
      ]
    },
    {
      "cell_type": "code",
      "metadata": {
        "id": "CjfWY1NToybT",
        "outputId": "4d2a441c-5c07-4312-e67f-83c674d6eca7",
        "colab": {
          "base_uri": "https://localhost:8080/"
        }
      },
      "source": [
        "pred_data['test_input'].shape"
      ],
      "execution_count": 101,
      "outputs": [
        {
          "output_type": "execute_result",
          "data": {
            "text/plain": [
              "(62653,)"
            ]
          },
          "metadata": {},
          "execution_count": 101
        }
      ]
    },
    {
      "cell_type": "code",
      "metadata": {
        "id": "3sQNoWM1o39j",
        "outputId": "400efa4d-b6e1-4c65-85a9-efb72ddb6da2",
        "colab": {
          "base_uri": "https://localhost:8080/"
        }
      },
      "source": [
        "X_test.shape"
      ],
      "execution_count": 97,
      "outputs": [
        {
          "output_type": "execute_result",
          "data": {
            "text/plain": [
              "(2878, 128)"
            ]
          },
          "metadata": {},
          "execution_count": 97
        }
      ]
    },
    {
      "cell_type": "code",
      "metadata": {
        "id": "FF9ak0Fzo81F",
        "outputId": "1d1b36f0-c957-4b5c-f988-33298739d53c",
        "colab": {
          "base_uri": "https://localhost:8080/"
        }
      },
      "source": [
        "pred_data['id'][0]"
      ],
      "execution_count": 102,
      "outputs": [
        {
          "output_type": "execute_result",
          "data": {
            "text/plain": [
              "0       1\n",
              "0       2\n",
              "0       3\n",
              "0       4\n",
              "0       5\n",
              "     ... \n",
              "0    2874\n",
              "0    2875\n",
              "0    2876\n",
              "0    2877\n",
              "0    2878\n",
              "Name: id, Length: 2878, dtype: int64"
            ]
          },
          "metadata": {},
          "execution_count": 102
        }
      ]
    },
    {
      "cell_type": "code",
      "metadata": {
        "id": "G5Hh7Juappuk"
      },
      "source": [
        "fin_data = pred_data.groupby('id')"
      ],
      "execution_count": 122,
      "outputs": []
    },
    {
      "cell_type": "code",
      "metadata": {
        "id": "CUcrwUoBp8GQ",
        "outputId": "367aaf70-140b-4955-ed4c-44c82f3dc8cd",
        "colab": {
          "base_uri": "https://localhost:8080/",
          "height": 414
        }
      },
      "source": [
        "fin_data.head()"
      ],
      "execution_count": 124,
      "outputs": [
        {
          "output_type": "execute_result",
          "data": {
            "text/html": [
              "<div>\n",
              "<style scoped>\n",
              "    .dataframe tbody tr th:only-of-type {\n",
              "        vertical-align: middle;\n",
              "    }\n",
              "\n",
              "    .dataframe tbody tr th {\n",
              "        vertical-align: top;\n",
              "    }\n",
              "\n",
              "    .dataframe thead th {\n",
              "        text-align: right;\n",
              "    }\n",
              "</style>\n",
              "<table border=\"1\" class=\"dataframe\">\n",
              "  <thead>\n",
              "    <tr style=\"text-align: right;\">\n",
              "      <th></th>\n",
              "      <th>test_input</th>\n",
              "      <th>test_tokens</th>\n",
              "      <th>tokens</th>\n",
              "      <th>actual_target_index</th>\n",
              "      <th>pred_target_index</th>\n",
              "      <th>actual_target_tag</th>\n",
              "      <th>pred_target_tag</th>\n",
              "      <th>id</th>\n",
              "    </tr>\n",
              "  </thead>\n",
              "  <tbody>\n",
              "    <tr>\n",
              "      <th>0</th>\n",
              "      <td>47</td>\n",
              "      <td>47</td>\n",
              "      <td>A</td>\n",
              "      <td>6</td>\n",
              "      <td>6</td>\n",
              "      <td>O</td>\n",
              "      <td>O</td>\n",
              "      <td>1</td>\n",
              "    </tr>\n",
              "    <tr>\n",
              "      <th>1</th>\n",
              "      <td>252</td>\n",
              "      <td>252</td>\n",
              "      <td>top</td>\n",
              "      <td>6</td>\n",
              "      <td>6</td>\n",
              "      <td>O</td>\n",
              "      <td>O</td>\n",
              "      <td>1</td>\n",
              "    </tr>\n",
              "    <tr>\n",
              "      <th>2</th>\n",
              "      <td>25</td>\n",
              "      <td>25</td>\n",
              "      <td>U.S.</td>\n",
              "      <td>11</td>\n",
              "      <td>11</td>\n",
              "      <td>B-geo</td>\n",
              "      <td>B-geo</td>\n",
              "      <td>1</td>\n",
              "    </tr>\n",
              "    <tr>\n",
              "      <th>3</th>\n",
              "      <td>151</td>\n",
              "      <td>151</td>\n",
              "      <td>official</td>\n",
              "      <td>6</td>\n",
              "      <td>6</td>\n",
              "      <td>O</td>\n",
              "      <td>O</td>\n",
              "      <td>1</td>\n",
              "    </tr>\n",
              "    <tr>\n",
              "      <th>4</th>\n",
              "      <td>365</td>\n",
              "      <td>365</td>\n",
              "      <td>met</td>\n",
              "      <td>6</td>\n",
              "      <td>6</td>\n",
              "      <td>O</td>\n",
              "      <td>O</td>\n",
              "      <td>1</td>\n",
              "    </tr>\n",
              "    <tr>\n",
              "      <th>...</th>\n",
              "      <td>...</td>\n",
              "      <td>...</td>\n",
              "      <td>...</td>\n",
              "      <td>...</td>\n",
              "      <td>...</td>\n",
              "      <td>...</td>\n",
              "      <td>...</td>\n",
              "      <td>...</td>\n",
              "    </tr>\n",
              "    <tr>\n",
              "      <th>0</th>\n",
              "      <td>9</td>\n",
              "      <td>9</td>\n",
              "      <td>The</td>\n",
              "      <td>6</td>\n",
              "      <td>6</td>\n",
              "      <td>O</td>\n",
              "      <td>O</td>\n",
              "      <td>2878</td>\n",
              "    </tr>\n",
              "    <tr>\n",
              "      <th>1</th>\n",
              "      <td>161</td>\n",
              "      <td>161</td>\n",
              "      <td>bomb</td>\n",
              "      <td>6</td>\n",
              "      <td>6</td>\n",
              "      <td>O</td>\n",
              "      <td>O</td>\n",
              "      <td>2878</td>\n",
              "    </tr>\n",
              "    <tr>\n",
              "      <th>2</th>\n",
              "      <td>994</td>\n",
              "      <td>994</td>\n",
              "      <td>destroyed</td>\n",
              "      <td>6</td>\n",
              "      <td>6</td>\n",
              "      <td>O</td>\n",
              "      <td>O</td>\n",
              "      <td>2878</td>\n",
              "    </tr>\n",
              "    <tr>\n",
              "      <th>3</th>\n",
              "      <td>1</td>\n",
              "      <td>1</td>\n",
              "      <td>the</td>\n",
              "      <td>6</td>\n",
              "      <td>6</td>\n",
              "      <td>O</td>\n",
              "      <td>O</td>\n",
              "      <td>2878</td>\n",
              "    </tr>\n",
              "    <tr>\n",
              "      <th>4</th>\n",
              "      <td>1195</td>\n",
              "      <td>1195</td>\n",
              "      <td>mosque</td>\n",
              "      <td>6</td>\n",
              "      <td>6</td>\n",
              "      <td>O</td>\n",
              "      <td>O</td>\n",
              "      <td>2878</td>\n",
              "    </tr>\n",
              "  </tbody>\n",
              "</table>\n",
              "<p>14388 rows × 8 columns</p>\n",
              "</div>"
            ],
            "text/plain": [
              "    test_input  test_tokens     tokens  ...  actual_target_tag  pred_target_tag    id\n",
              "0           47           47          A  ...                  O                O     1\n",
              "1          252          252        top  ...                  O                O     1\n",
              "2           25           25       U.S.  ...              B-geo            B-geo     1\n",
              "3          151          151   official  ...                  O                O     1\n",
              "4          365          365        met  ...                  O                O     1\n",
              "..         ...          ...        ...  ...                ...              ...   ...\n",
              "0            9            9        The  ...                  O                O  2878\n",
              "1          161          161       bomb  ...                  O                O  2878\n",
              "2          994          994  destroyed  ...                  O                O  2878\n",
              "3            1            1        the  ...                  O                O  2878\n",
              "4         1195         1195     mosque  ...                  O                O  2878\n",
              "\n",
              "[14388 rows x 8 columns]"
            ]
          },
          "metadata": {},
          "execution_count": 124
        }
      ]
    },
    {
      "cell_type": "code",
      "metadata": {
        "id": "UN9XopYirkGU",
        "outputId": "794ccd87-e1e5-47cb-9411-a5cb949a6e4d",
        "colab": {
          "base_uri": "https://localhost:8080/",
          "height": 845
        }
      },
      "source": [
        "pred_data[pred_data['id']==1]"
      ],
      "execution_count": 131,
      "outputs": [
        {
          "output_type": "execute_result",
          "data": {
            "text/html": [
              "<div>\n",
              "<style scoped>\n",
              "    .dataframe tbody tr th:only-of-type {\n",
              "        vertical-align: middle;\n",
              "    }\n",
              "\n",
              "    .dataframe tbody tr th {\n",
              "        vertical-align: top;\n",
              "    }\n",
              "\n",
              "    .dataframe thead th {\n",
              "        text-align: right;\n",
              "    }\n",
              "</style>\n",
              "<table border=\"1\" class=\"dataframe\">\n",
              "  <thead>\n",
              "    <tr style=\"text-align: right;\">\n",
              "      <th></th>\n",
              "      <th>test_input</th>\n",
              "      <th>test_tokens</th>\n",
              "      <th>tokens</th>\n",
              "      <th>actual_target_index</th>\n",
              "      <th>pred_target_index</th>\n",
              "      <th>actual_target_tag</th>\n",
              "      <th>pred_target_tag</th>\n",
              "      <th>id</th>\n",
              "    </tr>\n",
              "  </thead>\n",
              "  <tbody>\n",
              "    <tr>\n",
              "      <th>0</th>\n",
              "      <td>47</td>\n",
              "      <td>47</td>\n",
              "      <td>A</td>\n",
              "      <td>6</td>\n",
              "      <td>6</td>\n",
              "      <td>O</td>\n",
              "      <td>O</td>\n",
              "      <td>1</td>\n",
              "    </tr>\n",
              "    <tr>\n",
              "      <th>1</th>\n",
              "      <td>252</td>\n",
              "      <td>252</td>\n",
              "      <td>top</td>\n",
              "      <td>6</td>\n",
              "      <td>6</td>\n",
              "      <td>O</td>\n",
              "      <td>O</td>\n",
              "      <td>1</td>\n",
              "    </tr>\n",
              "    <tr>\n",
              "      <th>2</th>\n",
              "      <td>25</td>\n",
              "      <td>25</td>\n",
              "      <td>U.S.</td>\n",
              "      <td>11</td>\n",
              "      <td>11</td>\n",
              "      <td>B-geo</td>\n",
              "      <td>B-geo</td>\n",
              "      <td>1</td>\n",
              "    </tr>\n",
              "    <tr>\n",
              "      <th>3</th>\n",
              "      <td>151</td>\n",
              "      <td>151</td>\n",
              "      <td>official</td>\n",
              "      <td>6</td>\n",
              "      <td>6</td>\n",
              "      <td>O</td>\n",
              "      <td>O</td>\n",
              "      <td>1</td>\n",
              "    </tr>\n",
              "    <tr>\n",
              "      <th>4</th>\n",
              "      <td>365</td>\n",
              "      <td>365</td>\n",
              "      <td>met</td>\n",
              "      <td>6</td>\n",
              "      <td>6</td>\n",
              "      <td>O</td>\n",
              "      <td>O</td>\n",
              "      <td>1</td>\n",
              "    </tr>\n",
              "    <tr>\n",
              "      <th>5</th>\n",
              "      <td>17</td>\n",
              "      <td>17</td>\n",
              "      <td>with</td>\n",
              "      <td>6</td>\n",
              "      <td>6</td>\n",
              "      <td>O</td>\n",
              "      <td>O</td>\n",
              "      <td>1</td>\n",
              "    </tr>\n",
              "    <tr>\n",
              "      <th>6</th>\n",
              "      <td>7063</td>\n",
              "      <td>7063</td>\n",
              "      <td>Nicaraguan</td>\n",
              "      <td>14</td>\n",
              "      <td>14</td>\n",
              "      <td>B-gpe</td>\n",
              "      <td>B-gpe</td>\n",
              "      <td>1</td>\n",
              "    </tr>\n",
              "    <tr>\n",
              "      <th>7</th>\n",
              "      <td>3479</td>\n",
              "      <td>3479</td>\n",
              "      <td>President-elect</td>\n",
              "      <td>6</td>\n",
              "      <td>6</td>\n",
              "      <td>O</td>\n",
              "      <td>O</td>\n",
              "      <td>1</td>\n",
              "    </tr>\n",
              "    <tr>\n",
              "      <th>8</th>\n",
              "      <td>4053</td>\n",
              "      <td>4053</td>\n",
              "      <td>Daniel</td>\n",
              "      <td>9</td>\n",
              "      <td>9</td>\n",
              "      <td>B-per</td>\n",
              "      <td>B-per</td>\n",
              "      <td>1</td>\n",
              "    </tr>\n",
              "    <tr>\n",
              "      <th>9</th>\n",
              "      <td>7064</td>\n",
              "      <td>7064</td>\n",
              "      <td>Ortega</td>\n",
              "      <td>10</td>\n",
              "      <td>10</td>\n",
              "      <td>I-per</td>\n",
              "      <td>I-per</td>\n",
              "      <td>1</td>\n",
              "    </tr>\n",
              "    <tr>\n",
              "      <th>10</th>\n",
              "      <td>72</td>\n",
              "      <td>72</td>\n",
              "      <td>Tuesday</td>\n",
              "      <td>0</td>\n",
              "      <td>0</td>\n",
              "      <td>B-tim</td>\n",
              "      <td>B-tim</td>\n",
              "      <td>1</td>\n",
              "    </tr>\n",
              "    <tr>\n",
              "      <th>11</th>\n",
              "      <td>3</td>\n",
              "      <td>3</td>\n",
              "      <td>,</td>\n",
              "      <td>6</td>\n",
              "      <td>6</td>\n",
              "      <td>O</td>\n",
              "      <td>O</td>\n",
              "      <td>1</td>\n",
              "    </tr>\n",
              "    <tr>\n",
              "      <th>12</th>\n",
              "      <td>32511</td>\n",
              "      <td>32511</td>\n",
              "      <td>hinting</td>\n",
              "      <td>6</td>\n",
              "      <td>6</td>\n",
              "      <td>O</td>\n",
              "      <td>O</td>\n",
              "      <td>1</td>\n",
              "    </tr>\n",
              "    <tr>\n",
              "      <th>13</th>\n",
              "      <td>23</td>\n",
              "      <td>23</td>\n",
              "      <td>at</td>\n",
              "      <td>6</td>\n",
              "      <td>6</td>\n",
              "      <td>O</td>\n",
              "      <td>O</td>\n",
              "      <td>1</td>\n",
              "    </tr>\n",
              "    <tr>\n",
              "      <th>14</th>\n",
              "      <td>7</td>\n",
              "      <td>7</td>\n",
              "      <td>a</td>\n",
              "      <td>6</td>\n",
              "      <td>6</td>\n",
              "      <td>O</td>\n",
              "      <td>O</td>\n",
              "      <td>1</td>\n",
              "    </tr>\n",
              "    <tr>\n",
              "      <th>15</th>\n",
              "      <td>493</td>\n",
              "      <td>493</td>\n",
              "      <td>possible</td>\n",
              "      <td>6</td>\n",
              "      <td>6</td>\n",
              "      <td>O</td>\n",
              "      <td>O</td>\n",
              "      <td>1</td>\n",
              "    </tr>\n",
              "    <tr>\n",
              "      <th>16</th>\n",
              "      <td>8195</td>\n",
              "      <td>8195</td>\n",
              "      <td>thaw</td>\n",
              "      <td>6</td>\n",
              "      <td>6</td>\n",
              "      <td>O</td>\n",
              "      <td>O</td>\n",
              "      <td>1</td>\n",
              "    </tr>\n",
              "    <tr>\n",
              "      <th>17</th>\n",
              "      <td>5</td>\n",
              "      <td>5</td>\n",
              "      <td>in</td>\n",
              "      <td>6</td>\n",
              "      <td>6</td>\n",
              "      <td>O</td>\n",
              "      <td>O</td>\n",
              "      <td>1</td>\n",
              "    </tr>\n",
              "    <tr>\n",
              "      <th>18</th>\n",
              "      <td>636</td>\n",
              "      <td>636</td>\n",
              "      <td>relations</td>\n",
              "      <td>6</td>\n",
              "      <td>6</td>\n",
              "      <td>O</td>\n",
              "      <td>O</td>\n",
              "      <td>1</td>\n",
              "    </tr>\n",
              "    <tr>\n",
              "      <th>19</th>\n",
              "      <td>104</td>\n",
              "      <td>104</td>\n",
              "      <td>between</td>\n",
              "      <td>6</td>\n",
              "      <td>6</td>\n",
              "      <td>O</td>\n",
              "      <td>O</td>\n",
              "      <td>1</td>\n",
              "    </tr>\n",
              "    <tr>\n",
              "      <th>20</th>\n",
              "      <td>1</td>\n",
              "      <td>1</td>\n",
              "      <td>the</td>\n",
              "      <td>6</td>\n",
              "      <td>6</td>\n",
              "      <td>O</td>\n",
              "      <td>O</td>\n",
              "      <td>1</td>\n",
              "    </tr>\n",
              "    <tr>\n",
              "      <th>21</th>\n",
              "      <td>120</td>\n",
              "      <td>120</td>\n",
              "      <td>former</td>\n",
              "      <td>6</td>\n",
              "      <td>6</td>\n",
              "      <td>O</td>\n",
              "      <td>O</td>\n",
              "      <td>1</td>\n",
              "    </tr>\n",
              "    <tr>\n",
              "      <th>22</th>\n",
              "      <td>4937</td>\n",
              "      <td>4937</td>\n",
              "      <td>Cold</td>\n",
              "      <td>6</td>\n",
              "      <td>6</td>\n",
              "      <td>O</td>\n",
              "      <td>O</td>\n",
              "      <td>1</td>\n",
              "    </tr>\n",
              "    <tr>\n",
              "      <th>23</th>\n",
              "      <td>717</td>\n",
              "      <td>717</td>\n",
              "      <td>War</td>\n",
              "      <td>6</td>\n",
              "      <td>6</td>\n",
              "      <td>O</td>\n",
              "      <td>O</td>\n",
              "      <td>1</td>\n",
              "    </tr>\n",
              "    <tr>\n",
              "      <th>24</th>\n",
              "      <td>5917</td>\n",
              "      <td>5917</td>\n",
              "      <td>enemies</td>\n",
              "      <td>6</td>\n",
              "      <td>6</td>\n",
              "      <td>O</td>\n",
              "      <td>O</td>\n",
              "      <td>1</td>\n",
              "    </tr>\n",
              "    <tr>\n",
              "      <th>25</th>\n",
              "      <td>2</td>\n",
              "      <td>2</td>\n",
              "      <td>.</td>\n",
              "      <td>6</td>\n",
              "      <td>6</td>\n",
              "      <td>O</td>\n",
              "      <td>O</td>\n",
              "      <td>1</td>\n",
              "    </tr>\n",
              "  </tbody>\n",
              "</table>\n",
              "</div>"
            ],
            "text/plain": [
              "    test_input  test_tokens  ... pred_target_tag  id\n",
              "0           47           47  ...               O   1\n",
              "1          252          252  ...               O   1\n",
              "2           25           25  ...           B-geo   1\n",
              "3          151          151  ...               O   1\n",
              "4          365          365  ...               O   1\n",
              "5           17           17  ...               O   1\n",
              "6         7063         7063  ...           B-gpe   1\n",
              "7         3479         3479  ...               O   1\n",
              "8         4053         4053  ...           B-per   1\n",
              "9         7064         7064  ...           I-per   1\n",
              "10          72           72  ...           B-tim   1\n",
              "11           3            3  ...               O   1\n",
              "12       32511        32511  ...               O   1\n",
              "13          23           23  ...               O   1\n",
              "14           7            7  ...               O   1\n",
              "15         493          493  ...               O   1\n",
              "16        8195         8195  ...               O   1\n",
              "17           5            5  ...               O   1\n",
              "18         636          636  ...               O   1\n",
              "19         104          104  ...               O   1\n",
              "20           1            1  ...               O   1\n",
              "21         120          120  ...               O   1\n",
              "22        4937         4937  ...               O   1\n",
              "23         717          717  ...               O   1\n",
              "24        5917         5917  ...               O   1\n",
              "25           2            2  ...               O   1\n",
              "\n",
              "[26 rows x 8 columns]"
            ]
          },
          "metadata": {},
          "execution_count": 131
        }
      ]
    },
    {
      "cell_type": "code",
      "metadata": {
        "id": "3SwtxK-wsN8B"
      },
      "source": [
        ""
      ],
      "execution_count": null,
      "outputs": []
    }
  ]
}